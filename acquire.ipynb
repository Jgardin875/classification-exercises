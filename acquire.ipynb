{
 "cells": [
  {
   "cell_type": "code",
   "execution_count": 9,
   "id": "7762584c",
   "metadata": {},
   "outputs": [],
   "source": [
    "import numpy as np\n",
    "import seaborn as sns\n",
    "import scipy.stats as stats\n",
    "import pandas as pd\n",
    "import matplotlib.pyplot as plt\n",
    "from pydataset import data\n",
    "import env \n",
    "import acquire"
   ]
  },
  {
   "cell_type": "code",
   "execution_count": 13,
   "id": "f51c158f",
   "metadata": {},
   "outputs": [],
   "source": [
    "acquire.new_telco_data();"
   ]
  },
  {
   "cell_type": "code",
   "execution_count": 14,
   "id": "04f1f0bc",
   "metadata": {},
   "outputs": [],
   "source": [
    "acquire.new_titanic_data();"
   ]
  },
  {
   "cell_type": "code",
   "execution_count": 15,
   "id": "666189a4",
   "metadata": {},
   "outputs": [],
   "source": [
    "acquire.new_iris_data();"
   ]
  },
  {
   "cell_type": "code",
   "execution_count": null,
   "id": "c5b98cd8",
   "metadata": {},
   "outputs": [],
   "source": []
  }
 ],
 "metadata": {
  "kernelspec": {
   "display_name": "Python 3 (ipykernel)",
   "language": "python",
   "name": "python3"
  },
  "language_info": {
   "codemirror_mode": {
    "name": "ipython",
    "version": 3
   },
   "file_extension": ".py",
   "mimetype": "text/x-python",
   "name": "python",
   "nbconvert_exporter": "python",
   "pygments_lexer": "ipython3",
   "version": "3.9.12"
  }
 },
 "nbformat": 4,
 "nbformat_minor": 5
}

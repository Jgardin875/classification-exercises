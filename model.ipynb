{
 "cells": [
  {
   "cell_type": "code",
   "execution_count": 1,
   "id": "d0cc616e",
   "metadata": {},
   "outputs": [],
   "source": [
    "import numpy as np\n",
    "import seaborn as sns\n",
    "import scipy.stats as stats\n",
    "import pandas as pd\n",
    "import matplotlib.pyplot as plt\n",
    "from pydataset import data\n",
    "import env \n",
    "import acquire\n",
    "import prepare\n",
    "\n",
    "\n",
    "import warnings\n",
    "warnings.filterwarnings(\"ignore\")"
   ]
  },
  {
   "cell_type": "code",
   "execution_count": 2,
   "id": "fa2642bb",
   "metadata": {},
   "outputs": [],
   "source": [
    "# Decision Tree and Model Evaluation Imports\n",
    "from sklearn.tree import DecisionTreeClassifier, plot_tree, export_text\n",
    "from sklearn.model_selection import train_test_split\n",
    "from sklearn.metrics import classification_report, confusion_matrix, plot_confusion_matrix"
   ]
  },
  {
   "cell_type": "markdown",
   "id": "983ded3c",
   "metadata": {},
   "source": [
    "titanic_o = acquire.get_titanic_data() \n",
    "\n",
    "titanic = prepare.prep_titanic(titanic_o)\n",
    "\n",
    "train, validate, test = prepare.split_titanic_data(titanic)\n",
    "\n",
    "\n"
   ]
  },
  {
   "cell_type": "code",
   "execution_count": null,
   "id": "f4d6345a",
   "metadata": {},
   "outputs": [],
   "source": []
  },
  {
   "cell_type": "markdown",
   "id": "72ab164a",
   "metadata": {},
   "source": [
    "# Decision Tree"
   ]
  },
  {
   "cell_type": "markdown",
   "id": "59c150b2",
   "metadata": {},
   "source": [
    "Exercises\n",
    "\n",
    "Using the titanic data, in your classification-exercises repository, create a notebook, model.ipynb where you will do the following:\n",
    "\n",
    "    What is your baseline prediction? What is your baseline accuracy? remember: your baseline prediction for a classification problem is predicting the most prevelant class in the training dataset (the mode). When you make those predictions, what is your accuracy? This is your baseline accuracy.\n",
    "\n",
    "    Fit the decision tree classifier to your training sample and transform (i.e. make predictions on the training sample)\n",
    "\n",
    "    Evaluate your in-sample results using the model score, confusion matrix, and classification report.\n",
    "\n",
    "    Compute: Accuracy, true positive rate, false positive rate, true negative rate, false negative rate, precision, recall, f1-score, and support.\n",
    "\n",
    "    Run through steps 2-4 using a different max_depth value.\n",
    "\n",
    "    Which model performs better on your in-sample data?\n",
    "\n",
    "    Which model performs best on your out-of-sample data, the validate set?\n",
    "\n",
    "    Work through these same exercises using the Telco dataset.\n",
    "    Experiment with this model on other datasets with a higher number of output classes.\n"
   ]
  },
  {
   "cell_type": "code",
   "execution_count": 3,
   "id": "90c53744",
   "metadata": {},
   "outputs": [],
   "source": [
    "titanic_o = acquire.get_titanic_data() \n",
    "titanic = prepare.prep_titanic(titanic_o) "
   ]
  },
  {
   "cell_type": "code",
   "execution_count": 4,
   "id": "ce4f9d7d",
   "metadata": {},
   "outputs": [],
   "source": [
    "titanic.drop(columns = ['sex', 'embark_town', 'class', 'age'], inplace = True)"
   ]
  },
  {
   "cell_type": "code",
   "execution_count": 5,
   "id": "948a1d85",
   "metadata": {},
   "outputs": [],
   "source": [
    "train, validate, test = prepare.split_titanic_data(titanic)"
   ]
  },
  {
   "cell_type": "code",
   "execution_count": 6,
   "id": "2386c4f3",
   "metadata": {},
   "outputs": [
    {
     "data": {
      "text/plain": [
       "((891, 10), (891, 11), (569, 11), (143, 11), (179, 11))"
      ]
     },
     "execution_count": 6,
     "metadata": {},
     "output_type": "execute_result"
    }
   ],
   "source": [
    "titanic_o.shape, titanic.shape, train.shape, validate.shape, test.shape"
   ]
  },
  {
   "cell_type": "code",
   "execution_count": 7,
   "id": "1aff119b",
   "metadata": {
    "scrolled": true
   },
   "outputs": [
    {
     "data": {
      "text/html": [
       "<div>\n",
       "<style scoped>\n",
       "    .dataframe tbody tr th:only-of-type {\n",
       "        vertical-align: middle;\n",
       "    }\n",
       "\n",
       "    .dataframe tbody tr th {\n",
       "        vertical-align: top;\n",
       "    }\n",
       "\n",
       "    .dataframe thead th {\n",
       "        text-align: right;\n",
       "    }\n",
       "</style>\n",
       "<table border=\"1\" class=\"dataframe\">\n",
       "  <thead>\n",
       "    <tr style=\"text-align: right;\">\n",
       "      <th></th>\n",
       "      <th>survived</th>\n",
       "      <th>pclass</th>\n",
       "      <th>sibsp</th>\n",
       "      <th>parch</th>\n",
       "      <th>fare</th>\n",
       "      <th>alone</th>\n",
       "      <th>sex_male</th>\n",
       "      <th>embark_town_Queenstown</th>\n",
       "      <th>embark_town_Southampton</th>\n",
       "      <th>class_Second</th>\n",
       "      <th>class_Third</th>\n",
       "    </tr>\n",
       "  </thead>\n",
       "  <tbody>\n",
       "    <tr>\n",
       "      <th>829</th>\n",
       "      <td>1</td>\n",
       "      <td>1</td>\n",
       "      <td>0</td>\n",
       "      <td>0</td>\n",
       "      <td>80.000</td>\n",
       "      <td>1</td>\n",
       "      <td>0</td>\n",
       "      <td>0</td>\n",
       "      <td>0</td>\n",
       "      <td>0</td>\n",
       "      <td>0</td>\n",
       "    </tr>\n",
       "    <tr>\n",
       "      <th>72</th>\n",
       "      <td>0</td>\n",
       "      <td>2</td>\n",
       "      <td>0</td>\n",
       "      <td>0</td>\n",
       "      <td>73.500</td>\n",
       "      <td>1</td>\n",
       "      <td>1</td>\n",
       "      <td>0</td>\n",
       "      <td>1</td>\n",
       "      <td>1</td>\n",
       "      <td>0</td>\n",
       "    </tr>\n",
       "    <tr>\n",
       "      <th>157</th>\n",
       "      <td>0</td>\n",
       "      <td>3</td>\n",
       "      <td>0</td>\n",
       "      <td>0</td>\n",
       "      <td>8.050</td>\n",
       "      <td>1</td>\n",
       "      <td>1</td>\n",
       "      <td>0</td>\n",
       "      <td>1</td>\n",
       "      <td>0</td>\n",
       "      <td>1</td>\n",
       "    </tr>\n",
       "    <tr>\n",
       "      <th>889</th>\n",
       "      <td>1</td>\n",
       "      <td>1</td>\n",
       "      <td>0</td>\n",
       "      <td>0</td>\n",
       "      <td>30.000</td>\n",
       "      <td>1</td>\n",
       "      <td>1</td>\n",
       "      <td>0</td>\n",
       "      <td>0</td>\n",
       "      <td>0</td>\n",
       "      <td>0</td>\n",
       "    </tr>\n",
       "    <tr>\n",
       "      <th>816</th>\n",
       "      <td>0</td>\n",
       "      <td>3</td>\n",
       "      <td>0</td>\n",
       "      <td>0</td>\n",
       "      <td>7.925</td>\n",
       "      <td>1</td>\n",
       "      <td>0</td>\n",
       "      <td>0</td>\n",
       "      <td>1</td>\n",
       "      <td>0</td>\n",
       "      <td>1</td>\n",
       "    </tr>\n",
       "  </tbody>\n",
       "</table>\n",
       "</div>"
      ],
      "text/plain": [
       "     survived  pclass  sibsp  parch    fare  alone  sex_male  \\\n",
       "829         1       1      0      0  80.000      1         0   \n",
       "72          0       2      0      0  73.500      1         1   \n",
       "157         0       3      0      0   8.050      1         1   \n",
       "889         1       1      0      0  30.000      1         1   \n",
       "816         0       3      0      0   7.925      1         0   \n",
       "\n",
       "     embark_town_Queenstown  embark_town_Southampton  class_Second  \\\n",
       "829                       0                        0             0   \n",
       "72                        0                        1             1   \n",
       "157                       0                        1             0   \n",
       "889                       0                        0             0   \n",
       "816                       0                        1             0   \n",
       "\n",
       "     class_Third  \n",
       "829            0  \n",
       "72             0  \n",
       "157            1  \n",
       "889            0  \n",
       "816            1  "
      ]
     },
     "execution_count": 7,
     "metadata": {},
     "output_type": "execute_result"
    }
   ],
   "source": [
    "train.head()"
   ]
  },
  {
   "cell_type": "code",
   "execution_count": 8,
   "id": "baecfd2e",
   "metadata": {},
   "outputs": [
    {
     "name": "stdout",
     "output_type": "stream",
     "text": [
      "<class 'pandas.core.frame.DataFrame'>\n",
      "Int64Index: 569 entries, 829 to 600\n",
      "Data columns (total 11 columns):\n",
      " #   Column                   Non-Null Count  Dtype  \n",
      "---  ------                   --------------  -----  \n",
      " 0   survived                 569 non-null    int64  \n",
      " 1   pclass                   569 non-null    int64  \n",
      " 2   sibsp                    569 non-null    int64  \n",
      " 3   parch                    569 non-null    int64  \n",
      " 4   fare                     569 non-null    float64\n",
      " 5   alone                    569 non-null    int64  \n",
      " 6   sex_male                 569 non-null    uint8  \n",
      " 7   embark_town_Queenstown   569 non-null    uint8  \n",
      " 8   embark_town_Southampton  569 non-null    uint8  \n",
      " 9   class_Second             569 non-null    uint8  \n",
      " 10  class_Third              569 non-null    uint8  \n",
      "dtypes: float64(1), int64(5), uint8(5)\n",
      "memory usage: 33.9 KB\n"
     ]
    }
   ],
   "source": [
    "train.info()"
   ]
  },
  {
   "cell_type": "markdown",
   "id": "e3b17c6f",
   "metadata": {},
   "source": [
    "### 1 Baseline?"
   ]
  },
  {
   "cell_type": "code",
   "execution_count": 9,
   "id": "de65f8d4",
   "metadata": {},
   "outputs": [
    {
     "data": {
      "text/plain": [
       "0    351\n",
       "1    218\n",
       "Name: survived, dtype: int64"
      ]
     },
     "execution_count": 9,
     "metadata": {},
     "output_type": "execute_result"
    }
   ],
   "source": [
    "train.survived.value_counts()"
   ]
  },
  {
   "cell_type": "code",
   "execution_count": 10,
   "id": "963d0690",
   "metadata": {},
   "outputs": [],
   "source": [
    "#baseline is 0 for all. Nobody survived."
   ]
  },
  {
   "cell_type": "code",
   "execution_count": 11,
   "id": "2b4d92db",
   "metadata": {},
   "outputs": [
    {
     "data": {
      "text/plain": [
       "0.616871704745167"
      ]
     },
     "execution_count": 11,
     "metadata": {},
     "output_type": "execute_result"
    }
   ],
   "source": [
    "1 - train.survived.mean()"
   ]
  },
  {
   "cell_type": "code",
   "execution_count": 12,
   "id": "0f74037b",
   "metadata": {},
   "outputs": [],
   "source": [
    "#accuracy for baseline is 61.69%"
   ]
  },
  {
   "cell_type": "code",
   "execution_count": 13,
   "id": "aabf6304",
   "metadata": {},
   "outputs": [],
   "source": [
    "#remove 'survived' column since that is our target value and we want to avoid target leakage"
   ]
  },
  {
   "cell_type": "code",
   "execution_count": 14,
   "id": "0559b130",
   "metadata": {},
   "outputs": [],
   "source": [
    "x_train = train.drop(columns=[\"survived\"])\n",
    "y_train = train.survived\n",
    "\n",
    "x_validate = validate.drop(columns=[\"survived\"])\n",
    "y_validate = validate.survived\n",
    "\n",
    "x_test = test.drop(columns=[\"survived\"])\n",
    "y_test = test.survived"
   ]
  },
  {
   "cell_type": "code",
   "execution_count": 15,
   "id": "61ac30d1",
   "metadata": {},
   "outputs": [],
   "source": [
    "#class method:"
   ]
  },
  {
   "cell_type": "code",
   "execution_count": 16,
   "id": "d477a105",
   "metadata": {},
   "outputs": [
    {
     "data": {
      "text/plain": [
       "0    351\n",
       "1    218\n",
       "Name: survived, dtype: int64"
      ]
     },
     "execution_count": 16,
     "metadata": {},
     "output_type": "execute_result"
    }
   ],
   "source": [
    "y_train.value_counts()"
   ]
  },
  {
   "cell_type": "code",
   "execution_count": 17,
   "id": "3b44c1f9",
   "metadata": {
    "scrolled": true
   },
   "outputs": [
    {
     "name": "stdout",
     "output_type": "stream",
     "text": [
      "Baseline accuracy: 0.62\n"
     ]
    }
   ],
   "source": [
    "# The mode is a great baseline\n",
    "baseline = y_train.mode()\n",
    "\n",
    "# Produce a boolean array with True representing a match between the baseline prediction and reality\n",
    "matches_baseline_prediction = (y_train == 0)\n",
    "\n",
    "baseline_accuracy = matches_baseline_prediction.mean()\n",
    "print(f\"Baseline accuracy: {round(baseline_accuracy, 2)}\")"
   ]
  },
  {
   "cell_type": "markdown",
   "id": "7f21626a",
   "metadata": {},
   "source": [
    "### 2\n",
    "Fit the decision tree classifier to your training sample and transform (i.e. make predictions on the training sample)\n"
   ]
  },
  {
   "cell_type": "code",
   "execution_count": 18,
   "id": "9ce5b69d",
   "metadata": {},
   "outputs": [],
   "source": [
    "tree1 = DecisionTreeClassifier(max_depth = 3)"
   ]
  },
  {
   "cell_type": "code",
   "execution_count": 19,
   "id": "fc72a4c9",
   "metadata": {},
   "outputs": [
    {
     "data": {
      "text/plain": [
       "DecisionTreeClassifier(max_depth=3)"
      ]
     },
     "execution_count": 19,
     "metadata": {},
     "output_type": "execute_result"
    }
   ],
   "source": [
    "tree1.fit(x_train, y_train)"
   ]
  },
  {
   "cell_type": "code",
   "execution_count": 20,
   "id": "a0e77db7",
   "metadata": {},
   "outputs": [
    {
     "name": "stdout",
     "output_type": "stream",
     "text": [
      "|--- sex_male <= 0.50\n",
      "|   |--- pclass <= 2.50\n",
      "|   |   |--- fare <= 28.86\n",
      "|   |   |   |--- class: 1\n",
      "|   |   |--- fare >  28.86\n",
      "|   |   |   |--- class: 1\n",
      "|   |--- pclass >  2.50\n",
      "|   |   |--- embark_town_Southampton <= 0.50\n",
      "|   |   |   |--- class: 1\n",
      "|   |   |--- embark_town_Southampton >  0.50\n",
      "|   |   |   |--- class: 0\n",
      "|--- sex_male >  0.50\n",
      "|   |--- fare <= 18.27\n",
      "|   |   |--- parch <= 0.50\n",
      "|   |   |   |--- class: 0\n",
      "|   |   |--- parch >  0.50\n",
      "|   |   |   |--- class: 0\n",
      "|   |--- fare >  18.27\n",
      "|   |   |--- fare <= 19.38\n",
      "|   |   |   |--- class: 1\n",
      "|   |   |--- fare >  19.38\n",
      "|   |   |   |--- class: 0\n",
      "\n"
     ]
    }
   ],
   "source": [
    "print(export_text(tree1, feature_names=x_train.columns.tolist()))"
   ]
  },
  {
   "cell_type": "code",
   "execution_count": 21,
   "id": "f4b5d0aa",
   "metadata": {},
   "outputs": [
    {
     "data": {
      "text/plain": [
       "[Text(0.5, 0.875, 'sex_male <= 0.5\\ngini = 0.473\\nsamples = 569\\nvalue = [351, 218]'),\n",
       " Text(0.25, 0.625, 'pclass <= 2.5\\ngini = 0.371\\nsamples = 199\\nvalue = [49, 150]'),\n",
       " Text(0.125, 0.375, 'fare <= 28.856\\ngini = 0.092\\nsamples = 104\\nvalue = [5, 99]'),\n",
       " Text(0.0625, 0.125, 'gini = 0.159\\nsamples = 46\\nvalue = [4, 42]'),\n",
       " Text(0.1875, 0.125, 'gini = 0.034\\nsamples = 58\\nvalue = [1, 57]'),\n",
       " Text(0.375, 0.375, 'embark_town_Southampton <= 0.5\\ngini = 0.497\\nsamples = 95\\nvalue = [44, 51]'),\n",
       " Text(0.3125, 0.125, 'gini = 0.355\\nsamples = 39\\nvalue = [9, 30]'),\n",
       " Text(0.4375, 0.125, 'gini = 0.469\\nsamples = 56\\nvalue = [35, 21]'),\n",
       " Text(0.75, 0.625, 'fare <= 18.275\\ngini = 0.3\\nsamples = 370\\nvalue = [302, 68]'),\n",
       " Text(0.625, 0.375, 'parch <= 0.5\\ngini = 0.192\\nsamples = 241\\nvalue = [215, 26]'),\n",
       " Text(0.5625, 0.125, 'gini = 0.177\\nsamples = 234\\nvalue = [211, 23]'),\n",
       " Text(0.6875, 0.125, 'gini = 0.49\\nsamples = 7\\nvalue = [4, 3]'),\n",
       " Text(0.875, 0.375, 'fare <= 19.377\\ngini = 0.439\\nsamples = 129\\nvalue = [87, 42]'),\n",
       " Text(0.8125, 0.125, 'gini = 0.0\\nsamples = 3\\nvalue = [0, 3]'),\n",
       " Text(0.9375, 0.125, 'gini = 0.427\\nsamples = 126\\nvalue = [87, 39]')]"
      ]
     },
     "execution_count": 21,
     "metadata": {},
     "output_type": "execute_result"
    },
    {
     "data": {
      "image/png": "[encoded data removed]",
      "text/plain": [
       "<Figure size 432x288 with 1 Axes>"
      ]
     },
     "metadata": {
      "needs_background": "light"
     },
     "output_type": "display_data"
    }
   ],
   "source": [
    "plot_tree(tree1, feature_names=x_train.columns)"
   ]
  },
  {
   "cell_type": "code",
   "execution_count": 22,
   "id": "69da76c4",
   "metadata": {
    "scrolled": true
   },
   "outputs": [
    {
     "data": {
      "image/png": "[encoded data removed]",
      "text/plain": [
       "<Figure size 1584x648 with 1 Axes>"
      ]
     },
     "metadata": {
      "needs_background": "light"
     },
     "output_type": "display_data"
    }
   ],
   "source": [
    "plt.figure(figsize = (22,9))\n",
    "plot_tree(tree1, feature_names=x_train.columns)\n",
    "plt.show()"
   ]
  },
  {
   "cell_type": "code",
   "execution_count": 23,
   "id": "0ffdd414",
   "metadata": {
    "scrolled": true
   },
   "outputs": [
    {
     "data": {
      "image/png": "[encoded data removed]",
      "text/plain": [
       "<Figure size 1296x432 with 1 Axes>"
      ]
     },
     "metadata": {
      "needs_background": "light"
     },
     "output_type": "display_data"
    }
   ],
   "source": [
    "plt.figure(figsize = (18,6))\n",
    "plot_tree(tree1, feature_names=x_train.columns, class_names=['died','survived'])\n",
    "plt.show()"
   ]
  },
  {
   "cell_type": "code",
   "execution_count": 24,
   "id": "5aa14609",
   "metadata": {
    "scrolled": true
   },
   "outputs": [
    {
     "data": {
      "text/plain": [
       "array([1, 0, 0, 0, 0, 0, 0, 0, 1, 1, 1, 0, 1, 0, 1, 1, 0, 0, 0, 1, 0, 0,\n",
       "       0, 1, 1, 0, 1, 0, 0, 0, 0, 1, 0, 0, 0, 0, 0, 0, 1, 1, 0, 0, 0, 1,\n",
       "       0, 1, 1, 0, 0, 0, 1, 0, 1, 0, 0, 1, 0, 0, 0, 0, 0, 0, 1, 0, 1, 0,\n",
       "       0, 0, 0, 0, 1, 0, 1, 0, 0, 0, 0, 0, 1, 1, 1, 0, 0, 0, 0, 0, 0, 0,\n",
       "       0, 0, 0, 0, 0, 0, 0, 0, 1, 0, 0, 0, 0, 0, 1, 1, 0, 0, 1, 0, 0, 1,\n",
       "       0, 0, 1, 0, 0, 0, 0, 0, 1, 0, 0, 1, 1, 0, 0, 0, 0, 0, 0, 0, 0, 0,\n",
       "       0, 0, 0, 1, 0, 0, 0, 1, 1, 1, 0, 0, 0, 1, 0, 1, 1, 0, 0, 0, 1, 0,\n",
       "       0, 1, 0, 1, 1, 0, 1, 0, 0, 1, 1, 1, 0, 0, 0, 0, 0, 0, 1, 1, 0, 0,\n",
       "       1, 0, 1, 0, 0, 0, 0, 0, 0, 0, 0, 0, 0, 0, 0, 0, 1, 0, 0, 0, 1, 0,\n",
       "       0, 1, 0, 0, 0, 0, 1, 0, 0, 0, 0, 0, 0, 0, 0, 0, 0, 0, 1, 0, 0, 0,\n",
       "       0, 1, 0, 0, 1, 0, 0, 0, 1, 0, 1, 1, 1, 0, 0, 0, 0, 0, 1, 0, 0, 0,\n",
       "       0, 0, 0, 0, 0, 1, 0, 0, 0, 0, 0, 0, 0, 0, 1, 0, 0, 0, 0, 0, 0, 0,\n",
       "       0, 1, 0, 1, 0, 0, 0, 1, 1, 0, 0, 0, 1, 1, 0, 0, 0, 1, 1, 1, 0, 0,\n",
       "       0, 0, 0, 1, 0, 0, 0, 1, 0, 1, 1, 0, 0, 0, 0, 0, 0, 0, 1, 0, 0, 0,\n",
       "       0, 0, 1, 1, 0, 0, 0, 1, 1, 1, 0, 0, 1, 0, 1, 0, 1, 0, 0, 0, 0, 0,\n",
       "       0, 0, 1, 0, 0, 0, 0, 0, 1, 0, 0, 0, 0, 0, 0, 0, 0, 0, 0, 0, 1, 0,\n",
       "       0, 0, 0, 0, 1, 0, 0, 0, 0, 0, 1, 0, 0, 0, 0, 0, 0, 0, 0, 0, 0, 1,\n",
       "       0, 0, 1, 0, 0, 0, 0, 0, 0, 1, 0, 0, 0, 1, 0, 0, 1, 0, 1, 1, 1, 0,\n",
       "       0, 0, 1, 0, 0, 0, 1, 0, 1, 0, 0, 1, 0, 1, 0, 1, 0, 0, 0, 0, 1, 0,\n",
       "       1, 0, 0, 0, 1, 1, 1, 1, 0, 0, 0, 0, 1, 0, 0, 0, 0, 0, 0, 0, 1, 0,\n",
       "       0, 0, 1, 0, 1, 0, 0, 1, 0, 1, 0, 1, 0, 0, 0, 0, 0, 0, 0, 0, 0, 0,\n",
       "       0, 0, 0, 1, 0, 0, 1, 0, 0, 0, 0, 1, 0, 0, 0, 1, 0, 1, 0, 0, 0, 0,\n",
       "       0, 0, 1, 0, 0, 1, 1, 0, 0, 0, 0, 0, 0, 0, 0, 0, 0, 0, 0, 0, 0, 1,\n",
       "       0, 0, 0, 0, 0, 0, 1, 1, 0, 0, 0, 0, 0, 0, 0, 1, 0, 1, 0, 0, 0, 0,\n",
       "       0, 0, 0, 1, 0, 1, 0, 0, 1, 0, 0, 0, 0, 0, 0, 0, 0, 0, 0, 0, 0, 0,\n",
       "       0, 0, 1, 0, 0, 0, 1, 0, 1, 0, 1, 0, 0, 1, 0, 1, 0, 0, 1])"
      ]
     },
     "execution_count": 24,
     "metadata": {},
     "output_type": "execute_result"
    }
   ],
   "source": [
    "tree1.predict(x_train)"
   ]
  },
  {
   "cell_type": "code",
   "execution_count": 25,
   "id": "6f2ee30c",
   "metadata": {},
   "outputs": [],
   "source": [
    "predictions = tree1.predict(x_train)\n",
    "actual = y_train"
   ]
  },
  {
   "cell_type": "code",
   "execution_count": null,
   "id": "12362303",
   "metadata": {},
   "outputs": [],
   "source": []
  },
  {
   "cell_type": "markdown",
   "id": "1f604f0f",
   "metadata": {},
   "source": [
    "### 3 \n",
    "Evaluate your in-sample results using the model score, confusion matrix, and classification report."
   ]
  },
  {
   "cell_type": "code",
   "execution_count": 26,
   "id": "835db3a5",
   "metadata": {
    "scrolled": false
   },
   "outputs": [
    {
     "name": "stdout",
     "output_type": "stream",
     "text": [
      "              precision    recall  f1-score   support\n",
      "\n",
      "           0       0.80      0.96      0.87       351\n",
      "           1       0.90      0.61      0.73       218\n",
      "\n",
      "    accuracy                           0.82       569\n",
      "   macro avg       0.85      0.78      0.80       569\n",
      "weighted avg       0.84      0.82      0.82       569\n",
      "\n"
     ]
    }
   ],
   "source": [
    "print(classification_report(actual, predictions))"
   ]
  },
  {
   "cell_type": "code",
   "execution_count": 27,
   "id": "dc5863d9",
   "metadata": {},
   "outputs": [],
   "source": [
    "#class did the above cell, but also the single next cell"
   ]
  },
  {
   "cell_type": "code",
   "execution_count": 28,
   "id": "448beeee",
   "metadata": {},
   "outputs": [
    {
     "name": "stdout",
     "output_type": "stream",
     "text": [
      "Tree of 1 depth\n"
     ]
    },
    {
     "data": {
      "text/html": [
       "<div>\n",
       "<style scoped>\n",
       "    .dataframe tbody tr th:only-of-type {\n",
       "        vertical-align: middle;\n",
       "    }\n",
       "\n",
       "    .dataframe tbody tr th {\n",
       "        vertical-align: top;\n",
       "    }\n",
       "\n",
       "    .dataframe thead th {\n",
       "        text-align: right;\n",
       "    }\n",
       "</style>\n",
       "<table border=\"1\" class=\"dataframe\">\n",
       "  <thead>\n",
       "    <tr style=\"text-align: right;\">\n",
       "      <th></th>\n",
       "      <th>0</th>\n",
       "      <th>1</th>\n",
       "      <th>accuracy</th>\n",
       "      <th>macro avg</th>\n",
       "      <th>weighted avg</th>\n",
       "    </tr>\n",
       "  </thead>\n",
       "  <tbody>\n",
       "    <tr>\n",
       "      <th>precision</th>\n",
       "      <td>0.80</td>\n",
       "      <td>0.90</td>\n",
       "      <td>0.82</td>\n",
       "      <td>0.85</td>\n",
       "      <td>0.84</td>\n",
       "    </tr>\n",
       "    <tr>\n",
       "      <th>recall</th>\n",
       "      <td>0.96</td>\n",
       "      <td>0.61</td>\n",
       "      <td>0.82</td>\n",
       "      <td>0.78</td>\n",
       "      <td>0.82</td>\n",
       "    </tr>\n",
       "    <tr>\n",
       "      <th>f1-score</th>\n",
       "      <td>0.87</td>\n",
       "      <td>0.73</td>\n",
       "      <td>0.82</td>\n",
       "      <td>0.80</td>\n",
       "      <td>0.82</td>\n",
       "    </tr>\n",
       "    <tr>\n",
       "      <th>support</th>\n",
       "      <td>351.00</td>\n",
       "      <td>218.00</td>\n",
       "      <td>0.82</td>\n",
       "      <td>569.00</td>\n",
       "      <td>569.00</td>\n",
       "    </tr>\n",
       "  </tbody>\n",
       "</table>\n",
       "</div>"
      ],
      "text/plain": [
       "                0       1  accuracy  macro avg  weighted avg\n",
       "precision    0.80    0.90      0.82       0.85          0.84\n",
       "recall       0.96    0.61      0.82       0.78          0.82\n",
       "f1-score     0.87    0.73      0.82       0.80          0.82\n",
       "support    351.00  218.00      0.82     569.00        569.00"
      ]
     },
     "execution_count": 28,
     "metadata": {},
     "output_type": "execute_result"
    }
   ],
   "source": [
    "# Produce the classification report on the actual y values and this model's predicted y values\n",
    "report = classification_report(actual, predictions, output_dict=True)\n",
    "print(\"Tree of 1 depth\")\n",
    "pd.DataFrame(report).round(2)"
   ]
  },
  {
   "cell_type": "code",
   "execution_count": 29,
   "id": "73880110",
   "metadata": {},
   "outputs": [],
   "source": [
    "#return to my work"
   ]
  },
  {
   "cell_type": "code",
   "execution_count": 30,
   "id": "6c73b26c",
   "metadata": {},
   "outputs": [
    {
     "data": {
      "text/html": [
       "<div>\n",
       "<style scoped>\n",
       "    .dataframe tbody tr th:only-of-type {\n",
       "        vertical-align: middle;\n",
       "    }\n",
       "\n",
       "    .dataframe tbody tr th {\n",
       "        vertical-align: top;\n",
       "    }\n",
       "\n",
       "    .dataframe thead th {\n",
       "        text-align: right;\n",
       "    }\n",
       "</style>\n",
       "<table border=\"1\" class=\"dataframe\">\n",
       "  <thead>\n",
       "    <tr style=\"text-align: right;\">\n",
       "      <th>col_0</th>\n",
       "      <th>0</th>\n",
       "      <th>1</th>\n",
       "    </tr>\n",
       "    <tr>\n",
       "      <th>survived</th>\n",
       "      <th></th>\n",
       "      <th></th>\n",
       "    </tr>\n",
       "  </thead>\n",
       "  <tbody>\n",
       "    <tr>\n",
       "      <th>0</th>\n",
       "      <td>337</td>\n",
       "      <td>14</td>\n",
       "    </tr>\n",
       "    <tr>\n",
       "      <th>1</th>\n",
       "      <td>86</td>\n",
       "      <td>132</td>\n",
       "    </tr>\n",
       "  </tbody>\n",
       "</table>\n",
       "</div>"
      ],
      "text/plain": [
       "col_0       0    1\n",
       "survived          \n",
       "0         337   14\n",
       "1          86  132"
      ]
     },
     "execution_count": 30,
     "metadata": {},
     "output_type": "execute_result"
    }
   ],
   "source": [
    "pd.crosstab(actual, predictions)"
   ]
  },
  {
   "cell_type": "code",
   "execution_count": 31,
   "id": "45cb827c",
   "metadata": {},
   "outputs": [
    {
     "data": {
      "text/plain": [
       "array([[337,  14],\n",
       "       [ 86, 132]])"
      ]
     },
     "execution_count": 31,
     "metadata": {},
     "output_type": "execute_result"
    }
   ],
   "source": [
    "confusion_matrix(actual, predictions)"
   ]
  },
  {
   "cell_type": "code",
   "execution_count": 32,
   "id": "5c2821fd",
   "metadata": {
    "scrolled": true
   },
   "outputs": [
    {
     "data": {
      "text/plain": [
       "<sklearn.metrics._plot.confusion_matrix.ConfusionMatrixDisplay at 0x14018bd00>"
      ]
     },
     "execution_count": 32,
     "metadata": {},
     "output_type": "execute_result"
    },
    {
     "data": {
      "image/png": "[encoded data removed]",
      "text/plain": [
       "<Figure size 432x288 with 2 Axes>"
      ]
     },
     "metadata": {
      "needs_background": "light"
     },
     "output_type": "display_data"
    }
   ],
   "source": [
    "plot_confusion_matrix(tree1, x_train, y_train)"
   ]
  },
  {
   "cell_type": "code",
   "execution_count": 33,
   "id": "3190ff60",
   "metadata": {},
   "outputs": [
    {
     "name": "stdout",
     "output_type": "stream",
     "text": [
      "Accuracy of Decision Tree classifier on validate set: 0.78\n"
     ]
    }
   ],
   "source": [
    "print('Accuracy of Decision Tree classifier on validate set: {:.2f}'\n",
    "     .format(tree1.score(x_validate, y_validate)))\n"
   ]
  },
  {
   "cell_type": "markdown",
   "id": "7decb927",
   "metadata": {},
   "source": [
    "### It's better than the baseline!\n",
    "\n",
    "Baseline ~62\n",
    "tree1 ~78"
   ]
  },
  {
   "cell_type": "markdown",
   "id": "6ad6ef1e",
   "metadata": {},
   "source": [
    "### 4\n",
    "\n",
    "Compute: Accuracy, true positive rate, false positive rate, true negative rate, false negative rate, precision, recall, f1-score, and support.\n",
    "    "
   ]
  },
  {
   "cell_type": "code",
   "execution_count": 34,
   "id": "b48fe8a6",
   "metadata": {},
   "outputs": [],
   "source": [
    "TN, FP, FN, TP = confusion_matrix(actual, predictions).ravel()"
   ]
  },
  {
   "cell_type": "code",
   "execution_count": 35,
   "id": "0c057649",
   "metadata": {
    "scrolled": false
   },
   "outputs": [
    {
     "data": {
      "text/plain": [
       "(337, 14, 86, 132)"
      ]
     },
     "execution_count": 35,
     "metadata": {},
     "output_type": "execute_result"
    }
   ],
   "source": [
    "TN, FP, FN, TP"
   ]
  },
  {
   "cell_type": "code",
   "execution_count": 36,
   "id": "93a17bf2",
   "metadata": {},
   "outputs": [],
   "source": [
    "Total = TP + FP + FN + TN"
   ]
  },
  {
   "cell_type": "code",
   "execution_count": 37,
   "id": "721873ef",
   "metadata": {
    "scrolled": true
   },
   "outputs": [
    {
     "data": {
      "text/plain": [
       "0.8242530755711776"
      ]
     },
     "execution_count": 37,
     "metadata": {},
     "output_type": "execute_result"
    }
   ],
   "source": [
    "accuracy = (TP + TN)/Total\n",
    "accuracy"
   ]
  },
  {
   "cell_type": "code",
   "execution_count": 38,
   "id": "6c1be4e0",
   "metadata": {},
   "outputs": [],
   "source": [
    "accuracy = (TP + TN)/Total\n",
    "true_positive_rate = TP/(TP+FN)\n",
    "false_positive_rate = FP/(FP+TN)\n",
    "true_negative_rate = TN/(TN+FP)\n",
    "false_negative_rate = FN/(FN+TP)\n",
    "precision = TP/(TP+FP)\n",
    "f1_score = TP/(TP + (.5*(FP+FN)))\n",
    "support_pos = TP + FN\n",
    "support_neg = FP + TN"
   ]
  },
  {
   "cell_type": "code",
   "execution_count": 39,
   "id": "35bd0e27",
   "metadata": {
    "scrolled": true
   },
   "outputs": [
    {
     "data": {
      "text/plain": [
       "(0.8242530755711776,\n",
       " 0.6055045871559633,\n",
       " 0.039886039886039885,\n",
       " 0.9601139601139601,\n",
       " 0.3944954128440367,\n",
       " 0.9041095890410958,\n",
       " 0.7252747252747253,\n",
       " 218,\n",
       " 351)"
      ]
     },
     "execution_count": 39,
     "metadata": {},
     "output_type": "execute_result"
    }
   ],
   "source": [
    "accuracy, true_positive_rate, false_positive_rate, true_negative_rate, false_negative_rate, precision, f1_score, support_pos, support_neg "
   ]
  },
  {
   "cell_type": "code",
   "execution_count": 40,
   "id": "161a49a3",
   "metadata": {},
   "outputs": [],
   "source": [
    "#From class review"
   ]
  },
  {
   "cell_type": "code",
   "execution_count": 41,
   "id": "d6f44527",
   "metadata": {},
   "outputs": [
    {
     "name": "stdout",
     "output_type": "stream",
     "text": [
      "Negative Cases: 351\n",
      "Positive Cases: 218\n",
      "0    351\n",
      "1    218\n",
      "Name: survived, dtype: int64\n"
     ]
    }
   ],
   "source": [
    "negative_cases = TN + FP\n",
    "positive_cases = FN + TP\n",
    "print(f\"Negative Cases: {negative_cases}\")\n",
    "print(f\"Positive Cases: {positive_cases}\")\n",
    "print(y_train.value_counts())"
   ]
  },
  {
   "cell_type": "code",
   "execution_count": 42,
   "id": "ba61e30e",
   "metadata": {
    "scrolled": true
   },
   "outputs": [
    {
     "name": "stdout",
     "output_type": "stream",
     "text": [
      "Accuracy: 0.8242530755711776 \n",
      "\n",
      "True Positive Rate/Sensitivity/Recall/Power: 0.6055045871559633 \n",
      "\n",
      "False Positive Rate/False Alarm Ratio/Fall-out: 0.039886039886039885 \n",
      "\n",
      "True Negative Rate/Specificity/Selectivity: 0.9601139601139601 \n",
      "\n",
      "False Negative Rate/Miss Rate: 0.3944954128440367 \n",
      "\n",
      "Precision/PPV: 0.9041095890410958 \n",
      "\n",
      "F1 Score: 0.7252747252747253 \n",
      "\n",
      "Support (0): 351 \n",
      "\n",
      "Support (1): 218\n"
     ]
    }
   ],
   "source": [
    "ALL = TP + FP + FN + TN\n",
    "\n",
    "accuracy = (TP + TN)/ALL\n",
    "true_positive_rate = sensitivity = recall = power = TP/(TP+FN)\n",
    "false_positive_rate = false_alarm_ratio = fallout = FP/(FP+TN)\n",
    "true_negative_rate = specificity = selectivity = TN/(TN+FP)\n",
    "false_negative_rate = miss_rate = FN/(FN+TP)\n",
    "precision = PPV = TP/(TP+FP)\n",
    "f1_score = 2*(precision*recall)/(precision+recall)\n",
    "support_pos = TP + FN\n",
    "support_neg = FP + TN\n",
    "\n",
    "print(f\"Accuracy: {accuracy}\", '\\n')\n",
    "print(f\"True Positive Rate/Sensitivity/Recall/Power: {true_positive_rate}\", '\\n')\n",
    "print(f\"False Positive Rate/False Alarm Ratio/Fall-out: {false_positive_rate}\", '\\n')\n",
    "print(f\"True Negative Rate/Specificity/Selectivity: {true_negative_rate}\", '\\n')\n",
    "print(f\"False Negative Rate/Miss Rate: {false_negative_rate}\", '\\n')\n",
    "print(f\"Precision/PPV: {precision}\", '\\n')\n",
    "print(f\"F1 Score: {f1_score}\", '\\n')\n",
    "print(f\"Support (0): {support_neg}\", '\\n')\n",
    "print(f\"Support (1): {support_pos}\")"
   ]
  },
  {
   "cell_type": "code",
   "execution_count": null,
   "id": "4ed79cce",
   "metadata": {},
   "outputs": [],
   "source": []
  },
  {
   "cell_type": "markdown",
   "id": "3fda9f25",
   "metadata": {},
   "source": [
    "### 5"
   ]
  },
  {
   "cell_type": "code",
   "execution_count": 43,
   "id": "357dfa2a",
   "metadata": {},
   "outputs": [],
   "source": [
    "tree2 = DecisionTreeClassifier(max_depth = 19)"
   ]
  },
  {
   "cell_type": "code",
   "execution_count": 44,
   "id": "d310e954",
   "metadata": {},
   "outputs": [
    {
     "data": {
      "text/plain": [
       "DecisionTreeClassifier(max_depth=19)"
      ]
     },
     "execution_count": 44,
     "metadata": {},
     "output_type": "execute_result"
    }
   ],
   "source": [
    "tree2.fit(x_train, y_train)"
   ]
  },
  {
   "cell_type": "code",
   "execution_count": 45,
   "id": "d081a2f2",
   "metadata": {},
   "outputs": [
    {
     "name": "stdout",
     "output_type": "stream",
     "text": [
      "|--- sex_male <= 0.50\n",
      "|   |--- pclass <= 2.50\n",
      "|   |   |--- fare <= 28.86\n",
      "|   |   |   |--- fare <= 28.23\n",
      "|   |   |   |   |--- sibsp <= 0.50\n",
      "|   |   |   |   |   |--- fare <= 13.25\n",
      "|   |   |   |   |   |   |--- fare <= 12.82\n",
      "|   |   |   |   |   |   |   |--- class: 1\n",
      "|   |   |   |   |   |   |--- fare >  12.82\n",
      "|   |   |   |   |   |   |   |--- alone <= 0.50\n",
      "|   |   |   |   |   |   |   |   |--- class: 1\n",
      "|   |   |   |   |   |   |   |--- alone >  0.50\n",
      "|   |   |   |   |   |   |   |   |--- class: 1\n",
      "|   |   |   |   |   |--- fare >  13.25\n",
      "|   |   |   |   |   |   |--- class: 1\n",
      "|   |   |   |   |--- sibsp >  0.50\n",
      "|   |   |   |   |   |--- parch <= 0.50\n",
      "|   |   |   |   |   |   |--- embark_town_Southampton <= 0.50\n",
      "|   |   |   |   |   |   |   |--- class: 1\n",
      "|   |   |   |   |   |   |--- embark_town_Southampton >  0.50\n",
      "|   |   |   |   |   |   |   |--- fare <= 23.50\n",
      "|   |   |   |   |   |   |   |   |--- class: 0\n",
      "|   |   |   |   |   |   |   |--- fare >  23.50\n",
      "|   |   |   |   |   |   |   |   |--- class: 1\n",
      "|   |   |   |   |   |--- parch >  0.50\n",
      "|   |   |   |   |   |   |--- class: 1\n",
      "|   |   |   |--- fare >  28.23\n",
      "|   |   |   |   |--- class: 0\n",
      "|   |   |--- fare >  28.86\n",
      "|   |   |   |--- parch <= 1.50\n",
      "|   |   |   |   |--- class: 1\n",
      "|   |   |   |--- parch >  1.50\n",
      "|   |   |   |   |--- embark_town_Southampton <= 0.50\n",
      "|   |   |   |   |   |--- class: 1\n",
      "|   |   |   |   |--- embark_town_Southampton >  0.50\n",
      "|   |   |   |   |   |--- pclass <= 1.50\n",
      "|   |   |   |   |   |   |--- class: 0\n",
      "|   |   |   |   |   |--- pclass >  1.50\n",
      "|   |   |   |   |   |   |--- class: 1\n",
      "|   |--- pclass >  2.50\n",
      "|   |   |--- embark_town_Southampton <= 0.50\n",
      "|   |   |   |--- fare <= 15.37\n",
      "|   |   |   |   |--- fare <= 8.08\n",
      "|   |   |   |   |   |--- fare <= 6.99\n",
      "|   |   |   |   |   |   |--- class: 0\n",
      "|   |   |   |   |   |--- fare >  6.99\n",
      "|   |   |   |   |   |   |--- fare <= 7.68\n",
      "|   |   |   |   |   |   |   |--- fare <= 7.43\n",
      "|   |   |   |   |   |   |   |   |--- class: 1\n",
      "|   |   |   |   |   |   |   |--- fare >  7.43\n",
      "|   |   |   |   |   |   |   |   |--- class: 0\n",
      "|   |   |   |   |   |   |--- fare >  7.68\n",
      "|   |   |   |   |   |   |   |--- fare <= 7.77\n",
      "|   |   |   |   |   |   |   |   |--- fare <= 7.74\n",
      "|   |   |   |   |   |   |   |   |   |--- class: 1\n",
      "|   |   |   |   |   |   |   |   |--- fare >  7.74\n",
      "|   |   |   |   |   |   |   |   |   |--- class: 1\n",
      "|   |   |   |   |   |   |   |--- fare >  7.77\n",
      "|   |   |   |   |   |   |   |   |--- class: 1\n",
      "|   |   |   |   |--- fare >  8.08\n",
      "|   |   |   |   |   |--- parch <= 1.50\n",
      "|   |   |   |   |   |   |--- fare <= 12.85\n",
      "|   |   |   |   |   |   |   |--- alone <= 0.50\n",
      "|   |   |   |   |   |   |   |   |--- class: 1\n",
      "|   |   |   |   |   |   |   |--- alone >  0.50\n",
      "|   |   |   |   |   |   |   |   |--- class: 0\n",
      "|   |   |   |   |   |   |--- fare >  12.85\n",
      "|   |   |   |   |   |   |   |--- class: 0\n",
      "|   |   |   |   |   |--- parch >  1.50\n",
      "|   |   |   |   |   |   |--- class: 0\n",
      "|   |   |   |--- fare >  15.37\n",
      "|   |   |   |   |--- class: 1\n",
      "|   |   |--- embark_town_Southampton >  0.50\n",
      "|   |   |   |--- fare <= 23.75\n",
      "|   |   |   |   |--- parch <= 0.50\n",
      "|   |   |   |   |   |--- fare <= 7.70\n",
      "|   |   |   |   |   |   |--- fare <= 7.52\n",
      "|   |   |   |   |   |   |   |--- class: 1\n",
      "|   |   |   |   |   |   |--- fare >  7.52\n",
      "|   |   |   |   |   |   |   |--- fare <= 7.60\n",
      "|   |   |   |   |   |   |   |   |--- class: 0\n",
      "|   |   |   |   |   |   |   |--- fare >  7.60\n",
      "|   |   |   |   |   |   |   |   |--- class: 1\n",
      "|   |   |   |   |   |--- fare >  7.70\n",
      "|   |   |   |   |   |   |--- fare <= 8.67\n",
      "|   |   |   |   |   |   |   |--- fare <= 7.88\n",
      "|   |   |   |   |   |   |   |   |--- fare <= 7.81\n",
      "|   |   |   |   |   |   |   |   |   |--- class: 0\n",
      "|   |   |   |   |   |   |   |   |--- fare >  7.81\n",
      "|   |   |   |   |   |   |   |   |   |--- class: 0\n",
      "|   |   |   |   |   |   |   |--- fare >  7.88\n",
      "|   |   |   |   |   |   |   |   |--- class: 0\n",
      "|   |   |   |   |   |   |--- fare >  8.67\n",
      "|   |   |   |   |   |   |   |--- sibsp <= 2.50\n",
      "|   |   |   |   |   |   |   |   |--- fare <= 8.77\n",
      "|   |   |   |   |   |   |   |   |   |--- class: 1\n",
      "|   |   |   |   |   |   |   |   |--- fare >  8.77\n",
      "|   |   |   |   |   |   |   |   |   |--- fare <= 9.53\n",
      "|   |   |   |   |   |   |   |   |   |   |--- class: 0\n",
      "|   |   |   |   |   |   |   |   |   |--- fare >  9.53\n",
      "|   |   |   |   |   |   |   |   |   |   |--- alone <= 0.50\n",
      "|   |   |   |   |   |   |   |   |   |   |   |--- truncated branch of depth 4\n",
      "|   |   |   |   |   |   |   |   |   |   |--- alone >  0.50\n",
      "|   |   |   |   |   |   |   |   |   |   |   |--- truncated branch of depth 2\n",
      "|   |   |   |   |   |   |   |--- sibsp >  2.50\n",
      "|   |   |   |   |   |   |   |   |--- class: 1\n",
      "|   |   |   |   |--- parch >  0.50\n",
      "|   |   |   |   |   |--- fare <= 13.44\n",
      "|   |   |   |   |   |   |--- class: 1\n",
      "|   |   |   |   |   |--- fare >  13.44\n",
      "|   |   |   |   |   |   |--- sibsp <= 2.00\n",
      "|   |   |   |   |   |   |   |--- fare <= 15.55\n",
      "|   |   |   |   |   |   |   |   |--- class: 0\n",
      "|   |   |   |   |   |   |   |--- fare >  15.55\n",
      "|   |   |   |   |   |   |   |   |--- parch <= 3.00\n",
      "|   |   |   |   |   |   |   |   |   |--- fare <= 20.23\n",
      "|   |   |   |   |   |   |   |   |   |   |--- fare <= 18.46\n",
      "|   |   |   |   |   |   |   |   |   |   |   |--- class: 1\n",
      "|   |   |   |   |   |   |   |   |   |   |--- fare >  18.46\n",
      "|   |   |   |   |   |   |   |   |   |   |   |--- class: 0\n",
      "|   |   |   |   |   |   |   |   |   |--- fare >  20.23\n",
      "|   |   |   |   |   |   |   |   |   |   |--- class: 1\n",
      "|   |   |   |   |   |   |   |   |--- parch >  3.00\n",
      "|   |   |   |   |   |   |   |   |   |--- class: 0\n",
      "|   |   |   |   |   |   |--- sibsp >  2.00\n",
      "|   |   |   |   |   |   |   |--- class: 0\n",
      "|   |   |   |--- fare >  23.75\n",
      "|   |   |   |   |--- parch <= 4.00\n",
      "|   |   |   |   |   |--- class: 0\n",
      "|   |   |   |   |--- parch >  4.00\n",
      "|   |   |   |   |   |--- fare <= 35.54\n",
      "|   |   |   |   |   |   |--- class: 1\n",
      "|   |   |   |   |   |--- fare >  35.54\n",
      "|   |   |   |   |   |   |--- class: 0\n",
      "|--- sex_male >  0.50\n",
      "|   |--- fare <= 18.27\n",
      "|   |   |--- parch <= 0.50\n",
      "|   |   |   |--- fare <= 13.25\n",
      "|   |   |   |   |--- fare <= 10.34\n",
      "|   |   |   |   |   |--- alone <= 0.50\n",
      "|   |   |   |   |   |   |--- sibsp <= 1.50\n",
      "|   |   |   |   |   |   |   |--- fare <= 7.51\n",
      "|   |   |   |   |   |   |   |   |--- class: 0\n",
      "|   |   |   |   |   |   |   |--- fare >  7.51\n",
      "|   |   |   |   |   |   |   |   |--- fare <= 7.81\n",
      "|   |   |   |   |   |   |   |   |   |--- class: 1\n",
      "|   |   |   |   |   |   |   |   |--- fare >  7.81\n",
      "|   |   |   |   |   |   |   |   |   |--- fare <= 7.89\n",
      "|   |   |   |   |   |   |   |   |   |   |--- class: 0\n",
      "|   |   |   |   |   |   |   |   |   |--- fare >  7.89\n",
      "|   |   |   |   |   |   |   |   |   |   |--- class: 1\n",
      "|   |   |   |   |   |   |--- sibsp >  1.50\n",
      "|   |   |   |   |   |   |   |--- class: 0\n",
      "|   |   |   |   |   |--- alone >  0.50\n",
      "|   |   |   |   |   |   |--- embark_town_Southampton <= 0.50\n",
      "|   |   |   |   |   |   |   |--- fare <= 7.23\n",
      "|   |   |   |   |   |   |   |   |--- class: 0\n",
      "|   |   |   |   |   |   |   |--- fare >  7.23\n",
      "|   |   |   |   |   |   |   |   |--- fare <= 7.48\n",
      "|   |   |   |   |   |   |   |   |   |--- class: 0\n",
      "|   |   |   |   |   |   |   |   |--- fare >  7.48\n",
      "|   |   |   |   |   |   |   |   |   |--- fare <= 7.75\n",
      "|   |   |   |   |   |   |   |   |   |   |--- class: 0\n",
      "|   |   |   |   |   |   |   |   |   |--- fare >  7.75\n",
      "|   |   |   |   |   |   |   |   |   |   |--- fare <= 8.28\n",
      "|   |   |   |   |   |   |   |   |   |   |   |--- truncated branch of depth 3\n",
      "|   |   |   |   |   |   |   |   |   |   |--- fare >  8.28\n",
      "|   |   |   |   |   |   |   |   |   |   |   |--- class: 0\n",
      "|   |   |   |   |   |   |--- embark_town_Southampton >  0.50\n",
      "|   |   |   |   |   |   |   |--- fare <= 8.08\n",
      "|   |   |   |   |   |   |   |   |--- fare <= 7.01\n",
      "|   |   |   |   |   |   |   |   |   |--- fare <= 6.74\n",
      "|   |   |   |   |   |   |   |   |   |   |--- pclass <= 2.50\n",
      "|   |   |   |   |   |   |   |   |   |   |   |--- class: 0\n",
      "|   |   |   |   |   |   |   |   |   |   |--- pclass >  2.50\n",
      "|   |   |   |   |   |   |   |   |   |   |   |--- truncated branch of depth 2\n",
      "|   |   |   |   |   |   |   |   |   |--- fare >  6.74\n",
      "|   |   |   |   |   |   |   |   |   |   |--- class: 0\n",
      "|   |   |   |   |   |   |   |   |--- fare >  7.01\n",
      "|   |   |   |   |   |   |   |   |   |--- fare <= 7.79\n",
      "|   |   |   |   |   |   |   |   |   |   |--- class: 0\n",
      "|   |   |   |   |   |   |   |   |   |--- fare >  7.79\n",
      "|   |   |   |   |   |   |   |   |   |   |--- fare <= 7.87\n",
      "|   |   |   |   |   |   |   |   |   |   |   |--- truncated branch of depth 3\n",
      "|   |   |   |   |   |   |   |   |   |   |--- fare >  7.87\n",
      "|   |   |   |   |   |   |   |   |   |   |   |--- truncated branch of depth 3\n",
      "|   |   |   |   |   |   |   |--- fare >  8.08\n",
      "|   |   |   |   |   |   |   |   |--- fare <= 8.14\n",
      "|   |   |   |   |   |   |   |   |   |--- class: 1\n",
      "|   |   |   |   |   |   |   |   |--- fare >  8.14\n",
      "|   |   |   |   |   |   |   |   |   |--- fare <= 8.66\n",
      "|   |   |   |   |   |   |   |   |   |   |--- class: 0\n",
      "|   |   |   |   |   |   |   |   |   |--- fare >  8.66\n",
      "|   |   |   |   |   |   |   |   |   |   |--- fare <= 8.94\n",
      "|   |   |   |   |   |   |   |   |   |   |   |--- class: 0\n",
      "|   |   |   |   |   |   |   |   |   |   |--- fare >  8.94\n",
      "|   |   |   |   |   |   |   |   |   |   |   |--- truncated branch of depth 3\n",
      "|   |   |   |   |--- fare >  10.34\n",
      "|   |   |   |   |   |--- class_Second <= 0.50\n",
      "|   |   |   |   |   |   |--- class: 1\n",
      "|   |   |   |   |   |--- class_Second >  0.50\n",
      "|   |   |   |   |   |   |--- fare <= 12.64\n",
      "|   |   |   |   |   |   |   |--- fare <= 11.00\n",
      "|   |   |   |   |   |   |   |   |--- class: 0\n",
      "|   |   |   |   |   |   |   |--- fare >  11.00\n",
      "|   |   |   |   |   |   |   |   |--- class: 0\n",
      "|   |   |   |   |   |   |--- fare >  12.64\n",
      "|   |   |   |   |   |   |   |--- class: 0\n",
      "|   |   |   |--- fare >  13.25\n",
      "|   |   |   |   |--- class: 0\n",
      "|   |   |--- parch >  0.50\n",
      "|   |   |   |--- fare <= 7.87\n",
      "|   |   |   |   |--- class: 0\n",
      "|   |   |   |--- fare >  7.87\n",
      "|   |   |   |   |--- sibsp <= 1.50\n",
      "|   |   |   |   |   |--- fare <= 15.00\n",
      "|   |   |   |   |   |   |--- class: 1\n",
      "|   |   |   |   |   |--- fare >  15.00\n",
      "|   |   |   |   |   |   |--- sibsp <= 0.50\n",
      "|   |   |   |   |   |   |   |--- class: 0\n",
      "|   |   |   |   |   |   |--- sibsp >  0.50\n",
      "|   |   |   |   |   |   |   |--- embark_town_Queenstown <= 0.50\n",
      "|   |   |   |   |   |   |   |   |--- class: 1\n",
      "|   |   |   |   |   |   |   |--- embark_town_Queenstown >  0.50\n",
      "|   |   |   |   |   |   |   |   |--- class: 0\n",
      "|   |   |   |   |--- sibsp >  1.50\n",
      "|   |   |   |   |   |--- class: 0\n",
      "|   |--- fare >  18.27\n",
      "|   |   |--- fare <= 19.38\n",
      "|   |   |   |--- class: 1\n",
      "|   |   |--- fare >  19.38\n",
      "|   |   |   |--- pclass <= 1.50\n",
      "|   |   |   |   |--- sibsp <= 0.50\n",
      "|   |   |   |   |   |--- fare <= 37.55\n",
      "|   |   |   |   |   |   |--- fare <= 35.08\n",
      "|   |   |   |   |   |   |   |--- fare <= 31.66\n",
      "|   |   |   |   |   |   |   |   |--- fare <= 26.14\n",
      "|   |   |   |   |   |   |   |   |   |--- class: 0\n",
      "|   |   |   |   |   |   |   |   |--- fare >  26.14\n",
      "|   |   |   |   |   |   |   |   |   |--- fare <= 26.47\n",
      "|   |   |   |   |   |   |   |   |   |   |--- class: 1\n",
      "|   |   |   |   |   |   |   |   |   |--- fare >  26.47\n",
      "|   |   |   |   |   |   |   |   |   |   |--- fare <= 29.85\n",
      "|   |   |   |   |   |   |   |   |   |   |   |--- truncated branch of depth 2\n",
      "|   |   |   |   |   |   |   |   |   |   |--- fare >  29.85\n",
      "|   |   |   |   |   |   |   |   |   |   |   |--- truncated branch of depth 4\n",
      "|   |   |   |   |   |   |   |--- fare >  31.66\n",
      "|   |   |   |   |   |   |   |   |--- class: 0\n",
      "|   |   |   |   |   |   |--- fare >  35.08\n",
      "|   |   |   |   |   |   |   |--- class: 1\n",
      "|   |   |   |   |   |--- fare >  37.55\n",
      "|   |   |   |   |   |   |--- fare <= 379.93\n",
      "|   |   |   |   |   |   |   |--- fare <= 62.37\n",
      "|   |   |   |   |   |   |   |   |--- class: 0\n",
      "|   |   |   |   |   |   |   |--- fare >  62.37\n",
      "|   |   |   |   |   |   |   |   |--- fare <= 77.01\n",
      "|   |   |   |   |   |   |   |   |   |--- class: 1\n",
      "|   |   |   |   |   |   |   |   |--- fare >  77.01\n",
      "|   |   |   |   |   |   |   |   |   |--- parch <= 1.50\n",
      "|   |   |   |   |   |   |   |   |   |   |--- class: 0\n",
      "|   |   |   |   |   |   |   |   |   |--- parch >  1.50\n",
      "|   |   |   |   |   |   |   |   |   |   |--- fare <= 112.08\n",
      "|   |   |   |   |   |   |   |   |   |   |   |--- class: 1\n",
      "|   |   |   |   |   |   |   |   |   |   |--- fare >  112.08\n",
      "|   |   |   |   |   |   |   |   |   |   |   |--- class: 0\n",
      "|   |   |   |   |   |   |--- fare >  379.93\n",
      "|   |   |   |   |   |   |   |--- class: 1\n",
      "|   |   |   |   |--- sibsp >  0.50\n",
      "|   |   |   |   |   |--- fare <= 59.09\n",
      "|   |   |   |   |   |   |--- class: 1\n",
      "|   |   |   |   |   |--- fare >  59.09\n",
      "|   |   |   |   |   |   |--- fare <= 86.29\n",
      "|   |   |   |   |   |   |   |--- class: 0\n",
      "|   |   |   |   |   |   |--- fare >  86.29\n",
      "|   |   |   |   |   |   |   |--- sibsp <= 1.50\n",
      "|   |   |   |   |   |   |   |   |--- fare <= 99.99\n",
      "|   |   |   |   |   |   |   |   |   |--- class: 1\n",
      "|   |   |   |   |   |   |   |   |--- fare >  99.99\n",
      "|   |   |   |   |   |   |   |   |   |--- fare <= 131.22\n",
      "|   |   |   |   |   |   |   |   |   |   |--- class: 0\n",
      "|   |   |   |   |   |   |   |   |   |--- fare >  131.22\n",
      "|   |   |   |   |   |   |   |   |   |   |--- class: 1\n",
      "|   |   |   |   |   |   |   |--- sibsp >  1.50\n",
      "|   |   |   |   |   |   |   |   |--- class: 0\n",
      "|   |   |   |--- pclass >  1.50\n",
      "|   |   |   |   |--- sibsp <= 0.50\n",
      "|   |   |   |   |   |--- pclass <= 2.50\n",
      "|   |   |   |   |   |   |--- embark_town_Southampton <= 0.50\n",
      "|   |   |   |   |   |   |   |--- class: 1\n",
      "|   |   |   |   |   |   |--- embark_town_Southampton >  0.50\n",
      "|   |   |   |   |   |   |   |--- class: 0\n",
      "|   |   |   |   |   |--- pclass >  2.50\n",
      "|   |   |   |   |   |   |--- embark_town_Southampton <= 0.50\n",
      "|   |   |   |   |   |   |   |--- class: 0\n",
      "|   |   |   |   |   |   |--- embark_town_Southampton >  0.50\n",
      "|   |   |   |   |   |   |   |--- class: 1\n",
      "|   |   |   |   |--- sibsp >  0.50\n",
      "|   |   |   |   |   |--- fare <= 39.34\n",
      "|   |   |   |   |   |   |--- fare <= 37.88\n",
      "|   |   |   |   |   |   |   |--- fare <= 22.46\n",
      "|   |   |   |   |   |   |   |   |--- class: 0\n",
      "|   |   |   |   |   |   |   |--- fare >  22.46\n",
      "|   |   |   |   |   |   |   |   |--- fare <= 23.35\n",
      "|   |   |   |   |   |   |   |   |   |--- class: 1\n",
      "|   |   |   |   |   |   |   |   |--- fare >  23.35\n",
      "|   |   |   |   |   |   |   |   |   |--- embark_town_Southampton <= 0.50\n",
      "|   |   |   |   |   |   |   |   |   |   |--- class: 0\n",
      "|   |   |   |   |   |   |   |   |   |--- embark_town_Southampton >  0.50\n",
      "|   |   |   |   |   |   |   |   |   |   |--- sibsp <= 3.50\n",
      "|   |   |   |   |   |   |   |   |   |   |   |--- truncated branch of depth 4\n",
      "|   |   |   |   |   |   |   |   |   |   |--- sibsp >  3.50\n",
      "|   |   |   |   |   |   |   |   |   |   |   |--- class: 1\n",
      "|   |   |   |   |   |   |--- fare >  37.88\n",
      "|   |   |   |   |   |   |   |--- class: 1\n",
      "|   |   |   |   |   |--- fare >  39.34\n",
      "|   |   |   |   |   |   |--- class: 0\n",
      "\n"
     ]
    }
   ],
   "source": [
    "print(export_text(tree2, feature_names=x_train.columns.tolist()))"
   ]
  },
  {
   "cell_type": "code",
   "execution_count": 46,
   "id": "cb7381c6",
   "metadata": {},
   "outputs": [
    {
     "data": {
      "text/plain": [
       "[Text(0.47459145642201833, 0.9666666666666667, 'sex_male <= 0.5\\ngini = 0.473\\nsamples = 569\\nvalue = [351, 218]'),\n",
       " Text(0.18319954128440366, 0.9, 'pclass <= 2.5\\ngini = 0.371\\nsamples = 199\\nvalue = [49, 150]'),\n",
       " Text(0.07339449541284404, 0.8333333333333334, 'fare <= 28.856\\ngini = 0.092\\nsamples = 104\\nvalue = [5, 99]'),\n",
       " Text(0.05504587155963303, 0.7666666666666667, 'fare <= 28.231\\ngini = 0.159\\nsamples = 46\\nvalue = [4, 42]'),\n",
       " Text(0.045871559633027525, 0.7, 'sibsp <= 0.5\\ngini = 0.124\\nsamples = 45\\nvalue = [3, 42]'),\n",
       " Text(0.027522935779816515, 0.6333333333333333, 'fare <= 13.25\\ngini = 0.062\\nsamples = 31\\nvalue = [1, 30]'),\n",
       " Text(0.01834862385321101, 0.5666666666666667, 'fare <= 12.825\\ngini = 0.111\\nsamples = 17\\nvalue = [1, 16]'),\n",
       " Text(0.009174311926605505, 0.5, 'gini = 0.0\\nsamples = 8\\nvalue = [0, 8]'),\n",
       " Text(0.027522935779816515, 0.5, 'alone <= 0.5\\ngini = 0.198\\nsamples = 9\\nvalue = [1, 8]'),\n",
       " Text(0.01834862385321101, 0.43333333333333335, 'gini = 0.0\\nsamples = 1\\nvalue = [0, 1]'),\n",
       " Text(0.03669724770642202, 0.43333333333333335, 'gini = 0.219\\nsamples = 8\\nvalue = [1, 7]'),\n",
       " Text(0.03669724770642202, 0.5666666666666667, 'gini = 0.0\\nsamples = 14\\nvalue = [0, 14]'),\n",
       " Text(0.06422018348623854, 0.6333333333333333, 'parch <= 0.5\\ngini = 0.245\\nsamples = 14\\nvalue = [2, 12]'),\n",
       " Text(0.05504587155963303, 0.5666666666666667, 'embark_town_Southampton <= 0.5\\ngini = 0.408\\nsamples = 7\\nvalue = [2, 5]'),\n",
       " Text(0.045871559633027525, 0.5, 'gini = 0.0\\nsamples = 2\\nvalue = [0, 2]'),\n",
       " Text(0.06422018348623854, 0.5, 'fare <= 23.5\\ngini = 0.48\\nsamples = 5\\nvalue = [2, 3]'),\n",
       " Text(0.05504587155963303, 0.43333333333333335, 'gini = 0.0\\nsamples = 1\\nvalue = [1, 0]'),\n",
       " Text(0.07339449541284404, 0.43333333333333335, 'gini = 0.375\\nsamples = 4\\nvalue = [1, 3]'),\n",
       " Text(0.07339449541284404, 0.5666666666666667, 'gini = 0.0\\nsamples = 7\\nvalue = [0, 7]'),\n",
       " Text(0.06422018348623854, 0.7, 'gini = 0.0\\nsamples = 1\\nvalue = [1, 0]'),\n",
       " Text(0.09174311926605505, 0.7666666666666667, 'parch <= 1.5\\ngini = 0.034\\nsamples = 58\\nvalue = [1, 57]'),\n",
       " Text(0.08256880733944955, 0.7, 'gini = 0.0\\nsamples = 53\\nvalue = [0, 53]'),\n",
       " Text(0.10091743119266056, 0.7, 'embark_town_Southampton <= 0.5\\ngini = 0.32\\nsamples = 5\\nvalue = [1, 4]'),\n",
       " Text(0.09174311926605505, 0.6333333333333333, 'gini = 0.0\\nsamples = 3\\nvalue = [0, 3]'),\n",
       " Text(0.11009174311926606, 0.6333333333333333, 'pclass <= 1.5\\ngini = 0.5\\nsamples = 2\\nvalue = [1, 1]'),\n",
       " Text(0.10091743119266056, 0.5666666666666667, 'gini = 0.0\\nsamples = 1\\nvalue = [1, 0]'),\n",
       " Text(0.11926605504587157, 0.5666666666666667, 'gini = 0.0\\nsamples = 1\\nvalue = [0, 1]'),\n",
       " Text(0.2930045871559633, 0.8333333333333334, 'embark_town_Southampton <= 0.5\\ngini = 0.497\\nsamples = 95\\nvalue = [44, 51]'),\n",
       " Text(0.19724770642201836, 0.7666666666666667, 'fare <= 15.373\\ngini = 0.355\\nsamples = 39\\nvalue = [9, 30]'),\n",
       " Text(0.18807339449541285, 0.7, 'fare <= 8.083\\ngini = 0.428\\nsamples = 29\\nvalue = [9, 20]'),\n",
       " Text(0.14678899082568808, 0.6333333333333333, 'fare <= 6.99\\ngini = 0.245\\nsamples = 21\\nvalue = [3, 18]'),\n",
       " Text(0.13761467889908258, 0.5666666666666667, 'gini = 0.0\\nsamples = 1\\nvalue = [1, 0]'),\n",
       " Text(0.1559633027522936, 0.5666666666666667, 'fare <= 7.681\\ngini = 0.18\\nsamples = 20\\nvalue = [2, 18]'),\n",
       " Text(0.13761467889908258, 0.5, 'fare <= 7.429\\ngini = 0.444\\nsamples = 3\\nvalue = [1, 2]'),\n",
       " Text(0.12844036697247707, 0.43333333333333335, 'gini = 0.0\\nsamples = 2\\nvalue = [0, 2]'),\n",
       " Text(0.14678899082568808, 0.43333333333333335, 'gini = 0.0\\nsamples = 1\\nvalue = [1, 0]'),\n",
       " Text(0.1743119266055046, 0.5, 'fare <= 7.769\\ngini = 0.111\\nsamples = 17\\nvalue = [1, 16]'),\n",
       " Text(0.1651376146788991, 0.43333333333333335, 'fare <= 7.744\\ngini = 0.153\\nsamples = 12\\nvalue = [1, 11]'),\n",
       " Text(0.1559633027522936, 0.36666666666666664, 'gini = 0.0\\nsamples = 3\\nvalue = [0, 3]'),\n",
       " Text(0.1743119266055046, 0.36666666666666664, 'gini = 0.198\\nsamples = 9\\nvalue = [1, 8]'),\n",
       " Text(0.1834862385321101, 0.43333333333333335, 'gini = 0.0\\nsamples = 5\\nvalue = [0, 5]'),\n",
       " Text(0.22935779816513763, 0.6333333333333333, 'parch <= 1.5\\ngini = 0.375\\nsamples = 8\\nvalue = [6, 2]'),\n",
       " Text(0.22018348623853212, 0.5666666666666667, 'fare <= 12.848\\ngini = 0.278\\nsamples = 6\\nvalue = [5, 1]'),\n",
       " Text(0.21100917431192662, 0.5, 'alone <= 0.5\\ngini = 0.5\\nsamples = 2\\nvalue = [1, 1]'),\n",
       " Text(0.2018348623853211, 0.43333333333333335, 'gini = 0.0\\nsamples = 1\\nvalue = [0, 1]'),\n",
       " Text(0.22018348623853212, 0.43333333333333335, 'gini = 0.0\\nsamples = 1\\nvalue = [1, 0]'),\n",
       " Text(0.22935779816513763, 0.5, 'gini = 0.0\\nsamples = 4\\nvalue = [4, 0]'),\n",
       " Text(0.23853211009174313, 0.5666666666666667, 'gini = 0.5\\nsamples = 2\\nvalue = [1, 1]'),\n",
       " Text(0.20642201834862386, 0.7, 'gini = 0.0\\nsamples = 10\\nvalue = [0, 10]'),\n",
       " Text(0.38876146788990823, 0.7666666666666667, 'fare <= 23.746\\ngini = 0.469\\nsamples = 56\\nvalue = [35, 21]'),\n",
       " Text(0.3463302752293578, 0.7, 'parch <= 0.5\\ngini = 0.498\\nsamples = 43\\nvalue = [23, 20]'),\n",
       " Text(0.2889908256880734, 0.6333333333333333, 'fare <= 7.7\\ngini = 0.464\\nsamples = 30\\nvalue = [19, 11]'),\n",
       " Text(0.25688073394495414, 0.5666666666666667, 'fare <= 7.523\\ngini = 0.32\\nsamples = 5\\nvalue = [1, 4]'),\n",
       " Text(0.24770642201834864, 0.5, 'gini = 0.0\\nsamples = 2\\nvalue = [0, 2]'),\n",
       " Text(0.26605504587155965, 0.5, 'fare <= 7.6\\ngini = 0.444\\nsamples = 3\\nvalue = [1, 2]'),\n",
       " Text(0.25688073394495414, 0.43333333333333335, 'gini = 0.5\\nsamples = 2\\nvalue = [1, 1]'),\n",
       " Text(0.27522935779816515, 0.43333333333333335, 'gini = 0.0\\nsamples = 1\\nvalue = [0, 1]'),\n",
       " Text(0.3211009174311927, 0.5666666666666667, 'fare <= 8.673\\ngini = 0.403\\nsamples = 25\\nvalue = [18, 7]'),\n",
       " Text(0.30275229357798167, 0.5, 'fare <= 7.875\\ngini = 0.153\\nsamples = 12\\nvalue = [11, 1]'),\n",
       " Text(0.29357798165137616, 0.43333333333333335, 'fare <= 7.815\\ngini = 0.32\\nsamples = 5\\nvalue = [4, 1]'),\n",
       " Text(0.28440366972477066, 0.36666666666666664, 'gini = 0.0\\nsamples = 3\\nvalue = [3, 0]'),\n",
       " Text(0.30275229357798167, 0.36666666666666664, 'gini = 0.5\\nsamples = 2\\nvalue = [1, 1]'),\n",
       " Text(0.3119266055045872, 0.43333333333333335, 'gini = 0.0\\nsamples = 7\\nvalue = [7, 0]'),\n",
       " Text(0.3394495412844037, 0.5, 'sibsp <= 2.5\\ngini = 0.497\\nsamples = 13\\nvalue = [7, 6]'),\n",
       " Text(0.3302752293577982, 0.43333333333333335, 'fare <= 8.767\\ngini = 0.486\\nsamples = 12\\nvalue = [7, 5]'),\n",
       " Text(0.3211009174311927, 0.36666666666666664, 'gini = 0.0\\nsamples = 1\\nvalue = [0, 1]'),\n",
       " Text(0.3394495412844037, 0.36666666666666664, 'fare <= 9.531\\ngini = 0.463\\nsamples = 11\\nvalue = [7, 4]'),\n",
       " Text(0.3302752293577982, 0.3, 'gini = 0.0\\nsamples = 2\\nvalue = [2, 0]'),\n",
       " Text(0.3486238532110092, 0.3, 'alone <= 0.5\\ngini = 0.494\\nsamples = 9\\nvalue = [5, 4]'),\n",
       " Text(0.3302752293577982, 0.23333333333333334, 'fare <= 15.175\\ngini = 0.444\\nsamples = 6\\nvalue = [4, 2]'),\n",
       " Text(0.3211009174311927, 0.16666666666666666, 'gini = 0.0\\nsamples = 2\\nvalue = [2, 0]'),\n",
       " Text(0.3394495412844037, 0.16666666666666666, 'sibsp <= 1.5\\ngini = 0.5\\nsamples = 4\\nvalue = [2, 2]'),\n",
       " Text(0.3302752293577982, 0.1, 'fare <= 15.975\\ngini = 0.444\\nsamples = 3\\nvalue = [1, 2]'),\n",
       " Text(0.3211009174311927, 0.03333333333333333, 'gini = 0.0\\nsamples = 1\\nvalue = [0, 1]'),\n",
       " Text(0.3394495412844037, 0.03333333333333333, 'gini = 0.5\\nsamples = 2\\nvalue = [1, 1]'),\n",
       " Text(0.3486238532110092, 0.1, 'gini = 0.0\\nsamples = 1\\nvalue = [1, 0]'),\n",
       " Text(0.3669724770642202, 0.23333333333333334, 'fare <= 9.715\\ngini = 0.444\\nsamples = 3\\nvalue = [1, 2]'),\n",
       " Text(0.3577981651376147, 0.16666666666666666, 'gini = 0.5\\nsamples = 2\\nvalue = [1, 1]'),\n",
       " Text(0.3761467889908257, 0.16666666666666666, 'gini = 0.0\\nsamples = 1\\nvalue = [0, 1]'),\n",
       " Text(0.3486238532110092, 0.43333333333333335, 'gini = 0.0\\nsamples = 1\\nvalue = [0, 1]'),\n",
       " Text(0.4036697247706422, 0.6333333333333333, 'fare <= 13.438\\ngini = 0.426\\nsamples = 13\\nvalue = [4, 9]'),\n",
       " Text(0.3944954128440367, 0.5666666666666667, 'gini = 0.0\\nsamples = 5\\nvalue = [0, 5]'),\n",
       " Text(0.41284403669724773, 0.5666666666666667, 'sibsp <= 2.0\\ngini = 0.5\\nsamples = 8\\nvalue = [4, 4]'),\n",
       " Text(0.4036697247706422, 0.5, 'fare <= 15.55\\ngini = 0.49\\nsamples = 7\\nvalue = [3, 4]'),\n",
       " Text(0.3944954128440367, 0.43333333333333335, 'gini = 0.0\\nsamples = 1\\nvalue = [1, 0]'),\n",
       " Text(0.41284403669724773, 0.43333333333333335, 'parch <= 3.0\\ngini = 0.444\\nsamples = 6\\nvalue = [2, 4]'),\n",
       " Text(0.4036697247706422, 0.36666666666666664, 'fare <= 20.231\\ngini = 0.32\\nsamples = 5\\nvalue = [1, 4]'),\n",
       " Text(0.3944954128440367, 0.3, 'fare <= 18.456\\ngini = 0.5\\nsamples = 2\\nvalue = [1, 1]'),\n",
       " Text(0.3853211009174312, 0.23333333333333334, 'gini = 0.0\\nsamples = 1\\nvalue = [0, 1]'),\n",
       " Text(0.4036697247706422, 0.23333333333333334, 'gini = 0.0\\nsamples = 1\\nvalue = [1, 0]'),\n",
       " Text(0.41284403669724773, 0.3, 'gini = 0.0\\nsamples = 3\\nvalue = [0, 3]'),\n",
       " Text(0.42201834862385323, 0.36666666666666664, 'gini = 0.0\\nsamples = 1\\nvalue = [1, 0]'),\n",
       " Text(0.42201834862385323, 0.5, 'gini = 0.0\\nsamples = 1\\nvalue = [1, 0]'),\n",
       " Text(0.43119266055045874, 0.7, 'parch <= 4.0\\ngini = 0.142\\nsamples = 13\\nvalue = [12, 1]'),\n",
       " Text(0.42201834862385323, 0.6333333333333333, 'gini = 0.0\\nsamples = 11\\nvalue = [11, 0]'),\n",
       " Text(0.44036697247706424, 0.6333333333333333, 'fare <= 35.538\\ngini = 0.5\\nsamples = 2\\nvalue = [1, 1]'),\n",
       " Text(0.43119266055045874, 0.5666666666666667, 'gini = 0.0\\nsamples = 1\\nvalue = [0, 1]'),\n",
       " Text(0.44954128440366975, 0.5666666666666667, 'gini = 0.0\\nsamples = 1\\nvalue = [1, 0]'),\n",
       " Text(0.765983371559633, 0.9, 'fare <= 18.275\\ngini = 0.3\\nsamples = 370\\nvalue = [302, 68]'),\n",
       " Text(0.6604071100917431, 0.8333333333333334, 'parch <= 0.5\\ngini = 0.192\\nsamples = 241\\nvalue = [215, 26]'),\n",
       " Text(0.6052178899082569, 0.7666666666666667, 'fare <= 13.25\\ngini = 0.177\\nsamples = 234\\nvalue = [211, 23]'),\n",
       " Text(0.5960435779816514, 0.7, 'fare <= 10.335\\ngini = 0.191\\nsamples = 215\\nvalue = [192, 23]'),\n",
       " Text(0.5131880733944955, 0.6333333333333333, 'alone <= 0.5\\ngini = 0.162\\nsamples = 180\\nvalue = [164, 16]'),\n",
       " Text(0.46788990825688076, 0.5666666666666667, 'sibsp <= 1.5\\ngini = 0.346\\nsamples = 9\\nvalue = [7, 2]'),\n",
       " Text(0.45871559633027525, 0.5, 'fare <= 7.513\\ngini = 0.444\\nsamples = 6\\nvalue = [4, 2]'),\n",
       " Text(0.44954128440366975, 0.43333333333333335, 'gini = 0.0\\nsamples = 3\\nvalue = [3, 0]'),\n",
       " Text(0.46788990825688076, 0.43333333333333335, 'fare <= 7.815\\ngini = 0.444\\nsamples = 3\\nvalue = [1, 2]'),\n",
       " Text(0.45871559633027525, 0.36666666666666664, 'gini = 0.0\\nsamples = 1\\nvalue = [0, 1]'),\n",
       " Text(0.47706422018348627, 0.36666666666666664, 'fare <= 7.89\\ngini = 0.5\\nsamples = 2\\nvalue = [1, 1]'),\n",
       " Text(0.46788990825688076, 0.3, 'gini = 0.0\\nsamples = 1\\nvalue = [1, 0]'),\n",
       " Text(0.48623853211009177, 0.3, 'gini = 0.0\\nsamples = 1\\nvalue = [0, 1]'),\n",
       " Text(0.47706422018348627, 0.5, 'gini = 0.0\\nsamples = 3\\nvalue = [3, 0]'),\n",
       " Text(0.5584862385321101, 0.5666666666666667, 'embark_town_Southampton <= 0.5\\ngini = 0.15\\nsamples = 171\\nvalue = [157, 14]'),\n",
       " Text(0.4954128440366973, 0.5, 'fare <= 7.227\\ngini = 0.224\\nsamples = 39\\nvalue = [34, 5]'),\n",
       " Text(0.48623853211009177, 0.43333333333333335, 'gini = 0.0\\nsamples = 9\\nvalue = [9, 0]'),\n",
       " Text(0.5045871559633027, 0.43333333333333335, 'fare <= 7.477\\ngini = 0.278\\nsamples = 30\\nvalue = [25, 5]'),\n",
       " Text(0.4954128440366973, 0.36666666666666664, 'gini = 0.375\\nsamples = 8\\nvalue = [6, 2]'),\n",
       " Text(0.5137614678899083, 0.36666666666666664, 'fare <= 7.746\\ngini = 0.236\\nsamples = 22\\nvalue = [19, 3]'),\n",
       " Text(0.5045871559633027, 0.3, 'gini = 0.0\\nsamples = 5\\nvalue = [5, 0]'),\n",
       " Text(0.5229357798165137, 0.3, 'fare <= 8.279\\ngini = 0.291\\nsamples = 17\\nvalue = [14, 3]'),\n",
       " Text(0.5137614678899083, 0.23333333333333334, 'fare <= 7.862\\ngini = 0.32\\nsamples = 15\\nvalue = [12, 3]'),\n",
       " Text(0.5045871559633027, 0.16666666666666666, 'fare <= 7.79\\ngini = 0.298\\nsamples = 11\\nvalue = [9, 2]'),\n",
       " Text(0.4954128440366973, 0.1, 'gini = 0.32\\nsamples = 10\\nvalue = [8, 2]'),\n",
       " Text(0.5137614678899083, 0.1, 'gini = 0.0\\nsamples = 1\\nvalue = [1, 0]'),\n",
       " Text(0.5229357798165137, 0.16666666666666666, 'gini = 0.375\\nsamples = 4\\nvalue = [3, 1]'),\n",
       " Text(0.5321100917431193, 0.23333333333333334, 'gini = 0.0\\nsamples = 2\\nvalue = [2, 0]'),\n",
       " Text(0.6215596330275229, 0.5, 'fare <= 8.081\\ngini = 0.127\\nsamples = 132\\nvalue = [123, 9]'),\n",
       " Text(0.591743119266055, 0.43333333333333335, 'fare <= 7.013\\ngini = 0.102\\nsamples = 111\\nvalue = [105, 6]'),\n",
       " Text(0.5688073394495413, 0.36666666666666664, 'fare <= 6.735\\ngini = 0.26\\nsamples = 13\\nvalue = [11, 2]'),\n",
       " Text(0.5596330275229358, 0.3, 'pclass <= 2.5\\ngini = 0.165\\nsamples = 11\\nvalue = [10, 1]'),\n",
       " Text(0.5504587155963303, 0.23333333333333334, 'gini = 0.0\\nsamples = 6\\nvalue = [6, 0]'),\n",
       " Text(0.5688073394495413, 0.23333333333333334, 'fare <= 3.225\\ngini = 0.32\\nsamples = 5\\nvalue = [4, 1]'),\n",
       " Text(0.5596330275229358, 0.16666666666666666, 'gini = 0.444\\nsamples = 3\\nvalue = [2, 1]'),\n",
       " Text(0.5779816513761468, 0.16666666666666666, 'gini = 0.0\\nsamples = 2\\nvalue = [2, 0]'),\n",
       " Text(0.5779816513761468, 0.3, 'gini = 0.5\\nsamples = 2\\nvalue = [1, 1]'),\n",
       " Text(0.6146788990825688, 0.36666666666666664, 'fare <= 7.785\\ngini = 0.078\\nsamples = 98\\nvalue = [94, 4]'),\n",
       " Text(0.6055045871559633, 0.3, 'gini = 0.0\\nsamples = 30\\nvalue = [30, 0]'),\n",
       " Text(0.6238532110091743, 0.3, 'fare <= 7.871\\ngini = 0.111\\nsamples = 68\\nvalue = [64, 4]'),\n",
       " Text(0.6055045871559633, 0.23333333333333334, 'fare <= 7.798\\ngini = 0.298\\nsamples = 11\\nvalue = [9, 2]'),\n",
       " Text(0.5963302752293578, 0.16666666666666666, 'gini = 0.32\\nsamples = 5\\nvalue = [4, 1]'),\n",
       " Text(0.6146788990825688, 0.16666666666666666, 'fare <= 7.827\\ngini = 0.278\\nsamples = 6\\nvalue = [5, 1]'),\n",
       " Text(0.6055045871559633, 0.1, 'gini = 0.0\\nsamples = 1\\nvalue = [1, 0]'),\n",
       " Text(0.6238532110091743, 0.1, 'gini = 0.32\\nsamples = 5\\nvalue = [4, 1]'),\n",
       " Text(0.6422018348623854, 0.23333333333333334, 'fare <= 7.91\\ngini = 0.068\\nsamples = 57\\nvalue = [55, 2]'),\n",
       " Text(0.6330275229357798, 0.16666666666666666, 'gini = 0.0\\nsamples = 25\\nvalue = [25, 0]'),\n",
       " Text(0.6513761467889908, 0.16666666666666666, 'fare <= 7.988\\ngini = 0.117\\nsamples = 32\\nvalue = [30, 2]'),\n",
       " Text(0.6422018348623854, 0.1, 'gini = 0.32\\nsamples = 5\\nvalue = [4, 1]'),\n",
       " Text(0.6605504587155964, 0.1, 'gini = 0.071\\nsamples = 27\\nvalue = [26, 1]'),\n",
       " Text(0.6513761467889908, 0.43333333333333335, 'fare <= 8.135\\ngini = 0.245\\nsamples = 21\\nvalue = [18, 3]'),\n",
       " Text(0.6422018348623854, 0.36666666666666664, 'gini = 0.0\\nsamples = 1\\nvalue = [0, 1]'),\n",
       " Text(0.6605504587155964, 0.36666666666666664, 'fare <= 8.658\\ngini = 0.18\\nsamples = 20\\nvalue = [18, 2]'),\n",
       " Text(0.6513761467889908, 0.3, 'gini = 0.0\\nsamples = 4\\nvalue = [4, 0]'),\n",
       " Text(0.6697247706422018, 0.3, 'fare <= 8.94\\ngini = 0.219\\nsamples = 16\\nvalue = [14, 2]'),\n",
       " Text(0.6605504587155964, 0.23333333333333334, 'gini = 0.32\\nsamples = 5\\nvalue = [4, 1]'),\n",
       " Text(0.6788990825688074, 0.23333333333333334, 'fare <= 9.363\\ngini = 0.165\\nsamples = 11\\nvalue = [10, 1]'),\n",
       " Text(0.6697247706422018, 0.16666666666666666, 'gini = 0.0\\nsamples = 2\\nvalue = [2, 0]'),\n",
       " Text(0.6880733944954128, 0.16666666666666666, 'fare <= 9.673\\ngini = 0.198\\nsamples = 9\\nvalue = [8, 1]'),\n",
       " Text(0.6788990825688074, 0.1, 'gini = 0.245\\nsamples = 7\\nvalue = [6, 1]'),\n",
       " Text(0.6972477064220184, 0.1, 'gini = 0.0\\nsamples = 2\\nvalue = [2, 0]'),\n",
       " Text(0.6788990825688074, 0.6333333333333333, 'class_Second <= 0.5\\ngini = 0.32\\nsamples = 35\\nvalue = [28, 7]'),\n",
       " Text(0.6697247706422018, 0.5666666666666667, 'gini = 0.0\\nsamples = 1\\nvalue = [0, 1]'),\n",
       " Text(0.6880733944954128, 0.5666666666666667, 'fare <= 12.637\\ngini = 0.291\\nsamples = 34\\nvalue = [28, 6]'),\n",
       " Text(0.6788990825688074, 0.5, 'fare <= 11.0\\ngini = 0.231\\nsamples = 15\\nvalue = [13, 2]'),\n",
       " Text(0.6697247706422018, 0.43333333333333335, 'gini = 0.298\\nsamples = 11\\nvalue = [9, 2]'),\n",
       " Text(0.6880733944954128, 0.43333333333333335, 'gini = 0.0\\nsamples = 4\\nvalue = [4, 0]'),\n",
       " Text(0.6972477064220184, 0.5, 'gini = 0.332\\nsamples = 19\\nvalue = [15, 4]'),\n",
       " Text(0.6143922018348624, 0.7, 'gini = 0.0\\nsamples = 19\\nvalue = [19, 0]'),\n",
       " Text(0.7155963302752294, 0.7666666666666667, 'fare <= 7.873\\ngini = 0.49\\nsamples = 7\\nvalue = [4, 3]'),\n",
       " Text(0.7064220183486238, 0.7, 'gini = 0.0\\nsamples = 1\\nvalue = [1, 0]'),\n",
       " Text(0.7247706422018348, 0.7, 'sibsp <= 1.5\\ngini = 0.5\\nsamples = 6\\nvalue = [3, 3]'),\n",
       " Text(0.7155963302752294, 0.6333333333333333, 'fare <= 15.0\\ngini = 0.48\\nsamples = 5\\nvalue = [2, 3]'),\n",
       " Text(0.7064220183486238, 0.5666666666666667, 'gini = 0.0\\nsamples = 2\\nvalue = [0, 2]'),\n",
       " Text(0.7247706422018348, 0.5666666666666667, 'sibsp <= 0.5\\ngini = 0.444\\nsamples = 3\\nvalue = [2, 1]'),\n",
       " Text(0.7155963302752294, 0.5, 'gini = 0.0\\nsamples = 1\\nvalue = [1, 0]'),\n",
       " Text(0.7339449541284404, 0.5, 'embark_town_Queenstown <= 0.5\\ngini = 0.5\\nsamples = 2\\nvalue = [1, 1]'),\n",
       " Text(0.7247706422018348, 0.43333333333333335, 'gini = 0.0\\nsamples = 1\\nvalue = [0, 1]'),\n",
       " Text(0.7431192660550459, 0.43333333333333335, 'gini = 0.0\\nsamples = 1\\nvalue = [1, 0]'),\n",
       " Text(0.7339449541284404, 0.6333333333333333, 'gini = 0.0\\nsamples = 1\\nvalue = [1, 0]'),\n",
       " Text(0.8715596330275229, 0.8333333333333334, 'fare <= 19.377\\ngini = 0.439\\nsamples = 129\\nvalue = [87, 42]'),\n",
       " Text(0.8623853211009175, 0.7666666666666667, 'gini = 0.0\\nsamples = 3\\nvalue = [0, 3]'),\n",
       " Text(0.8807339449541285, 0.7666666666666667, 'pclass <= 1.5\\ngini = 0.427\\nsamples = 126\\nvalue = [87, 39]'),\n",
       " Text(0.8211009174311926, 0.7, 'sibsp <= 0.5\\ngini = 0.478\\nsamples = 71\\nvalue = [43, 28]'),\n",
       " Text(0.7981651376146789, 0.6333333333333333, 'fare <= 37.55\\ngini = 0.449\\nsamples = 53\\nvalue = [35, 18]'),\n",
       " Text(0.7798165137614679, 0.5666666666666667, 'fare <= 35.077\\ngini = 0.489\\nsamples = 33\\nvalue = [19, 14]'),\n",
       " Text(0.7706422018348624, 0.5, 'fare <= 31.66\\ngini = 0.475\\nsamples = 31\\nvalue = [19, 12]'),\n",
       " Text(0.7614678899082569, 0.43333333333333335, 'fare <= 26.144\\ngini = 0.494\\nsamples = 27\\nvalue = [15, 12]'),\n",
       " Text(0.7522935779816514, 0.36666666666666664, 'gini = 0.0\\nsamples = 2\\nvalue = [2, 0]'),\n",
       " Text(0.7706422018348624, 0.36666666666666664, 'fare <= 26.469\\ngini = 0.499\\nsamples = 25\\nvalue = [13, 12]'),\n",
       " Text(0.7614678899082569, 0.3, 'gini = 0.0\\nsamples = 3\\nvalue = [0, 3]'),\n",
       " Text(0.7798165137614679, 0.3, 'fare <= 29.85\\ngini = 0.483\\nsamples = 22\\nvalue = [13, 9]'),\n",
       " Text(0.7522935779816514, 0.23333333333333334, 'fare <= 27.135\\ngini = 0.408\\nsamples = 14\\nvalue = [10, 4]'),\n",
       " Text(0.7431192660550459, 0.16666666666666666, 'gini = 0.494\\nsamples = 9\\nvalue = [5, 4]'),\n",
       " Text(0.7614678899082569, 0.16666666666666666, 'gini = 0.0\\nsamples = 5\\nvalue = [5, 0]'),\n",
       " Text(0.8073394495412844, 0.23333333333333334, 'fare <= 30.598\\ngini = 0.469\\nsamples = 8\\nvalue = [3, 5]'),\n",
       " Text(0.7798165137614679, 0.16666666666666666, 'embark_town_Southampton <= 0.5\\ngini = 0.32\\nsamples = 5\\nvalue = [1, 4]'),\n",
       " Text(0.7706422018348624, 0.1, 'gini = 0.0\\nsamples = 2\\nvalue = [0, 2]'),\n",
       " Text(0.7889908256880734, 0.1, 'fare <= 30.25\\ngini = 0.444\\nsamples = 3\\nvalue = [1, 2]'),\n",
       " Text(0.7798165137614679, 0.03333333333333333, 'gini = 0.0\\nsamples = 1\\nvalue = [0, 1]'),\n",
       " Text(0.7981651376146789, 0.03333333333333333, 'gini = 0.5\\nsamples = 2\\nvalue = [1, 1]'),\n",
       " Text(0.8348623853211009, 0.16666666666666666, 'embark_town_Southampton <= 0.5\\ngini = 0.444\\nsamples = 3\\nvalue = [2, 1]'),\n",
       " Text(0.8256880733944955, 0.1, 'fare <= 30.848\\ngini = 0.5\\nsamples = 2\\nvalue = [1, 1]'),\n",
       " Text(0.8165137614678899, 0.03333333333333333, 'gini = 0.0\\nsamples = 1\\nvalue = [1, 0]'),\n",
       " Text(0.8348623853211009, 0.03333333333333333, 'gini = 0.0\\nsamples = 1\\nvalue = [0, 1]'),\n",
       " Text(0.8440366972477065, 0.1, 'gini = 0.0\\nsamples = 1\\nvalue = [1, 0]'),\n",
       " Text(0.7798165137614679, 0.43333333333333335, 'gini = 0.0\\nsamples = 4\\nvalue = [4, 0]'),\n",
       " Text(0.7889908256880734, 0.5, 'gini = 0.0\\nsamples = 2\\nvalue = [0, 2]'),\n",
       " Text(0.8165137614678899, 0.5666666666666667, 'fare <= 379.925\\ngini = 0.32\\nsamples = 20\\nvalue = [16, 4]'),\n",
       " Text(0.8073394495412844, 0.5, 'fare <= 62.369\\ngini = 0.266\\nsamples = 19\\nvalue = [16, 3]'),\n",
       " Text(0.7981651376146789, 0.43333333333333335, 'gini = 0.0\\nsamples = 7\\nvalue = [7, 0]'),\n",
       " Text(0.8165137614678899, 0.43333333333333335, 'fare <= 77.008\\ngini = 0.375\\nsamples = 12\\nvalue = [9, 3]'),\n",
       " Text(0.8073394495412844, 0.36666666666666664, 'gini = 0.0\\nsamples = 2\\nvalue = [0, 2]'),\n",
       " Text(0.8256880733944955, 0.36666666666666664, 'parch <= 1.5\\ngini = 0.18\\nsamples = 10\\nvalue = [9, 1]'),\n",
       " Text(0.8165137614678899, 0.3, 'gini = 0.0\\nsamples = 7\\nvalue = [7, 0]'),\n",
       " Text(0.8348623853211009, 0.3, 'fare <= 112.079\\ngini = 0.444\\nsamples = 3\\nvalue = [2, 1]'),\n",
       " Text(0.8256880733944955, 0.23333333333333334, 'gini = 0.0\\nsamples = 1\\nvalue = [0, 1]'),\n",
       " Text(0.8440366972477065, 0.23333333333333334, 'gini = 0.0\\nsamples = 2\\nvalue = [2, 0]'),\n",
       " Text(0.8256880733944955, 0.5, 'gini = 0.0\\nsamples = 1\\nvalue = [0, 1]'),\n",
       " Text(0.8440366972477065, 0.6333333333333333, 'fare <= 59.087\\ngini = 0.494\\nsamples = 18\\nvalue = [8, 10]'),\n",
       " Text(0.8348623853211009, 0.5666666666666667, 'gini = 0.0\\nsamples = 6\\nvalue = [0, 6]'),\n",
       " Text(0.8532110091743119, 0.5666666666666667, 'fare <= 86.29\\ngini = 0.444\\nsamples = 12\\nvalue = [8, 4]'),\n",
       " Text(0.8440366972477065, 0.5, 'gini = 0.0\\nsamples = 4\\nvalue = [4, 0]'),\n",
       " Text(0.8623853211009175, 0.5, 'sibsp <= 1.5\\ngini = 0.5\\nsamples = 8\\nvalue = [4, 4]'),\n",
       " Text(0.8532110091743119, 0.43333333333333335, 'fare <= 99.99\\ngini = 0.444\\nsamples = 6\\nvalue = [2, 4]'),\n",
       " Text(0.8440366972477065, 0.36666666666666664, 'gini = 0.0\\nsamples = 3\\nvalue = [0, 3]'),\n",
       " Text(0.8623853211009175, 0.36666666666666664, 'fare <= 131.217\\ngini = 0.444\\nsamples = 3\\nvalue = [2, 1]'),\n",
       " Text(0.8532110091743119, 0.3, 'gini = 0.0\\nsamples = 2\\nvalue = [2, 0]'),\n",
       " Text(0.8715596330275229, 0.3, 'gini = 0.0\\nsamples = 1\\nvalue = [0, 1]'),\n",
       " Text(0.8715596330275229, 0.43333333333333335, 'gini = 0.0\\nsamples = 2\\nvalue = [2, 0]'),\n",
       " Text(0.9403669724770642, 0.7, 'sibsp <= 0.5\\ngini = 0.32\\nsamples = 55\\nvalue = [44, 11]'),\n",
       " Text(0.908256880733945, 0.6333333333333333, 'pclass <= 2.5\\ngini = 0.48\\nsamples = 15\\nvalue = [9, 6]'),\n",
       " Text(0.8899082568807339, 0.5666666666666667, 'embark_town_Southampton <= 0.5\\ngini = 0.198\\nsamples = 9\\nvalue = [8, 1]'),\n",
       " Text(0.8807339449541285, 0.5, 'gini = 0.0\\nsamples = 1\\nvalue = [0, 1]'),\n",
       " Text(0.8990825688073395, 0.5, 'gini = 0.0\\nsamples = 8\\nvalue = [8, 0]'),\n",
       " Text(0.926605504587156, 0.5666666666666667, 'embark_town_Southampton <= 0.5\\ngini = 0.278\\nsamples = 6\\nvalue = [1, 5]'),\n",
       " Text(0.9174311926605505, 0.5, 'gini = 0.0\\nsamples = 1\\nvalue = [1, 0]'),\n",
       " Text(0.9357798165137615, 0.5, 'gini = 0.0\\nsamples = 5\\nvalue = [0, 5]'),\n",
       " Text(0.9724770642201835, 0.6333333333333333, 'fare <= 39.344\\ngini = 0.219\\nsamples = 40\\nvalue = [35, 5]'),\n",
       " Text(0.963302752293578, 0.5666666666666667, 'fare <= 37.875\\ngini = 0.293\\nsamples = 28\\nvalue = [23, 5]'),\n",
       " Text(0.9541284403669725, 0.5, 'fare <= 22.465\\ngini = 0.252\\nsamples = 27\\nvalue = [23, 4]'),\n",
       " Text(0.944954128440367, 0.43333333333333335, 'gini = 0.0\\nsamples = 6\\nvalue = [6, 0]'),\n",
       " Text(0.963302752293578, 0.43333333333333335, 'fare <= 23.35\\ngini = 0.308\\nsamples = 21\\nvalue = [17, 4]'),\n",
       " Text(0.9541284403669725, 0.36666666666666664, 'gini = 0.0\\nsamples = 1\\nvalue = [0, 1]'),\n",
       " Text(0.9724770642201835, 0.36666666666666664, 'embark_town_Southampton <= 0.5\\ngini = 0.255\\nsamples = 20\\nvalue = [17, 3]'),\n",
       " Text(0.963302752293578, 0.3, 'gini = 0.0\\nsamples = 5\\nvalue = [5, 0]'),\n",
       " Text(0.981651376146789, 0.3, 'sibsp <= 3.5\\ngini = 0.32\\nsamples = 15\\nvalue = [12, 3]'),\n",
       " Text(0.9724770642201835, 0.23333333333333334, 'fare <= 26.125\\ngini = 0.245\\nsamples = 14\\nvalue = [12, 2]'),\n",
       " Text(0.963302752293578, 0.16666666666666666, 'class_Second <= 0.5\\ngini = 0.408\\nsamples = 7\\nvalue = [5, 2]'),\n",
       " Text(0.9541284403669725, 0.1, 'gini = 0.0\\nsamples = 2\\nvalue = [2, 0]'),\n",
       " Text(0.9724770642201835, 0.1, 'parch <= 0.5\\ngini = 0.48\\nsamples = 5\\nvalue = [3, 2]'),\n",
       " Text(0.963302752293578, 0.03333333333333333, 'gini = 0.375\\nsamples = 4\\nvalue = [3, 1]'),\n",
       " Text(0.981651376146789, 0.03333333333333333, 'gini = 0.0\\nsamples = 1\\nvalue = [0, 1]'),\n",
       " Text(0.981651376146789, 0.16666666666666666, 'gini = 0.0\\nsamples = 7\\nvalue = [7, 0]'),\n",
       " Text(0.9908256880733946, 0.23333333333333334, 'gini = 0.0\\nsamples = 1\\nvalue = [0, 1]'),\n",
       " Text(0.9724770642201835, 0.5, 'gini = 0.0\\nsamples = 1\\nvalue = [0, 1]'),\n",
       " Text(0.981651376146789, 0.5666666666666667, 'gini = 0.0\\nsamples = 12\\nvalue = [12, 0]')]"
      ]
     },
     "execution_count": 46,
     "metadata": {},
     "output_type": "execute_result"
    },
    {
     "data": {
      "image/png": "[encoded data removed]",
      "text/plain": [
       "<Figure size 432x288 with 1 Axes>"
      ]
     },
     "metadata": {
      "needs_background": "light"
     },
     "output_type": "display_data"
    }
   ],
   "source": [
    "plot_tree(tree2, feature_names=x_train.columns)"
   ]
  },
  {
   "cell_type": "code",
   "execution_count": 47,
   "id": "40ceb00d",
   "metadata": {
    "scrolled": true
   },
   "outputs": [
    {
     "data": {
      "image/png": "[encoded data removed]",
      "text/plain": [
       "<Figure size 1584x648 with 1 Axes>"
      ]
     },
     "metadata": {
      "needs_background": "light"
     },
     "output_type": "display_data"
    }
   ],
   "source": [
    "plt.figure(figsize = (22,9))\n",
    "plot_tree(tree2, feature_names=x_train.columns)\n",
    "plt.show()"
   ]
  },
  {
   "cell_type": "code",
   "execution_count": 48,
   "id": "02ee12ed",
   "metadata": {
    "scrolled": true
   },
   "outputs": [
    {
     "data": {
      "image/png": "[encoded data removed]",
      "text/plain": [
       "<Figure size 1296x432 with 1 Axes>"
      ]
     },
     "metadata": {
      "needs_background": "light"
     },
     "output_type": "display_data"
    }
   ],
   "source": [
    "plt.figure(figsize = (18,6))\n",
    "plot_tree(tree2, feature_names=x_train.columns, class_names=['died','survived'])\n",
    "plt.show()"
   ]
  },
  {
   "cell_type": "code",
   "execution_count": 49,
   "id": "639b3fe2",
   "metadata": {
    "scrolled": true
   },
   "outputs": [
    {
     "data": {
      "text/plain": [
       "array([1, 0, 0, 1, 0, 1, 0, 0, 1, 1, 0, 0, 1, 0, 1, 1, 0, 0, 0, 1, 0, 0,\n",
       "       0, 1, 0, 1, 1, 1, 0, 0, 0, 1, 0, 0, 0, 0, 0, 0, 1, 1, 0, 0, 0, 1,\n",
       "       1, 1, 1, 0, 1, 0, 1, 0, 1, 0, 0, 1, 0, 0, 0, 0, 0, 0, 1, 0, 1, 0,\n",
       "       0, 1, 0, 1, 1, 0, 1, 0, 0, 0, 0, 0, 1, 1, 1, 0, 0, 0, 0, 0, 0, 0,\n",
       "       0, 0, 1, 0, 0, 0, 0, 0, 1, 0, 0, 0, 0, 0, 1, 1, 0, 1, 1, 0, 0, 1,\n",
       "       0, 1, 1, 1, 0, 0, 0, 0, 1, 0, 0, 1, 1, 0, 0, 0, 0, 0, 1, 0, 0, 0,\n",
       "       0, 0, 1, 1, 1, 0, 0, 1, 1, 1, 0, 1, 1, 1, 0, 1, 1, 0, 0, 0, 1, 0,\n",
       "       0, 1, 0, 1, 1, 1, 1, 0, 0, 1, 0, 1, 0, 1, 0, 0, 1, 0, 0, 1, 0, 0,\n",
       "       1, 0, 1, 0, 0, 0, 1, 0, 0, 0, 0, 0, 1, 0, 0, 0, 1, 0, 0, 0, 1, 0,\n",
       "       1, 1, 0, 0, 0, 0, 1, 0, 0, 0, 0, 0, 0, 0, 0, 0, 0, 0, 1, 1, 0, 0,\n",
       "       0, 1, 0, 0, 1, 0, 0, 1, 1, 0, 1, 1, 1, 0, 0, 0, 0, 1, 1, 0, 0, 0,\n",
       "       0, 0, 0, 1, 0, 1, 0, 0, 0, 1, 0, 0, 0, 0, 1, 0, 0, 0, 0, 0, 0, 0,\n",
       "       0, 1, 0, 1, 1, 0, 0, 1, 1, 0, 0, 1, 1, 1, 0, 0, 0, 1, 1, 1, 0, 0,\n",
       "       0, 0, 0, 1, 0, 0, 0, 1, 0, 0, 1, 0, 0, 1, 0, 1, 0, 0, 1, 0, 0, 1,\n",
       "       0, 0, 1, 1, 1, 0, 0, 1, 1, 0, 0, 1, 1, 0, 1, 0, 1, 0, 1, 0, 1, 0,\n",
       "       0, 0, 1, 0, 0, 0, 0, 0, 1, 0, 0, 0, 0, 0, 0, 0, 0, 0, 0, 0, 1, 1,\n",
       "       0, 0, 0, 0, 1, 0, 0, 0, 0, 0, 1, 0, 0, 0, 1, 1, 0, 0, 0, 0, 0, 1,\n",
       "       0, 0, 1, 0, 0, 0, 0, 0, 0, 0, 0, 0, 0, 1, 0, 0, 0, 0, 1, 1, 1, 0,\n",
       "       0, 0, 0, 0, 0, 0, 1, 0, 1, 0, 1, 1, 0, 1, 0, 1, 1, 0, 0, 0, 1, 0,\n",
       "       1, 0, 0, 0, 1, 1, 1, 1, 0, 1, 0, 1, 1, 0, 0, 0, 0, 0, 0, 1, 1, 0,\n",
       "       1, 1, 1, 0, 0, 1, 1, 1, 0, 1, 0, 1, 0, 0, 0, 0, 0, 0, 0, 0, 0, 0,\n",
       "       0, 0, 0, 1, 0, 0, 0, 1, 1, 0, 0, 1, 0, 0, 0, 1, 1, 1, 1, 0, 0, 0,\n",
       "       0, 0, 1, 1, 0, 1, 1, 0, 0, 0, 0, 0, 0, 0, 0, 0, 0, 0, 0, 0, 0, 1,\n",
       "       0, 0, 0, 0, 0, 0, 1, 1, 0, 0, 0, 0, 0, 0, 0, 1, 0, 1, 0, 0, 0, 0,\n",
       "       0, 0, 0, 1, 1, 1, 0, 0, 1, 0, 0, 0, 0, 0, 0, 0, 0, 0, 1, 0, 0, 0,\n",
       "       0, 0, 1, 0, 0, 1, 0, 0, 1, 0, 1, 0, 0, 1, 0, 1, 0, 0, 1])"
      ]
     },
     "execution_count": 49,
     "metadata": {},
     "output_type": "execute_result"
    }
   ],
   "source": [
    "tree2.predict(x_train)"
   ]
  },
  {
   "cell_type": "code",
   "execution_count": 50,
   "id": "c1c317e6",
   "metadata": {},
   "outputs": [],
   "source": [
    "predictions = tree2.predict(x_train)\n",
    "actual = y_train"
   ]
  },
  {
   "cell_type": "code",
   "execution_count": null,
   "id": "de0fe978",
   "metadata": {},
   "outputs": [],
   "source": []
  },
  {
   "cell_type": "markdown",
   "id": "465fabf7",
   "metadata": {},
   "source": [
    "### 5/3 \n",
    "Evaluate your in-sample results using the model score, confusion matrix, and classification report."
   ]
  },
  {
   "cell_type": "code",
   "execution_count": 51,
   "id": "d99c21a1",
   "metadata": {
    "scrolled": false
   },
   "outputs": [
    {
     "name": "stdout",
     "output_type": "stream",
     "text": [
      "              precision    recall  f1-score   support\n",
      "\n",
      "           0       0.92      0.99      0.95       351\n",
      "           1       0.98      0.86      0.92       218\n",
      "\n",
      "    accuracy                           0.94       569\n",
      "   macro avg       0.95      0.93      0.94       569\n",
      "weighted avg       0.95      0.94      0.94       569\n",
      "\n"
     ]
    }
   ],
   "source": [
    "print(classification_report(actual, predictions))"
   ]
  },
  {
   "cell_type": "code",
   "execution_count": 52,
   "id": "3db7b32d",
   "metadata": {},
   "outputs": [],
   "source": [
    "#class did the above cell, but also the single next cell"
   ]
  },
  {
   "cell_type": "code",
   "execution_count": 53,
   "id": "ef3b1cf5",
   "metadata": {},
   "outputs": [
    {
     "name": "stdout",
     "output_type": "stream",
     "text": [
      "Tree of 2 depth\n"
     ]
    },
    {
     "data": {
      "text/html": [
       "<div>\n",
       "<style scoped>\n",
       "    .dataframe tbody tr th:only-of-type {\n",
       "        vertical-align: middle;\n",
       "    }\n",
       "\n",
       "    .dataframe tbody tr th {\n",
       "        vertical-align: top;\n",
       "    }\n",
       "\n",
       "    .dataframe thead th {\n",
       "        text-align: right;\n",
       "    }\n",
       "</style>\n",
       "<table border=\"1\" class=\"dataframe\">\n",
       "  <thead>\n",
       "    <tr style=\"text-align: right;\">\n",
       "      <th></th>\n",
       "      <th>0</th>\n",
       "      <th>1</th>\n",
       "      <th>accuracy</th>\n",
       "      <th>macro avg</th>\n",
       "      <th>weighted avg</th>\n",
       "    </tr>\n",
       "  </thead>\n",
       "  <tbody>\n",
       "    <tr>\n",
       "      <th>precision</th>\n",
       "      <td>0.92</td>\n",
       "      <td>0.98</td>\n",
       "      <td>0.94</td>\n",
       "      <td>0.95</td>\n",
       "      <td>0.95</td>\n",
       "    </tr>\n",
       "    <tr>\n",
       "      <th>recall</th>\n",
       "      <td>0.99</td>\n",
       "      <td>0.86</td>\n",
       "      <td>0.94</td>\n",
       "      <td>0.93</td>\n",
       "      <td>0.94</td>\n",
       "    </tr>\n",
       "    <tr>\n",
       "      <th>f1-score</th>\n",
       "      <td>0.95</td>\n",
       "      <td>0.92</td>\n",
       "      <td>0.94</td>\n",
       "      <td>0.94</td>\n",
       "      <td>0.94</td>\n",
       "    </tr>\n",
       "    <tr>\n",
       "      <th>support</th>\n",
       "      <td>351.00</td>\n",
       "      <td>218.00</td>\n",
       "      <td>0.94</td>\n",
       "      <td>569.00</td>\n",
       "      <td>569.00</td>\n",
       "    </tr>\n",
       "  </tbody>\n",
       "</table>\n",
       "</div>"
      ],
      "text/plain": [
       "                0       1  accuracy  macro avg  weighted avg\n",
       "precision    0.92    0.98      0.94       0.95          0.95\n",
       "recall       0.99    0.86      0.94       0.93          0.94\n",
       "f1-score     0.95    0.92      0.94       0.94          0.94\n",
       "support    351.00  218.00      0.94     569.00        569.00"
      ]
     },
     "execution_count": 53,
     "metadata": {},
     "output_type": "execute_result"
    }
   ],
   "source": [
    "# Produce the classification report on the actual y values and this model's predicted y values\n",
    "report = classification_report(actual, predictions, output_dict=True)\n",
    "print(\"Tree of 2 depth\")\n",
    "pd.DataFrame(report).round(2)"
   ]
  },
  {
   "cell_type": "code",
   "execution_count": 54,
   "id": "d4b3cf57",
   "metadata": {},
   "outputs": [],
   "source": [
    "#return to my work"
   ]
  },
  {
   "cell_type": "code",
   "execution_count": 55,
   "id": "fe854fd6",
   "metadata": {},
   "outputs": [
    {
     "data": {
      "text/html": [
       "<div>\n",
       "<style scoped>\n",
       "    .dataframe tbody tr th:only-of-type {\n",
       "        vertical-align: middle;\n",
       "    }\n",
       "\n",
       "    .dataframe tbody tr th {\n",
       "        vertical-align: top;\n",
       "    }\n",
       "\n",
       "    .dataframe thead th {\n",
       "        text-align: right;\n",
       "    }\n",
       "</style>\n",
       "<table border=\"1\" class=\"dataframe\">\n",
       "  <thead>\n",
       "    <tr style=\"text-align: right;\">\n",
       "      <th>col_0</th>\n",
       "      <th>0</th>\n",
       "      <th>1</th>\n",
       "    </tr>\n",
       "    <tr>\n",
       "      <th>survived</th>\n",
       "      <th></th>\n",
       "      <th></th>\n",
       "    </tr>\n",
       "  </thead>\n",
       "  <tbody>\n",
       "    <tr>\n",
       "      <th>0</th>\n",
       "      <td>348</td>\n",
       "      <td>3</td>\n",
       "    </tr>\n",
       "    <tr>\n",
       "      <th>1</th>\n",
       "      <td>30</td>\n",
       "      <td>188</td>\n",
       "    </tr>\n",
       "  </tbody>\n",
       "</table>\n",
       "</div>"
      ],
      "text/plain": [
       "col_0       0    1\n",
       "survived          \n",
       "0         348    3\n",
       "1          30  188"
      ]
     },
     "execution_count": 55,
     "metadata": {},
     "output_type": "execute_result"
    }
   ],
   "source": [
    "pd.crosstab(actual, predictions)"
   ]
  },
  {
   "cell_type": "code",
   "execution_count": 56,
   "id": "860fb40d",
   "metadata": {},
   "outputs": [
    {
     "data": {
      "text/plain": [
       "array([[348,   3],\n",
       "       [ 30, 188]])"
      ]
     },
     "execution_count": 56,
     "metadata": {},
     "output_type": "execute_result"
    }
   ],
   "source": [
    "confusion_matrix(actual, predictions)"
   ]
  },
  {
   "cell_type": "code",
   "execution_count": 57,
   "id": "4a0db7d6",
   "metadata": {
    "scrolled": true
   },
   "outputs": [
    {
     "data": {
      "text/plain": [
       "<sklearn.metrics._plot.confusion_matrix.ConfusionMatrixDisplay at 0x1407cacd0>"
      ]
     },
     "execution_count": 57,
     "metadata": {},
     "output_type": "execute_result"
    },
    {
     "data": {
      "image/png": "[encoded data removed]",
      "text/plain": [
       "<Figure size 432x288 with 2 Axes>"
      ]
     },
     "metadata": {
      "needs_background": "light"
     },
     "output_type": "display_data"
    }
   ],
   "source": [
    "plot_confusion_matrix(tree2, x_train, y_train)"
   ]
  },
  {
   "cell_type": "code",
   "execution_count": 58,
   "id": "9ad21a9f",
   "metadata": {},
   "outputs": [
    {
     "name": "stdout",
     "output_type": "stream",
     "text": [
      "Accuracy of Decision Tree classifier on validate set: 0.78\n"
     ]
    }
   ],
   "source": [
    "print('Accuracy of Decision Tree classifier on validate set: {:.2f}'\n",
    "     .format(tree2.score(x_validate, y_validate)))\n"
   ]
  },
  {
   "cell_type": "markdown",
   "id": "2a58fc55",
   "metadata": {},
   "source": [
    "### It's better than the baseline and about the same as tree1\n",
    "\n",
    "Baseline ~62\n",
    "tree1 ~78\n",
    "tree2 ~78"
   ]
  },
  {
   "cell_type": "markdown",
   "id": "efed1bc6",
   "metadata": {},
   "source": [
    "### 5/4\n",
    "\n",
    "Compute: Accuracy, true positive rate, false positive rate, true negative rate, false negative rate, precision, recall, f1-score, and support.\n",
    "    "
   ]
  },
  {
   "cell_type": "code",
   "execution_count": 59,
   "id": "2105b8bf",
   "metadata": {},
   "outputs": [],
   "source": [
    "TN, FP, FN, TP = confusion_matrix(actual, predictions).ravel()"
   ]
  },
  {
   "cell_type": "code",
   "execution_count": 60,
   "id": "9359deec",
   "metadata": {
    "scrolled": false
   },
   "outputs": [
    {
     "data": {
      "text/plain": [
       "(348, 3, 30, 188)"
      ]
     },
     "execution_count": 60,
     "metadata": {},
     "output_type": "execute_result"
    }
   ],
   "source": [
    "TN, FP, FN, TP"
   ]
  },
  {
   "cell_type": "code",
   "execution_count": 61,
   "id": "97d551dc",
   "metadata": {},
   "outputs": [],
   "source": [
    "Total = TP + FP + FN + TN"
   ]
  },
  {
   "cell_type": "code",
   "execution_count": 62,
   "id": "e2caea01",
   "metadata": {
    "scrolled": true
   },
   "outputs": [
    {
     "data": {
      "text/plain": [
       "0.9420035149384886"
      ]
     },
     "execution_count": 62,
     "metadata": {},
     "output_type": "execute_result"
    }
   ],
   "source": [
    "accuracy = (TP + TN)/Total\n",
    "accuracy"
   ]
  },
  {
   "cell_type": "code",
   "execution_count": 63,
   "id": "c8fd20f6",
   "metadata": {},
   "outputs": [],
   "source": [
    "accuracy = (TP + TN)/Total\n",
    "true_positive_rate = TP/(TP+FN)\n",
    "false_positive_rate = FP/(FP+TN)\n",
    "true_negative_rate = TN/(TN+FP)\n",
    "false_negative_rate = FN/(FN+TP)\n",
    "precision = TP/(TP+FP)\n",
    "f1_score = TP/(TP + (.5*(FP+FN)))\n",
    "support_pos = TP + FN\n",
    "support_neg = FP + TN"
   ]
  },
  {
   "cell_type": "code",
   "execution_count": 64,
   "id": "f155e2d2",
   "metadata": {
    "scrolled": true
   },
   "outputs": [
    {
     "data": {
      "text/plain": [
       "(0.9420035149384886,\n",
       " 0.8623853211009175,\n",
       " 0.008547008547008548,\n",
       " 0.9914529914529915,\n",
       " 0.13761467889908258,\n",
       " 0.9842931937172775,\n",
       " 0.9193154034229829,\n",
       " 218,\n",
       " 351)"
      ]
     },
     "execution_count": 64,
     "metadata": {},
     "output_type": "execute_result"
    }
   ],
   "source": [
    "accuracy, true_positive_rate, false_positive_rate, true_negative_rate, false_negative_rate, precision, f1_score, support_pos, support_neg "
   ]
  },
  {
   "cell_type": "code",
   "execution_count": 65,
   "id": "cf82f3a4",
   "metadata": {},
   "outputs": [],
   "source": [
    "#From class review"
   ]
  },
  {
   "cell_type": "code",
   "execution_count": 66,
   "id": "eea58259",
   "metadata": {},
   "outputs": [
    {
     "name": "stdout",
     "output_type": "stream",
     "text": [
      "Negative Cases: 351\n",
      "Positive Cases: 218\n",
      "0    351\n",
      "1    218\n",
      "Name: survived, dtype: int64\n"
     ]
    }
   ],
   "source": [
    "negative_cases = TN + FP\n",
    "positive_cases = FN + TP\n",
    "print(f\"Negative Cases: {negative_cases}\")\n",
    "print(f\"Positive Cases: {positive_cases}\")\n",
    "print(y_train.value_counts())"
   ]
  },
  {
   "cell_type": "code",
   "execution_count": 67,
   "id": "2393dc53",
   "metadata": {
    "scrolled": true
   },
   "outputs": [
    {
     "name": "stdout",
     "output_type": "stream",
     "text": [
      "Accuracy: 0.9420035149384886 \n",
      "\n",
      "True Positive Rate/Sensitivity/Recall/Power: 0.8623853211009175 \n",
      "\n",
      "False Positive Rate/False Alarm Ratio/Fall-out: 0.008547008547008548 \n",
      "\n",
      "True Negative Rate/Specificity/Selectivity: 0.9914529914529915 \n",
      "\n",
      "False Negative Rate/Miss Rate: 0.13761467889908258 \n",
      "\n",
      "Precision/PPV: 0.9842931937172775 \n",
      "\n",
      "F1 Score: 0.9193154034229829 \n",
      "\n",
      "Support (0): 351 \n",
      "\n",
      "Support (1): 218\n"
     ]
    }
   ],
   "source": [
    "ALL = TP + FP + FN + TN\n",
    "\n",
    "accuracy = (TP + TN)/ALL\n",
    "true_positive_rate = sensitivity = recall = power = TP/(TP+FN)\n",
    "false_positive_rate = false_alarm_ratio = fallout = FP/(FP+TN)\n",
    "true_negative_rate = specificity = selectivity = TN/(TN+FP)\n",
    "false_negative_rate = miss_rate = FN/(FN+TP)\n",
    "precision = PPV = TP/(TP+FP)\n",
    "f1_score = 2*(precision*recall)/(precision+recall)\n",
    "support_pos = TP + FN\n",
    "support_neg = FP + TN\n",
    "\n",
    "print(f\"Accuracy: {accuracy}\", '\\n')\n",
    "print(f\"True Positive Rate/Sensitivity/Recall/Power: {true_positive_rate}\", '\\n')\n",
    "print(f\"False Positive Rate/False Alarm Ratio/Fall-out: {false_positive_rate}\", '\\n')\n",
    "print(f\"True Negative Rate/Specificity/Selectivity: {true_negative_rate}\", '\\n')\n",
    "print(f\"False Negative Rate/Miss Rate: {false_negative_rate}\", '\\n')\n",
    "print(f\"Precision/PPV: {precision}\", '\\n')\n",
    "print(f\"F1 Score: {f1_score}\", '\\n')\n",
    "print(f\"Support (0): {support_neg}\", '\\n')\n",
    "print(f\"Support (1): {support_pos}\")"
   ]
  },
  {
   "cell_type": "code",
   "execution_count": null,
   "id": "3a04f3e5",
   "metadata": {},
   "outputs": [],
   "source": []
  },
  {
   "cell_type": "code",
   "execution_count": null,
   "id": "743e2a9c",
   "metadata": {},
   "outputs": [],
   "source": [
    "#from class"
   ]
  },
  {
   "cell_type": "code",
   "execution_count": 70,
   "id": "db9566ef",
   "metadata": {},
   "outputs": [
    {
     "name": "stdout",
     "output_type": "stream",
     "text": [
      "Tree with max depth of 1\n",
      "                    0           1  accuracy   macro avg  weighted avg\n",
      "precision    0.816216    0.753769  0.794376    0.784993      0.792291\n",
      "recall       0.860399    0.688073  0.794376    0.774236      0.794376\n",
      "f1-score     0.837725    0.719424  0.794376    0.778575      0.792401\n",
      "support    351.000000  218.000000  0.794376  569.000000    569.000000\n",
      "\n",
      "Tree with max depth of 2\n",
      "                    0           1  accuracy   macro avg  weighted avg\n",
      "precision    0.816216    0.753769  0.794376    0.784993      0.792291\n",
      "recall       0.860399    0.688073  0.794376    0.774236      0.794376\n",
      "f1-score     0.837725    0.719424  0.794376    0.778575      0.792401\n",
      "support    351.000000  218.000000  0.794376  569.000000    569.000000\n",
      "\n",
      "Tree with max depth of 3\n",
      "                    0           1  accuracy   macro avg  weighted avg\n",
      "precision    0.796690    0.904110  0.824253    0.850400      0.837846\n",
      "recall       0.960114    0.605505  0.824253    0.782809      0.824253\n",
      "f1-score     0.870801    0.725275  0.824253    0.798038      0.815046\n",
      "support    351.000000  218.000000  0.824253  569.000000    569.000000\n",
      "\n",
      "Tree with max depth of 4\n",
      "                    0           1  accuracy   macro avg  weighted avg\n",
      "precision    0.797170    0.910345  0.826011    0.853757      0.840530\n",
      "recall       0.962963    0.605505  0.826011    0.784234      0.826011\n",
      "f1-score     0.872258    0.727273  0.826011    0.799765      0.816710\n",
      "support    351.000000  218.000000  0.826011  569.000000    569.000000\n",
      "\n",
      "Tree with max depth of 5\n",
      "                    0           1  accuracy   macro avg  weighted avg\n",
      "precision    0.831658    0.883041    0.8471    0.857350      0.851344\n",
      "recall       0.943020    0.692661    0.8471    0.817840      0.847100\n",
      "f1-score     0.883845    0.776350    0.8471    0.830097      0.842661\n",
      "support    351.000000  218.000000    0.8471  569.000000    569.000000\n",
      "\n",
      "Tree with max depth of 6\n",
      "                    0           1  accuracy   macro avg  weighted avg\n",
      "precision    0.844828    0.950920   0.87522    0.897874      0.885475\n",
      "recall       0.977208    0.711009   0.87522    0.844109      0.875220\n",
      "f1-score     0.906209    0.813648   0.87522    0.859929      0.870746\n",
      "support    351.000000  218.000000   0.87522  569.000000    569.000000\n",
      "\n",
      "Tree with max depth of 7\n",
      "                    0           1  accuracy   macro avg  weighted avg\n",
      "precision    0.861461    0.947674  0.887522    0.904568      0.894492\n",
      "recall       0.974359    0.747706  0.887522    0.861033      0.887522\n",
      "f1-score     0.914439    0.835897  0.887522    0.875168      0.884347\n",
      "support    351.000000  218.000000  0.887522  569.000000    569.000000\n",
      "\n",
      "Tree with max depth of 8\n",
      "                    0           1  accuracy   macro avg  weighted avg\n",
      "precision    0.879487    0.955307  0.903339    0.917397      0.908536\n",
      "recall       0.977208    0.784404  0.903339    0.880806      0.903339\n",
      "f1-score     0.925776    0.861461  0.903339    0.893618      0.901135\n",
      "support    351.000000  218.000000  0.903339  569.000000    569.000000\n",
      "\n",
      "Tree with max depth of 9\n",
      "                    0           1  accuracy   macro avg  weighted avg\n",
      "precision    0.885496    0.982955  0.915641    0.934225      0.922835\n",
      "recall       0.991453    0.793578  0.915641    0.892515      0.915641\n",
      "f1-score     0.935484    0.878173  0.915641    0.906828      0.913526\n",
      "support    351.000000  218.000000  0.915641  569.000000    569.000000\n",
      "\n",
      "Tree with max depth of 10\n",
      "                    0           1  accuracy   macro avg  weighted avg\n",
      "precision    0.896907    0.983425  0.924429    0.940166      0.930055\n",
      "recall       0.991453    0.816514  0.924429    0.903983      0.924429\n",
      "f1-score     0.941813    0.892231  0.924429    0.917022      0.922817\n",
      "support    351.000000  218.000000  0.924429  569.000000    569.000000\n",
      "\n",
      "Tree with max depth of 11\n",
      "                    0           1  accuracy   macro avg  weighted avg\n",
      "precision    0.919786    0.964103  0.934974    0.941944      0.936765\n",
      "recall       0.980057    0.862385  0.934974    0.921221      0.934974\n",
      "f1-score     0.948966    0.910412  0.934974    0.929689      0.934194\n",
      "support    351.000000  218.000000  0.934974  569.000000    569.000000\n",
      "\n",
      "Tree with max depth of 12\n",
      "                    0           1  accuracy   macro avg  weighted avg\n",
      "precision    0.915567    0.978947  0.936731    0.947257      0.939850\n",
      "recall       0.988604    0.853211  0.936731    0.920907      0.936731\n",
      "f1-score     0.950685    0.911765  0.936731    0.931225      0.935773\n",
      "support    351.000000  218.000000  0.936731  569.000000    569.000000\n",
      "\n",
      "Tree with max depth of 13\n",
      "                    0           1  accuracy   macro avg  weighted avg\n",
      "precision    0.917989    0.979058  0.938489    0.948524      0.941386\n",
      "recall       0.988604    0.857798  0.938489    0.923201      0.938489\n",
      "f1-score     0.951989    0.914425  0.938489    0.933207      0.937597\n",
      "support    351.000000  218.000000  0.938489  569.000000    569.000000\n",
      "\n",
      "Tree with max depth of 14\n",
      "                    0           1  accuracy   macro avg  weighted avg\n",
      "precision    0.920635    0.984293  0.942004    0.952464      0.945024\n",
      "recall       0.991453    0.862385  0.942004    0.926919      0.942004\n",
      "f1-score     0.954733    0.919315  0.942004    0.937024      0.941163\n",
      "support    351.000000  218.000000  0.942004  569.000000    569.000000\n",
      "\n",
      "Tree with max depth of 15\n",
      "                    0           1  accuracy   macro avg  weighted avg\n",
      "precision    0.920635    0.984293  0.942004    0.952464      0.945024\n",
      "recall       0.991453    0.862385  0.942004    0.926919      0.942004\n",
      "f1-score     0.954733    0.919315  0.942004    0.937024      0.941163\n",
      "support    351.000000  218.000000  0.942004  569.000000    569.000000\n",
      "\n",
      "Tree with max depth of 16\n",
      "                    0           1  accuracy   macro avg  weighted avg\n",
      "precision    0.920635    0.984293  0.942004    0.952464      0.945024\n",
      "recall       0.991453    0.862385  0.942004    0.926919      0.942004\n",
      "f1-score     0.954733    0.919315  0.942004    0.937024      0.941163\n",
      "support    351.000000  218.000000  0.942004  569.000000    569.000000\n",
      "\n",
      "Tree with max depth of 17\n",
      "                    0           1  accuracy   macro avg  weighted avg\n",
      "precision    0.920635    0.984293  0.942004    0.952464      0.945024\n",
      "recall       0.991453    0.862385  0.942004    0.926919      0.942004\n",
      "f1-score     0.954733    0.919315  0.942004    0.937024      0.941163\n",
      "support    351.000000  218.000000  0.942004  569.000000    569.000000\n",
      "\n",
      "Tree with max depth of 18\n",
      "                    0           1  accuracy   macro avg  weighted avg\n",
      "precision    0.920635    0.984293  0.942004    0.952464      0.945024\n",
      "recall       0.991453    0.862385  0.942004    0.926919      0.942004\n",
      "f1-score     0.954733    0.919315  0.942004    0.937024      0.941163\n",
      "support    351.000000  218.000000  0.942004  569.000000    569.000000\n",
      "\n",
      "Tree with max depth of 19\n",
      "                    0           1  accuracy   macro avg  weighted avg\n",
      "precision    0.920635    0.984293  0.942004    0.952464      0.945024\n",
      "recall       0.991453    0.862385  0.942004    0.926919      0.942004\n",
      "f1-score     0.954733    0.919315  0.942004    0.937024      0.941163\n",
      "support    351.000000  218.000000  0.942004  569.000000    569.000000\n",
      "\n",
      "Tree with max depth of 20\n",
      "                    0           1  accuracy   macro avg  weighted avg\n",
      "precision    0.920635    0.984293  0.942004    0.952464      0.945024\n",
      "recall       0.991453    0.862385  0.942004    0.926919      0.942004\n",
      "f1-score     0.954733    0.919315  0.942004    0.937024      0.941163\n",
      "support    351.000000  218.000000  0.942004  569.000000    569.000000\n",
      "\n"
     ]
    }
   ],
   "source": [
    "# Let's get loopy\n",
    "for i in range(1, 21):\n",
    "    # Make the model\n",
    "    tree = DecisionTreeClassifier(max_depth=i, random_state=123)\n",
    "\n",
    "    # Fit the model (on train and only train)\n",
    "    tree = tree.fit(x_train, y_train)\n",
    "\n",
    "    # Use the model\n",
    "    # We'll evaluate the model's performance on train, first\n",
    "    y_predictions = tree.predict(x_train)\n",
    "\n",
    "    # Produce the classification report on the actual y values and this model's predicted y values\n",
    "    report = classification_report(y_train, y_predictions, output_dict=True)\n",
    "    print(f\"Tree with max depth of {i}\")\n",
    "    print(pd.DataFrame(report))\n",
    "    print()"
   ]
  },
  {
   "cell_type": "markdown",
   "id": "4057ccf0",
   "metadata": {},
   "source": [
    "# 6 \n",
    "Which model performs better on your in-sample data?"
   ]
  },
  {
   "cell_type": "markdown",
   "id": "027b5ceb",
   "metadata": {},
   "source": [
    "seems 13 and up are good. be careful of overfitting in the higher depths"
   ]
  },
  {
   "cell_type": "code",
   "execution_count": null,
   "id": "b55945d8",
   "metadata": {},
   "outputs": [],
   "source": []
  },
  {
   "cell_type": "markdown",
   "id": "22499931",
   "metadata": {},
   "source": [
    "# 7 \n",
    "Which model performs best on your out-of-sample data, the validate set?"
   ]
  },
  {
   "cell_type": "code",
   "execution_count": null,
   "id": "fb0668c3",
   "metadata": {},
   "outputs": [],
   "source": [
    "#updated to match class review"
   ]
  },
  {
   "cell_type": "code",
   "execution_count": 72,
   "id": "6ecc3921",
   "metadata": {},
   "outputs": [
    {
     "data": {
      "text/html": [
       "<div>\n",
       "<style scoped>\n",
       "    .dataframe tbody tr th:only-of-type {\n",
       "        vertical-align: middle;\n",
       "    }\n",
       "\n",
       "    .dataframe tbody tr th {\n",
       "        vertical-align: top;\n",
       "    }\n",
       "\n",
       "    .dataframe thead th {\n",
       "        text-align: right;\n",
       "    }\n",
       "</style>\n",
       "<table border=\"1\" class=\"dataframe\">\n",
       "  <thead>\n",
       "    <tr style=\"text-align: right;\">\n",
       "      <th></th>\n",
       "      <th>max_depth</th>\n",
       "      <th>train_accuracy</th>\n",
       "      <th>validate_accuracy</th>\n",
       "      <th>difference</th>\n",
       "    </tr>\n",
       "  </thead>\n",
       "  <tbody>\n",
       "    <tr>\n",
       "      <th>0</th>\n",
       "      <td>1</td>\n",
       "      <td>0.794376</td>\n",
       "      <td>0.762238</td>\n",
       "      <td>0.032138</td>\n",
       "    </tr>\n",
       "    <tr>\n",
       "      <th>1</th>\n",
       "      <td>2</td>\n",
       "      <td>0.794376</td>\n",
       "      <td>0.762238</td>\n",
       "      <td>0.032138</td>\n",
       "    </tr>\n",
       "    <tr>\n",
       "      <th>2</th>\n",
       "      <td>3</td>\n",
       "      <td>0.824253</td>\n",
       "      <td>0.776224</td>\n",
       "      <td>0.048029</td>\n",
       "    </tr>\n",
       "    <tr>\n",
       "      <th>3</th>\n",
       "      <td>4</td>\n",
       "      <td>0.826011</td>\n",
       "      <td>0.776224</td>\n",
       "      <td>0.049787</td>\n",
       "    </tr>\n",
       "    <tr>\n",
       "      <th>4</th>\n",
       "      <td>5</td>\n",
       "      <td>0.847100</td>\n",
       "      <td>0.755245</td>\n",
       "      <td>0.091855</td>\n",
       "    </tr>\n",
       "    <tr>\n",
       "      <th>5</th>\n",
       "      <td>6</td>\n",
       "      <td>0.875220</td>\n",
       "      <td>0.783217</td>\n",
       "      <td>0.092003</td>\n",
       "    </tr>\n",
       "    <tr>\n",
       "      <th>6</th>\n",
       "      <td>7</td>\n",
       "      <td>0.887522</td>\n",
       "      <td>0.776224</td>\n",
       "      <td>0.111298</td>\n",
       "    </tr>\n",
       "    <tr>\n",
       "      <th>7</th>\n",
       "      <td>8</td>\n",
       "      <td>0.903339</td>\n",
       "      <td>0.755245</td>\n",
       "      <td>0.148094</td>\n",
       "    </tr>\n",
       "    <tr>\n",
       "      <th>8</th>\n",
       "      <td>9</td>\n",
       "      <td>0.915641</td>\n",
       "      <td>0.769231</td>\n",
       "      <td>0.146411</td>\n",
       "    </tr>\n",
       "    <tr>\n",
       "      <th>9</th>\n",
       "      <td>10</td>\n",
       "      <td>0.924429</td>\n",
       "      <td>0.769231</td>\n",
       "      <td>0.155198</td>\n",
       "    </tr>\n",
       "    <tr>\n",
       "      <th>10</th>\n",
       "      <td>11</td>\n",
       "      <td>0.934974</td>\n",
       "      <td>0.762238</td>\n",
       "      <td>0.172736</td>\n",
       "    </tr>\n",
       "    <tr>\n",
       "      <th>11</th>\n",
       "      <td>12</td>\n",
       "      <td>0.936731</td>\n",
       "      <td>0.755245</td>\n",
       "      <td>0.181486</td>\n",
       "    </tr>\n",
       "    <tr>\n",
       "      <th>12</th>\n",
       "      <td>13</td>\n",
       "      <td>0.938489</td>\n",
       "      <td>0.776224</td>\n",
       "      <td>0.162265</td>\n",
       "    </tr>\n",
       "    <tr>\n",
       "      <th>13</th>\n",
       "      <td>14</td>\n",
       "      <td>0.942004</td>\n",
       "      <td>0.748252</td>\n",
       "      <td>0.193752</td>\n",
       "    </tr>\n",
       "    <tr>\n",
       "      <th>14</th>\n",
       "      <td>15</td>\n",
       "      <td>0.942004</td>\n",
       "      <td>0.776224</td>\n",
       "      <td>0.165780</td>\n",
       "    </tr>\n",
       "    <tr>\n",
       "      <th>15</th>\n",
       "      <td>16</td>\n",
       "      <td>0.942004</td>\n",
       "      <td>0.776224</td>\n",
       "      <td>0.165780</td>\n",
       "    </tr>\n",
       "    <tr>\n",
       "      <th>16</th>\n",
       "      <td>17</td>\n",
       "      <td>0.942004</td>\n",
       "      <td>0.776224</td>\n",
       "      <td>0.165780</td>\n",
       "    </tr>\n",
       "    <tr>\n",
       "      <th>17</th>\n",
       "      <td>18</td>\n",
       "      <td>0.942004</td>\n",
       "      <td>0.776224</td>\n",
       "      <td>0.165780</td>\n",
       "    </tr>\n",
       "    <tr>\n",
       "      <th>18</th>\n",
       "      <td>19</td>\n",
       "      <td>0.942004</td>\n",
       "      <td>0.776224</td>\n",
       "      <td>0.165780</td>\n",
       "    </tr>\n",
       "    <tr>\n",
       "      <th>19</th>\n",
       "      <td>20</td>\n",
       "      <td>0.942004</td>\n",
       "      <td>0.776224</td>\n",
       "      <td>0.165780</td>\n",
       "    </tr>\n",
       "    <tr>\n",
       "      <th>20</th>\n",
       "      <td>21</td>\n",
       "      <td>0.942004</td>\n",
       "      <td>0.776224</td>\n",
       "      <td>0.165780</td>\n",
       "    </tr>\n",
       "    <tr>\n",
       "      <th>21</th>\n",
       "      <td>22</td>\n",
       "      <td>0.942004</td>\n",
       "      <td>0.776224</td>\n",
       "      <td>0.165780</td>\n",
       "    </tr>\n",
       "    <tr>\n",
       "      <th>22</th>\n",
       "      <td>23</td>\n",
       "      <td>0.942004</td>\n",
       "      <td>0.776224</td>\n",
       "      <td>0.165780</td>\n",
       "    </tr>\n",
       "    <tr>\n",
       "      <th>23</th>\n",
       "      <td>24</td>\n",
       "      <td>0.942004</td>\n",
       "      <td>0.776224</td>\n",
       "      <td>0.165780</td>\n",
       "    </tr>\n",
       "  </tbody>\n",
       "</table>\n",
       "</div>"
      ],
      "text/plain": [
       "    max_depth  train_accuracy  validate_accuracy  difference\n",
       "0           1        0.794376           0.762238    0.032138\n",
       "1           2        0.794376           0.762238    0.032138\n",
       "2           3        0.824253           0.776224    0.048029\n",
       "3           4        0.826011           0.776224    0.049787\n",
       "4           5        0.847100           0.755245    0.091855\n",
       "5           6        0.875220           0.783217    0.092003\n",
       "6           7        0.887522           0.776224    0.111298\n",
       "7           8        0.903339           0.755245    0.148094\n",
       "8           9        0.915641           0.769231    0.146411\n",
       "9          10        0.924429           0.769231    0.155198\n",
       "10         11        0.934974           0.762238    0.172736\n",
       "11         12        0.936731           0.755245    0.181486\n",
       "12         13        0.938489           0.776224    0.162265\n",
       "13         14        0.942004           0.748252    0.193752\n",
       "14         15        0.942004           0.776224    0.165780\n",
       "15         16        0.942004           0.776224    0.165780\n",
       "16         17        0.942004           0.776224    0.165780\n",
       "17         18        0.942004           0.776224    0.165780\n",
       "18         19        0.942004           0.776224    0.165780\n",
       "19         20        0.942004           0.776224    0.165780\n",
       "20         21        0.942004           0.776224    0.165780\n",
       "21         22        0.942004           0.776224    0.165780\n",
       "22         23        0.942004           0.776224    0.165780\n",
       "23         24        0.942004           0.776224    0.165780"
      ]
     },
     "execution_count": 72,
     "metadata": {},
     "output_type": "execute_result"
    }
   ],
   "source": [
    "# Let's continue getting loopy, so we can compare in-sample to out-of-sample\n",
    "metrics = []\n",
    "\n",
    "for i in range(1, 25):\n",
    "    # Make the model\n",
    "    tree = DecisionTreeClassifier(max_depth=i, random_state=123)\n",
    "\n",
    "    # Fit the model (on train and only train)\n",
    "    tree = tree.fit(x_train, y_train)\n",
    "\n",
    "    # Use the model\n",
    "    # We'll evaluate the model's performance on train, first\n",
    "    in_sample_accuracy = tree.score(x_train, y_train)\n",
    "    \n",
    "    out_of_sample_accuracy = tree.score(x_validate, y_validate)\n",
    "\n",
    "    output = {\n",
    "        \"max_depth\": i,\n",
    "        \"train_accuracy\": in_sample_accuracy,\n",
    "        \"validate_accuracy\": out_of_sample_accuracy\n",
    "    }\n",
    "    \n",
    "    metrics.append(output)\n",
    "    \n",
    "df = pd.DataFrame(metrics)\n",
    "df[\"difference\"] = df.train_accuracy - df.validate_accuracy\n",
    "df"
   ]
  },
  {
   "cell_type": "code",
   "execution_count": null,
   "id": "d0327d0c",
   "metadata": {},
   "outputs": [],
   "source": []
  },
  {
   "cell_type": "code",
   "execution_count": 74,
   "id": "d8d3b707",
   "metadata": {},
   "outputs": [
    {
     "data": {
      "image/png": "[encoded data removed]",
      "text/plain": [
       "<Figure size 864x432 with 1 Axes>"
      ]
     },
     "metadata": {
      "needs_background": "light"
     },
     "output_type": "display_data"
    }
   ],
   "source": [
    "plt.figure(figsize=(12, 6))\n",
    "plt.plot(df.max_depth, df.train_accuracy, marker = 'o')\n",
    "plt.plot(df.max_depth, df.validate_accuracy, marker = 'x')\n",
    "plt.title('Overfitting Occurs at Higher Values for Max Depth')\n",
    "plt.xlabel('Max Depth')\n",
    "plt.ylabel('Accuracy')\n",
    "plt.show()"
   ]
  },
  {
   "cell_type": "code",
   "execution_count": 75,
   "id": "db30a6fb",
   "metadata": {},
   "outputs": [
    {
     "data": {
      "text/html": [
       "<div>\n",
       "<style scoped>\n",
       "    .dataframe tbody tr th:only-of-type {\n",
       "        vertical-align: middle;\n",
       "    }\n",
       "\n",
       "    .dataframe tbody tr th {\n",
       "        vertical-align: top;\n",
       "    }\n",
       "\n",
       "    .dataframe thead th {\n",
       "        text-align: right;\n",
       "    }\n",
       "</style>\n",
       "<table border=\"1\" class=\"dataframe\">\n",
       "  <thead>\n",
       "    <tr style=\"text-align: right;\">\n",
       "      <th></th>\n",
       "      <th>max_depth</th>\n",
       "      <th>train_accuracy</th>\n",
       "      <th>validate_accuracy</th>\n",
       "      <th>difference</th>\n",
       "    </tr>\n",
       "  </thead>\n",
       "  <tbody>\n",
       "    <tr>\n",
       "      <th>5</th>\n",
       "      <td>6</td>\n",
       "      <td>0.875220</td>\n",
       "      <td>0.783217</td>\n",
       "      <td>0.092003</td>\n",
       "    </tr>\n",
       "    <tr>\n",
       "      <th>2</th>\n",
       "      <td>3</td>\n",
       "      <td>0.824253</td>\n",
       "      <td>0.776224</td>\n",
       "      <td>0.048029</td>\n",
       "    </tr>\n",
       "    <tr>\n",
       "      <th>3</th>\n",
       "      <td>4</td>\n",
       "      <td>0.826011</td>\n",
       "      <td>0.776224</td>\n",
       "      <td>0.049787</td>\n",
       "    </tr>\n",
       "    <tr>\n",
       "      <th>0</th>\n",
       "      <td>1</td>\n",
       "      <td>0.794376</td>\n",
       "      <td>0.762238</td>\n",
       "      <td>0.032138</td>\n",
       "    </tr>\n",
       "    <tr>\n",
       "      <th>1</th>\n",
       "      <td>2</td>\n",
       "      <td>0.794376</td>\n",
       "      <td>0.762238</td>\n",
       "      <td>0.032138</td>\n",
       "    </tr>\n",
       "    <tr>\n",
       "      <th>4</th>\n",
       "      <td>5</td>\n",
       "      <td>0.847100</td>\n",
       "      <td>0.755245</td>\n",
       "      <td>0.091855</td>\n",
       "    </tr>\n",
       "  </tbody>\n",
       "</table>\n",
       "</div>"
      ],
      "text/plain": [
       "   max_depth  train_accuracy  validate_accuracy  difference\n",
       "5          6        0.875220           0.783217    0.092003\n",
       "2          3        0.824253           0.776224    0.048029\n",
       "3          4        0.826011           0.776224    0.049787\n",
       "0          1        0.794376           0.762238    0.032138\n",
       "1          2        0.794376           0.762238    0.032138\n",
       "4          5        0.847100           0.755245    0.091855"
      ]
     },
     "execution_count": 75,
     "metadata": {},
     "output_type": "execute_result"
    }
   ],
   "source": [
    "df[df.difference <= 0.10].sort_values(by=['validate_accuracy', 'difference'], ascending = [False,True])"
   ]
  },
  {
   "cell_type": "code",
   "execution_count": null,
   "id": "b95109bc",
   "metadata": {},
   "outputs": [],
   "source": []
  },
  {
   "cell_type": "code",
   "execution_count": null,
   "id": "3edb2fd1",
   "metadata": {},
   "outputs": [],
   "source": []
  },
  {
   "cell_type": "code",
   "execution_count": null,
   "id": "c3ac9fa5",
   "metadata": {},
   "outputs": [],
   "source": []
  },
  {
   "cell_type": "code",
   "execution_count": null,
   "id": "fb67000f",
   "metadata": {},
   "outputs": [],
   "source": []
  },
  {
   "cell_type": "code",
   "execution_count": null,
   "id": "be9457fb",
   "metadata": {},
   "outputs": [],
   "source": []
  },
  {
   "cell_type": "code",
   "execution_count": null,
   "id": "187c0a51",
   "metadata": {},
   "outputs": [],
   "source": []
  },
  {
   "cell_type": "code",
   "execution_count": null,
   "id": "ef1ee582",
   "metadata": {},
   "outputs": [],
   "source": []
  },
  {
   "cell_type": "code",
   "execution_count": null,
   "id": "d6fd399a",
   "metadata": {},
   "outputs": [],
   "source": []
  },
  {
   "cell_type": "code",
   "execution_count": null,
   "id": "afa48b51",
   "metadata": {},
   "outputs": [],
   "source": []
  },
  {
   "cell_type": "code",
   "execution_count": null,
   "id": "89dea5d4",
   "metadata": {},
   "outputs": [],
   "source": []
  },
  {
   "cell_type": "markdown",
   "id": "103147fc",
   "metadata": {},
   "source": [
    "# Random Forest"
   ]
  },
  {
   "cell_type": "markdown",
   "id": "b7e4c465",
   "metadata": {},
   "source": [
    "Exercises\n",
    "\n",
    "Continue working in your model file with titanic data to do the following:\n",
    "\n",
    "    Fit the Random Forest classifier to your training sample and transform (i.e. make predictions on the training sample) setting the random_state accordingly and setting min_samples_leaf = 1 and max_depth = 10.\n",
    "\n",
    "    Evaluate your results using the model score, confusion matrix, and classification report.\n",
    "\n",
    "    Print and clearly label the following: Accuracy, true positive rate, false positive rate, true negative rate, false negative rate, precision, recall, f1-score, and support.\n",
    "\n",
    "    Run through steps increasing your min_samples_leaf and decreasing your max_depth.\n",
    "\n",
    "    What are the differences in the evaluation metrics? Which performs better on your in-sample data? Why?\n",
    "\n",
    "After making a few models, which one has the best performance (or closest metrics) on both train and validate?"
   ]
  },
  {
   "cell_type": "code",
   "execution_count": 68,
   "id": "ce7aafc1",
   "metadata": {},
   "outputs": [
    {
     "data": {
      "text/html": [
       "<div>\n",
       "<style scoped>\n",
       "    .dataframe tbody tr th:only-of-type {\n",
       "        vertical-align: middle;\n",
       "    }\n",
       "\n",
       "    .dataframe tbody tr th {\n",
       "        vertical-align: top;\n",
       "    }\n",
       "\n",
       "    .dataframe thead th {\n",
       "        text-align: right;\n",
       "    }\n",
       "</style>\n",
       "<table border=\"1\" class=\"dataframe\">\n",
       "  <thead>\n",
       "    <tr style=\"text-align: right;\">\n",
       "      <th></th>\n",
       "      <th>survived</th>\n",
       "      <th>pclass</th>\n",
       "      <th>sibsp</th>\n",
       "      <th>parch</th>\n",
       "      <th>fare</th>\n",
       "      <th>alone</th>\n",
       "      <th>sex_male</th>\n",
       "      <th>embark_town_Queenstown</th>\n",
       "      <th>embark_town_Southampton</th>\n",
       "      <th>class_Second</th>\n",
       "      <th>class_Third</th>\n",
       "    </tr>\n",
       "  </thead>\n",
       "  <tbody>\n",
       "    <tr>\n",
       "      <th>829</th>\n",
       "      <td>1</td>\n",
       "      <td>1</td>\n",
       "      <td>0</td>\n",
       "      <td>0</td>\n",
       "      <td>80.000</td>\n",
       "      <td>1</td>\n",
       "      <td>0</td>\n",
       "      <td>0</td>\n",
       "      <td>0</td>\n",
       "      <td>0</td>\n",
       "      <td>0</td>\n",
       "    </tr>\n",
       "    <tr>\n",
       "      <th>72</th>\n",
       "      <td>0</td>\n",
       "      <td>2</td>\n",
       "      <td>0</td>\n",
       "      <td>0</td>\n",
       "      <td>73.500</td>\n",
       "      <td>1</td>\n",
       "      <td>1</td>\n",
       "      <td>0</td>\n",
       "      <td>1</td>\n",
       "      <td>1</td>\n",
       "      <td>0</td>\n",
       "    </tr>\n",
       "    <tr>\n",
       "      <th>157</th>\n",
       "      <td>0</td>\n",
       "      <td>3</td>\n",
       "      <td>0</td>\n",
       "      <td>0</td>\n",
       "      <td>8.050</td>\n",
       "      <td>1</td>\n",
       "      <td>1</td>\n",
       "      <td>0</td>\n",
       "      <td>1</td>\n",
       "      <td>0</td>\n",
       "      <td>1</td>\n",
       "    </tr>\n",
       "    <tr>\n",
       "      <th>889</th>\n",
       "      <td>1</td>\n",
       "      <td>1</td>\n",
       "      <td>0</td>\n",
       "      <td>0</td>\n",
       "      <td>30.000</td>\n",
       "      <td>1</td>\n",
       "      <td>1</td>\n",
       "      <td>0</td>\n",
       "      <td>0</td>\n",
       "      <td>0</td>\n",
       "      <td>0</td>\n",
       "    </tr>\n",
       "    <tr>\n",
       "      <th>816</th>\n",
       "      <td>0</td>\n",
       "      <td>3</td>\n",
       "      <td>0</td>\n",
       "      <td>0</td>\n",
       "      <td>7.925</td>\n",
       "      <td>1</td>\n",
       "      <td>0</td>\n",
       "      <td>0</td>\n",
       "      <td>1</td>\n",
       "      <td>0</td>\n",
       "      <td>1</td>\n",
       "    </tr>\n",
       "  </tbody>\n",
       "</table>\n",
       "</div>"
      ],
      "text/plain": [
       "     survived  pclass  sibsp  parch    fare  alone  sex_male  \\\n",
       "829         1       1      0      0  80.000      1         0   \n",
       "72          0       2      0      0  73.500      1         1   \n",
       "157         0       3      0      0   8.050      1         1   \n",
       "889         1       1      0      0  30.000      1         1   \n",
       "816         0       3      0      0   7.925      1         0   \n",
       "\n",
       "     embark_town_Queenstown  embark_town_Southampton  class_Second  \\\n",
       "829                       0                        0             0   \n",
       "72                        0                        1             1   \n",
       "157                       0                        1             0   \n",
       "889                       0                        0             0   \n",
       "816                       0                        1             0   \n",
       "\n",
       "     class_Third  \n",
       "829            0  \n",
       "72             0  \n",
       "157            1  \n",
       "889            0  \n",
       "816            1  "
      ]
     },
     "execution_count": 68,
     "metadata": {},
     "output_type": "execute_result"
    }
   ],
   "source": [
    "train.head()"
   ]
  },
  {
   "cell_type": "code",
   "execution_count": null,
   "id": "589e09b6",
   "metadata": {},
   "outputs": [],
   "source": []
  },
  {
   "cell_type": "code",
   "execution_count": null,
   "id": "9f1d13b2",
   "metadata": {},
   "outputs": [],
   "source": []
  },
  {
   "cell_type": "code",
   "execution_count": null,
   "id": "3ee0d228",
   "metadata": {},
   "outputs": [],
   "source": []
  },
  {
   "cell_type": "code",
   "execution_count": null,
   "id": "369a4dad",
   "metadata": {},
   "outputs": [],
   "source": []
  },
  {
   "cell_type": "code",
   "execution_count": null,
   "id": "81da5c36",
   "metadata": {},
   "outputs": [],
   "source": []
  },
  {
   "cell_type": "code",
   "execution_count": null,
   "id": "8f6ca77d",
   "metadata": {},
   "outputs": [],
   "source": []
  },
  {
   "cell_type": "code",
   "execution_count": null,
   "id": "77482024",
   "metadata": {},
   "outputs": [],
   "source": []
  },
  {
   "cell_type": "code",
   "execution_count": null,
   "id": "e930f9d6",
   "metadata": {},
   "outputs": [],
   "source": []
  },
  {
   "cell_type": "code",
   "execution_count": null,
   "id": "86f0f07d",
   "metadata": {},
   "outputs": [],
   "source": []
  },
  {
   "cell_type": "code",
   "execution_count": null,
   "id": "24009963",
   "metadata": {},
   "outputs": [],
   "source": []
  },
  {
   "cell_type": "markdown",
   "id": "679a1be7",
   "metadata": {},
   "source": [
    "# KNN Exercises "
   ]
  },
  {
   "cell_type": "markdown",
   "id": "8f5ff222",
   "metadata": {},
   "source": [
    "Exercises\n",
    "\n",
    "Continue working in your model file with the titanic dataset.\n",
    "\n",
    "    Fit a K-Nearest Neighbors classifier to your training sample and transform (i.e. make predictions on the training sample)\n",
    "\n",
    "    Evaluate your results using the model score, confusion matrix, and classification report.\n",
    "\n",
    "    Print and clearly label the following: Accuracy, true positive rate, false positive rate, true negative rate, false negative rate, precision, recall, f1-score, and support.\n",
    "\n",
    "    Run through steps 2-4 setting k to 10\n",
    "\n",
    "    Run through setps 2-4 setting k to 20\n",
    "\n",
    "    What are the differences in the evaluation metrics? Which performs better on your in-sample data? Why?\n",
    "\n",
    "    Which model performs best on our out-of-sample data from validate?\n"
   ]
  },
  {
   "cell_type": "code",
   "execution_count": null,
   "id": "5198cc3e",
   "metadata": {},
   "outputs": [],
   "source": []
  },
  {
   "cell_type": "code",
   "execution_count": null,
   "id": "4285e3a0",
   "metadata": {},
   "outputs": [],
   "source": []
  },
  {
   "cell_type": "code",
   "execution_count": null,
   "id": "f8d69292",
   "metadata": {},
   "outputs": [],
   "source": []
  },
  {
   "cell_type": "markdown",
   "id": "9c3219c7",
   "metadata": {},
   "source": [
    "# Logistic Regression"
   ]
  },
  {
   "cell_type": "markdown",
   "id": "84976577",
   "metadata": {},
   "source": [
    "Exercises\n",
    "\n",
    "In these exercises, we'll continue working with the titanic dataset and building logistic regression models. Throughout this exercise, be sure you are training, evaluation, and comparing models on the train and validate datasets. The test dataset should only be used for your final model.\n",
    "\n",
    "For all of the models you create, choose a threshold that optimizes for accuracy.\n",
    "\n",
    "Do your work for these exercises in either a notebook or a python script named model within your classification-exercises repository. Add, commit, and push your work.\n",
    "\n",
    "    Create a model that includes age in addition to fare and pclass. Does this model perform better than your baseline?\n",
    "\n",
    "    Include sex in your model as well. Note that you'll need to encode or create a dummy variable of this feature before including it in a model.\n",
    "\n",
    "    Try out other combinations of features and models.\n",
    "\n",
    "    Use you best 3 models to predict and evaluate on your validate sample.\n",
    "\n",
    "    Choose you best model from the validation performation, and evaluate it on the test dataset. How do the performance metrics compare to validate? to train?\n"
   ]
  },
  {
   "cell_type": "markdown",
   "id": "ebf94803",
   "metadata": {},
   "source": [
    "Bonus1 How do different strategies for handling the missing values in the age column affect model performance?\n",
    "\n",
    "Bonus2: How do different strategies for encoding sex affect model performance?\n",
    "\n",
    "Bonus3: scikit-learn's LogisticRegression classifier is actually applying a regularization penalty to the coefficients by default. This penalty causes the magnitude of the coefficients in the resulting model to be smaller than they otherwise would be. This value can be modified with the C hyper parameter. Small values of C correspond to a larger penalty, and large values of C correspond to a smaller penalty.\n",
    "Try out the following values for C and note how the coefficients and the model's performance on both the dataset it was trained on and on the validate split are affected. C=.01,.1,1,10,100,1000\n",
    "\n",
    "Bonus Bonus: how does scaling the data interact with your choice of C?"
   ]
  },
  {
   "cell_type": "code",
   "execution_count": null,
   "id": "3ccf0668",
   "metadata": {},
   "outputs": [],
   "source": []
  },
  {
   "cell_type": "code",
   "execution_count": null,
   "id": "41ddde46",
   "metadata": {},
   "outputs": [],
   "source": []
  },
  {
   "cell_type": "code",
   "execution_count": null,
   "id": "c6be7c5c",
   "metadata": {},
   "outputs": [],
   "source": []
  },
  {
   "cell_type": "code",
   "execution_count": null,
   "id": "a1d75869",
   "metadata": {},
   "outputs": [],
   "source": []
  },
  {
   "cell_type": "code",
   "execution_count": null,
   "id": "8e9cf05a",
   "metadata": {},
   "outputs": [],
   "source": []
  },
  {
   "cell_type": "code",
   "execution_count": null,
   "id": "1a52fb67",
   "metadata": {},
   "outputs": [],
   "source": []
  },
  {
   "cell_type": "code",
   "execution_count": null,
   "id": "88840e54",
   "metadata": {},
   "outputs": [],
   "source": []
  },
  {
   "cell_type": "code",
   "execution_count": null,
   "id": "8500cb01",
   "metadata": {},
   "outputs": [],
   "source": []
  },
  {
   "cell_type": "code",
   "execution_count": null,
   "id": "f9e60127",
   "metadata": {},
   "outputs": [],
   "source": []
  },
  {
   "cell_type": "code",
   "execution_count": null,
   "id": "f4262622",
   "metadata": {},
   "outputs": [],
   "source": []
  }
 ],
 "metadata": {
  "kernelspec": {
   "display_name": "Python 3 (ipykernel)",
   "language": "python",
   "name": "python3"
  },
  "language_info": {
   "codemirror_mode": {
    "name": "ipython",
    "version": 3
   },
   "file_extension": ".py",
   "mimetype": "text/x-python",
   "name": "python",
   "nbconvert_exporter": "python",
   "pygments_lexer": "ipython3",
   "version": "3.9.12"
  }
 },
 "nbformat": 4,
 "nbformat_minor": 5
}

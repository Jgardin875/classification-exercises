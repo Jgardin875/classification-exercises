{
 "cells": [
  {
   "cell_type": "code",
   "execution_count": 1,
   "id": "5321ae15",
   "metadata": {},
   "outputs": [],
   "source": [
    "import numpy as np\n",
    "import seaborn as sns\n",
    "import scipy.stats as stats\n",
    "import pandas as pd\n",
    "import matplotlib.pyplot as plt\n",
    "from pydataset import data\n",
    "from sklearn.model_selection import train_test_split\n",
    "from sklearn.impute import SimpleImputer\n",
    "import env \n",
    "import acquire"
   ]
  },
  {
   "cell_type": "code",
   "execution_count": 2,
   "id": "a7526469",
   "metadata": {},
   "outputs": [],
   "source": [
    "# pd.set_option('display.max_columns')\n",
    "# ValueError: Must provide an even number of non-keyword arguments"
   ]
  },
  {
   "cell_type": "code",
   "execution_count": 3,
   "id": "2a13939f",
   "metadata": {},
   "outputs": [],
   "source": [
    "pd.set_option('display.max_columns', None)"
   ]
  },
  {
   "cell_type": "markdown",
   "id": "a60362f6",
   "metadata": {},
   "source": [
    "telco = pd.read_csv(\"telco_churn.csv\")"
   ]
  },
  {
   "cell_type": "markdown",
   "id": "930f5383",
   "metadata": {},
   "source": [
    "sleep = data('sleepstudy')"
   ]
  },
  {
   "cell_type": "markdown",
   "id": "96a496cf",
   "metadata": {},
   "source": [
    "mpg = data('mpg')"
   ]
  },
  {
   "cell_type": "markdown",
   "id": "0796876a",
   "metadata": {},
   "source": [
    "data(show_doc = True);"
   ]
  },
  {
   "cell_type": "markdown",
   "id": "7be57f15",
   "metadata": {},
   "source": [
    "# Data Preparation"
   ]
  },
  {
   "cell_type": "markdown",
   "id": "9a1c7f65",
   "metadata": {},
   "source": [
    "### IRIS\n",
    "\n",
    "Using the Iris Data:\n",
    "\n",
    "    Use the function defined in acquire.py to load the iris data.\n",
    "\n",
    "    Drop the species_id and measurement_id columns.\n",
    "\n",
    "    Rename the species_name column to just species.\n",
    "\n",
    "    Create dummy variables of the species name and concatenate onto the iris dataframe. (This is for practice, we don't always have to encode the target, but if we used species as a feature, we would need to encode it).\n",
    "\n",
    "    Create a function named prep_iris that accepts the untransformed iris data, and returns the data with the transformations above applied.\n"
   ]
  },
  {
   "cell_type": "code",
   "execution_count": 56,
   "id": "4f2b9fcd",
   "metadata": {},
   "outputs": [],
   "source": [
    "iris_o = acquire.get_iris_data()"
   ]
  },
  {
   "cell_type": "code",
   "execution_count": 57,
   "id": "9d59fec1",
   "metadata": {},
   "outputs": [],
   "source": [
    "def prep_iris(df):\n",
    "    df.drop(columns = ['species_id', 'measurement_id', 'Unnamed: 0'], inplace = True)\n",
    "    df.rename(columns={\"species_name\": \"species\"}, inplace = True)\n",
    "    dummy_df = pd.get_dummies(df['species'], dummy_na= False)\n",
    "    df = pd.concat([df, dummy_df], axis=1)\n",
    "    return df"
   ]
  },
  {
   "cell_type": "code",
   "execution_count": 58,
   "id": "7c8cf8fc",
   "metadata": {},
   "outputs": [],
   "source": [
    "def split_iris_data(df):\n",
    "    '''\n",
    "    This function performs split on telco data, stratify churn.\n",
    "    Returns train, validate, and test dfs.\n",
    "    '''\n",
    "    train_validate, test = train_test_split(df, test_size=.2, \n",
    "                                        random_state=123, \n",
    "                                        stratify=df.species)\n",
    "    train, validate = train_test_split(train_validate, test_size=.2, \n",
    "                                   random_state=123, \n",
    "                                   stratify=train_validate.species)\n",
    "    return train, validate, test"
   ]
  },
  {
   "cell_type": "code",
   "execution_count": 59,
   "id": "8557d662",
   "metadata": {},
   "outputs": [],
   "source": [
    "iris = prep_iris(iris_o)"
   ]
  },
  {
   "cell_type": "code",
   "execution_count": 60,
   "id": "1fa4a24a",
   "metadata": {},
   "outputs": [],
   "source": [
    "train, validate, test = split_iris_data(iris)"
   ]
  },
  {
   "cell_type": "markdown",
   "id": "9b46ac66",
   "metadata": {},
   "source": [
    "### Titanic"
   ]
  },
  {
   "cell_type": "code",
   "execution_count": 47,
   "id": "63665c22",
   "metadata": {},
   "outputs": [],
   "source": [
    "df = acquire.get_titanic_data()"
   ]
  },
  {
   "cell_type": "code",
   "execution_count": 48,
   "id": "ea073b54",
   "metadata": {},
   "outputs": [],
   "source": [
    "def impute_mode(df):\n",
    "    '''\n",
    "replace non-existant values before breaking it down into training sets\n",
    "    '''\n",
    "    imputer = SimpleImputer(missing_values = np.nan, strategy='most_frequent')\n",
    "    df[['embark_town']] = imputer.fit_transform(df[['embark_town']])\n",
    "    return df"
   ]
  },
  {
   "cell_type": "code",
   "execution_count": 49,
   "id": "0e63337a",
   "metadata": {},
   "outputs": [],
   "source": [
    "def split_titanic_data(df):\n",
    "    '''\n",
    "    This function performs split on telco data, stratify churn.\n",
    "    Returns train, validate, and test dfs.\n",
    "    '''\n",
    "    train_validate, test = train_test_split(df, test_size=.2, \n",
    "                                        random_state=123, \n",
    "                                        stratify=df.survived)\n",
    "    train, validate = train_test_split(train_validate, test_size=.2, \n",
    "                                   random_state=123, \n",
    "                                   stratify=train_validate.survived)\n",
    "    return train, validate, test"
   ]
  },
  {
   "cell_type": "code",
   "execution_count": 50,
   "id": "288c5cc5",
   "metadata": {},
   "outputs": [],
   "source": [
    "def prep_titanic(df):\n",
    "    df.drop(columns = ['Unnamed: 0', 'passenger_id', 'deck', 'embarked'], inplace = True)\n",
    "    dummy_df = pd.get_dummies(df[['sex', 'embark_town', 'class']], dummy_na=False, drop_first= True)\n",
    "    df = pd.concat([df, dummy_df], axis=1)\n",
    "    df = impute_mode(df)\n",
    "    return df\n",
    "    "
   ]
  },
  {
   "cell_type": "code",
   "execution_count": 51,
   "id": "f8fc233b",
   "metadata": {},
   "outputs": [],
   "source": [
    "titanic = prep_titanic(df)"
   ]
  },
  {
   "cell_type": "code",
   "execution_count": 52,
   "id": "b40770d9",
   "metadata": {},
   "outputs": [],
   "source": [
    "train, validate, test = split_titanic_data(titanic)"
   ]
  },
  {
   "cell_type": "code",
   "execution_count": 15,
   "id": "c01bda09",
   "metadata": {
    "scrolled": true
   },
   "outputs": [
    {
     "data": {
      "text/plain": [
       "(891, 15)"
      ]
     },
     "execution_count": 15,
     "metadata": {},
     "output_type": "execute_result"
    }
   ],
   "source": [
    "titanic.shape"
   ]
  },
  {
   "cell_type": "code",
   "execution_count": 16,
   "id": "939fcfad",
   "metadata": {},
   "outputs": [
    {
     "data": {
      "text/plain": [
       "(569, 14)"
      ]
     },
     "execution_count": 16,
     "metadata": {},
     "output_type": "execute_result"
    }
   ],
   "source": [
    "train.shape"
   ]
  },
  {
   "cell_type": "code",
   "execution_count": 17,
   "id": "a2871b32",
   "metadata": {},
   "outputs": [
    {
     "data": {
      "text/plain": [
       "(179, 14)"
      ]
     },
     "execution_count": 17,
     "metadata": {},
     "output_type": "execute_result"
    }
   ],
   "source": [
    "test.shape"
   ]
  },
  {
   "cell_type": "code",
   "execution_count": 18,
   "id": "65b07bc3",
   "metadata": {
    "scrolled": false
   },
   "outputs": [
    {
     "data": {
      "text/plain": [
       "(143, 14)"
      ]
     },
     "execution_count": 18,
     "metadata": {},
     "output_type": "execute_result"
    }
   ],
   "source": [
    "validate.shape"
   ]
  },
  {
   "cell_type": "code",
   "execution_count": 19,
   "id": "1e55ece1",
   "metadata": {},
   "outputs": [],
   "source": [
    "#learnign imputer stuff"
   ]
  },
  {
   "cell_type": "code",
   "execution_count": 20,
   "id": "4ccf6b13",
   "metadata": {},
   "outputs": [],
   "source": [
    "#imputer = SimpleImputer(strategy='most_frequent')"
   ]
  },
  {
   "cell_type": "code",
   "execution_count": 21,
   "id": "e1d9e7bb",
   "metadata": {},
   "outputs": [],
   "source": [
    "#imputer = imputer.fit(train[['embark_town']])"
   ]
  },
  {
   "cell_type": "code",
   "execution_count": 22,
   "id": "993d025b",
   "metadata": {},
   "outputs": [],
   "source": [
    "#df[['embark_town']] = imputer.transform(df[['embark_town']])"
   ]
  },
  {
   "cell_type": "code",
   "execution_count": null,
   "id": "bebcfbd9",
   "metadata": {},
   "outputs": [],
   "source": []
  },
  {
   "cell_type": "markdown",
   "id": "5463d73f",
   "metadata": {},
   "source": [
    "# Telco"
   ]
  },
  {
   "cell_type": "code",
   "execution_count": 23,
   "id": "126b655c",
   "metadata": {},
   "outputs": [],
   "source": [
    "df = acquire.get_telco_data()"
   ]
  },
  {
   "cell_type": "code",
   "execution_count": 24,
   "id": "409583e0",
   "metadata": {},
   "outputs": [],
   "source": [
    "def split_telco_data(df):\n",
    "    '''\n",
    "    This function performs split on telco data, stratify churn.\n",
    "    Returns train, validate, and test dfs.\n",
    "    '''\n",
    "    train_validate, test = train_test_split(df, test_size=.2, \n",
    "                                        random_state=123, \n",
    "                                        stratify=df.churn)\n",
    "    train, validate = train_test_split(train_validate, test_size=.2, \n",
    "                                   random_state=123, \n",
    "                                   stratify=train_validate.churn)\n",
    "    return train, validate, test"
   ]
  },
  {
   "cell_type": "code",
   "execution_count": 25,
   "id": "48ce7590",
   "metadata": {},
   "outputs": [],
   "source": [
    "def prep_telco(df):\n",
    "    df.drop(columns = ['Unnamed: 0', 'payment_type_id', 'internet_service_type_id', 'contract_type_id', 'customer_id'], inplace = True)\n",
    "    dummy_df = pd.get_dummies(df[['contract_type', 'internet_service_type', 'payment_type']], dummy_na=False, drop_first= True)\n",
    "    df = pd.concat([df, dummy_df], axis=1)\n",
    "    df = df[df.total_charges != ' ']\n",
    "    df.total_charges = df.total_charges.astype(float)\n",
    "    \n",
    "    \n",
    "    # encode binary categorical variables into numeric values\n",
    "    df['gender_encoded'] = df.gender.map({'Female': 1, 'Male': 0})\n",
    "    df['partner_encoded'] = df.partner.map({'Yes': 1, 'No': 0})\n",
    "    df['dependents_encoded'] = df.dependents.map({'Yes': 1, 'No': 0})\n",
    "    df['phone_service_encoded'] = df.phone_service.map({'Yes': 1, 'No': 0})\n",
    "    df['paperless_billing_encoded'] = df.paperless_billing.map({'Yes': 1, 'No': 0})\n",
    "    df['churn_encoded'] = df.churn.map({'Yes': 1, 'No': 0})\n",
    "    return df\n"
   ]
  },
  {
   "cell_type": "code",
   "execution_count": null,
   "id": "cacd23f4",
   "metadata": {},
   "outputs": [],
   "source": []
  },
  {
   "cell_type": "code",
   "execution_count": 46,
   "id": "37334ff0",
   "metadata": {},
   "outputs": [],
   "source": [
    "train, validate, test = split_telco_data(df)"
   ]
  },
  {
   "cell_type": "code",
   "execution_count": 26,
   "id": "64103429",
   "metadata": {
    "scrolled": true
   },
   "outputs": [],
   "source": [
    "telco = prep_telco(df)"
   ]
  },
  {
   "cell_type": "code",
   "execution_count": 27,
   "id": "55167891",
   "metadata": {},
   "outputs": [
    {
     "data": {
      "text/plain": [
       "(7032, 33)"
      ]
     },
     "execution_count": 27,
     "metadata": {},
     "output_type": "execute_result"
    }
   ],
   "source": [
    "telco.shape"
   ]
  },
  {
   "cell_type": "code",
   "execution_count": 28,
   "id": "d302431a",
   "metadata": {
    "scrolled": true
   },
   "outputs": [
    {
     "data": {
      "text/plain": [
       "(4507, 25)"
      ]
     },
     "execution_count": 28,
     "metadata": {},
     "output_type": "execute_result"
    }
   ],
   "source": [
    "train.shape"
   ]
  },
  {
   "cell_type": "code",
   "execution_count": 29,
   "id": "cd80b253",
   "metadata": {},
   "outputs": [
    {
     "data": {
      "text/plain": [
       "(1127, 25)"
      ]
     },
     "execution_count": 29,
     "metadata": {},
     "output_type": "execute_result"
    }
   ],
   "source": [
    "validate.shape"
   ]
  },
  {
   "cell_type": "code",
   "execution_count": 30,
   "id": "47f8567e",
   "metadata": {},
   "outputs": [
    {
     "data": {
      "text/plain": [
       "(1409, 25)"
      ]
     },
     "execution_count": 30,
     "metadata": {},
     "output_type": "execute_result"
    }
   ],
   "source": [
    "test.shape"
   ]
  },
  {
   "cell_type": "code",
   "execution_count": null,
   "id": "492e2c50",
   "metadata": {},
   "outputs": [],
   "source": []
  },
  {
   "cell_type": "code",
   "execution_count": 33,
   "id": "4c2c831b",
   "metadata": {},
   "outputs": [],
   "source": [
    "#indivudual steps"
   ]
  },
  {
   "cell_type": "code",
   "execution_count": 34,
   "id": "5a9a6562",
   "metadata": {},
   "outputs": [],
   "source": [
    "df.loc[df.total_charges == ' ', 'total_charges'] = df.monthly_charges"
   ]
  },
  {
   "cell_type": "code",
   "execution_count": 35,
   "id": "d490dcef",
   "metadata": {},
   "outputs": [],
   "source": [
    "df.total_charges = df.total_charges.astype('float')"
   ]
  },
  {
   "cell_type": "code",
   "execution_count": 36,
   "id": "9bb4cc08",
   "metadata": {
    "scrolled": true
   },
   "outputs": [
    {
     "data": {
      "text/plain": [
       "2060      18.80\n",
       "6560      18.85\n",
       "6350      18.85\n",
       "7033      18.90\n",
       "981       19.00\n",
       "         ...   \n",
       "6275    8564.75\n",
       "6892    8594.40\n",
       "6855    8670.10\n",
       "5360    8672.45\n",
       "2003    8684.80\n",
       "Name: total_charges, Length: 7043, dtype: float64"
      ]
     },
     "execution_count": 36,
     "metadata": {},
     "output_type": "execute_result"
    }
   ],
   "source": [
    "df.total_charges.sort_values()"
   ]
  },
  {
   "cell_type": "code",
   "execution_count": 37,
   "id": "486e525a",
   "metadata": {},
   "outputs": [],
   "source": [
    "# several of the accounts have no totals"
   ]
  },
  {
   "cell_type": "code",
   "execution_count": 38,
   "id": "041c1475",
   "metadata": {},
   "outputs": [],
   "source": [
    "df[df.total_charges == ' '];"
   ]
  },
  {
   "cell_type": "code",
   "execution_count": 39,
   "id": "f44998a0",
   "metadata": {},
   "outputs": [],
   "source": [
    "#it appears that if they are new cosutomers, they dont have totals till after they pay"
   ]
  },
  {
   "cell_type": "code",
   "execution_count": 40,
   "id": "de0c1f22",
   "metadata": {
    "scrolled": true
   },
   "outputs": [],
   "source": [
    "df[df.total_charges == ' '];"
   ]
  },
  {
   "cell_type": "code",
   "execution_count": 41,
   "id": "21dba763",
   "metadata": {},
   "outputs": [],
   "source": [
    "df.loc[df.total_charges == ' ', 'total_charges'] = df.monthly_charges"
   ]
  },
  {
   "cell_type": "code",
   "execution_count": 42,
   "id": "279d1fac",
   "metadata": {},
   "outputs": [],
   "source": [
    "df[df.tenure == 0];"
   ]
  },
  {
   "cell_type": "code",
   "execution_count": 43,
   "id": "03bbb13e",
   "metadata": {},
   "outputs": [],
   "source": [
    "df.total_charges = df.total_charges.astype('float')"
   ]
  },
  {
   "cell_type": "code",
   "execution_count": 44,
   "id": "b6631193",
   "metadata": {},
   "outputs": [],
   "source": [
    "df = df[df.total_charges != ' ']"
   ]
  },
  {
   "cell_type": "code",
   "execution_count": 45,
   "id": "485ef6e3",
   "metadata": {},
   "outputs": [],
   "source": [
    "# def telco_clean_monthly_total (df):\n",
    "#     if df.tenure == 0:\n",
    "#         df.total_charges = df.monthly_charges\n",
    "#     return df\n",
    "\n",
    "# telco_clean_monthly_total(df)"
   ]
  },
  {
   "cell_type": "code",
   "execution_count": null,
   "id": "8701b594",
   "metadata": {},
   "outputs": [],
   "source": []
  },
  {
   "cell_type": "code",
   "execution_count": null,
   "id": "c05fb480",
   "metadata": {},
   "outputs": [],
   "source": []
  }
 ],
 "metadata": {
  "kernelspec": {
   "display_name": "Python 3 (ipykernel)",
   "language": "python",
   "name": "python3"
  },
  "language_info": {
   "codemirror_mode": {
    "name": "ipython",
    "version": 3
   },
   "file_extension": ".py",
   "mimetype": "text/x-python",
   "name": "python",
   "nbconvert_exporter": "python",
   "pygments_lexer": "ipython3",
   "version": "3.9.12"
  }
 },
 "nbformat": 4,
 "nbformat_minor": 5
}

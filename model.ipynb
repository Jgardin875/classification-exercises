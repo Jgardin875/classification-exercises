{
 "cells": [
  {
   "cell_type": "code",
   "execution_count": 1,
   "id": "d0cc616e",
   "metadata": {},
   "outputs": [],
   "source": [
    "import numpy as np\n",
    "import seaborn as sns\n",
    "import scipy.stats as stats\n",
    "import pandas as pd\n",
    "import matplotlib.pyplot as plt\n",
    "from pydataset import data\n",
    "import env \n",
    "import acquire\n",
    "import prepare\n",
    "\n",
    "\n",
    "import warnings\n",
    "warnings.filterwarnings(\"ignore\")"
   ]
  },
  {
   "cell_type": "code",
   "execution_count": 76,
   "id": "fa2642bb",
   "metadata": {},
   "outputs": [],
   "source": [
    "# Decision Tree and Model Evaluation Imports\n",
    "from sklearn.tree import DecisionTreeClassifier, plot_tree, export_text\n",
    "from sklearn.model_selection import train_test_split\n",
    "from sklearn.metrics import classification_report, confusion_matrix, plot_confusion_matrix\n",
    "\n",
    "from sklearn.model_selection import train_test_split\n",
    "from sklearn.ensemble import RandomForestClassifier\n",
    "from sklearn.metrics import classification_report\n",
    "from sklearn.metrics import confusion_matrix"
   ]
  },
  {
   "cell_type": "markdown",
   "id": "983ded3c",
   "metadata": {},
   "source": [
    "titanic_o = acquire.get_titanic_data() \n",
    "\n",
    "titanic = prepare.prep_titanic(titanic_o)\n",
    "\n",
    "train, validate, test = prepare.split_titanic_data(titanic)\n",
    "\n",
    "\n"
   ]
  },
  {
   "cell_type": "code",
   "execution_count": null,
   "id": "f4d6345a",
   "metadata": {},
   "outputs": [],
   "source": []
  },
  {
   "cell_type": "markdown",
   "id": "72ab164a",
   "metadata": {},
   "source": [
    "# Decision Tree"
   ]
  },
  {
   "cell_type": "markdown",
   "id": "59c150b2",
   "metadata": {},
   "source": [
    "Exercises\n",
    "\n",
    "Using the titanic data, in your classification-exercises repository, create a notebook, model.ipynb where you will do the following:\n",
    "\n",
    "    What is your baseline prediction? What is your baseline accuracy? remember: your baseline prediction for a classification problem is predicting the most prevelant class in the training dataset (the mode). When you make those predictions, what is your accuracy? This is your baseline accuracy.\n",
    "\n",
    "    Fit the decision tree classifier to your training sample and transform (i.e. make predictions on the training sample)\n",
    "\n",
    "    Evaluate your in-sample results using the model score, confusion matrix, and classification report.\n",
    "\n",
    "    Compute: Accuracy, true positive rate, false positive rate, true negative rate, false negative rate, precision, recall, f1-score, and support.\n",
    "\n",
    "    Run through steps 2-4 using a different max_depth value.\n",
    "\n",
    "    Which model performs better on your in-sample data?\n",
    "\n",
    "    Which model performs best on your out-of-sample data, the validate set?\n",
    "\n",
    "    Work through these same exercises using the Telco dataset.\n",
    "    Experiment with this model on other datasets with a higher number of output classes.\n"
   ]
  },
  {
   "cell_type": "code",
   "execution_count": 3,
   "id": "90c53744",
   "metadata": {},
   "outputs": [],
   "source": [
    "titanic_o = acquire.get_titanic_data() \n",
    "titanic = prepare.prep_titanic(titanic_o) "
   ]
  },
  {
   "cell_type": "code",
   "execution_count": 4,
   "id": "ce4f9d7d",
   "metadata": {},
   "outputs": [],
   "source": [
    "titanic.drop(columns = ['sex', 'embark_town', 'class', 'age'], inplace = True)"
   ]
  },
  {
   "cell_type": "code",
   "execution_count": 5,
   "id": "948a1d85",
   "metadata": {},
   "outputs": [],
   "source": [
    "train, validate, test = prepare.split_titanic_data(titanic)"
   ]
  },
  {
   "cell_type": "code",
   "execution_count": 6,
   "id": "2386c4f3",
   "metadata": {},
   "outputs": [
    {
     "data": {
      "text/plain": [
       "((891, 10), (891, 11), (569, 11), (143, 11), (179, 11))"
      ]
     },
     "execution_count": 6,
     "metadata": {},
     "output_type": "execute_result"
    }
   ],
   "source": [
    "titanic_o.shape, titanic.shape, train.shape, validate.shape, test.shape"
   ]
  },
  {
   "cell_type": "code",
   "execution_count": 7,
   "id": "1aff119b",
   "metadata": {
    "scrolled": true
   },
   "outputs": [
    {
     "data": {
      "text/html": [
       "<div>\n",
       "<style scoped>\n",
       "    .dataframe tbody tr th:only-of-type {\n",
       "        vertical-align: middle;\n",
       "    }\n",
       "\n",
       "    .dataframe tbody tr th {\n",
       "        vertical-align: top;\n",
       "    }\n",
       "\n",
       "    .dataframe thead th {\n",
       "        text-align: right;\n",
       "    }\n",
       "</style>\n",
       "<table border=\"1\" class=\"dataframe\">\n",
       "  <thead>\n",
       "    <tr style=\"text-align: right;\">\n",
       "      <th></th>\n",
       "      <th>survived</th>\n",
       "      <th>pclass</th>\n",
       "      <th>sibsp</th>\n",
       "      <th>parch</th>\n",
       "      <th>fare</th>\n",
       "      <th>alone</th>\n",
       "      <th>sex_male</th>\n",
       "      <th>embark_town_Queenstown</th>\n",
       "      <th>embark_town_Southampton</th>\n",
       "      <th>class_Second</th>\n",
       "      <th>class_Third</th>\n",
       "    </tr>\n",
       "  </thead>\n",
       "  <tbody>\n",
       "    <tr>\n",
       "      <th>829</th>\n",
       "      <td>1</td>\n",
       "      <td>1</td>\n",
       "      <td>0</td>\n",
       "      <td>0</td>\n",
       "      <td>80.000</td>\n",
       "      <td>1</td>\n",
       "      <td>0</td>\n",
       "      <td>0</td>\n",
       "      <td>0</td>\n",
       "      <td>0</td>\n",
       "      <td>0</td>\n",
       "    </tr>\n",
       "    <tr>\n",
       "      <th>72</th>\n",
       "      <td>0</td>\n",
       "      <td>2</td>\n",
       "      <td>0</td>\n",
       "      <td>0</td>\n",
       "      <td>73.500</td>\n",
       "      <td>1</td>\n",
       "      <td>1</td>\n",
       "      <td>0</td>\n",
       "      <td>1</td>\n",
       "      <td>1</td>\n",
       "      <td>0</td>\n",
       "    </tr>\n",
       "    <tr>\n",
       "      <th>157</th>\n",
       "      <td>0</td>\n",
       "      <td>3</td>\n",
       "      <td>0</td>\n",
       "      <td>0</td>\n",
       "      <td>8.050</td>\n",
       "      <td>1</td>\n",
       "      <td>1</td>\n",
       "      <td>0</td>\n",
       "      <td>1</td>\n",
       "      <td>0</td>\n",
       "      <td>1</td>\n",
       "    </tr>\n",
       "    <tr>\n",
       "      <th>889</th>\n",
       "      <td>1</td>\n",
       "      <td>1</td>\n",
       "      <td>0</td>\n",
       "      <td>0</td>\n",
       "      <td>30.000</td>\n",
       "      <td>1</td>\n",
       "      <td>1</td>\n",
       "      <td>0</td>\n",
       "      <td>0</td>\n",
       "      <td>0</td>\n",
       "      <td>0</td>\n",
       "    </tr>\n",
       "    <tr>\n",
       "      <th>816</th>\n",
       "      <td>0</td>\n",
       "      <td>3</td>\n",
       "      <td>0</td>\n",
       "      <td>0</td>\n",
       "      <td>7.925</td>\n",
       "      <td>1</td>\n",
       "      <td>0</td>\n",
       "      <td>0</td>\n",
       "      <td>1</td>\n",
       "      <td>0</td>\n",
       "      <td>1</td>\n",
       "    </tr>\n",
       "  </tbody>\n",
       "</table>\n",
       "</div>"
      ],
      "text/plain": [
       "     survived  pclass  sibsp  parch    fare  alone  sex_male  \\\n",
       "829         1       1      0      0  80.000      1         0   \n",
       "72          0       2      0      0  73.500      1         1   \n",
       "157         0       3      0      0   8.050      1         1   \n",
       "889         1       1      0      0  30.000      1         1   \n",
       "816         0       3      0      0   7.925      1         0   \n",
       "\n",
       "     embark_town_Queenstown  embark_town_Southampton  class_Second  \\\n",
       "829                       0                        0             0   \n",
       "72                        0                        1             1   \n",
       "157                       0                        1             0   \n",
       "889                       0                        0             0   \n",
       "816                       0                        1             0   \n",
       "\n",
       "     class_Third  \n",
       "829            0  \n",
       "72             0  \n",
       "157            1  \n",
       "889            0  \n",
       "816            1  "
      ]
     },
     "execution_count": 7,
     "metadata": {},
     "output_type": "execute_result"
    }
   ],
   "source": [
    "train.head()"
   ]
  },
  {
   "cell_type": "code",
   "execution_count": 8,
   "id": "baecfd2e",
   "metadata": {},
   "outputs": [
    {
     "name": "stdout",
     "output_type": "stream",
     "text": [
      "<class 'pandas.core.frame.DataFrame'>\n",
      "Int64Index: 569 entries, 829 to 600\n",
      "Data columns (total 11 columns):\n",
      " #   Column                   Non-Null Count  Dtype  \n",
      "---  ------                   --------------  -----  \n",
      " 0   survived                 569 non-null    int64  \n",
      " 1   pclass                   569 non-null    int64  \n",
      " 2   sibsp                    569 non-null    int64  \n",
      " 3   parch                    569 non-null    int64  \n",
      " 4   fare                     569 non-null    float64\n",
      " 5   alone                    569 non-null    int64  \n",
      " 6   sex_male                 569 non-null    uint8  \n",
      " 7   embark_town_Queenstown   569 non-null    uint8  \n",
      " 8   embark_town_Southampton  569 non-null    uint8  \n",
      " 9   class_Second             569 non-null    uint8  \n",
      " 10  class_Third              569 non-null    uint8  \n",
      "dtypes: float64(1), int64(5), uint8(5)\n",
      "memory usage: 33.9 KB\n"
     ]
    }
   ],
   "source": [
    "train.info()"
   ]
  },
  {
   "cell_type": "markdown",
   "id": "e3b17c6f",
   "metadata": {},
   "source": [
    "### 1 Baseline?"
   ]
  },
  {
   "cell_type": "code",
   "execution_count": 9,
   "id": "de65f8d4",
   "metadata": {},
   "outputs": [
    {
     "data": {
      "text/plain": [
       "0    351\n",
       "1    218\n",
       "Name: survived, dtype: int64"
      ]
     },
     "execution_count": 9,
     "metadata": {},
     "output_type": "execute_result"
    }
   ],
   "source": [
    "train.survived.value_counts()"
   ]
  },
  {
   "cell_type": "code",
   "execution_count": 10,
   "id": "963d0690",
   "metadata": {},
   "outputs": [],
   "source": [
    "#baseline is 0 for all. Nobody survived."
   ]
  },
  {
   "cell_type": "code",
   "execution_count": 11,
   "id": "2b4d92db",
   "metadata": {},
   "outputs": [
    {
     "data": {
      "text/plain": [
       "0.616871704745167"
      ]
     },
     "execution_count": 11,
     "metadata": {},
     "output_type": "execute_result"
    }
   ],
   "source": [
    "1 - train.survived.mean()"
   ]
  },
  {
   "cell_type": "code",
   "execution_count": 12,
   "id": "0f74037b",
   "metadata": {},
   "outputs": [],
   "source": [
    "#accuracy for baseline is 61.69%"
   ]
  },
  {
   "cell_type": "code",
   "execution_count": 13,
   "id": "aabf6304",
   "metadata": {},
   "outputs": [],
   "source": [
    "#remove 'survived' column since that is our target value and we want to avoid target leakage"
   ]
  },
  {
   "cell_type": "code",
   "execution_count": 14,
   "id": "0559b130",
   "metadata": {},
   "outputs": [],
   "source": [
    "x_train = train.drop(columns=[\"survived\"])\n",
    "y_train = train.survived\n",
    "\n",
    "x_validate = validate.drop(columns=[\"survived\"])\n",
    "y_validate = validate.survived\n",
    "\n",
    "x_test = test.drop(columns=[\"survived\"])\n",
    "y_test = test.survived"
   ]
  },
  {
   "cell_type": "code",
   "execution_count": 15,
   "id": "61ac30d1",
   "metadata": {},
   "outputs": [],
   "source": [
    "#class method:"
   ]
  },
  {
   "cell_type": "code",
   "execution_count": 16,
   "id": "d477a105",
   "metadata": {},
   "outputs": [
    {
     "data": {
      "text/plain": [
       "0    351\n",
       "1    218\n",
       "Name: survived, dtype: int64"
      ]
     },
     "execution_count": 16,
     "metadata": {},
     "output_type": "execute_result"
    }
   ],
   "source": [
    "y_train.value_counts()"
   ]
  },
  {
   "cell_type": "code",
   "execution_count": 17,
   "id": "3b44c1f9",
   "metadata": {
    "scrolled": true
   },
   "outputs": [
    {
     "name": "stdout",
     "output_type": "stream",
     "text": [
      "Baseline accuracy: 0.62\n"
     ]
    }
   ],
   "source": [
    "# The mode is a great baseline\n",
    "baseline = y_train.mode()\n",
    "\n",
    "# Produce a boolean array with True representing a match between the baseline prediction and reality\n",
    "matches_baseline_prediction = (y_train == 0)\n",
    "\n",
    "baseline_accuracy = matches_baseline_prediction.mean()\n",
    "print(f\"Baseline accuracy: {round(baseline_accuracy, 2)}\")"
   ]
  },
  {
   "cell_type": "markdown",
   "id": "7f21626a",
   "metadata": {},
   "source": [
    "### 2\n",
    "Fit the decision tree classifier to your training sample and transform (i.e. make predictions on the training sample)\n"
   ]
  },
  {
   "cell_type": "code",
   "execution_count": 18,
   "id": "9ce5b69d",
   "metadata": {},
   "outputs": [],
   "source": [
    "tree1 = DecisionTreeClassifier(max_depth = 3)"
   ]
  },
  {
   "cell_type": "code",
   "execution_count": 19,
   "id": "fc72a4c9",
   "metadata": {},
   "outputs": [
    {
     "data": {
      "text/plain": [
       "DecisionTreeClassifier(max_depth=3)"
      ]
     },
     "execution_count": 19,
     "metadata": {},
     "output_type": "execute_result"
    }
   ],
   "source": [
    "tree1.fit(x_train, y_train)"
   ]
  },
  {
   "cell_type": "code",
   "execution_count": 20,
   "id": "a0e77db7",
   "metadata": {},
   "outputs": [
    {
     "name": "stdout",
     "output_type": "stream",
     "text": [
      "|--- sex_male <= 0.50\n",
      "|   |--- class_Third <= 0.50\n",
      "|   |   |--- fare <= 28.86\n",
      "|   |   |   |--- class: 1\n",
      "|   |   |--- fare >  28.86\n",
      "|   |   |   |--- class: 1\n",
      "|   |--- class_Third >  0.50\n",
      "|   |   |--- embark_town_Southampton <= 0.50\n",
      "|   |   |   |--- class: 1\n",
      "|   |   |--- embark_town_Southampton >  0.50\n",
      "|   |   |   |--- class: 0\n",
      "|--- sex_male >  0.50\n",
      "|   |--- fare <= 18.27\n",
      "|   |   |--- parch <= 0.50\n",
      "|   |   |   |--- class: 0\n",
      "|   |   |--- parch >  0.50\n",
      "|   |   |   |--- class: 0\n",
      "|   |--- fare >  18.27\n",
      "|   |   |--- fare <= 19.38\n",
      "|   |   |   |--- class: 1\n",
      "|   |   |--- fare >  19.38\n",
      "|   |   |   |--- class: 0\n",
      "\n"
     ]
    }
   ],
   "source": [
    "print(export_text(tree1, feature_names=x_train.columns.tolist()))"
   ]
  },
  {
   "cell_type": "code",
   "execution_count": 21,
   "id": "f4b5d0aa",
   "metadata": {},
   "outputs": [
    {
     "data": {
      "text/plain": [
       "[Text(0.5, 0.875, 'sex_male <= 0.5\\ngini = 0.473\\nsamples = 569\\nvalue = [351, 218]'),\n",
       " Text(0.25, 0.625, 'class_Third <= 0.5\\ngini = 0.371\\nsamples = 199\\nvalue = [49, 150]'),\n",
       " Text(0.125, 0.375, 'fare <= 28.856\\ngini = 0.092\\nsamples = 104\\nvalue = [5, 99]'),\n",
       " Text(0.0625, 0.125, 'gini = 0.159\\nsamples = 46\\nvalue = [4, 42]'),\n",
       " Text(0.1875, 0.125, 'gini = 0.034\\nsamples = 58\\nvalue = [1, 57]'),\n",
       " Text(0.375, 0.375, 'embark_town_Southampton <= 0.5\\ngini = 0.497\\nsamples = 95\\nvalue = [44, 51]'),\n",
       " Text(0.3125, 0.125, 'gini = 0.355\\nsamples = 39\\nvalue = [9, 30]'),\n",
       " Text(0.4375, 0.125, 'gini = 0.469\\nsamples = 56\\nvalue = [35, 21]'),\n",
       " Text(0.75, 0.625, 'fare <= 18.275\\ngini = 0.3\\nsamples = 370\\nvalue = [302, 68]'),\n",
       " Text(0.625, 0.375, 'parch <= 0.5\\ngini = 0.192\\nsamples = 241\\nvalue = [215, 26]'),\n",
       " Text(0.5625, 0.125, 'gini = 0.177\\nsamples = 234\\nvalue = [211, 23]'),\n",
       " Text(0.6875, 0.125, 'gini = 0.49\\nsamples = 7\\nvalue = [4, 3]'),\n",
       " Text(0.875, 0.375, 'fare <= 19.377\\ngini = 0.439\\nsamples = 129\\nvalue = [87, 42]'),\n",
       " Text(0.8125, 0.125, 'gini = 0.0\\nsamples = 3\\nvalue = [0, 3]'),\n",
       " Text(0.9375, 0.125, 'gini = 0.427\\nsamples = 126\\nvalue = [87, 39]')]"
      ]
     },
     "execution_count": 21,
     "metadata": {},
     "output_type": "execute_result"
    },
    {
     "data": {
      "image/png": "[encoded data removed]",
      "text/plain": [
       "<Figure size 432x288 with 1 Axes>"
      ]
     },
     "metadata": {
      "needs_background": "light"
     },
     "output_type": "display_data"
    }
   ],
   "source": [
    "plot_tree(tree1, feature_names=x_train.columns)"
   ]
  },
  {
   "cell_type": "code",
   "execution_count": 22,
   "id": "69da76c4",
   "metadata": {
    "scrolled": true
   },
   "outputs": [
    {
     "data": {
      "image/png": "[encoded data removed]",
      "text/plain": [
       "<Figure size 1584x648 with 1 Axes>"
      ]
     },
     "metadata": {
      "needs_background": "light"
     },
     "output_type": "display_data"
    }
   ],
   "source": [
    "plt.figure(figsize = (22,9))\n",
    "plot_tree(tree1, feature_names=x_train.columns)\n",
    "plt.show()"
   ]
  },
  {
   "cell_type": "code",
   "execution_count": 23,
   "id": "0ffdd414",
   "metadata": {
    "scrolled": true
   },
   "outputs": [
    {
     "data": {
      "image/png": "[encoded data removed]",
      "text/plain": [
       "<Figure size 1296x432 with 1 Axes>"
      ]
     },
     "metadata": {
      "needs_background": "light"
     },
     "output_type": "display_data"
    }
   ],
   "source": [
    "plt.figure(figsize = (18,6))\n",
    "plot_tree(tree1, feature_names=x_train.columns, class_names=['died','survived'])\n",
    "plt.show()"
   ]
  },
  {
   "cell_type": "code",
   "execution_count": 24,
   "id": "5aa14609",
   "metadata": {
    "scrolled": true
   },
   "outputs": [
    {
     "data": {
      "text/plain": [
       "array([1, 0, 0, 0, 0, 0, 0, 0, 1, 1, 1, 0, 1, 0, 1, 1, 0, 0, 0, 1, 0, 0,\n",
       "       0, 1, 1, 0, 1, 0, 0, 0, 0, 1, 0, 0, 0, 0, 0, 0, 1, 1, 0, 0, 0, 1,\n",
       "       0, 1, 1, 0, 0, 0, 1, 0, 1, 0, 0, 1, 0, 0, 0, 0, 0, 0, 1, 0, 1, 0,\n",
       "       0, 0, 0, 0, 1, 0, 1, 0, 0, 0, 0, 0, 1, 1, 1, 0, 0, 0, 0, 0, 0, 0,\n",
       "       0, 0, 0, 0, 0, 0, 0, 0, 1, 0, 0, 0, 0, 0, 1, 1, 0, 0, 1, 0, 0, 1,\n",
       "       0, 0, 1, 0, 0, 0, 0, 0, 1, 0, 0, 1, 1, 0, 0, 0, 0, 0, 0, 0, 0, 0,\n",
       "       0, 0, 0, 1, 0, 0, 0, 1, 1, 1, 0, 0, 0, 1, 0, 1, 1, 0, 0, 0, 1, 0,\n",
       "       0, 1, 0, 1, 1, 0, 1, 0, 0, 1, 1, 1, 0, 0, 0, 0, 0, 0, 1, 1, 0, 0,\n",
       "       1, 0, 1, 0, 0, 0, 0, 0, 0, 0, 0, 0, 0, 0, 0, 0, 1, 0, 0, 0, 1, 0,\n",
       "       0, 1, 0, 0, 0, 0, 1, 0, 0, 0, 0, 0, 0, 0, 0, 0, 0, 0, 1, 0, 0, 0,\n",
       "       0, 1, 0, 0, 1, 0, 0, 0, 1, 0, 1, 1, 1, 0, 0, 0, 0, 0, 1, 0, 0, 0,\n",
       "       0, 0, 0, 0, 0, 1, 0, 0, 0, 0, 0, 0, 0, 0, 1, 0, 0, 0, 0, 0, 0, 0,\n",
       "       0, 1, 0, 1, 0, 0, 0, 1, 1, 0, 0, 0, 1, 1, 0, 0, 0, 1, 1, 1, 0, 0,\n",
       "       0, 0, 0, 1, 0, 0, 0, 1, 0, 1, 1, 0, 0, 0, 0, 0, 0, 0, 1, 0, 0, 0,\n",
       "       0, 0, 1, 1, 0, 0, 0, 1, 1, 1, 0, 0, 1, 0, 1, 0, 1, 0, 0, 0, 0, 0,\n",
       "       0, 0, 1, 0, 0, 0, 0, 0, 1, 0, 0, 0, 0, 0, 0, 0, 0, 0, 0, 0, 1, 0,\n",
       "       0, 0, 0, 0, 1, 0, 0, 0, 0, 0, 1, 0, 0, 0, 0, 0, 0, 0, 0, 0, 0, 1,\n",
       "       0, 0, 1, 0, 0, 0, 0, 0, 0, 1, 0, 0, 0, 1, 0, 0, 1, 0, 1, 1, 1, 0,\n",
       "       0, 0, 1, 0, 0, 0, 1, 0, 1, 0, 0, 1, 0, 1, 0, 1, 0, 0, 0, 0, 1, 0,\n",
       "       1, 0, 0, 0, 1, 1, 1, 1, 0, 0, 0, 0, 1, 0, 0, 0, 0, 0, 0, 0, 1, 0,\n",
       "       0, 0, 1, 0, 1, 0, 0, 1, 0, 1, 0, 1, 0, 0, 0, 0, 0, 0, 0, 0, 0, 0,\n",
       "       0, 0, 0, 1, 0, 0, 1, 0, 0, 0, 0, 1, 0, 0, 0, 1, 0, 1, 0, 0, 0, 0,\n",
       "       0, 0, 1, 0, 0, 1, 1, 0, 0, 0, 0, 0, 0, 0, 0, 0, 0, 0, 0, 0, 0, 1,\n",
       "       0, 0, 0, 0, 0, 0, 1, 1, 0, 0, 0, 0, 0, 0, 0, 1, 0, 1, 0, 0, 0, 0,\n",
       "       0, 0, 0, 1, 0, 1, 0, 0, 1, 0, 0, 0, 0, 0, 0, 0, 0, 0, 0, 0, 0, 0,\n",
       "       0, 0, 1, 0, 0, 0, 1, 0, 1, 0, 1, 0, 0, 1, 0, 1, 0, 0, 1])"
      ]
     },
     "execution_count": 24,
     "metadata": {},
     "output_type": "execute_result"
    }
   ],
   "source": [
    "tree1.predict(x_train)"
   ]
  },
  {
   "cell_type": "code",
   "execution_count": 25,
   "id": "6f2ee30c",
   "metadata": {},
   "outputs": [],
   "source": [
    "predictions = tree1.predict(x_train)\n",
    "actual = y_train"
   ]
  },
  {
   "cell_type": "code",
   "execution_count": null,
   "id": "12362303",
   "metadata": {},
   "outputs": [],
   "source": []
  },
  {
   "cell_type": "markdown",
   "id": "1f604f0f",
   "metadata": {},
   "source": [
    "### 3 \n",
    "Evaluate your in-sample results using the model score, confusion matrix, and classification report."
   ]
  },
  {
   "cell_type": "code",
   "execution_count": 26,
   "id": "835db3a5",
   "metadata": {
    "scrolled": false
   },
   "outputs": [
    {
     "name": "stdout",
     "output_type": "stream",
     "text": [
      "              precision    recall  f1-score   support\n",
      "\n",
      "           0       0.80      0.96      0.87       351\n",
      "           1       0.90      0.61      0.73       218\n",
      "\n",
      "    accuracy                           0.82       569\n",
      "   macro avg       0.85      0.78      0.80       569\n",
      "weighted avg       0.84      0.82      0.82       569\n",
      "\n"
     ]
    }
   ],
   "source": [
    "print(classification_report(actual, predictions))"
   ]
  },
  {
   "cell_type": "code",
   "execution_count": 27,
   "id": "dc5863d9",
   "metadata": {},
   "outputs": [],
   "source": [
    "#class did the above cell, but also the single next cell"
   ]
  },
  {
   "cell_type": "code",
   "execution_count": 28,
   "id": "448beeee",
   "metadata": {},
   "outputs": [
    {
     "name": "stdout",
     "output_type": "stream",
     "text": [
      "Tree of 1 depth\n"
     ]
    },
    {
     "data": {
      "text/html": [
       "<div>\n",
       "<style scoped>\n",
       "    .dataframe tbody tr th:only-of-type {\n",
       "        vertical-align: middle;\n",
       "    }\n",
       "\n",
       "    .dataframe tbody tr th {\n",
       "        vertical-align: top;\n",
       "    }\n",
       "\n",
       "    .dataframe thead th {\n",
       "        text-align: right;\n",
       "    }\n",
       "</style>\n",
       "<table border=\"1\" class=\"dataframe\">\n",
       "  <thead>\n",
       "    <tr style=\"text-align: right;\">\n",
       "      <th></th>\n",
       "      <th>0</th>\n",
       "      <th>1</th>\n",
       "      <th>accuracy</th>\n",
       "      <th>macro avg</th>\n",
       "      <th>weighted avg</th>\n",
       "    </tr>\n",
       "  </thead>\n",
       "  <tbody>\n",
       "    <tr>\n",
       "      <th>precision</th>\n",
       "      <td>0.80</td>\n",
       "      <td>0.90</td>\n",
       "      <td>0.82</td>\n",
       "      <td>0.85</td>\n",
       "      <td>0.84</td>\n",
       "    </tr>\n",
       "    <tr>\n",
       "      <th>recall</th>\n",
       "      <td>0.96</td>\n",
       "      <td>0.61</td>\n",
       "      <td>0.82</td>\n",
       "      <td>0.78</td>\n",
       "      <td>0.82</td>\n",
       "    </tr>\n",
       "    <tr>\n",
       "      <th>f1-score</th>\n",
       "      <td>0.87</td>\n",
       "      <td>0.73</td>\n",
       "      <td>0.82</td>\n",
       "      <td>0.80</td>\n",
       "      <td>0.82</td>\n",
       "    </tr>\n",
       "    <tr>\n",
       "      <th>support</th>\n",
       "      <td>351.00</td>\n",
       "      <td>218.00</td>\n",
       "      <td>0.82</td>\n",
       "      <td>569.00</td>\n",
       "      <td>569.00</td>\n",
       "    </tr>\n",
       "  </tbody>\n",
       "</table>\n",
       "</div>"
      ],
      "text/plain": [
       "                0       1  accuracy  macro avg  weighted avg\n",
       "precision    0.80    0.90      0.82       0.85          0.84\n",
       "recall       0.96    0.61      0.82       0.78          0.82\n",
       "f1-score     0.87    0.73      0.82       0.80          0.82\n",
       "support    351.00  218.00      0.82     569.00        569.00"
      ]
     },
     "execution_count": 28,
     "metadata": {},
     "output_type": "execute_result"
    }
   ],
   "source": [
    "# Produce the classification report on the actual y values and this model's predicted y values\n",
    "report = classification_report(actual, predictions, output_dict=True)\n",
    "print(\"Tree of 1 depth\")\n",
    "pd.DataFrame(report).round(2)"
   ]
  },
  {
   "cell_type": "code",
   "execution_count": 29,
   "id": "73880110",
   "metadata": {},
   "outputs": [],
   "source": [
    "#return to my work"
   ]
  },
  {
   "cell_type": "code",
   "execution_count": 30,
   "id": "6c73b26c",
   "metadata": {},
   "outputs": [
    {
     "data": {
      "text/html": [
       "<div>\n",
       "<style scoped>\n",
       "    .dataframe tbody tr th:only-of-type {\n",
       "        vertical-align: middle;\n",
       "    }\n",
       "\n",
       "    .dataframe tbody tr th {\n",
       "        vertical-align: top;\n",
       "    }\n",
       "\n",
       "    .dataframe thead th {\n",
       "        text-align: right;\n",
       "    }\n",
       "</style>\n",
       "<table border=\"1\" class=\"dataframe\">\n",
       "  <thead>\n",
       "    <tr style=\"text-align: right;\">\n",
       "      <th>col_0</th>\n",
       "      <th>0</th>\n",
       "      <th>1</th>\n",
       "    </tr>\n",
       "    <tr>\n",
       "      <th>survived</th>\n",
       "      <th></th>\n",
       "      <th></th>\n",
       "    </tr>\n",
       "  </thead>\n",
       "  <tbody>\n",
       "    <tr>\n",
       "      <th>0</th>\n",
       "      <td>337</td>\n",
       "      <td>14</td>\n",
       "    </tr>\n",
       "    <tr>\n",
       "      <th>1</th>\n",
       "      <td>86</td>\n",
       "      <td>132</td>\n",
       "    </tr>\n",
       "  </tbody>\n",
       "</table>\n",
       "</div>"
      ],
      "text/plain": [
       "col_0       0    1\n",
       "survived          \n",
       "0         337   14\n",
       "1          86  132"
      ]
     },
     "execution_count": 30,
     "metadata": {},
     "output_type": "execute_result"
    }
   ],
   "source": [
    "pd.crosstab(actual, predictions)"
   ]
  },
  {
   "cell_type": "code",
   "execution_count": 31,
   "id": "45cb827c",
   "metadata": {},
   "outputs": [
    {
     "data": {
      "text/plain": [
       "array([[337,  14],\n",
       "       [ 86, 132]])"
      ]
     },
     "execution_count": 31,
     "metadata": {},
     "output_type": "execute_result"
    }
   ],
   "source": [
    "confusion_matrix(actual, predictions)"
   ]
  },
  {
   "cell_type": "code",
   "execution_count": 32,
   "id": "5c2821fd",
   "metadata": {
    "scrolled": true
   },
   "outputs": [
    {
     "data": {
      "text/plain": [
       "<sklearn.metrics._plot.confusion_matrix.ConfusionMatrixDisplay at 0x168e1f760>"
      ]
     },
     "execution_count": 32,
     "metadata": {},
     "output_type": "execute_result"
    },
    {
     "data": {
      "image/png": "[encoded data removed]",
      "text/plain": [
       "<Figure size 432x288 with 2 Axes>"
      ]
     },
     "metadata": {
      "needs_background": "light"
     },
     "output_type": "display_data"
    }
   ],
   "source": [
    "plot_confusion_matrix(tree1, x_train, y_train)"
   ]
  },
  {
   "cell_type": "code",
   "execution_count": 33,
   "id": "3190ff60",
   "metadata": {},
   "outputs": [
    {
     "name": "stdout",
     "output_type": "stream",
     "text": [
      "Accuracy of Decision Tree classifier on validate set: 0.78\n"
     ]
    }
   ],
   "source": [
    "print('Accuracy of Decision Tree classifier on validate set: {:.2f}'\n",
    "     .format(tree1.score(x_validate, y_validate)))\n"
   ]
  },
  {
   "cell_type": "markdown",
   "id": "7decb927",
   "metadata": {},
   "source": [
    "### It's better than the baseline!\n",
    "\n",
    "Baseline ~62\n",
    "tree1 ~78"
   ]
  },
  {
   "cell_type": "markdown",
   "id": "6ad6ef1e",
   "metadata": {},
   "source": [
    "### 4\n",
    "\n",
    "Compute: Accuracy, true positive rate, false positive rate, true negative rate, false negative rate, precision, recall, f1-score, and support.\n",
    "    "
   ]
  },
  {
   "cell_type": "code",
   "execution_count": 34,
   "id": "b48fe8a6",
   "metadata": {},
   "outputs": [],
   "source": [
    "TN, FP, FN, TP = confusion_matrix(actual, predictions).ravel()"
   ]
  },
  {
   "cell_type": "code",
   "execution_count": 35,
   "id": "0c057649",
   "metadata": {
    "scrolled": false
   },
   "outputs": [
    {
     "data": {
      "text/plain": [
       "(337, 14, 86, 132)"
      ]
     },
     "execution_count": 35,
     "metadata": {},
     "output_type": "execute_result"
    }
   ],
   "source": [
    "TN, FP, FN, TP"
   ]
  },
  {
   "cell_type": "code",
   "execution_count": 36,
   "id": "93a17bf2",
   "metadata": {},
   "outputs": [],
   "source": [
    "Total = TP + FP + FN + TN"
   ]
  },
  {
   "cell_type": "code",
   "execution_count": 37,
   "id": "721873ef",
   "metadata": {
    "scrolled": true
   },
   "outputs": [
    {
     "data": {
      "text/plain": [
       "0.8242530755711776"
      ]
     },
     "execution_count": 37,
     "metadata": {},
     "output_type": "execute_result"
    }
   ],
   "source": [
    "accuracy = (TP + TN)/Total\n",
    "accuracy"
   ]
  },
  {
   "cell_type": "code",
   "execution_count": 38,
   "id": "6c1be4e0",
   "metadata": {},
   "outputs": [],
   "source": [
    "accuracy = (TP + TN)/Total\n",
    "true_positive_rate = TP/(TP+FN)\n",
    "false_positive_rate = FP/(FP+TN)\n",
    "true_negative_rate = TN/(TN+FP)\n",
    "false_negative_rate = FN/(FN+TP)\n",
    "precision = TP/(TP+FP)\n",
    "f1_score = TP/(TP + (.5*(FP+FN)))\n",
    "support_pos = TP + FN\n",
    "support_neg = FP + TN"
   ]
  },
  {
   "cell_type": "code",
   "execution_count": 39,
   "id": "35bd0e27",
   "metadata": {
    "scrolled": true
   },
   "outputs": [
    {
     "data": {
      "text/plain": [
       "(0.8242530755711776,\n",
       " 0.6055045871559633,\n",
       " 0.039886039886039885,\n",
       " 0.9601139601139601,\n",
       " 0.3944954128440367,\n",
       " 0.9041095890410958,\n",
       " 0.7252747252747253,\n",
       " 218,\n",
       " 351)"
      ]
     },
     "execution_count": 39,
     "metadata": {},
     "output_type": "execute_result"
    }
   ],
   "source": [
    "accuracy, true_positive_rate, false_positive_rate, true_negative_rate, false_negative_rate, precision, f1_score, support_pos, support_neg "
   ]
  },
  {
   "cell_type": "code",
   "execution_count": 40,
   "id": "161a49a3",
   "metadata": {},
   "outputs": [],
   "source": [
    "#From class review"
   ]
  },
  {
   "cell_type": "code",
   "execution_count": 41,
   "id": "d6f44527",
   "metadata": {},
   "outputs": [
    {
     "name": "stdout",
     "output_type": "stream",
     "text": [
      "Negative Cases: 351\n",
      "Positive Cases: 218\n",
      "0    351\n",
      "1    218\n",
      "Name: survived, dtype: int64\n"
     ]
    }
   ],
   "source": [
    "negative_cases = TN + FP\n",
    "positive_cases = FN + TP\n",
    "print(f\"Negative Cases: {negative_cases}\")\n",
    "print(f\"Positive Cases: {positive_cases}\")\n",
    "print(y_train.value_counts())"
   ]
  },
  {
   "cell_type": "code",
   "execution_count": 42,
   "id": "ba61e30e",
   "metadata": {
    "scrolled": true
   },
   "outputs": [
    {
     "name": "stdout",
     "output_type": "stream",
     "text": [
      "Accuracy: 0.8242530755711776 \n",
      "\n",
      "True Positive Rate/Sensitivity/Recall/Power: 0.6055045871559633 \n",
      "\n",
      "False Positive Rate/False Alarm Ratio/Fall-out: 0.039886039886039885 \n",
      "\n",
      "True Negative Rate/Specificity/Selectivity: 0.9601139601139601 \n",
      "\n",
      "False Negative Rate/Miss Rate: 0.3944954128440367 \n",
      "\n",
      "Precision/PPV: 0.9041095890410958 \n",
      "\n",
      "F1 Score: 0.7252747252747253 \n",
      "\n",
      "Support (0): 351 \n",
      "\n",
      "Support (1): 218\n"
     ]
    }
   ],
   "source": [
    "ALL = TP + FP + FN + TN\n",
    "\n",
    "accuracy = (TP + TN)/ALL\n",
    "true_positive_rate = sensitivity = recall = power = TP/(TP+FN)\n",
    "false_positive_rate = false_alarm_ratio = fallout = FP/(FP+TN)\n",
    "true_negative_rate = specificity = selectivity = TN/(TN+FP)\n",
    "false_negative_rate = miss_rate = FN/(FN+TP)\n",
    "precision = PPV = TP/(TP+FP)\n",
    "f1_score = 2*(precision*recall)/(precision+recall)\n",
    "support_pos = TP + FN\n",
    "support_neg = FP + TN\n",
    "\n",
    "print(f\"Accuracy: {accuracy}\", '\\n')\n",
    "print(f\"True Positive Rate/Sensitivity/Recall/Power: {true_positive_rate}\", '\\n')\n",
    "print(f\"False Positive Rate/False Alarm Ratio/Fall-out: {false_positive_rate}\", '\\n')\n",
    "print(f\"True Negative Rate/Specificity/Selectivity: {true_negative_rate}\", '\\n')\n",
    "print(f\"False Negative Rate/Miss Rate: {false_negative_rate}\", '\\n')\n",
    "print(f\"Precision/PPV: {precision}\", '\\n')\n",
    "print(f\"F1 Score: {f1_score}\", '\\n')\n",
    "print(f\"Support (0): {support_neg}\", '\\n')\n",
    "print(f\"Support (1): {support_pos}\")"
   ]
  },
  {
   "cell_type": "code",
   "execution_count": null,
   "id": "4ed79cce",
   "metadata": {},
   "outputs": [],
   "source": []
  },
  {
   "cell_type": "markdown",
   "id": "3fda9f25",
   "metadata": {},
   "source": [
    "### 5"
   ]
  },
  {
   "cell_type": "code",
   "execution_count": 43,
   "id": "357dfa2a",
   "metadata": {},
   "outputs": [],
   "source": [
    "tree2 = DecisionTreeClassifier(max_depth = 19)"
   ]
  },
  {
   "cell_type": "code",
   "execution_count": 44,
   "id": "d310e954",
   "metadata": {},
   "outputs": [
    {
     "data": {
      "text/plain": [
       "DecisionTreeClassifier(max_depth=19)"
      ]
     },
     "execution_count": 44,
     "metadata": {},
     "output_type": "execute_result"
    }
   ],
   "source": [
    "tree2.fit(x_train, y_train)"
   ]
  },
  {
   "cell_type": "code",
   "execution_count": 45,
   "id": "d081a2f2",
   "metadata": {},
   "outputs": [
    {
     "name": "stdout",
     "output_type": "stream",
     "text": [
      "|--- sex_male <= 0.50\n",
      "|   |--- pclass <= 2.50\n",
      "|   |   |--- fare <= 28.86\n",
      "|   |   |   |--- fare <= 28.23\n",
      "|   |   |   |   |--- sibsp <= 0.50\n",
      "|   |   |   |   |   |--- fare <= 13.25\n",
      "|   |   |   |   |   |   |--- fare <= 12.82\n",
      "|   |   |   |   |   |   |   |--- class: 1\n",
      "|   |   |   |   |   |   |--- fare >  12.82\n",
      "|   |   |   |   |   |   |   |--- parch <= 1.00\n",
      "|   |   |   |   |   |   |   |   |--- class: 1\n",
      "|   |   |   |   |   |   |   |--- parch >  1.00\n",
      "|   |   |   |   |   |   |   |   |--- class: 1\n",
      "|   |   |   |   |   |--- fare >  13.25\n",
      "|   |   |   |   |   |   |--- class: 1\n",
      "|   |   |   |   |--- sibsp >  0.50\n",
      "|   |   |   |   |   |--- parch <= 0.50\n",
      "|   |   |   |   |   |   |--- embark_town_Southampton <= 0.50\n",
      "|   |   |   |   |   |   |   |--- class: 1\n",
      "|   |   |   |   |   |   |--- embark_town_Southampton >  0.50\n",
      "|   |   |   |   |   |   |   |--- fare <= 23.50\n",
      "|   |   |   |   |   |   |   |   |--- class: 0\n",
      "|   |   |   |   |   |   |   |--- fare >  23.50\n",
      "|   |   |   |   |   |   |   |   |--- class: 1\n",
      "|   |   |   |   |   |--- parch >  0.50\n",
      "|   |   |   |   |   |   |--- class: 1\n",
      "|   |   |   |--- fare >  28.23\n",
      "|   |   |   |   |--- class: 0\n",
      "|   |   |--- fare >  28.86\n",
      "|   |   |   |--- parch <= 1.50\n",
      "|   |   |   |   |--- class: 1\n",
      "|   |   |   |--- parch >  1.50\n",
      "|   |   |   |   |--- embark_town_Southampton <= 0.50\n",
      "|   |   |   |   |   |--- class: 1\n",
      "|   |   |   |   |--- embark_town_Southampton >  0.50\n",
      "|   |   |   |   |   |--- pclass <= 1.50\n",
      "|   |   |   |   |   |   |--- class: 0\n",
      "|   |   |   |   |   |--- pclass >  1.50\n",
      "|   |   |   |   |   |   |--- class: 1\n",
      "|   |--- pclass >  2.50\n",
      "|   |   |--- embark_town_Southampton <= 0.50\n",
      "|   |   |   |--- fare <= 15.37\n",
      "|   |   |   |   |--- fare <= 8.08\n",
      "|   |   |   |   |   |--- fare <= 6.99\n",
      "|   |   |   |   |   |   |--- class: 0\n",
      "|   |   |   |   |   |--- fare >  6.99\n",
      "|   |   |   |   |   |   |--- fare <= 7.68\n",
      "|   |   |   |   |   |   |   |--- fare <= 7.43\n",
      "|   |   |   |   |   |   |   |   |--- class: 1\n",
      "|   |   |   |   |   |   |   |--- fare >  7.43\n",
      "|   |   |   |   |   |   |   |   |--- class: 0\n",
      "|   |   |   |   |   |   |--- fare >  7.68\n",
      "|   |   |   |   |   |   |   |--- fare <= 7.77\n",
      "|   |   |   |   |   |   |   |   |--- fare <= 7.74\n",
      "|   |   |   |   |   |   |   |   |   |--- class: 1\n",
      "|   |   |   |   |   |   |   |   |--- fare >  7.74\n",
      "|   |   |   |   |   |   |   |   |   |--- class: 1\n",
      "|   |   |   |   |   |   |   |--- fare >  7.77\n",
      "|   |   |   |   |   |   |   |   |--- class: 1\n",
      "|   |   |   |   |--- fare >  8.08\n",
      "|   |   |   |   |   |--- parch <= 1.50\n",
      "|   |   |   |   |   |   |--- fare <= 12.85\n",
      "|   |   |   |   |   |   |   |--- embark_town_Queenstown <= 0.50\n",
      "|   |   |   |   |   |   |   |   |--- class: 1\n",
      "|   |   |   |   |   |   |   |--- embark_town_Queenstown >  0.50\n",
      "|   |   |   |   |   |   |   |   |--- class: 0\n",
      "|   |   |   |   |   |   |--- fare >  12.85\n",
      "|   |   |   |   |   |   |   |--- class: 0\n",
      "|   |   |   |   |   |--- parch >  1.50\n",
      "|   |   |   |   |   |   |--- class: 0\n",
      "|   |   |   |--- fare >  15.37\n",
      "|   |   |   |   |--- class: 1\n",
      "|   |   |--- embark_town_Southampton >  0.50\n",
      "|   |   |   |--- fare <= 23.75\n",
      "|   |   |   |   |--- parch <= 0.50\n",
      "|   |   |   |   |   |--- fare <= 7.70\n",
      "|   |   |   |   |   |   |--- fare <= 7.52\n",
      "|   |   |   |   |   |   |   |--- class: 1\n",
      "|   |   |   |   |   |   |--- fare >  7.52\n",
      "|   |   |   |   |   |   |   |--- fare <= 7.60\n",
      "|   |   |   |   |   |   |   |   |--- class: 0\n",
      "|   |   |   |   |   |   |   |--- fare >  7.60\n",
      "|   |   |   |   |   |   |   |   |--- class: 1\n",
      "|   |   |   |   |   |--- fare >  7.70\n",
      "|   |   |   |   |   |   |--- fare <= 8.67\n",
      "|   |   |   |   |   |   |   |--- fare <= 7.88\n",
      "|   |   |   |   |   |   |   |   |--- fare <= 7.81\n",
      "|   |   |   |   |   |   |   |   |   |--- class: 0\n",
      "|   |   |   |   |   |   |   |   |--- fare >  7.81\n",
      "|   |   |   |   |   |   |   |   |   |--- class: 0\n",
      "|   |   |   |   |   |   |   |--- fare >  7.88\n",
      "|   |   |   |   |   |   |   |   |--- class: 0\n",
      "|   |   |   |   |   |   |--- fare >  8.67\n",
      "|   |   |   |   |   |   |   |--- fare <= 8.77\n",
      "|   |   |   |   |   |   |   |   |--- class: 1\n",
      "|   |   |   |   |   |   |   |--- fare >  8.77\n",
      "|   |   |   |   |   |   |   |   |--- fare <= 9.53\n",
      "|   |   |   |   |   |   |   |   |   |--- class: 0\n",
      "|   |   |   |   |   |   |   |   |--- fare >  9.53\n",
      "|   |   |   |   |   |   |   |   |   |--- fare <= 17.05\n",
      "|   |   |   |   |   |   |   |   |   |   |--- fare <= 15.18\n",
      "|   |   |   |   |   |   |   |   |   |   |   |--- truncated branch of depth 3\n",
      "|   |   |   |   |   |   |   |   |   |   |--- fare >  15.18\n",
      "|   |   |   |   |   |   |   |   |   |   |   |--- truncated branch of depth 2\n",
      "|   |   |   |   |   |   |   |   |   |--- fare >  17.05\n",
      "|   |   |   |   |   |   |   |   |   |   |--- class: 0\n",
      "|   |   |   |   |--- parch >  0.50\n",
      "|   |   |   |   |   |--- fare <= 13.44\n",
      "|   |   |   |   |   |   |--- class: 1\n",
      "|   |   |   |   |   |--- fare >  13.44\n",
      "|   |   |   |   |   |   |--- parch <= 3.00\n",
      "|   |   |   |   |   |   |   |--- sibsp <= 2.00\n",
      "|   |   |   |   |   |   |   |   |--- fare <= 20.23\n",
      "|   |   |   |   |   |   |   |   |   |--- sibsp <= 0.50\n",
      "|   |   |   |   |   |   |   |   |   |   |--- fare <= 18.46\n",
      "|   |   |   |   |   |   |   |   |   |   |   |--- class: 1\n",
      "|   |   |   |   |   |   |   |   |   |   |--- fare >  18.46\n",
      "|   |   |   |   |   |   |   |   |   |   |   |--- class: 0\n",
      "|   |   |   |   |   |   |   |   |   |--- sibsp >  0.50\n",
      "|   |   |   |   |   |   |   |   |   |   |--- class: 0\n",
      "|   |   |   |   |   |   |   |   |--- fare >  20.23\n",
      "|   |   |   |   |   |   |   |   |   |--- class: 1\n",
      "|   |   |   |   |   |   |   |--- sibsp >  2.00\n",
      "|   |   |   |   |   |   |   |   |--- class: 0\n",
      "|   |   |   |   |   |   |--- parch >  3.00\n",
      "|   |   |   |   |   |   |   |--- class: 0\n",
      "|   |   |   |--- fare >  23.75\n",
      "|   |   |   |   |--- parch <= 4.00\n",
      "|   |   |   |   |   |--- class: 0\n",
      "|   |   |   |   |--- parch >  4.00\n",
      "|   |   |   |   |   |--- sibsp <= 0.50\n",
      "|   |   |   |   |   |   |--- class: 0\n",
      "|   |   |   |   |   |--- sibsp >  0.50\n",
      "|   |   |   |   |   |   |--- class: 1\n",
      "|--- sex_male >  0.50\n",
      "|   |--- fare <= 18.27\n",
      "|   |   |--- parch <= 0.50\n",
      "|   |   |   |--- fare <= 13.25\n",
      "|   |   |   |   |--- fare <= 10.34\n",
      "|   |   |   |   |   |--- sibsp <= 0.50\n",
      "|   |   |   |   |   |   |--- embark_town_Southampton <= 0.50\n",
      "|   |   |   |   |   |   |   |--- fare <= 7.23\n",
      "|   |   |   |   |   |   |   |   |--- class: 0\n",
      "|   |   |   |   |   |   |   |--- fare >  7.23\n",
      "|   |   |   |   |   |   |   |   |--- fare <= 7.48\n",
      "|   |   |   |   |   |   |   |   |   |--- class: 0\n",
      "|   |   |   |   |   |   |   |   |--- fare >  7.48\n",
      "|   |   |   |   |   |   |   |   |   |--- fare <= 7.75\n",
      "|   |   |   |   |   |   |   |   |   |   |--- class: 0\n",
      "|   |   |   |   |   |   |   |   |   |--- fare >  7.75\n",
      "|   |   |   |   |   |   |   |   |   |   |--- fare <= 8.28\n",
      "|   |   |   |   |   |   |   |   |   |   |   |--- truncated branch of depth 3\n",
      "|   |   |   |   |   |   |   |   |   |   |--- fare >  8.28\n",
      "|   |   |   |   |   |   |   |   |   |   |   |--- class: 0\n",
      "|   |   |   |   |   |   |--- embark_town_Southampton >  0.50\n",
      "|   |   |   |   |   |   |   |--- fare <= 8.08\n",
      "|   |   |   |   |   |   |   |   |--- fare <= 7.01\n",
      "|   |   |   |   |   |   |   |   |   |--- fare <= 6.74\n",
      "|   |   |   |   |   |   |   |   |   |   |--- class_Third <= 0.50\n",
      "|   |   |   |   |   |   |   |   |   |   |   |--- class: 0\n",
      "|   |   |   |   |   |   |   |   |   |   |--- class_Third >  0.50\n",
      "|   |   |   |   |   |   |   |   |   |   |   |--- truncated branch of depth 2\n",
      "|   |   |   |   |   |   |   |   |   |--- fare >  6.74\n",
      "|   |   |   |   |   |   |   |   |   |   |--- class: 0\n",
      "|   |   |   |   |   |   |   |   |--- fare >  7.01\n",
      "|   |   |   |   |   |   |   |   |   |--- fare <= 7.79\n",
      "|   |   |   |   |   |   |   |   |   |   |--- class: 0\n",
      "|   |   |   |   |   |   |   |   |   |--- fare >  7.79\n",
      "|   |   |   |   |   |   |   |   |   |   |--- fare <= 7.87\n",
      "|   |   |   |   |   |   |   |   |   |   |   |--- truncated branch of depth 3\n",
      "|   |   |   |   |   |   |   |   |   |   |--- fare >  7.87\n",
      "|   |   |   |   |   |   |   |   |   |   |   |--- truncated branch of depth 3\n",
      "|   |   |   |   |   |   |   |--- fare >  8.08\n",
      "|   |   |   |   |   |   |   |   |--- fare <= 8.14\n",
      "|   |   |   |   |   |   |   |   |   |--- class: 1\n",
      "|   |   |   |   |   |   |   |   |--- fare >  8.14\n",
      "|   |   |   |   |   |   |   |   |   |--- fare <= 8.66\n",
      "|   |   |   |   |   |   |   |   |   |   |--- class: 0\n",
      "|   |   |   |   |   |   |   |   |   |--- fare >  8.66\n",
      "|   |   |   |   |   |   |   |   |   |   |--- fare <= 8.94\n",
      "|   |   |   |   |   |   |   |   |   |   |   |--- class: 0\n",
      "|   |   |   |   |   |   |   |   |   |   |--- fare >  8.94\n",
      "|   |   |   |   |   |   |   |   |   |   |   |--- truncated branch of depth 3\n",
      "|   |   |   |   |   |--- sibsp >  0.50\n",
      "|   |   |   |   |   |   |--- sibsp <= 1.50\n",
      "|   |   |   |   |   |   |   |--- fare <= 7.51\n",
      "|   |   |   |   |   |   |   |   |--- class: 0\n",
      "|   |   |   |   |   |   |   |--- fare >  7.51\n",
      "|   |   |   |   |   |   |   |   |--- fare <= 7.81\n",
      "|   |   |   |   |   |   |   |   |   |--- class: 1\n",
      "|   |   |   |   |   |   |   |   |--- fare >  7.81\n",
      "|   |   |   |   |   |   |   |   |   |--- fare <= 7.89\n",
      "|   |   |   |   |   |   |   |   |   |   |--- class: 0\n",
      "|   |   |   |   |   |   |   |   |   |--- fare >  7.89\n",
      "|   |   |   |   |   |   |   |   |   |   |--- class: 1\n",
      "|   |   |   |   |   |   |--- sibsp >  1.50\n",
      "|   |   |   |   |   |   |   |--- class: 0\n",
      "|   |   |   |   |--- fare >  10.34\n",
      "|   |   |   |   |   |--- embark_town_Southampton <= 0.50\n",
      "|   |   |   |   |   |   |--- class: 1\n",
      "|   |   |   |   |   |--- embark_town_Southampton >  0.50\n",
      "|   |   |   |   |   |   |--- fare <= 12.64\n",
      "|   |   |   |   |   |   |   |--- fare <= 11.00\n",
      "|   |   |   |   |   |   |   |   |--- class: 0\n",
      "|   |   |   |   |   |   |   |--- fare >  11.00\n",
      "|   |   |   |   |   |   |   |   |--- class: 0\n",
      "|   |   |   |   |   |   |--- fare >  12.64\n",
      "|   |   |   |   |   |   |   |--- class: 0\n",
      "|   |   |   |--- fare >  13.25\n",
      "|   |   |   |   |--- class: 0\n",
      "|   |   |--- parch >  0.50\n",
      "|   |   |   |--- sibsp <= 1.50\n",
      "|   |   |   |   |--- class_Third <= 0.50\n",
      "|   |   |   |   |   |--- class: 1\n",
      "|   |   |   |   |--- class_Third >  0.50\n",
      "|   |   |   |   |   |--- embark_town_Queenstown <= 0.50\n",
      "|   |   |   |   |   |   |--- fare <= 7.87\n",
      "|   |   |   |   |   |   |   |--- class: 0\n",
      "|   |   |   |   |   |   |--- fare >  7.87\n",
      "|   |   |   |   |   |   |   |--- embark_town_Southampton <= 0.50\n",
      "|   |   |   |   |   |   |   |   |--- class: 1\n",
      "|   |   |   |   |   |   |   |--- embark_town_Southampton >  0.50\n",
      "|   |   |   |   |   |   |   |   |--- class: 0\n",
      "|   |   |   |   |   |--- embark_town_Queenstown >  0.50\n",
      "|   |   |   |   |   |   |--- class: 0\n",
      "|   |   |   |--- sibsp >  1.50\n",
      "|   |   |   |   |--- class: 0\n",
      "|   |--- fare >  18.27\n",
      "|   |   |--- fare <= 19.38\n",
      "|   |   |   |--- class: 1\n",
      "|   |   |--- fare >  19.38\n",
      "|   |   |   |--- pclass <= 1.50\n",
      "|   |   |   |   |--- sibsp <= 0.50\n",
      "|   |   |   |   |   |--- fare <= 37.55\n",
      "|   |   |   |   |   |   |--- fare <= 35.08\n",
      "|   |   |   |   |   |   |   |--- fare <= 31.66\n",
      "|   |   |   |   |   |   |   |   |--- fare <= 26.14\n",
      "|   |   |   |   |   |   |   |   |   |--- class: 0\n",
      "|   |   |   |   |   |   |   |   |--- fare >  26.14\n",
      "|   |   |   |   |   |   |   |   |   |--- fare <= 26.47\n",
      "|   |   |   |   |   |   |   |   |   |   |--- class: 1\n",
      "|   |   |   |   |   |   |   |   |   |--- fare >  26.47\n",
      "|   |   |   |   |   |   |   |   |   |   |--- fare <= 29.85\n",
      "|   |   |   |   |   |   |   |   |   |   |   |--- truncated branch of depth 2\n",
      "|   |   |   |   |   |   |   |   |   |   |--- fare >  29.85\n",
      "|   |   |   |   |   |   |   |   |   |   |   |--- truncated branch of depth 4\n",
      "|   |   |   |   |   |   |   |--- fare >  31.66\n",
      "|   |   |   |   |   |   |   |   |--- class: 0\n",
      "|   |   |   |   |   |   |--- fare >  35.08\n",
      "|   |   |   |   |   |   |   |--- class: 1\n",
      "|   |   |   |   |   |--- fare >  37.55\n",
      "|   |   |   |   |   |   |--- fare <= 379.93\n",
      "|   |   |   |   |   |   |   |--- fare <= 62.37\n",
      "|   |   |   |   |   |   |   |   |--- class: 0\n",
      "|   |   |   |   |   |   |   |--- fare >  62.37\n",
      "|   |   |   |   |   |   |   |   |--- fare <= 77.01\n",
      "|   |   |   |   |   |   |   |   |   |--- class: 1\n",
      "|   |   |   |   |   |   |   |   |--- fare >  77.01\n",
      "|   |   |   |   |   |   |   |   |   |--- parch <= 1.50\n",
      "|   |   |   |   |   |   |   |   |   |   |--- class: 0\n",
      "|   |   |   |   |   |   |   |   |   |--- parch >  1.50\n",
      "|   |   |   |   |   |   |   |   |   |   |--- fare <= 112.08\n",
      "|   |   |   |   |   |   |   |   |   |   |   |--- class: 1\n",
      "|   |   |   |   |   |   |   |   |   |   |--- fare >  112.08\n",
      "|   |   |   |   |   |   |   |   |   |   |   |--- class: 0\n",
      "|   |   |   |   |   |   |--- fare >  379.93\n",
      "|   |   |   |   |   |   |   |--- class: 1\n",
      "|   |   |   |   |--- sibsp >  0.50\n",
      "|   |   |   |   |   |--- fare <= 59.09\n",
      "|   |   |   |   |   |   |--- class: 1\n",
      "|   |   |   |   |   |--- fare >  59.09\n",
      "|   |   |   |   |   |   |--- fare <= 86.29\n",
      "|   |   |   |   |   |   |   |--- class: 0\n",
      "|   |   |   |   |   |   |--- fare >  86.29\n",
      "|   |   |   |   |   |   |   |--- sibsp <= 1.50\n",
      "|   |   |   |   |   |   |   |   |--- fare <= 99.99\n",
      "|   |   |   |   |   |   |   |   |   |--- class: 1\n",
      "|   |   |   |   |   |   |   |   |--- fare >  99.99\n",
      "|   |   |   |   |   |   |   |   |   |--- embark_town_Southampton <= 0.50\n",
      "|   |   |   |   |   |   |   |   |   |   |--- class: 0\n",
      "|   |   |   |   |   |   |   |   |   |--- embark_town_Southampton >  0.50\n",
      "|   |   |   |   |   |   |   |   |   |   |--- class: 1\n",
      "|   |   |   |   |   |   |   |--- sibsp >  1.50\n",
      "|   |   |   |   |   |   |   |   |--- class: 0\n",
      "|   |   |   |--- pclass >  1.50\n",
      "|   |   |   |   |--- sibsp <= 0.50\n",
      "|   |   |   |   |   |--- pclass <= 2.50\n",
      "|   |   |   |   |   |   |--- embark_town_Southampton <= 0.50\n",
      "|   |   |   |   |   |   |   |--- class: 1\n",
      "|   |   |   |   |   |   |--- embark_town_Southampton >  0.50\n",
      "|   |   |   |   |   |   |   |--- class: 0\n",
      "|   |   |   |   |   |--- pclass >  2.50\n",
      "|   |   |   |   |   |   |--- embark_town_Queenstown <= 0.50\n",
      "|   |   |   |   |   |   |   |--- class: 1\n",
      "|   |   |   |   |   |   |--- embark_town_Queenstown >  0.50\n",
      "|   |   |   |   |   |   |   |--- class: 0\n",
      "|   |   |   |   |--- sibsp >  0.50\n",
      "|   |   |   |   |   |--- fare <= 39.34\n",
      "|   |   |   |   |   |   |--- fare <= 37.88\n",
      "|   |   |   |   |   |   |   |--- fare <= 22.46\n",
      "|   |   |   |   |   |   |   |   |--- class: 0\n",
      "|   |   |   |   |   |   |   |--- fare >  22.46\n",
      "|   |   |   |   |   |   |   |   |--- fare <= 23.35\n",
      "|   |   |   |   |   |   |   |   |   |--- class: 1\n",
      "|   |   |   |   |   |   |   |   |--- fare >  23.35\n",
      "|   |   |   |   |   |   |   |   |   |--- embark_town_Southampton <= 0.50\n",
      "|   |   |   |   |   |   |   |   |   |   |--- class: 0\n",
      "|   |   |   |   |   |   |   |   |   |--- embark_town_Southampton >  0.50\n",
      "|   |   |   |   |   |   |   |   |   |   |--- sibsp <= 3.50\n",
      "|   |   |   |   |   |   |   |   |   |   |   |--- truncated branch of depth 4\n",
      "|   |   |   |   |   |   |   |   |   |   |--- sibsp >  3.50\n",
      "|   |   |   |   |   |   |   |   |   |   |   |--- class: 1\n",
      "|   |   |   |   |   |   |--- fare >  37.88\n",
      "|   |   |   |   |   |   |   |--- class: 1\n",
      "|   |   |   |   |   |--- fare >  39.34\n",
      "|   |   |   |   |   |   |--- class: 0\n",
      "\n"
     ]
    }
   ],
   "source": [
    "print(export_text(tree2, feature_names=x_train.columns.tolist()))"
   ]
  },
  {
   "cell_type": "code",
   "execution_count": 46,
   "id": "cb7381c6",
   "metadata": {},
   "outputs": [
    {
     "data": {
      "text/plain": [
       "[Text(0.483192373853211, 0.9666666666666667, 'sex_male <= 0.5\\ngini = 0.473\\nsamples = 569\\nvalue = [351, 218]'),\n",
       " Text(0.18663990825688073, 0.9, 'pclass <= 2.5\\ngini = 0.371\\nsamples = 199\\nvalue = [49, 150]'),\n",
       " Text(0.07339449541284404, 0.8333333333333334, 'fare <= 28.856\\ngini = 0.092\\nsamples = 104\\nvalue = [5, 99]'),\n",
       " Text(0.05504587155963303, 0.7666666666666667, 'fare <= 28.231\\ngini = 0.159\\nsamples = 46\\nvalue = [4, 42]'),\n",
       " Text(0.045871559633027525, 0.7, 'sibsp <= 0.5\\ngini = 0.124\\nsamples = 45\\nvalue = [3, 42]'),\n",
       " Text(0.027522935779816515, 0.6333333333333333, 'fare <= 13.25\\ngini = 0.062\\nsamples = 31\\nvalue = [1, 30]'),\n",
       " Text(0.01834862385321101, 0.5666666666666667, 'fare <= 12.825\\ngini = 0.111\\nsamples = 17\\nvalue = [1, 16]'),\n",
       " Text(0.009174311926605505, 0.5, 'gini = 0.0\\nsamples = 8\\nvalue = [0, 8]'),\n",
       " Text(0.027522935779816515, 0.5, 'parch <= 1.0\\ngini = 0.198\\nsamples = 9\\nvalue = [1, 8]'),\n",
       " Text(0.01834862385321101, 0.43333333333333335, 'gini = 0.219\\nsamples = 8\\nvalue = [1, 7]'),\n",
       " Text(0.03669724770642202, 0.43333333333333335, 'gini = 0.0\\nsamples = 1\\nvalue = [0, 1]'),\n",
       " Text(0.03669724770642202, 0.5666666666666667, 'gini = 0.0\\nsamples = 14\\nvalue = [0, 14]'),\n",
       " Text(0.06422018348623854, 0.6333333333333333, 'parch <= 0.5\\ngini = 0.245\\nsamples = 14\\nvalue = [2, 12]'),\n",
       " Text(0.05504587155963303, 0.5666666666666667, 'embark_town_Southampton <= 0.5\\ngini = 0.408\\nsamples = 7\\nvalue = [2, 5]'),\n",
       " Text(0.045871559633027525, 0.5, 'gini = 0.0\\nsamples = 2\\nvalue = [0, 2]'),\n",
       " Text(0.06422018348623854, 0.5, 'fare <= 23.5\\ngini = 0.48\\nsamples = 5\\nvalue = [2, 3]'),\n",
       " Text(0.05504587155963303, 0.43333333333333335, 'gini = 0.0\\nsamples = 1\\nvalue = [1, 0]'),\n",
       " Text(0.07339449541284404, 0.43333333333333335, 'gini = 0.375\\nsamples = 4\\nvalue = [1, 3]'),\n",
       " Text(0.07339449541284404, 0.5666666666666667, 'gini = 0.0\\nsamples = 7\\nvalue = [0, 7]'),\n",
       " Text(0.06422018348623854, 0.7, 'gini = 0.0\\nsamples = 1\\nvalue = [1, 0]'),\n",
       " Text(0.09174311926605505, 0.7666666666666667, 'parch <= 1.5\\ngini = 0.034\\nsamples = 58\\nvalue = [1, 57]'),\n",
       " Text(0.08256880733944955, 0.7, 'gini = 0.0\\nsamples = 53\\nvalue = [0, 53]'),\n",
       " Text(0.10091743119266056, 0.7, 'embark_town_Southampton <= 0.5\\ngini = 0.32\\nsamples = 5\\nvalue = [1, 4]'),\n",
       " Text(0.09174311926605505, 0.6333333333333333, 'gini = 0.0\\nsamples = 3\\nvalue = [0, 3]'),\n",
       " Text(0.11009174311926606, 0.6333333333333333, 'pclass <= 1.5\\ngini = 0.5\\nsamples = 2\\nvalue = [1, 1]'),\n",
       " Text(0.10091743119266056, 0.5666666666666667, 'gini = 0.0\\nsamples = 1\\nvalue = [1, 0]'),\n",
       " Text(0.11926605504587157, 0.5666666666666667, 'gini = 0.0\\nsamples = 1\\nvalue = [0, 1]'),\n",
       " Text(0.2998853211009174, 0.8333333333333334, 'embark_town_Southampton <= 0.5\\ngini = 0.497\\nsamples = 95\\nvalue = [44, 51]'),\n",
       " Text(0.19724770642201836, 0.7666666666666667, 'fare <= 15.373\\ngini = 0.355\\nsamples = 39\\nvalue = [9, 30]'),\n",
       " Text(0.18807339449541285, 0.7, 'fare <= 8.083\\ngini = 0.428\\nsamples = 29\\nvalue = [9, 20]'),\n",
       " Text(0.14678899082568808, 0.6333333333333333, 'fare <= 6.99\\ngini = 0.245\\nsamples = 21\\nvalue = [3, 18]'),\n",
       " Text(0.13761467889908258, 0.5666666666666667, 'gini = 0.0\\nsamples = 1\\nvalue = [1, 0]'),\n",
       " Text(0.1559633027522936, 0.5666666666666667, 'fare <= 7.681\\ngini = 0.18\\nsamples = 20\\nvalue = [2, 18]'),\n",
       " Text(0.13761467889908258, 0.5, 'fare <= 7.429\\ngini = 0.444\\nsamples = 3\\nvalue = [1, 2]'),\n",
       " Text(0.12844036697247707, 0.43333333333333335, 'gini = 0.0\\nsamples = 2\\nvalue = [0, 2]'),\n",
       " Text(0.14678899082568808, 0.43333333333333335, 'gini = 0.0\\nsamples = 1\\nvalue = [1, 0]'),\n",
       " Text(0.1743119266055046, 0.5, 'fare <= 7.769\\ngini = 0.111\\nsamples = 17\\nvalue = [1, 16]'),\n",
       " Text(0.1651376146788991, 0.43333333333333335, 'fare <= 7.744\\ngini = 0.153\\nsamples = 12\\nvalue = [1, 11]'),\n",
       " Text(0.1559633027522936, 0.36666666666666664, 'gini = 0.0\\nsamples = 3\\nvalue = [0, 3]'),\n",
       " Text(0.1743119266055046, 0.36666666666666664, 'gini = 0.198\\nsamples = 9\\nvalue = [1, 8]'),\n",
       " Text(0.1834862385321101, 0.43333333333333335, 'gini = 0.0\\nsamples = 5\\nvalue = [0, 5]'),\n",
       " Text(0.22935779816513763, 0.6333333333333333, 'parch <= 1.5\\ngini = 0.375\\nsamples = 8\\nvalue = [6, 2]'),\n",
       " Text(0.22018348623853212, 0.5666666666666667, 'fare <= 12.848\\ngini = 0.278\\nsamples = 6\\nvalue = [5, 1]'),\n",
       " Text(0.21100917431192662, 0.5, 'embark_town_Queenstown <= 0.5\\ngini = 0.5\\nsamples = 2\\nvalue = [1, 1]'),\n",
       " Text(0.2018348623853211, 0.43333333333333335, 'gini = 0.0\\nsamples = 1\\nvalue = [0, 1]'),\n",
       " Text(0.22018348623853212, 0.43333333333333335, 'gini = 0.0\\nsamples = 1\\nvalue = [1, 0]'),\n",
       " Text(0.22935779816513763, 0.5, 'gini = 0.0\\nsamples = 4\\nvalue = [4, 0]'),\n",
       " Text(0.23853211009174313, 0.5666666666666667, 'gini = 0.5\\nsamples = 2\\nvalue = [1, 1]'),\n",
       " Text(0.20642201834862386, 0.7, 'gini = 0.0\\nsamples = 10\\nvalue = [0, 10]'),\n",
       " Text(0.4025229357798165, 0.7666666666666667, 'fare <= 23.746\\ngini = 0.469\\nsamples = 56\\nvalue = [35, 21]'),\n",
       " Text(0.3555045871559633, 0.7, 'parch <= 0.5\\ngini = 0.498\\nsamples = 43\\nvalue = [23, 20]'),\n",
       " Text(0.2889908256880734, 0.6333333333333333, 'fare <= 7.7\\ngini = 0.464\\nsamples = 30\\nvalue = [19, 11]'),\n",
       " Text(0.25688073394495414, 0.5666666666666667, 'fare <= 7.523\\ngini = 0.32\\nsamples = 5\\nvalue = [1, 4]'),\n",
       " Text(0.24770642201834864, 0.5, 'gini = 0.0\\nsamples = 2\\nvalue = [0, 2]'),\n",
       " Text(0.26605504587155965, 0.5, 'fare <= 7.6\\ngini = 0.444\\nsamples = 3\\nvalue = [1, 2]'),\n",
       " Text(0.25688073394495414, 0.43333333333333335, 'gini = 0.5\\nsamples = 2\\nvalue = [1, 1]'),\n",
       " Text(0.27522935779816515, 0.43333333333333335, 'gini = 0.0\\nsamples = 1\\nvalue = [0, 1]'),\n",
       " Text(0.3211009174311927, 0.5666666666666667, 'fare <= 8.673\\ngini = 0.403\\nsamples = 25\\nvalue = [18, 7]'),\n",
       " Text(0.30275229357798167, 0.5, 'fare <= 7.875\\ngini = 0.153\\nsamples = 12\\nvalue = [11, 1]'),\n",
       " Text(0.29357798165137616, 0.43333333333333335, 'fare <= 7.815\\ngini = 0.32\\nsamples = 5\\nvalue = [4, 1]'),\n",
       " Text(0.28440366972477066, 0.36666666666666664, 'gini = 0.0\\nsamples = 3\\nvalue = [3, 0]'),\n",
       " Text(0.30275229357798167, 0.36666666666666664, 'gini = 0.5\\nsamples = 2\\nvalue = [1, 1]'),\n",
       " Text(0.3119266055045872, 0.43333333333333335, 'gini = 0.0\\nsamples = 7\\nvalue = [7, 0]'),\n",
       " Text(0.3394495412844037, 0.5, 'fare <= 8.767\\ngini = 0.497\\nsamples = 13\\nvalue = [7, 6]'),\n",
       " Text(0.3302752293577982, 0.43333333333333335, 'gini = 0.0\\nsamples = 1\\nvalue = [0, 1]'),\n",
       " Text(0.3486238532110092, 0.43333333333333335, 'fare <= 9.531\\ngini = 0.486\\nsamples = 12\\nvalue = [7, 5]'),\n",
       " Text(0.3394495412844037, 0.36666666666666664, 'gini = 0.0\\nsamples = 2\\nvalue = [2, 0]'),\n",
       " Text(0.3577981651376147, 0.36666666666666664, 'fare <= 17.05\\ngini = 0.5\\nsamples = 10\\nvalue = [5, 5]'),\n",
       " Text(0.3486238532110092, 0.3, 'fare <= 15.175\\ngini = 0.494\\nsamples = 9\\nvalue = [4, 5]'),\n",
       " Text(0.3302752293577982, 0.23333333333333334, 'sibsp <= 0.5\\ngini = 0.48\\nsamples = 5\\nvalue = [3, 2]'),\n",
       " Text(0.3211009174311927, 0.16666666666666666, 'fare <= 9.715\\ngini = 0.444\\nsamples = 3\\nvalue = [1, 2]'),\n",
       " Text(0.3119266055045872, 0.1, 'gini = 0.5\\nsamples = 2\\nvalue = [1, 1]'),\n",
       " Text(0.3302752293577982, 0.1, 'gini = 0.0\\nsamples = 1\\nvalue = [0, 1]'),\n",
       " Text(0.3394495412844037, 0.16666666666666666, 'gini = 0.0\\nsamples = 2\\nvalue = [2, 0]'),\n",
       " Text(0.3669724770642202, 0.23333333333333334, 'fare <= 15.975\\ngini = 0.375\\nsamples = 4\\nvalue = [1, 3]'),\n",
       " Text(0.3577981651376147, 0.16666666666666666, 'gini = 0.0\\nsamples = 2\\nvalue = [0, 2]'),\n",
       " Text(0.3761467889908257, 0.16666666666666666, 'gini = 0.5\\nsamples = 2\\nvalue = [1, 1]'),\n",
       " Text(0.3669724770642202, 0.3, 'gini = 0.0\\nsamples = 1\\nvalue = [1, 0]'),\n",
       " Text(0.42201834862385323, 0.6333333333333333, 'fare <= 13.438\\ngini = 0.426\\nsamples = 13\\nvalue = [4, 9]'),\n",
       " Text(0.41284403669724773, 0.5666666666666667, 'gini = 0.0\\nsamples = 5\\nvalue = [0, 5]'),\n",
       " Text(0.43119266055045874, 0.5666666666666667, 'parch <= 3.0\\ngini = 0.5\\nsamples = 8\\nvalue = [4, 4]'),\n",
       " Text(0.42201834862385323, 0.5, 'sibsp <= 2.0\\ngini = 0.49\\nsamples = 7\\nvalue = [3, 4]'),\n",
       " Text(0.41284403669724773, 0.43333333333333335, 'fare <= 20.231\\ngini = 0.444\\nsamples = 6\\nvalue = [2, 4]'),\n",
       " Text(0.4036697247706422, 0.36666666666666664, 'sibsp <= 0.5\\ngini = 0.444\\nsamples = 3\\nvalue = [2, 1]'),\n",
       " Text(0.3944954128440367, 0.3, 'fare <= 18.456\\ngini = 0.5\\nsamples = 2\\nvalue = [1, 1]'),\n",
       " Text(0.3853211009174312, 0.23333333333333334, 'gini = 0.0\\nsamples = 1\\nvalue = [0, 1]'),\n",
       " Text(0.4036697247706422, 0.23333333333333334, 'gini = 0.0\\nsamples = 1\\nvalue = [1, 0]'),\n",
       " Text(0.41284403669724773, 0.3, 'gini = 0.0\\nsamples = 1\\nvalue = [1, 0]'),\n",
       " Text(0.42201834862385323, 0.36666666666666664, 'gini = 0.0\\nsamples = 3\\nvalue = [0, 3]'),\n",
       " Text(0.43119266055045874, 0.43333333333333335, 'gini = 0.0\\nsamples = 1\\nvalue = [1, 0]'),\n",
       " Text(0.44036697247706424, 0.5, 'gini = 0.0\\nsamples = 1\\nvalue = [1, 0]'),\n",
       " Text(0.44954128440366975, 0.7, 'parch <= 4.0\\ngini = 0.142\\nsamples = 13\\nvalue = [12, 1]'),\n",
       " Text(0.44036697247706424, 0.6333333333333333, 'gini = 0.0\\nsamples = 11\\nvalue = [11, 0]'),\n",
       " Text(0.45871559633027525, 0.6333333333333333, 'sibsp <= 0.5\\ngini = 0.5\\nsamples = 2\\nvalue = [1, 1]'),\n",
       " Text(0.44954128440366975, 0.5666666666666667, 'gini = 0.0\\nsamples = 1\\nvalue = [1, 0]'),\n",
       " Text(0.46788990825688076, 0.5666666666666667, 'gini = 0.0\\nsamples = 1\\nvalue = [0, 1]'),\n",
       " Text(0.7797448394495413, 0.9, 'fare <= 18.275\\ngini = 0.3\\nsamples = 370\\nvalue = [302, 68]'),\n",
       " Text(0.6879300458715596, 0.8333333333333334, 'parch <= 0.5\\ngini = 0.192\\nsamples = 241\\nvalue = [215, 26]'),\n",
       " Text(0.6419151376146789, 0.7666666666666667, 'fare <= 13.25\\ngini = 0.177\\nsamples = 234\\nvalue = [211, 23]'),\n",
       " Text(0.6327408256880734, 0.7, 'fare <= 10.335\\ngini = 0.191\\nsamples = 215\\nvalue = [192, 23]'),\n",
       " Text(0.5865825688073395, 0.6333333333333333, 'sibsp <= 0.5\\ngini = 0.162\\nsamples = 180\\nvalue = [164, 16]'),\n",
       " Text(0.5217889908256881, 0.5666666666666667, 'embark_town_Southampton <= 0.5\\ngini = 0.15\\nsamples = 171\\nvalue = [157, 14]'),\n",
       " Text(0.45871559633027525, 0.5, 'fare <= 7.227\\ngini = 0.224\\nsamples = 39\\nvalue = [34, 5]'),\n",
       " Text(0.44954128440366975, 0.43333333333333335, 'gini = 0.0\\nsamples = 9\\nvalue = [9, 0]'),\n",
       " Text(0.46788990825688076, 0.43333333333333335, 'fare <= 7.477\\ngini = 0.278\\nsamples = 30\\nvalue = [25, 5]'),\n",
       " Text(0.45871559633027525, 0.36666666666666664, 'gini = 0.375\\nsamples = 8\\nvalue = [6, 2]'),\n",
       " Text(0.47706422018348627, 0.36666666666666664, 'fare <= 7.746\\ngini = 0.236\\nsamples = 22\\nvalue = [19, 3]'),\n",
       " Text(0.46788990825688076, 0.3, 'gini = 0.0\\nsamples = 5\\nvalue = [5, 0]'),\n",
       " Text(0.48623853211009177, 0.3, 'fare <= 8.279\\ngini = 0.291\\nsamples = 17\\nvalue = [14, 3]'),\n",
       " Text(0.47706422018348627, 0.23333333333333334, 'embark_town_Queenstown <= 0.5\\ngini = 0.32\\nsamples = 15\\nvalue = [12, 3]'),\n",
       " Text(0.46788990825688076, 0.16666666666666666, 'gini = 0.375\\nsamples = 4\\nvalue = [3, 1]'),\n",
       " Text(0.48623853211009177, 0.16666666666666666, 'fare <= 7.79\\ngini = 0.298\\nsamples = 11\\nvalue = [9, 2]'),\n",
       " Text(0.47706422018348627, 0.1, 'gini = 0.32\\nsamples = 10\\nvalue = [8, 2]'),\n",
       " Text(0.4954128440366973, 0.1, 'gini = 0.0\\nsamples = 1\\nvalue = [1, 0]'),\n",
       " Text(0.4954128440366973, 0.23333333333333334, 'gini = 0.0\\nsamples = 2\\nvalue = [2, 0]'),\n",
       " Text(0.5848623853211009, 0.5, 'fare <= 8.081\\ngini = 0.127\\nsamples = 132\\nvalue = [123, 9]'),\n",
       " Text(0.555045871559633, 0.43333333333333335, 'fare <= 7.013\\ngini = 0.102\\nsamples = 111\\nvalue = [105, 6]'),\n",
       " Text(0.5321100917431193, 0.36666666666666664, 'fare <= 6.735\\ngini = 0.26\\nsamples = 13\\nvalue = [11, 2]'),\n",
       " Text(0.5229357798165137, 0.3, 'class_Third <= 0.5\\ngini = 0.165\\nsamples = 11\\nvalue = [10, 1]'),\n",
       " Text(0.5137614678899083, 0.23333333333333334, 'gini = 0.0\\nsamples = 6\\nvalue = [6, 0]'),\n",
       " Text(0.5321100917431193, 0.23333333333333334, 'fare <= 3.225\\ngini = 0.32\\nsamples = 5\\nvalue = [4, 1]'),\n",
       " Text(0.5229357798165137, 0.16666666666666666, 'gini = 0.444\\nsamples = 3\\nvalue = [2, 1]'),\n",
       " Text(0.5412844036697247, 0.16666666666666666, 'gini = 0.0\\nsamples = 2\\nvalue = [2, 0]'),\n",
       " Text(0.5412844036697247, 0.3, 'gini = 0.5\\nsamples = 2\\nvalue = [1, 1]'),\n",
       " Text(0.5779816513761468, 0.36666666666666664, 'fare <= 7.785\\ngini = 0.078\\nsamples = 98\\nvalue = [94, 4]'),\n",
       " Text(0.5688073394495413, 0.3, 'gini = 0.0\\nsamples = 30\\nvalue = [30, 0]'),\n",
       " Text(0.5871559633027523, 0.3, 'fare <= 7.871\\ngini = 0.111\\nsamples = 68\\nvalue = [64, 4]'),\n",
       " Text(0.5688073394495413, 0.23333333333333334, 'fare <= 7.798\\ngini = 0.298\\nsamples = 11\\nvalue = [9, 2]'),\n",
       " Text(0.5596330275229358, 0.16666666666666666, 'gini = 0.32\\nsamples = 5\\nvalue = [4, 1]'),\n",
       " Text(0.5779816513761468, 0.16666666666666666, 'fare <= 7.827\\ngini = 0.278\\nsamples = 6\\nvalue = [5, 1]'),\n",
       " Text(0.5688073394495413, 0.1, 'gini = 0.0\\nsamples = 1\\nvalue = [1, 0]'),\n",
       " Text(0.5871559633027523, 0.1, 'gini = 0.32\\nsamples = 5\\nvalue = [4, 1]'),\n",
       " Text(0.6055045871559633, 0.23333333333333334, 'fare <= 7.91\\ngini = 0.068\\nsamples = 57\\nvalue = [55, 2]'),\n",
       " Text(0.5963302752293578, 0.16666666666666666, 'gini = 0.0\\nsamples = 25\\nvalue = [25, 0]'),\n",
       " Text(0.6146788990825688, 0.16666666666666666, 'fare <= 7.988\\ngini = 0.117\\nsamples = 32\\nvalue = [30, 2]'),\n",
       " Text(0.6055045871559633, 0.1, 'gini = 0.32\\nsamples = 5\\nvalue = [4, 1]'),\n",
       " Text(0.6238532110091743, 0.1, 'gini = 0.071\\nsamples = 27\\nvalue = [26, 1]'),\n",
       " Text(0.6146788990825688, 0.43333333333333335, 'fare <= 8.135\\ngini = 0.245\\nsamples = 21\\nvalue = [18, 3]'),\n",
       " Text(0.6055045871559633, 0.36666666666666664, 'gini = 0.0\\nsamples = 1\\nvalue = [0, 1]'),\n",
       " Text(0.6238532110091743, 0.36666666666666664, 'fare <= 8.658\\ngini = 0.18\\nsamples = 20\\nvalue = [18, 2]'),\n",
       " Text(0.6146788990825688, 0.3, 'gini = 0.0\\nsamples = 4\\nvalue = [4, 0]'),\n",
       " Text(0.6330275229357798, 0.3, 'fare <= 8.94\\ngini = 0.219\\nsamples = 16\\nvalue = [14, 2]'),\n",
       " Text(0.6238532110091743, 0.23333333333333334, 'gini = 0.32\\nsamples = 5\\nvalue = [4, 1]'),\n",
       " Text(0.6422018348623854, 0.23333333333333334, 'fare <= 9.363\\ngini = 0.165\\nsamples = 11\\nvalue = [10, 1]'),\n",
       " Text(0.6330275229357798, 0.16666666666666666, 'gini = 0.0\\nsamples = 2\\nvalue = [2, 0]'),\n",
       " Text(0.6513761467889908, 0.16666666666666666, 'fare <= 9.673\\ngini = 0.198\\nsamples = 9\\nvalue = [8, 1]'),\n",
       " Text(0.6422018348623854, 0.1, 'gini = 0.245\\nsamples = 7\\nvalue = [6, 1]'),\n",
       " Text(0.6605504587155964, 0.1, 'gini = 0.0\\nsamples = 2\\nvalue = [2, 0]'),\n",
       " Text(0.6513761467889908, 0.5666666666666667, 'sibsp <= 1.5\\ngini = 0.346\\nsamples = 9\\nvalue = [7, 2]'),\n",
       " Text(0.6422018348623854, 0.5, 'fare <= 7.513\\ngini = 0.444\\nsamples = 6\\nvalue = [4, 2]'),\n",
       " Text(0.6330275229357798, 0.43333333333333335, 'gini = 0.0\\nsamples = 3\\nvalue = [3, 0]'),\n",
       " Text(0.6513761467889908, 0.43333333333333335, 'fare <= 7.815\\ngini = 0.444\\nsamples = 3\\nvalue = [1, 2]'),\n",
       " Text(0.6422018348623854, 0.36666666666666664, 'gini = 0.0\\nsamples = 1\\nvalue = [0, 1]'),\n",
       " Text(0.6605504587155964, 0.36666666666666664, 'fare <= 7.89\\ngini = 0.5\\nsamples = 2\\nvalue = [1, 1]'),\n",
       " Text(0.6513761467889908, 0.3, 'gini = 0.0\\nsamples = 1\\nvalue = [1, 0]'),\n",
       " Text(0.6697247706422018, 0.3, 'gini = 0.0\\nsamples = 1\\nvalue = [0, 1]'),\n",
       " Text(0.6605504587155964, 0.5, 'gini = 0.0\\nsamples = 3\\nvalue = [3, 0]'),\n",
       " Text(0.6788990825688074, 0.6333333333333333, 'embark_town_Southampton <= 0.5\\ngini = 0.32\\nsamples = 35\\nvalue = [28, 7]'),\n",
       " Text(0.6697247706422018, 0.5666666666666667, 'gini = 0.0\\nsamples = 1\\nvalue = [0, 1]'),\n",
       " Text(0.6880733944954128, 0.5666666666666667, 'fare <= 12.637\\ngini = 0.291\\nsamples = 34\\nvalue = [28, 6]'),\n",
       " Text(0.6788990825688074, 0.5, 'fare <= 11.0\\ngini = 0.231\\nsamples = 15\\nvalue = [13, 2]'),\n",
       " Text(0.6697247706422018, 0.43333333333333335, 'gini = 0.298\\nsamples = 11\\nvalue = [9, 2]'),\n",
       " Text(0.6880733944954128, 0.43333333333333335, 'gini = 0.0\\nsamples = 4\\nvalue = [4, 0]'),\n",
       " Text(0.6972477064220184, 0.5, 'gini = 0.332\\nsamples = 19\\nvalue = [15, 4]'),\n",
       " Text(0.6510894495412844, 0.7, 'gini = 0.0\\nsamples = 19\\nvalue = [19, 0]'),\n",
       " Text(0.7339449541284404, 0.7666666666666667, 'sibsp <= 1.5\\ngini = 0.49\\nsamples = 7\\nvalue = [4, 3]'),\n",
       " Text(0.7247706422018348, 0.7, 'class_Third <= 0.5\\ngini = 0.5\\nsamples = 6\\nvalue = [3, 3]'),\n",
       " Text(0.7155963302752294, 0.6333333333333333, 'gini = 0.0\\nsamples = 1\\nvalue = [0, 1]'),\n",
       " Text(0.7339449541284404, 0.6333333333333333, 'embark_town_Queenstown <= 0.5\\ngini = 0.48\\nsamples = 5\\nvalue = [3, 2]'),\n",
       " Text(0.7247706422018348, 0.5666666666666667, 'fare <= 7.873\\ngini = 0.5\\nsamples = 4\\nvalue = [2, 2]'),\n",
       " Text(0.7155963302752294, 0.5, 'gini = 0.0\\nsamples = 1\\nvalue = [1, 0]'),\n",
       " Text(0.7339449541284404, 0.5, 'embark_town_Southampton <= 0.5\\ngini = 0.444\\nsamples = 3\\nvalue = [1, 2]'),\n",
       " Text(0.7247706422018348, 0.43333333333333335, 'gini = 0.0\\nsamples = 2\\nvalue = [0, 2]'),\n",
       " Text(0.7431192660550459, 0.43333333333333335, 'gini = 0.0\\nsamples = 1\\nvalue = [1, 0]'),\n",
       " Text(0.7431192660550459, 0.5666666666666667, 'gini = 0.0\\nsamples = 1\\nvalue = [1, 0]'),\n",
       " Text(0.7431192660550459, 0.7, 'gini = 0.0\\nsamples = 1\\nvalue = [1, 0]'),\n",
       " Text(0.8715596330275229, 0.8333333333333334, 'fare <= 19.377\\ngini = 0.439\\nsamples = 129\\nvalue = [87, 42]'),\n",
       " Text(0.8623853211009175, 0.7666666666666667, 'gini = 0.0\\nsamples = 3\\nvalue = [0, 3]'),\n",
       " Text(0.8807339449541285, 0.7666666666666667, 'pclass <= 1.5\\ngini = 0.427\\nsamples = 126\\nvalue = [87, 39]'),\n",
       " Text(0.8211009174311926, 0.7, 'sibsp <= 0.5\\ngini = 0.478\\nsamples = 71\\nvalue = [43, 28]'),\n",
       " Text(0.7981651376146789, 0.6333333333333333, 'fare <= 37.55\\ngini = 0.449\\nsamples = 53\\nvalue = [35, 18]'),\n",
       " Text(0.7798165137614679, 0.5666666666666667, 'fare <= 35.077\\ngini = 0.489\\nsamples = 33\\nvalue = [19, 14]'),\n",
       " Text(0.7706422018348624, 0.5, 'fare <= 31.66\\ngini = 0.475\\nsamples = 31\\nvalue = [19, 12]'),\n",
       " Text(0.7614678899082569, 0.43333333333333335, 'fare <= 26.144\\ngini = 0.494\\nsamples = 27\\nvalue = [15, 12]'),\n",
       " Text(0.7522935779816514, 0.36666666666666664, 'gini = 0.0\\nsamples = 2\\nvalue = [2, 0]'),\n",
       " Text(0.7706422018348624, 0.36666666666666664, 'fare <= 26.469\\ngini = 0.499\\nsamples = 25\\nvalue = [13, 12]'),\n",
       " Text(0.7614678899082569, 0.3, 'gini = 0.0\\nsamples = 3\\nvalue = [0, 3]'),\n",
       " Text(0.7798165137614679, 0.3, 'fare <= 29.85\\ngini = 0.483\\nsamples = 22\\nvalue = [13, 9]'),\n",
       " Text(0.7522935779816514, 0.23333333333333334, 'fare <= 27.135\\ngini = 0.408\\nsamples = 14\\nvalue = [10, 4]'),\n",
       " Text(0.7431192660550459, 0.16666666666666666, 'gini = 0.494\\nsamples = 9\\nvalue = [5, 4]'),\n",
       " Text(0.7614678899082569, 0.16666666666666666, 'gini = 0.0\\nsamples = 5\\nvalue = [5, 0]'),\n",
       " Text(0.8073394495412844, 0.23333333333333334, 'fare <= 30.598\\ngini = 0.469\\nsamples = 8\\nvalue = [3, 5]'),\n",
       " Text(0.7798165137614679, 0.16666666666666666, 'fare <= 30.25\\ngini = 0.32\\nsamples = 5\\nvalue = [1, 4]'),\n",
       " Text(0.7706422018348624, 0.1, 'gini = 0.0\\nsamples = 2\\nvalue = [0, 2]'),\n",
       " Text(0.7889908256880734, 0.1, 'embark_town_Southampton <= 0.5\\ngini = 0.444\\nsamples = 3\\nvalue = [1, 2]'),\n",
       " Text(0.7798165137614679, 0.03333333333333333, 'gini = 0.0\\nsamples = 1\\nvalue = [0, 1]'),\n",
       " Text(0.7981651376146789, 0.03333333333333333, 'gini = 0.5\\nsamples = 2\\nvalue = [1, 1]'),\n",
       " Text(0.8348623853211009, 0.16666666666666666, 'embark_town_Southampton <= 0.5\\ngini = 0.444\\nsamples = 3\\nvalue = [2, 1]'),\n",
       " Text(0.8256880733944955, 0.1, 'fare <= 30.848\\ngini = 0.5\\nsamples = 2\\nvalue = [1, 1]'),\n",
       " Text(0.8165137614678899, 0.03333333333333333, 'gini = 0.0\\nsamples = 1\\nvalue = [1, 0]'),\n",
       " Text(0.8348623853211009, 0.03333333333333333, 'gini = 0.0\\nsamples = 1\\nvalue = [0, 1]'),\n",
       " Text(0.8440366972477065, 0.1, 'gini = 0.0\\nsamples = 1\\nvalue = [1, 0]'),\n",
       " Text(0.7798165137614679, 0.43333333333333335, 'gini = 0.0\\nsamples = 4\\nvalue = [4, 0]'),\n",
       " Text(0.7889908256880734, 0.5, 'gini = 0.0\\nsamples = 2\\nvalue = [0, 2]'),\n",
       " Text(0.8165137614678899, 0.5666666666666667, 'fare <= 379.925\\ngini = 0.32\\nsamples = 20\\nvalue = [16, 4]'),\n",
       " Text(0.8073394495412844, 0.5, 'fare <= 62.369\\ngini = 0.266\\nsamples = 19\\nvalue = [16, 3]'),\n",
       " Text(0.7981651376146789, 0.43333333333333335, 'gini = 0.0\\nsamples = 7\\nvalue = [7, 0]'),\n",
       " Text(0.8165137614678899, 0.43333333333333335, 'fare <= 77.008\\ngini = 0.375\\nsamples = 12\\nvalue = [9, 3]'),\n",
       " Text(0.8073394495412844, 0.36666666666666664, 'gini = 0.0\\nsamples = 2\\nvalue = [0, 2]'),\n",
       " Text(0.8256880733944955, 0.36666666666666664, 'parch <= 1.5\\ngini = 0.18\\nsamples = 10\\nvalue = [9, 1]'),\n",
       " Text(0.8165137614678899, 0.3, 'gini = 0.0\\nsamples = 7\\nvalue = [7, 0]'),\n",
       " Text(0.8348623853211009, 0.3, 'fare <= 112.079\\ngini = 0.444\\nsamples = 3\\nvalue = [2, 1]'),\n",
       " Text(0.8256880733944955, 0.23333333333333334, 'gini = 0.0\\nsamples = 1\\nvalue = [0, 1]'),\n",
       " Text(0.8440366972477065, 0.23333333333333334, 'gini = 0.0\\nsamples = 2\\nvalue = [2, 0]'),\n",
       " Text(0.8256880733944955, 0.5, 'gini = 0.0\\nsamples = 1\\nvalue = [0, 1]'),\n",
       " Text(0.8440366972477065, 0.6333333333333333, 'fare <= 59.087\\ngini = 0.494\\nsamples = 18\\nvalue = [8, 10]'),\n",
       " Text(0.8348623853211009, 0.5666666666666667, 'gini = 0.0\\nsamples = 6\\nvalue = [0, 6]'),\n",
       " Text(0.8532110091743119, 0.5666666666666667, 'fare <= 86.29\\ngini = 0.444\\nsamples = 12\\nvalue = [8, 4]'),\n",
       " Text(0.8440366972477065, 0.5, 'gini = 0.0\\nsamples = 4\\nvalue = [4, 0]'),\n",
       " Text(0.8623853211009175, 0.5, 'sibsp <= 1.5\\ngini = 0.5\\nsamples = 8\\nvalue = [4, 4]'),\n",
       " Text(0.8532110091743119, 0.43333333333333335, 'fare <= 99.99\\ngini = 0.444\\nsamples = 6\\nvalue = [2, 4]'),\n",
       " Text(0.8440366972477065, 0.36666666666666664, 'gini = 0.0\\nsamples = 3\\nvalue = [0, 3]'),\n",
       " Text(0.8623853211009175, 0.36666666666666664, 'embark_town_Southampton <= 0.5\\ngini = 0.444\\nsamples = 3\\nvalue = [2, 1]'),\n",
       " Text(0.8532110091743119, 0.3, 'gini = 0.0\\nsamples = 2\\nvalue = [2, 0]'),\n",
       " Text(0.8715596330275229, 0.3, 'gini = 0.0\\nsamples = 1\\nvalue = [0, 1]'),\n",
       " Text(0.8715596330275229, 0.43333333333333335, 'gini = 0.0\\nsamples = 2\\nvalue = [2, 0]'),\n",
       " Text(0.9403669724770642, 0.7, 'sibsp <= 0.5\\ngini = 0.32\\nsamples = 55\\nvalue = [44, 11]'),\n",
       " Text(0.908256880733945, 0.6333333333333333, 'pclass <= 2.5\\ngini = 0.48\\nsamples = 15\\nvalue = [9, 6]'),\n",
       " Text(0.8899082568807339, 0.5666666666666667, 'embark_town_Southampton <= 0.5\\ngini = 0.198\\nsamples = 9\\nvalue = [8, 1]'),\n",
       " Text(0.8807339449541285, 0.5, 'gini = 0.0\\nsamples = 1\\nvalue = [0, 1]'),\n",
       " Text(0.8990825688073395, 0.5, 'gini = 0.0\\nsamples = 8\\nvalue = [8, 0]'),\n",
       " Text(0.926605504587156, 0.5666666666666667, 'embark_town_Queenstown <= 0.5\\ngini = 0.278\\nsamples = 6\\nvalue = [1, 5]'),\n",
       " Text(0.9174311926605505, 0.5, 'gini = 0.0\\nsamples = 5\\nvalue = [0, 5]'),\n",
       " Text(0.9357798165137615, 0.5, 'gini = 0.0\\nsamples = 1\\nvalue = [1, 0]'),\n",
       " Text(0.9724770642201835, 0.6333333333333333, 'fare <= 39.344\\ngini = 0.219\\nsamples = 40\\nvalue = [35, 5]'),\n",
       " Text(0.963302752293578, 0.5666666666666667, 'fare <= 37.875\\ngini = 0.293\\nsamples = 28\\nvalue = [23, 5]'),\n",
       " Text(0.9541284403669725, 0.5, 'fare <= 22.465\\ngini = 0.252\\nsamples = 27\\nvalue = [23, 4]'),\n",
       " Text(0.944954128440367, 0.43333333333333335, 'gini = 0.0\\nsamples = 6\\nvalue = [6, 0]'),\n",
       " Text(0.963302752293578, 0.43333333333333335, 'fare <= 23.35\\ngini = 0.308\\nsamples = 21\\nvalue = [17, 4]'),\n",
       " Text(0.9541284403669725, 0.36666666666666664, 'gini = 0.0\\nsamples = 1\\nvalue = [0, 1]'),\n",
       " Text(0.9724770642201835, 0.36666666666666664, 'embark_town_Southampton <= 0.5\\ngini = 0.255\\nsamples = 20\\nvalue = [17, 3]'),\n",
       " Text(0.963302752293578, 0.3, 'gini = 0.0\\nsamples = 5\\nvalue = [5, 0]'),\n",
       " Text(0.981651376146789, 0.3, 'sibsp <= 3.5\\ngini = 0.32\\nsamples = 15\\nvalue = [12, 3]'),\n",
       " Text(0.9724770642201835, 0.23333333333333334, 'fare <= 26.125\\ngini = 0.245\\nsamples = 14\\nvalue = [12, 2]'),\n",
       " Text(0.963302752293578, 0.16666666666666666, 'class_Third <= 0.5\\ngini = 0.408\\nsamples = 7\\nvalue = [5, 2]'),\n",
       " Text(0.9541284403669725, 0.1, 'parch <= 0.5\\ngini = 0.48\\nsamples = 5\\nvalue = [3, 2]'),\n",
       " Text(0.944954128440367, 0.03333333333333333, 'gini = 0.375\\nsamples = 4\\nvalue = [3, 1]'),\n",
       " Text(0.963302752293578, 0.03333333333333333, 'gini = 0.0\\nsamples = 1\\nvalue = [0, 1]'),\n",
       " Text(0.9724770642201835, 0.1, 'gini = 0.0\\nsamples = 2\\nvalue = [2, 0]'),\n",
       " Text(0.981651376146789, 0.16666666666666666, 'gini = 0.0\\nsamples = 7\\nvalue = [7, 0]'),\n",
       " Text(0.9908256880733946, 0.23333333333333334, 'gini = 0.0\\nsamples = 1\\nvalue = [0, 1]'),\n",
       " Text(0.9724770642201835, 0.5, 'gini = 0.0\\nsamples = 1\\nvalue = [0, 1]'),\n",
       " Text(0.981651376146789, 0.5666666666666667, 'gini = 0.0\\nsamples = 12\\nvalue = [12, 0]')]"
      ]
     },
     "execution_count": 46,
     "metadata": {},
     "output_type": "execute_result"
    },
    {
     "data": {
      "image/png": "[encoded data removed]",
      "text/plain": [
       "<Figure size 432x288 with 1 Axes>"
      ]
     },
     "metadata": {
      "needs_background": "light"
     },
     "output_type": "display_data"
    }
   ],
   "source": [
    "plot_tree(tree2, feature_names=x_train.columns)"
   ]
  },
  {
   "cell_type": "code",
   "execution_count": 47,
   "id": "40ceb00d",
   "metadata": {
    "scrolled": true
   },
   "outputs": [
    {
     "data": {
      "image/png": "[encoded data removed]",
      "text/plain": [
       "<Figure size 1584x648 with 1 Axes>"
      ]
     },
     "metadata": {
      "needs_background": "light"
     },
     "output_type": "display_data"
    }
   ],
   "source": [
    "plt.figure(figsize = (22,9))\n",
    "plot_tree(tree2, feature_names=x_train.columns)\n",
    "plt.show()"
   ]
  },
  {
   "cell_type": "code",
   "execution_count": 48,
   "id": "02ee12ed",
   "metadata": {
    "scrolled": true
   },
   "outputs": [
    {
     "data": {
      "image/png": "[encoded data removed]",
      "text/plain": [
       "<Figure size 1296x432 with 1 Axes>"
      ]
     },
     "metadata": {
      "needs_background": "light"
     },
     "output_type": "display_data"
    }
   ],
   "source": [
    "plt.figure(figsize = (18,6))\n",
    "plot_tree(tree2, feature_names=x_train.columns, class_names=['died','survived'])\n",
    "plt.show()"
   ]
  },
  {
   "cell_type": "code",
   "execution_count": 49,
   "id": "639b3fe2",
   "metadata": {
    "scrolled": true
   },
   "outputs": [
    {
     "data": {
      "text/plain": [
       "array([1, 0, 0, 1, 0, 1, 0, 0, 1, 1, 0, 0, 1, 0, 1, 1, 0, 0, 0, 1, 0, 0,\n",
       "       0, 1, 0, 1, 1, 1, 0, 0, 0, 1, 0, 0, 0, 0, 0, 0, 1, 1, 0, 0, 0, 1,\n",
       "       1, 1, 1, 0, 1, 0, 1, 0, 1, 0, 0, 1, 0, 0, 0, 0, 0, 0, 1, 0, 1, 0,\n",
       "       0, 1, 0, 1, 1, 0, 1, 0, 0, 0, 0, 0, 1, 1, 1, 0, 0, 0, 0, 0, 0, 0,\n",
       "       0, 0, 1, 0, 0, 0, 0, 0, 1, 0, 0, 0, 0, 0, 1, 1, 0, 1, 1, 0, 0, 1,\n",
       "       0, 1, 1, 1, 0, 0, 0, 0, 1, 0, 0, 1, 1, 0, 0, 0, 0, 0, 1, 0, 0, 0,\n",
       "       0, 0, 1, 1, 1, 0, 0, 1, 1, 1, 0, 1, 1, 1, 0, 1, 1, 0, 0, 0, 1, 0,\n",
       "       0, 1, 0, 1, 1, 1, 1, 0, 0, 1, 0, 1, 0, 1, 0, 0, 1, 0, 0, 1, 0, 0,\n",
       "       1, 0, 1, 0, 0, 0, 1, 0, 0, 0, 0, 0, 1, 0, 0, 0, 1, 0, 0, 0, 1, 0,\n",
       "       1, 1, 0, 0, 0, 0, 1, 0, 0, 0, 0, 0, 0, 0, 0, 0, 0, 0, 1, 1, 0, 0,\n",
       "       0, 1, 0, 0, 1, 0, 0, 1, 1, 0, 1, 1, 1, 0, 0, 0, 0, 1, 1, 0, 0, 0,\n",
       "       0, 0, 0, 1, 0, 1, 0, 0, 0, 1, 0, 0, 0, 0, 1, 0, 0, 0, 0, 0, 0, 0,\n",
       "       0, 1, 0, 1, 1, 0, 0, 1, 1, 0, 0, 1, 1, 1, 0, 0, 0, 1, 1, 1, 0, 0,\n",
       "       0, 0, 0, 1, 0, 0, 0, 1, 0, 0, 1, 0, 0, 1, 0, 1, 0, 0, 1, 0, 0, 1,\n",
       "       0, 0, 1, 1, 1, 0, 0, 1, 1, 0, 0, 1, 1, 0, 1, 0, 1, 0, 1, 0, 1, 0,\n",
       "       0, 0, 1, 0, 0, 0, 0, 0, 1, 0, 0, 0, 0, 0, 0, 0, 0, 0, 0, 0, 1, 1,\n",
       "       0, 0, 0, 0, 1, 0, 0, 0, 0, 0, 1, 0, 0, 0, 1, 1, 0, 0, 0, 0, 0, 1,\n",
       "       0, 0, 1, 0, 0, 0, 0, 0, 0, 0, 0, 0, 0, 1, 0, 0, 0, 0, 1, 1, 1, 0,\n",
       "       0, 0, 0, 0, 0, 0, 1, 0, 1, 0, 1, 1, 0, 1, 0, 1, 1, 0, 0, 0, 1, 0,\n",
       "       1, 0, 0, 0, 1, 1, 1, 1, 0, 1, 0, 1, 1, 0, 0, 0, 0, 0, 0, 1, 1, 0,\n",
       "       1, 1, 1, 0, 0, 1, 1, 1, 0, 1, 0, 1, 0, 0, 0, 0, 0, 0, 0, 0, 0, 0,\n",
       "       0, 0, 0, 1, 0, 0, 0, 1, 1, 0, 0, 1, 0, 0, 0, 1, 1, 1, 1, 0, 0, 0,\n",
       "       0, 0, 1, 1, 0, 1, 1, 0, 0, 0, 0, 0, 0, 0, 0, 0, 0, 0, 0, 0, 0, 1,\n",
       "       0, 0, 0, 0, 0, 0, 1, 1, 0, 0, 0, 0, 0, 0, 0, 1, 0, 1, 0, 0, 0, 0,\n",
       "       0, 0, 0, 1, 1, 1, 0, 0, 1, 0, 0, 0, 0, 0, 0, 0, 0, 0, 1, 0, 0, 0,\n",
       "       0, 0, 1, 0, 0, 1, 0, 0, 1, 0, 1, 0, 0, 1, 0, 1, 0, 0, 1])"
      ]
     },
     "execution_count": 49,
     "metadata": {},
     "output_type": "execute_result"
    }
   ],
   "source": [
    "tree2.predict(x_train)"
   ]
  },
  {
   "cell_type": "code",
   "execution_count": 50,
   "id": "c1c317e6",
   "metadata": {},
   "outputs": [],
   "source": [
    "predictions = tree2.predict(x_train)\n",
    "actual = y_train"
   ]
  },
  {
   "cell_type": "code",
   "execution_count": null,
   "id": "de0fe978",
   "metadata": {},
   "outputs": [],
   "source": []
  },
  {
   "cell_type": "markdown",
   "id": "465fabf7",
   "metadata": {},
   "source": [
    "### 5/3 \n",
    "Evaluate your in-sample results using the model score, confusion matrix, and classification report."
   ]
  },
  {
   "cell_type": "code",
   "execution_count": 51,
   "id": "d99c21a1",
   "metadata": {
    "scrolled": false
   },
   "outputs": [
    {
     "name": "stdout",
     "output_type": "stream",
     "text": [
      "              precision    recall  f1-score   support\n",
      "\n",
      "           0       0.92      0.99      0.95       351\n",
      "           1       0.98      0.86      0.92       218\n",
      "\n",
      "    accuracy                           0.94       569\n",
      "   macro avg       0.95      0.93      0.94       569\n",
      "weighted avg       0.95      0.94      0.94       569\n",
      "\n"
     ]
    }
   ],
   "source": [
    "print(classification_report(actual, predictions))"
   ]
  },
  {
   "cell_type": "code",
   "execution_count": 52,
   "id": "3db7b32d",
   "metadata": {},
   "outputs": [],
   "source": [
    "#class did the above cell, but also the single next cell"
   ]
  },
  {
   "cell_type": "code",
   "execution_count": 53,
   "id": "ef3b1cf5",
   "metadata": {},
   "outputs": [
    {
     "name": "stdout",
     "output_type": "stream",
     "text": [
      "Tree of 2 depth\n"
     ]
    },
    {
     "data": {
      "text/html": [
       "<div>\n",
       "<style scoped>\n",
       "    .dataframe tbody tr th:only-of-type {\n",
       "        vertical-align: middle;\n",
       "    }\n",
       "\n",
       "    .dataframe tbody tr th {\n",
       "        vertical-align: top;\n",
       "    }\n",
       "\n",
       "    .dataframe thead th {\n",
       "        text-align: right;\n",
       "    }\n",
       "</style>\n",
       "<table border=\"1\" class=\"dataframe\">\n",
       "  <thead>\n",
       "    <tr style=\"text-align: right;\">\n",
       "      <th></th>\n",
       "      <th>0</th>\n",
       "      <th>1</th>\n",
       "      <th>accuracy</th>\n",
       "      <th>macro avg</th>\n",
       "      <th>weighted avg</th>\n",
       "    </tr>\n",
       "  </thead>\n",
       "  <tbody>\n",
       "    <tr>\n",
       "      <th>precision</th>\n",
       "      <td>0.92</td>\n",
       "      <td>0.98</td>\n",
       "      <td>0.94</td>\n",
       "      <td>0.95</td>\n",
       "      <td>0.95</td>\n",
       "    </tr>\n",
       "    <tr>\n",
       "      <th>recall</th>\n",
       "      <td>0.99</td>\n",
       "      <td>0.86</td>\n",
       "      <td>0.94</td>\n",
       "      <td>0.93</td>\n",
       "      <td>0.94</td>\n",
       "    </tr>\n",
       "    <tr>\n",
       "      <th>f1-score</th>\n",
       "      <td>0.95</td>\n",
       "      <td>0.92</td>\n",
       "      <td>0.94</td>\n",
       "      <td>0.94</td>\n",
       "      <td>0.94</td>\n",
       "    </tr>\n",
       "    <tr>\n",
       "      <th>support</th>\n",
       "      <td>351.00</td>\n",
       "      <td>218.00</td>\n",
       "      <td>0.94</td>\n",
       "      <td>569.00</td>\n",
       "      <td>569.00</td>\n",
       "    </tr>\n",
       "  </tbody>\n",
       "</table>\n",
       "</div>"
      ],
      "text/plain": [
       "                0       1  accuracy  macro avg  weighted avg\n",
       "precision    0.92    0.98      0.94       0.95          0.95\n",
       "recall       0.99    0.86      0.94       0.93          0.94\n",
       "f1-score     0.95    0.92      0.94       0.94          0.94\n",
       "support    351.00  218.00      0.94     569.00        569.00"
      ]
     },
     "execution_count": 53,
     "metadata": {},
     "output_type": "execute_result"
    }
   ],
   "source": [
    "# Produce the classification report on the actual y values and this model's predicted y values\n",
    "report = classification_report(actual, predictions, output_dict=True)\n",
    "print(\"Tree of 2 depth\")\n",
    "pd.DataFrame(report).round(2)"
   ]
  },
  {
   "cell_type": "code",
   "execution_count": 54,
   "id": "d4b3cf57",
   "metadata": {},
   "outputs": [],
   "source": [
    "#return to my work"
   ]
  },
  {
   "cell_type": "code",
   "execution_count": 55,
   "id": "fe854fd6",
   "metadata": {},
   "outputs": [
    {
     "data": {
      "text/html": [
       "<div>\n",
       "<style scoped>\n",
       "    .dataframe tbody tr th:only-of-type {\n",
       "        vertical-align: middle;\n",
       "    }\n",
       "\n",
       "    .dataframe tbody tr th {\n",
       "        vertical-align: top;\n",
       "    }\n",
       "\n",
       "    .dataframe thead th {\n",
       "        text-align: right;\n",
       "    }\n",
       "</style>\n",
       "<table border=\"1\" class=\"dataframe\">\n",
       "  <thead>\n",
       "    <tr style=\"text-align: right;\">\n",
       "      <th>col_0</th>\n",
       "      <th>0</th>\n",
       "      <th>1</th>\n",
       "    </tr>\n",
       "    <tr>\n",
       "      <th>survived</th>\n",
       "      <th></th>\n",
       "      <th></th>\n",
       "    </tr>\n",
       "  </thead>\n",
       "  <tbody>\n",
       "    <tr>\n",
       "      <th>0</th>\n",
       "      <td>348</td>\n",
       "      <td>3</td>\n",
       "    </tr>\n",
       "    <tr>\n",
       "      <th>1</th>\n",
       "      <td>30</td>\n",
       "      <td>188</td>\n",
       "    </tr>\n",
       "  </tbody>\n",
       "</table>\n",
       "</div>"
      ],
      "text/plain": [
       "col_0       0    1\n",
       "survived          \n",
       "0         348    3\n",
       "1          30  188"
      ]
     },
     "execution_count": 55,
     "metadata": {},
     "output_type": "execute_result"
    }
   ],
   "source": [
    "pd.crosstab(actual, predictions)"
   ]
  },
  {
   "cell_type": "code",
   "execution_count": 56,
   "id": "860fb40d",
   "metadata": {},
   "outputs": [
    {
     "data": {
      "text/plain": [
       "array([[348,   3],\n",
       "       [ 30, 188]])"
      ]
     },
     "execution_count": 56,
     "metadata": {},
     "output_type": "execute_result"
    }
   ],
   "source": [
    "confusion_matrix(actual, predictions)"
   ]
  },
  {
   "cell_type": "code",
   "execution_count": 57,
   "id": "4a0db7d6",
   "metadata": {
    "scrolled": true
   },
   "outputs": [
    {
     "data": {
      "text/plain": [
       "<sklearn.metrics._plot.confusion_matrix.ConfusionMatrixDisplay at 0x169321ac0>"
      ]
     },
     "execution_count": 57,
     "metadata": {},
     "output_type": "execute_result"
    },
    {
     "data": {
      "image/png": "[encoded data removed]",
      "text/plain": [
       "<Figure size 432x288 with 2 Axes>"
      ]
     },
     "metadata": {
      "needs_background": "light"
     },
     "output_type": "display_data"
    }
   ],
   "source": [
    "plot_confusion_matrix(tree2, x_train, y_train)"
   ]
  },
  {
   "cell_type": "code",
   "execution_count": 58,
   "id": "9ad21a9f",
   "metadata": {},
   "outputs": [
    {
     "name": "stdout",
     "output_type": "stream",
     "text": [
      "Accuracy of Decision Tree classifier on validate set: 0.74\n"
     ]
    }
   ],
   "source": [
    "print('Accuracy of Decision Tree classifier on validate set: {:.2f}'\n",
    "     .format(tree2.score(x_validate, y_validate)))\n"
   ]
  },
  {
   "cell_type": "markdown",
   "id": "2a58fc55",
   "metadata": {},
   "source": [
    "### It's better than the baseline and about the same as tree1\n",
    "\n",
    "Baseline ~62\n",
    "tree1 ~78\n",
    "tree2 ~78"
   ]
  },
  {
   "cell_type": "markdown",
   "id": "efed1bc6",
   "metadata": {},
   "source": [
    "### 5/4\n",
    "\n",
    "Compute: Accuracy, true positive rate, false positive rate, true negative rate, false negative rate, precision, recall, f1-score, and support.\n",
    "    "
   ]
  },
  {
   "cell_type": "code",
   "execution_count": 59,
   "id": "2105b8bf",
   "metadata": {},
   "outputs": [],
   "source": [
    "TN, FP, FN, TP = confusion_matrix(actual, predictions).ravel()"
   ]
  },
  {
   "cell_type": "code",
   "execution_count": 60,
   "id": "9359deec",
   "metadata": {
    "scrolled": false
   },
   "outputs": [
    {
     "data": {
      "text/plain": [
       "(348, 3, 30, 188)"
      ]
     },
     "execution_count": 60,
     "metadata": {},
     "output_type": "execute_result"
    }
   ],
   "source": [
    "TN, FP, FN, TP"
   ]
  },
  {
   "cell_type": "code",
   "execution_count": 61,
   "id": "97d551dc",
   "metadata": {},
   "outputs": [],
   "source": [
    "Total = TP + FP + FN + TN"
   ]
  },
  {
   "cell_type": "code",
   "execution_count": 62,
   "id": "e2caea01",
   "metadata": {
    "scrolled": true
   },
   "outputs": [
    {
     "data": {
      "text/plain": [
       "0.9420035149384886"
      ]
     },
     "execution_count": 62,
     "metadata": {},
     "output_type": "execute_result"
    }
   ],
   "source": [
    "accuracy = (TP + TN)/Total\n",
    "accuracy"
   ]
  },
  {
   "cell_type": "code",
   "execution_count": 63,
   "id": "c8fd20f6",
   "metadata": {},
   "outputs": [],
   "source": [
    "accuracy = (TP + TN)/Total\n",
    "true_positive_rate = TP/(TP+FN)\n",
    "false_positive_rate = FP/(FP+TN)\n",
    "true_negative_rate = TN/(TN+FP)\n",
    "false_negative_rate = FN/(FN+TP)\n",
    "precision = TP/(TP+FP)\n",
    "f1_score = TP/(TP + (.5*(FP+FN)))\n",
    "support_pos = TP + FN\n",
    "support_neg = FP + TN"
   ]
  },
  {
   "cell_type": "code",
   "execution_count": 64,
   "id": "f155e2d2",
   "metadata": {
    "scrolled": true
   },
   "outputs": [
    {
     "data": {
      "text/plain": [
       "(0.9420035149384886,\n",
       " 0.8623853211009175,\n",
       " 0.008547008547008548,\n",
       " 0.9914529914529915,\n",
       " 0.13761467889908258,\n",
       " 0.9842931937172775,\n",
       " 0.9193154034229829,\n",
       " 218,\n",
       " 351)"
      ]
     },
     "execution_count": 64,
     "metadata": {},
     "output_type": "execute_result"
    }
   ],
   "source": [
    "accuracy, true_positive_rate, false_positive_rate, true_negative_rate, false_negative_rate, precision, f1_score, support_pos, support_neg "
   ]
  },
  {
   "cell_type": "code",
   "execution_count": 65,
   "id": "cf82f3a4",
   "metadata": {},
   "outputs": [],
   "source": [
    "#From class review"
   ]
  },
  {
   "cell_type": "code",
   "execution_count": 66,
   "id": "eea58259",
   "metadata": {},
   "outputs": [
    {
     "name": "stdout",
     "output_type": "stream",
     "text": [
      "Negative Cases: 351\n",
      "Positive Cases: 218\n",
      "0    351\n",
      "1    218\n",
      "Name: survived, dtype: int64\n"
     ]
    }
   ],
   "source": [
    "negative_cases = TN + FP\n",
    "positive_cases = FN + TP\n",
    "print(f\"Negative Cases: {negative_cases}\")\n",
    "print(f\"Positive Cases: {positive_cases}\")\n",
    "print(y_train.value_counts())"
   ]
  },
  {
   "cell_type": "code",
   "execution_count": 67,
   "id": "2393dc53",
   "metadata": {
    "scrolled": true
   },
   "outputs": [
    {
     "name": "stdout",
     "output_type": "stream",
     "text": [
      "Accuracy: 0.9420035149384886 \n",
      "\n",
      "True Positive Rate/Sensitivity/Recall/Power: 0.8623853211009175 \n",
      "\n",
      "False Positive Rate/False Alarm Ratio/Fall-out: 0.008547008547008548 \n",
      "\n",
      "True Negative Rate/Specificity/Selectivity: 0.9914529914529915 \n",
      "\n",
      "False Negative Rate/Miss Rate: 0.13761467889908258 \n",
      "\n",
      "Precision/PPV: 0.9842931937172775 \n",
      "\n",
      "F1 Score: 0.9193154034229829 \n",
      "\n",
      "Support (0): 351 \n",
      "\n",
      "Support (1): 218\n"
     ]
    }
   ],
   "source": [
    "ALL = TP + FP + FN + TN\n",
    "\n",
    "accuracy = (TP + TN)/ALL\n",
    "true_positive_rate = sensitivity = recall = power = TP/(TP+FN)\n",
    "false_positive_rate = false_alarm_ratio = fallout = FP/(FP+TN)\n",
    "true_negative_rate = specificity = selectivity = TN/(TN+FP)\n",
    "false_negative_rate = miss_rate = FN/(FN+TP)\n",
    "precision = PPV = TP/(TP+FP)\n",
    "f1_score = 2*(precision*recall)/(precision+recall)\n",
    "support_pos = TP + FN\n",
    "support_neg = FP + TN\n",
    "\n",
    "print(f\"Accuracy: {accuracy}\", '\\n')\n",
    "print(f\"True Positive Rate/Sensitivity/Recall/Power: {true_positive_rate}\", '\\n')\n",
    "print(f\"False Positive Rate/False Alarm Ratio/Fall-out: {false_positive_rate}\", '\\n')\n",
    "print(f\"True Negative Rate/Specificity/Selectivity: {true_negative_rate}\", '\\n')\n",
    "print(f\"False Negative Rate/Miss Rate: {false_negative_rate}\", '\\n')\n",
    "print(f\"Precision/PPV: {precision}\", '\\n')\n",
    "print(f\"F1 Score: {f1_score}\", '\\n')\n",
    "print(f\"Support (0): {support_neg}\", '\\n')\n",
    "print(f\"Support (1): {support_pos}\")"
   ]
  },
  {
   "cell_type": "code",
   "execution_count": null,
   "id": "3a04f3e5",
   "metadata": {},
   "outputs": [],
   "source": []
  },
  {
   "cell_type": "code",
   "execution_count": 68,
   "id": "743e2a9c",
   "metadata": {},
   "outputs": [],
   "source": [
    "#from class"
   ]
  },
  {
   "cell_type": "code",
   "execution_count": 69,
   "id": "db9566ef",
   "metadata": {},
   "outputs": [
    {
     "name": "stdout",
     "output_type": "stream",
     "text": [
      "Tree with max depth of 1\n",
      "                    0           1  accuracy   macro avg  weighted avg\n",
      "precision    0.816216    0.753769  0.794376    0.784993      0.792291\n",
      "recall       0.860399    0.688073  0.794376    0.774236      0.794376\n",
      "f1-score     0.837725    0.719424  0.794376    0.778575      0.792401\n",
      "support    351.000000  218.000000  0.794376  569.000000    569.000000\n",
      "\n",
      "Tree with max depth of 2\n",
      "                    0           1  accuracy   macro avg  weighted avg\n",
      "precision    0.816216    0.753769  0.794376    0.784993      0.792291\n",
      "recall       0.860399    0.688073  0.794376    0.774236      0.794376\n",
      "f1-score     0.837725    0.719424  0.794376    0.778575      0.792401\n",
      "support    351.000000  218.000000  0.794376  569.000000    569.000000\n",
      "\n",
      "Tree with max depth of 3\n",
      "                    0           1  accuracy   macro avg  weighted avg\n",
      "precision    0.796690    0.904110  0.824253    0.850400      0.837846\n",
      "recall       0.960114    0.605505  0.824253    0.782809      0.824253\n",
      "f1-score     0.870801    0.725275  0.824253    0.798038      0.815046\n",
      "support    351.000000  218.000000  0.824253  569.000000    569.000000\n",
      "\n",
      "Tree with max depth of 4\n",
      "                    0           1  accuracy   macro avg  weighted avg\n",
      "precision    0.797170    0.910345  0.826011    0.853757      0.840530\n",
      "recall       0.962963    0.605505  0.826011    0.784234      0.826011\n",
      "f1-score     0.872258    0.727273  0.826011    0.799765      0.816710\n",
      "support    351.000000  218.000000  0.826011  569.000000    569.000000\n",
      "\n",
      "Tree with max depth of 5\n",
      "                    0           1  accuracy   macro avg  weighted avg\n",
      "precision    0.831658    0.883041    0.8471    0.857350      0.851344\n",
      "recall       0.943020    0.692661    0.8471    0.817840      0.847100\n",
      "f1-score     0.883845    0.776350    0.8471    0.830097      0.842661\n",
      "support    351.000000  218.000000    0.8471  569.000000    569.000000\n",
      "\n",
      "Tree with max depth of 6\n",
      "                    0           1  accuracy   macro avg  weighted avg\n",
      "precision    0.844828    0.950920   0.87522    0.897874      0.885475\n",
      "recall       0.977208    0.711009   0.87522    0.844109      0.875220\n",
      "f1-score     0.906209    0.813648   0.87522    0.859929      0.870746\n",
      "support    351.000000  218.000000   0.87522  569.000000    569.000000\n",
      "\n",
      "Tree with max depth of 7\n",
      "                    0           1  accuracy   macro avg  weighted avg\n",
      "precision    0.861461    0.947674  0.887522    0.904568      0.894492\n",
      "recall       0.974359    0.747706  0.887522    0.861033      0.887522\n",
      "f1-score     0.914439    0.835897  0.887522    0.875168      0.884347\n",
      "support    351.000000  218.000000  0.887522  569.000000    569.000000\n",
      "\n",
      "Tree with max depth of 8\n",
      "                    0           1  accuracy   macro avg  weighted avg\n",
      "precision    0.879487    0.955307  0.903339    0.917397      0.908536\n",
      "recall       0.977208    0.784404  0.903339    0.880806      0.903339\n",
      "f1-score     0.925776    0.861461  0.903339    0.893618      0.901135\n",
      "support    351.000000  218.000000  0.903339  569.000000    569.000000\n",
      "\n",
      "Tree with max depth of 9\n",
      "                    0           1  accuracy   macro avg  weighted avg\n",
      "precision    0.885496    0.982955  0.915641    0.934225      0.922835\n",
      "recall       0.991453    0.793578  0.915641    0.892515      0.915641\n",
      "f1-score     0.935484    0.878173  0.915641    0.906828      0.913526\n",
      "support    351.000000  218.000000  0.915641  569.000000    569.000000\n",
      "\n",
      "Tree with max depth of 10\n",
      "                    0           1  accuracy   macro avg  weighted avg\n",
      "precision    0.896907    0.983425  0.924429    0.940166      0.930055\n",
      "recall       0.991453    0.816514  0.924429    0.903983      0.924429\n",
      "f1-score     0.941813    0.892231  0.924429    0.917022      0.922817\n",
      "support    351.000000  218.000000  0.924429  569.000000    569.000000\n",
      "\n",
      "Tree with max depth of 11\n",
      "                    0           1  accuracy   macro avg  weighted avg\n",
      "precision    0.919786    0.964103  0.934974    0.941944      0.936765\n",
      "recall       0.980057    0.862385  0.934974    0.921221      0.934974\n",
      "f1-score     0.948966    0.910412  0.934974    0.929689      0.934194\n",
      "support    351.000000  218.000000  0.934974  569.000000    569.000000\n",
      "\n",
      "Tree with max depth of 12\n",
      "                    0           1  accuracy   macro avg  weighted avg\n",
      "precision    0.915567    0.978947  0.936731    0.947257      0.939850\n",
      "recall       0.988604    0.853211  0.936731    0.920907      0.936731\n",
      "f1-score     0.950685    0.911765  0.936731    0.931225      0.935773\n",
      "support    351.000000  218.000000  0.936731  569.000000    569.000000\n",
      "\n",
      "Tree with max depth of 13\n",
      "                    0           1  accuracy   macro avg  weighted avg\n",
      "precision    0.917989    0.979058  0.938489    0.948524      0.941386\n",
      "recall       0.988604    0.857798  0.938489    0.923201      0.938489\n",
      "f1-score     0.951989    0.914425  0.938489    0.933207      0.937597\n",
      "support    351.000000  218.000000  0.938489  569.000000    569.000000\n",
      "\n",
      "Tree with max depth of 14\n",
      "                    0           1  accuracy   macro avg  weighted avg\n",
      "precision    0.920635    0.984293  0.942004    0.952464      0.945024\n",
      "recall       0.991453    0.862385  0.942004    0.926919      0.942004\n",
      "f1-score     0.954733    0.919315  0.942004    0.937024      0.941163\n",
      "support    351.000000  218.000000  0.942004  569.000000    569.000000\n",
      "\n",
      "Tree with max depth of 15\n",
      "                    0           1  accuracy   macro avg  weighted avg\n",
      "precision    0.920635    0.984293  0.942004    0.952464      0.945024\n",
      "recall       0.991453    0.862385  0.942004    0.926919      0.942004\n",
      "f1-score     0.954733    0.919315  0.942004    0.937024      0.941163\n",
      "support    351.000000  218.000000  0.942004  569.000000    569.000000\n",
      "\n",
      "Tree with max depth of 16\n",
      "                    0           1  accuracy   macro avg  weighted avg\n",
      "precision    0.920635    0.984293  0.942004    0.952464      0.945024\n",
      "recall       0.991453    0.862385  0.942004    0.926919      0.942004\n",
      "f1-score     0.954733    0.919315  0.942004    0.937024      0.941163\n",
      "support    351.000000  218.000000  0.942004  569.000000    569.000000\n",
      "\n",
      "Tree with max depth of 17\n",
      "                    0           1  accuracy   macro avg  weighted avg\n",
      "precision    0.920635    0.984293  0.942004    0.952464      0.945024\n",
      "recall       0.991453    0.862385  0.942004    0.926919      0.942004\n",
      "f1-score     0.954733    0.919315  0.942004    0.937024      0.941163\n",
      "support    351.000000  218.000000  0.942004  569.000000    569.000000\n",
      "\n",
      "Tree with max depth of 18\n",
      "                    0           1  accuracy   macro avg  weighted avg\n",
      "precision    0.920635    0.984293  0.942004    0.952464      0.945024\n",
      "recall       0.991453    0.862385  0.942004    0.926919      0.942004\n",
      "f1-score     0.954733    0.919315  0.942004    0.937024      0.941163\n",
      "support    351.000000  218.000000  0.942004  569.000000    569.000000\n",
      "\n",
      "Tree with max depth of 19\n",
      "                    0           1  accuracy   macro avg  weighted avg\n",
      "precision    0.920635    0.984293  0.942004    0.952464      0.945024\n",
      "recall       0.991453    0.862385  0.942004    0.926919      0.942004\n",
      "f1-score     0.954733    0.919315  0.942004    0.937024      0.941163\n",
      "support    351.000000  218.000000  0.942004  569.000000    569.000000\n",
      "\n",
      "Tree with max depth of 20\n",
      "                    0           1  accuracy   macro avg  weighted avg\n",
      "precision    0.920635    0.984293  0.942004    0.952464      0.945024\n",
      "recall       0.991453    0.862385  0.942004    0.926919      0.942004\n",
      "f1-score     0.954733    0.919315  0.942004    0.937024      0.941163\n",
      "support    351.000000  218.000000  0.942004  569.000000    569.000000\n",
      "\n"
     ]
    }
   ],
   "source": [
    "# Let's get loopy\n",
    "for i in range(1, 21):\n",
    "    # Make the model\n",
    "    tree = DecisionTreeClassifier(max_depth=i, random_state=123)\n",
    "\n",
    "    # Fit the model (on train and only train)\n",
    "    tree = tree.fit(x_train, y_train)\n",
    "\n",
    "    # Use the model\n",
    "    # We'll evaluate the model's performance on train, first\n",
    "    y_predictions = tree.predict(x_train)\n",
    "\n",
    "    # Produce the classification report on the actual y values and this model's predicted y values\n",
    "    report = classification_report(y_train, y_predictions, output_dict=True)\n",
    "    print(f\"Tree with max depth of {i}\")\n",
    "    print(pd.DataFrame(report))\n",
    "    print()"
   ]
  },
  {
   "cell_type": "markdown",
   "id": "4057ccf0",
   "metadata": {},
   "source": [
    "# 6 \n",
    "Which model performs better on your in-sample data?"
   ]
  },
  {
   "cell_type": "markdown",
   "id": "027b5ceb",
   "metadata": {},
   "source": [
    "seems 13 and up are good. be careful of overfitting in the higher depths"
   ]
  },
  {
   "cell_type": "markdown",
   "id": "22499931",
   "metadata": {},
   "source": [
    "# 7 \n",
    "Which model performs best on your out-of-sample data, the validate set?"
   ]
  },
  {
   "cell_type": "code",
   "execution_count": 70,
   "id": "fb0668c3",
   "metadata": {},
   "outputs": [],
   "source": [
    "#updated to match class review"
   ]
  },
  {
   "cell_type": "code",
   "execution_count": 71,
   "id": "6ecc3921",
   "metadata": {},
   "outputs": [
    {
     "data": {
      "text/html": [
       "<div>\n",
       "<style scoped>\n",
       "    .dataframe tbody tr th:only-of-type {\n",
       "        vertical-align: middle;\n",
       "    }\n",
       "\n",
       "    .dataframe tbody tr th {\n",
       "        vertical-align: top;\n",
       "    }\n",
       "\n",
       "    .dataframe thead th {\n",
       "        text-align: right;\n",
       "    }\n",
       "</style>\n",
       "<table border=\"1\" class=\"dataframe\">\n",
       "  <thead>\n",
       "    <tr style=\"text-align: right;\">\n",
       "      <th></th>\n",
       "      <th>max_depth</th>\n",
       "      <th>train_accuracy</th>\n",
       "      <th>validate_accuracy</th>\n",
       "      <th>difference</th>\n",
       "    </tr>\n",
       "  </thead>\n",
       "  <tbody>\n",
       "    <tr>\n",
       "      <th>0</th>\n",
       "      <td>1</td>\n",
       "      <td>0.794376</td>\n",
       "      <td>0.762238</td>\n",
       "      <td>0.032138</td>\n",
       "    </tr>\n",
       "    <tr>\n",
       "      <th>1</th>\n",
       "      <td>2</td>\n",
       "      <td>0.794376</td>\n",
       "      <td>0.762238</td>\n",
       "      <td>0.032138</td>\n",
       "    </tr>\n",
       "    <tr>\n",
       "      <th>2</th>\n",
       "      <td>3</td>\n",
       "      <td>0.824253</td>\n",
       "      <td>0.776224</td>\n",
       "      <td>0.048029</td>\n",
       "    </tr>\n",
       "    <tr>\n",
       "      <th>3</th>\n",
       "      <td>4</td>\n",
       "      <td>0.826011</td>\n",
       "      <td>0.776224</td>\n",
       "      <td>0.049787</td>\n",
       "    </tr>\n",
       "    <tr>\n",
       "      <th>4</th>\n",
       "      <td>5</td>\n",
       "      <td>0.847100</td>\n",
       "      <td>0.755245</td>\n",
       "      <td>0.091855</td>\n",
       "    </tr>\n",
       "    <tr>\n",
       "      <th>5</th>\n",
       "      <td>6</td>\n",
       "      <td>0.875220</td>\n",
       "      <td>0.783217</td>\n",
       "      <td>0.092003</td>\n",
       "    </tr>\n",
       "    <tr>\n",
       "      <th>6</th>\n",
       "      <td>7</td>\n",
       "      <td>0.887522</td>\n",
       "      <td>0.776224</td>\n",
       "      <td>0.111298</td>\n",
       "    </tr>\n",
       "    <tr>\n",
       "      <th>7</th>\n",
       "      <td>8</td>\n",
       "      <td>0.903339</td>\n",
       "      <td>0.755245</td>\n",
       "      <td>0.148094</td>\n",
       "    </tr>\n",
       "    <tr>\n",
       "      <th>8</th>\n",
       "      <td>9</td>\n",
       "      <td>0.915641</td>\n",
       "      <td>0.769231</td>\n",
       "      <td>0.146411</td>\n",
       "    </tr>\n",
       "    <tr>\n",
       "      <th>9</th>\n",
       "      <td>10</td>\n",
       "      <td>0.924429</td>\n",
       "      <td>0.769231</td>\n",
       "      <td>0.155198</td>\n",
       "    </tr>\n",
       "    <tr>\n",
       "      <th>10</th>\n",
       "      <td>11</td>\n",
       "      <td>0.934974</td>\n",
       "      <td>0.762238</td>\n",
       "      <td>0.172736</td>\n",
       "    </tr>\n",
       "    <tr>\n",
       "      <th>11</th>\n",
       "      <td>12</td>\n",
       "      <td>0.936731</td>\n",
       "      <td>0.755245</td>\n",
       "      <td>0.181486</td>\n",
       "    </tr>\n",
       "    <tr>\n",
       "      <th>12</th>\n",
       "      <td>13</td>\n",
       "      <td>0.938489</td>\n",
       "      <td>0.776224</td>\n",
       "      <td>0.162265</td>\n",
       "    </tr>\n",
       "    <tr>\n",
       "      <th>13</th>\n",
       "      <td>14</td>\n",
       "      <td>0.942004</td>\n",
       "      <td>0.748252</td>\n",
       "      <td>0.193752</td>\n",
       "    </tr>\n",
       "    <tr>\n",
       "      <th>14</th>\n",
       "      <td>15</td>\n",
       "      <td>0.942004</td>\n",
       "      <td>0.776224</td>\n",
       "      <td>0.165780</td>\n",
       "    </tr>\n",
       "    <tr>\n",
       "      <th>15</th>\n",
       "      <td>16</td>\n",
       "      <td>0.942004</td>\n",
       "      <td>0.776224</td>\n",
       "      <td>0.165780</td>\n",
       "    </tr>\n",
       "    <tr>\n",
       "      <th>16</th>\n",
       "      <td>17</td>\n",
       "      <td>0.942004</td>\n",
       "      <td>0.776224</td>\n",
       "      <td>0.165780</td>\n",
       "    </tr>\n",
       "    <tr>\n",
       "      <th>17</th>\n",
       "      <td>18</td>\n",
       "      <td>0.942004</td>\n",
       "      <td>0.776224</td>\n",
       "      <td>0.165780</td>\n",
       "    </tr>\n",
       "    <tr>\n",
       "      <th>18</th>\n",
       "      <td>19</td>\n",
       "      <td>0.942004</td>\n",
       "      <td>0.776224</td>\n",
       "      <td>0.165780</td>\n",
       "    </tr>\n",
       "    <tr>\n",
       "      <th>19</th>\n",
       "      <td>20</td>\n",
       "      <td>0.942004</td>\n",
       "      <td>0.776224</td>\n",
       "      <td>0.165780</td>\n",
       "    </tr>\n",
       "    <tr>\n",
       "      <th>20</th>\n",
       "      <td>21</td>\n",
       "      <td>0.942004</td>\n",
       "      <td>0.776224</td>\n",
       "      <td>0.165780</td>\n",
       "    </tr>\n",
       "    <tr>\n",
       "      <th>21</th>\n",
       "      <td>22</td>\n",
       "      <td>0.942004</td>\n",
       "      <td>0.776224</td>\n",
       "      <td>0.165780</td>\n",
       "    </tr>\n",
       "    <tr>\n",
       "      <th>22</th>\n",
       "      <td>23</td>\n",
       "      <td>0.942004</td>\n",
       "      <td>0.776224</td>\n",
       "      <td>0.165780</td>\n",
       "    </tr>\n",
       "    <tr>\n",
       "      <th>23</th>\n",
       "      <td>24</td>\n",
       "      <td>0.942004</td>\n",
       "      <td>0.776224</td>\n",
       "      <td>0.165780</td>\n",
       "    </tr>\n",
       "  </tbody>\n",
       "</table>\n",
       "</div>"
      ],
      "text/plain": [
       "    max_depth  train_accuracy  validate_accuracy  difference\n",
       "0           1        0.794376           0.762238    0.032138\n",
       "1           2        0.794376           0.762238    0.032138\n",
       "2           3        0.824253           0.776224    0.048029\n",
       "3           4        0.826011           0.776224    0.049787\n",
       "4           5        0.847100           0.755245    0.091855\n",
       "5           6        0.875220           0.783217    0.092003\n",
       "6           7        0.887522           0.776224    0.111298\n",
       "7           8        0.903339           0.755245    0.148094\n",
       "8           9        0.915641           0.769231    0.146411\n",
       "9          10        0.924429           0.769231    0.155198\n",
       "10         11        0.934974           0.762238    0.172736\n",
       "11         12        0.936731           0.755245    0.181486\n",
       "12         13        0.938489           0.776224    0.162265\n",
       "13         14        0.942004           0.748252    0.193752\n",
       "14         15        0.942004           0.776224    0.165780\n",
       "15         16        0.942004           0.776224    0.165780\n",
       "16         17        0.942004           0.776224    0.165780\n",
       "17         18        0.942004           0.776224    0.165780\n",
       "18         19        0.942004           0.776224    0.165780\n",
       "19         20        0.942004           0.776224    0.165780\n",
       "20         21        0.942004           0.776224    0.165780\n",
       "21         22        0.942004           0.776224    0.165780\n",
       "22         23        0.942004           0.776224    0.165780\n",
       "23         24        0.942004           0.776224    0.165780"
      ]
     },
     "execution_count": 71,
     "metadata": {},
     "output_type": "execute_result"
    }
   ],
   "source": [
    "# Let's continue getting loopy, so we can compare in-sample to out-of-sample\n",
    "metrics = []\n",
    "\n",
    "for i in range(1, 25):\n",
    "    # Make the model\n",
    "    tree = DecisionTreeClassifier(max_depth=i, random_state=123)\n",
    "\n",
    "    # Fit the model (on train and only train)\n",
    "    tree = tree.fit(x_train, y_train)\n",
    "\n",
    "    # Use the model\n",
    "    # We'll evaluate the model's performance on train, first\n",
    "    in_sample_accuracy = tree.score(x_train, y_train)\n",
    "    \n",
    "    out_of_sample_accuracy = tree.score(x_validate, y_validate)\n",
    "\n",
    "    output = {\n",
    "        \"max_depth\": i,\n",
    "        \"train_accuracy\": in_sample_accuracy,\n",
    "        \"validate_accuracy\": out_of_sample_accuracy\n",
    "    }\n",
    "    \n",
    "    metrics.append(output)\n",
    "    \n",
    "df = pd.DataFrame(metrics)\n",
    "df[\"difference\"] = df.train_accuracy - df.validate_accuracy\n",
    "df"
   ]
  },
  {
   "cell_type": "code",
   "execution_count": null,
   "id": "d0327d0c",
   "metadata": {},
   "outputs": [],
   "source": []
  },
  {
   "cell_type": "code",
   "execution_count": 72,
   "id": "d8d3b707",
   "metadata": {},
   "outputs": [
    {
     "data": {
      "image/png": "[encoded data removed]",
      "text/plain": [
       "<Figure size 864x432 with 1 Axes>"
      ]
     },
     "metadata": {
      "needs_background": "light"
     },
     "output_type": "display_data"
    }
   ],
   "source": [
    "plt.figure(figsize=(12, 6))\n",
    "plt.plot(df.max_depth, df.train_accuracy, marker = 'o')\n",
    "plt.plot(df.max_depth, df.validate_accuracy, marker = 'x')\n",
    "plt.title('Overfitting Occurs at Higher Values for Max Depth')\n",
    "plt.xlabel('Max Depth')\n",
    "plt.ylabel('Accuracy')\n",
    "plt.show()"
   ]
  },
  {
   "cell_type": "code",
   "execution_count": 73,
   "id": "db30a6fb",
   "metadata": {},
   "outputs": [
    {
     "data": {
      "text/html": [
       "<div>\n",
       "<style scoped>\n",
       "    .dataframe tbody tr th:only-of-type {\n",
       "        vertical-align: middle;\n",
       "    }\n",
       "\n",
       "    .dataframe tbody tr th {\n",
       "        vertical-align: top;\n",
       "    }\n",
       "\n",
       "    .dataframe thead th {\n",
       "        text-align: right;\n",
       "    }\n",
       "</style>\n",
       "<table border=\"1\" class=\"dataframe\">\n",
       "  <thead>\n",
       "    <tr style=\"text-align: right;\">\n",
       "      <th></th>\n",
       "      <th>max_depth</th>\n",
       "      <th>train_accuracy</th>\n",
       "      <th>validate_accuracy</th>\n",
       "      <th>difference</th>\n",
       "    </tr>\n",
       "  </thead>\n",
       "  <tbody>\n",
       "    <tr>\n",
       "      <th>5</th>\n",
       "      <td>6</td>\n",
       "      <td>0.875220</td>\n",
       "      <td>0.783217</td>\n",
       "      <td>0.092003</td>\n",
       "    </tr>\n",
       "    <tr>\n",
       "      <th>2</th>\n",
       "      <td>3</td>\n",
       "      <td>0.824253</td>\n",
       "      <td>0.776224</td>\n",
       "      <td>0.048029</td>\n",
       "    </tr>\n",
       "    <tr>\n",
       "      <th>3</th>\n",
       "      <td>4</td>\n",
       "      <td>0.826011</td>\n",
       "      <td>0.776224</td>\n",
       "      <td>0.049787</td>\n",
       "    </tr>\n",
       "    <tr>\n",
       "      <th>0</th>\n",
       "      <td>1</td>\n",
       "      <td>0.794376</td>\n",
       "      <td>0.762238</td>\n",
       "      <td>0.032138</td>\n",
       "    </tr>\n",
       "    <tr>\n",
       "      <th>1</th>\n",
       "      <td>2</td>\n",
       "      <td>0.794376</td>\n",
       "      <td>0.762238</td>\n",
       "      <td>0.032138</td>\n",
       "    </tr>\n",
       "    <tr>\n",
       "      <th>4</th>\n",
       "      <td>5</td>\n",
       "      <td>0.847100</td>\n",
       "      <td>0.755245</td>\n",
       "      <td>0.091855</td>\n",
       "    </tr>\n",
       "  </tbody>\n",
       "</table>\n",
       "</div>"
      ],
      "text/plain": [
       "   max_depth  train_accuracy  validate_accuracy  difference\n",
       "5          6        0.875220           0.783217    0.092003\n",
       "2          3        0.824253           0.776224    0.048029\n",
       "3          4        0.826011           0.776224    0.049787\n",
       "0          1        0.794376           0.762238    0.032138\n",
       "1          2        0.794376           0.762238    0.032138\n",
       "4          5        0.847100           0.755245    0.091855"
      ]
     },
     "execution_count": 73,
     "metadata": {},
     "output_type": "execute_result"
    }
   ],
   "source": [
    "df[df.difference <= 0.10].sort_values(by=['validate_accuracy', 'difference'], ascending = [False,True])"
   ]
  },
  {
   "cell_type": "code",
   "execution_count": null,
   "id": "7439449b",
   "metadata": {},
   "outputs": [],
   "source": []
  },
  {
   "cell_type": "markdown",
   "id": "fecd583f",
   "metadata": {},
   "source": [
    "# Extra"
   ]
  },
  {
   "cell_type": "markdown",
   "id": "dfa1776b",
   "metadata": {},
   "source": [
    "Work through these same exercises using the Telco dataset.\n",
    "Experiment with this model on other datasets with a higher number of output classes."
   ]
  },
  {
   "cell_type": "code",
   "execution_count": null,
   "id": "c3ac9fa5",
   "metadata": {},
   "outputs": [],
   "source": []
  },
  {
   "cell_type": "code",
   "execution_count": null,
   "id": "fb67000f",
   "metadata": {},
   "outputs": [],
   "source": []
  },
  {
   "cell_type": "code",
   "execution_count": null,
   "id": "be9457fb",
   "metadata": {},
   "outputs": [],
   "source": []
  },
  {
   "cell_type": "code",
   "execution_count": null,
   "id": "187c0a51",
   "metadata": {},
   "outputs": [],
   "source": []
  },
  {
   "cell_type": "code",
   "execution_count": null,
   "id": "ef1ee582",
   "metadata": {},
   "outputs": [],
   "source": []
  },
  {
   "cell_type": "code",
   "execution_count": null,
   "id": "d6fd399a",
   "metadata": {},
   "outputs": [],
   "source": []
  },
  {
   "cell_type": "code",
   "execution_count": null,
   "id": "afa48b51",
   "metadata": {},
   "outputs": [],
   "source": []
  },
  {
   "cell_type": "code",
   "execution_count": null,
   "id": "89dea5d4",
   "metadata": {},
   "outputs": [],
   "source": []
  },
  {
   "cell_type": "markdown",
   "id": "103147fc",
   "metadata": {},
   "source": [
    "# Random Forest"
   ]
  },
  {
   "cell_type": "markdown",
   "id": "b7e4c465",
   "metadata": {},
   "source": [
    "Exercises\n",
    "\n",
    "Continue working in your model file with titanic data to do the following:\n",
    "\n",
    "    Fit the Random Forest classifier to your training sample and transform (i.e. make predictions on the training sample) setting the random_state accordingly and setting min_samples_leaf = 1 and max_depth = 10.\n",
    "\n",
    "    Evaluate your results using the model score, confusion matrix, and classification report.\n",
    "\n",
    "    Print and clearly label the following: Accuracy, true positive rate, false positive rate, true negative rate, false negative rate, precision, recall, f1-score, and support.\n",
    "\n",
    "    Run through steps increasing your min_samples_leaf and decreasing your max_depth.\n",
    "\n",
    "    What are the differences in the evaluation metrics? Which performs better on your in-sample data? Why?\n",
    "\n",
    "After making a few models, which one has the best performance (or closest metrics) on both train and validate?"
   ]
  },
  {
   "cell_type": "code",
   "execution_count": 3,
   "id": "8042ef1f",
   "metadata": {},
   "outputs": [],
   "source": [
    "titanic_o = acquire.get_titanic_data() \n",
    "titanic = prepare.prep_titanic(titanic_o) "
   ]
  },
  {
   "cell_type": "code",
   "execution_count": 4,
   "id": "edbf02ad",
   "metadata": {},
   "outputs": [],
   "source": [
    "titanic.drop(columns = ['sex', 'embark_town', 'class', 'age'], inplace = True)"
   ]
  },
  {
   "cell_type": "code",
   "execution_count": 5,
   "id": "fefb5e8d",
   "metadata": {},
   "outputs": [],
   "source": [
    "train, validate, test = prepare.split_titanic_data(titanic)"
   ]
  },
  {
   "cell_type": "code",
   "execution_count": 6,
   "id": "cf8267bb",
   "metadata": {},
   "outputs": [
    {
     "data": {
      "text/plain": [
       "((891, 10), (891, 11), (569, 11), (143, 11), (179, 11))"
      ]
     },
     "execution_count": 6,
     "metadata": {},
     "output_type": "execute_result"
    }
   ],
   "source": [
    "titanic_o.shape, titanic.shape, train.shape, validate.shape, test.shape"
   ]
  },
  {
   "cell_type": "code",
   "execution_count": 7,
   "id": "a152b2c5",
   "metadata": {
    "scrolled": true
   },
   "outputs": [
    {
     "data": {
      "text/html": [
       "<div>\n",
       "<style scoped>\n",
       "    .dataframe tbody tr th:only-of-type {\n",
       "        vertical-align: middle;\n",
       "    }\n",
       "\n",
       "    .dataframe tbody tr th {\n",
       "        vertical-align: top;\n",
       "    }\n",
       "\n",
       "    .dataframe thead th {\n",
       "        text-align: right;\n",
       "    }\n",
       "</style>\n",
       "<table border=\"1\" class=\"dataframe\">\n",
       "  <thead>\n",
       "    <tr style=\"text-align: right;\">\n",
       "      <th></th>\n",
       "      <th>survived</th>\n",
       "      <th>pclass</th>\n",
       "      <th>sibsp</th>\n",
       "      <th>parch</th>\n",
       "      <th>fare</th>\n",
       "      <th>alone</th>\n",
       "      <th>sex_male</th>\n",
       "      <th>embark_town_Queenstown</th>\n",
       "      <th>embark_town_Southampton</th>\n",
       "      <th>class_Second</th>\n",
       "      <th>class_Third</th>\n",
       "    </tr>\n",
       "  </thead>\n",
       "  <tbody>\n",
       "    <tr>\n",
       "      <th>829</th>\n",
       "      <td>1</td>\n",
       "      <td>1</td>\n",
       "      <td>0</td>\n",
       "      <td>0</td>\n",
       "      <td>80.000</td>\n",
       "      <td>1</td>\n",
       "      <td>0</td>\n",
       "      <td>0</td>\n",
       "      <td>0</td>\n",
       "      <td>0</td>\n",
       "      <td>0</td>\n",
       "    </tr>\n",
       "    <tr>\n",
       "      <th>72</th>\n",
       "      <td>0</td>\n",
       "      <td>2</td>\n",
       "      <td>0</td>\n",
       "      <td>0</td>\n",
       "      <td>73.500</td>\n",
       "      <td>1</td>\n",
       "      <td>1</td>\n",
       "      <td>0</td>\n",
       "      <td>1</td>\n",
       "      <td>1</td>\n",
       "      <td>0</td>\n",
       "    </tr>\n",
       "    <tr>\n",
       "      <th>157</th>\n",
       "      <td>0</td>\n",
       "      <td>3</td>\n",
       "      <td>0</td>\n",
       "      <td>0</td>\n",
       "      <td>8.050</td>\n",
       "      <td>1</td>\n",
       "      <td>1</td>\n",
       "      <td>0</td>\n",
       "      <td>1</td>\n",
       "      <td>0</td>\n",
       "      <td>1</td>\n",
       "    </tr>\n",
       "    <tr>\n",
       "      <th>889</th>\n",
       "      <td>1</td>\n",
       "      <td>1</td>\n",
       "      <td>0</td>\n",
       "      <td>0</td>\n",
       "      <td>30.000</td>\n",
       "      <td>1</td>\n",
       "      <td>1</td>\n",
       "      <td>0</td>\n",
       "      <td>0</td>\n",
       "      <td>0</td>\n",
       "      <td>0</td>\n",
       "    </tr>\n",
       "    <tr>\n",
       "      <th>816</th>\n",
       "      <td>0</td>\n",
       "      <td>3</td>\n",
       "      <td>0</td>\n",
       "      <td>0</td>\n",
       "      <td>7.925</td>\n",
       "      <td>1</td>\n",
       "      <td>0</td>\n",
       "      <td>0</td>\n",
       "      <td>1</td>\n",
       "      <td>0</td>\n",
       "      <td>1</td>\n",
       "    </tr>\n",
       "  </tbody>\n",
       "</table>\n",
       "</div>"
      ],
      "text/plain": [
       "     survived  pclass  sibsp  parch    fare  alone  sex_male  \\\n",
       "829         1       1      0      0  80.000      1         0   \n",
       "72          0       2      0      0  73.500      1         1   \n",
       "157         0       3      0      0   8.050      1         1   \n",
       "889         1       1      0      0  30.000      1         1   \n",
       "816         0       3      0      0   7.925      1         0   \n",
       "\n",
       "     embark_town_Queenstown  embark_town_Southampton  class_Second  \\\n",
       "829                       0                        0             0   \n",
       "72                        0                        1             1   \n",
       "157                       0                        1             0   \n",
       "889                       0                        0             0   \n",
       "816                       0                        1             0   \n",
       "\n",
       "     class_Third  \n",
       "829            0  \n",
       "72             0  \n",
       "157            1  \n",
       "889            0  \n",
       "816            1  "
      ]
     },
     "execution_count": 7,
     "metadata": {},
     "output_type": "execute_result"
    }
   ],
   "source": [
    "train.head()"
   ]
  },
  {
   "cell_type": "code",
   "execution_count": 75,
   "id": "8bb0824c",
   "metadata": {},
   "outputs": [],
   "source": [
    "x_train = train.drop(columns=[\"survived\"])\n",
    "y_train = train.survived\n",
    "\n",
    "x_validate = validate.drop(columns=[\"survived\"])\n",
    "y_validate = validate.survived\n",
    "\n",
    "x_test = test.drop(columns=[\"survived\"])\n",
    "y_test = test.survived"
   ]
  },
  {
   "cell_type": "code",
   "execution_count": 80,
   "id": "b5d3321d",
   "metadata": {},
   "outputs": [],
   "source": [
    "rf = RandomForestClassifier(max_depth = 10, min_samples_leaf=1, random_state = 123)"
   ]
  },
  {
   "cell_type": "code",
   "execution_count": 81,
   "id": "f2ed049a",
   "metadata": {},
   "outputs": [
    {
     "data": {
      "text/plain": [
       "RandomForestClassifier(max_depth=10, random_state=123)"
      ]
     },
     "execution_count": 81,
     "metadata": {},
     "output_type": "execute_result"
    }
   ],
   "source": [
    "rf.fit(x_train, y_train)"
   ]
  },
  {
   "cell_type": "code",
   "execution_count": 82,
   "id": "589e09b6",
   "metadata": {},
   "outputs": [
    {
     "name": "stdout",
     "output_type": "stream",
     "text": [
      "[0.05866936 0.06244306 0.04769665 0.3640268  0.02219909 0.32760828\n",
      " 0.01908419 0.03975711 0.01015076 0.0483647 ]\n"
     ]
    }
   ],
   "source": [
    "print(rf.feature_importances_)"
   ]
  },
  {
   "cell_type": "code",
   "execution_count": 92,
   "id": "9f1d13b2",
   "metadata": {},
   "outputs": [
    {
     "data": {
      "text/plain": [
       "array([0.05866936, 0.06244306, 0.04769665, 0.3640268 , 0.02219909,\n",
       "       0.32760828, 0.01908419, 0.03975711, 0.01015076, 0.0483647 ])"
      ]
     },
     "execution_count": 92,
     "metadata": {},
     "output_type": "execute_result"
    }
   ],
   "source": [
    "features = rf.feature_importances_\n",
    "features"
   ]
  },
  {
   "cell_type": "code",
   "execution_count": 106,
   "id": "caf6e46f",
   "metadata": {},
   "outputs": [],
   "source": [
    "features = pd.DataFrame(features)"
   ]
  },
  {
   "cell_type": "code",
   "execution_count": 107,
   "id": "b17bb4bb",
   "metadata": {},
   "outputs": [],
   "source": [
    "colu = x_train.columns\n",
    "colu = pd.DataFrame(colu)"
   ]
  },
  {
   "cell_type": "code",
   "execution_count": 108,
   "id": "369a4dad",
   "metadata": {
    "scrolled": true
   },
   "outputs": [
    {
     "data": {
      "text/html": [
       "<div>\n",
       "<style scoped>\n",
       "    .dataframe tbody tr th:only-of-type {\n",
       "        vertical-align: middle;\n",
       "    }\n",
       "\n",
       "    .dataframe tbody tr th {\n",
       "        vertical-align: top;\n",
       "    }\n",
       "\n",
       "    .dataframe thead th {\n",
       "        text-align: right;\n",
       "    }\n",
       "</style>\n",
       "<table border=\"1\" class=\"dataframe\">\n",
       "  <thead>\n",
       "    <tr style=\"text-align: right;\">\n",
       "      <th></th>\n",
       "      <th>0</th>\n",
       "      <th>0</th>\n",
       "    </tr>\n",
       "  </thead>\n",
       "  <tbody>\n",
       "    <tr>\n",
       "      <th>0</th>\n",
       "      <td>pclass</td>\n",
       "      <td>0.058669</td>\n",
       "    </tr>\n",
       "    <tr>\n",
       "      <th>1</th>\n",
       "      <td>sibsp</td>\n",
       "      <td>0.062443</td>\n",
       "    </tr>\n",
       "    <tr>\n",
       "      <th>2</th>\n",
       "      <td>parch</td>\n",
       "      <td>0.047697</td>\n",
       "    </tr>\n",
       "    <tr>\n",
       "      <th>3</th>\n",
       "      <td>fare</td>\n",
       "      <td>0.364027</td>\n",
       "    </tr>\n",
       "    <tr>\n",
       "      <th>4</th>\n",
       "      <td>alone</td>\n",
       "      <td>0.022199</td>\n",
       "    </tr>\n",
       "    <tr>\n",
       "      <th>5</th>\n",
       "      <td>sex_male</td>\n",
       "      <td>0.327608</td>\n",
       "    </tr>\n",
       "    <tr>\n",
       "      <th>6</th>\n",
       "      <td>embark_town_Queenstown</td>\n",
       "      <td>0.019084</td>\n",
       "    </tr>\n",
       "    <tr>\n",
       "      <th>7</th>\n",
       "      <td>embark_town_Southampton</td>\n",
       "      <td>0.039757</td>\n",
       "    </tr>\n",
       "    <tr>\n",
       "      <th>8</th>\n",
       "      <td>class_Second</td>\n",
       "      <td>0.010151</td>\n",
       "    </tr>\n",
       "    <tr>\n",
       "      <th>9</th>\n",
       "      <td>class_Third</td>\n",
       "      <td>0.048365</td>\n",
       "    </tr>\n",
       "  </tbody>\n",
       "</table>\n",
       "</div>"
      ],
      "text/plain": [
       "                         0         0\n",
       "0                   pclass  0.058669\n",
       "1                    sibsp  0.062443\n",
       "2                    parch  0.047697\n",
       "3                     fare  0.364027\n",
       "4                    alone  0.022199\n",
       "5                 sex_male  0.327608\n",
       "6   embark_town_Queenstown  0.019084\n",
       "7  embark_town_Southampton  0.039757\n",
       "8             class_Second  0.010151\n",
       "9              class_Third  0.048365"
      ]
     },
     "execution_count": 108,
     "metadata": {},
     "output_type": "execute_result"
    }
   ],
   "source": [
    "pd.concat([colu, features.reindex(colu.index)], axis=1)"
   ]
  },
  {
   "cell_type": "code",
   "execution_count": null,
   "id": "81da5c36",
   "metadata": {},
   "outputs": [],
   "source": []
  },
  {
   "cell_type": "markdown",
   "id": "9e79aeb6",
   "metadata": {},
   "source": [
    "### 2 \n",
    "Evaluate your results using the model score, confusion matrix, and classification report."
   ]
  },
  {
   "cell_type": "code",
   "execution_count": 110,
   "id": "77482024",
   "metadata": {},
   "outputs": [],
   "source": [
    "y_pred = rf.predict(x_train)"
   ]
  },
  {
   "cell_type": "code",
   "execution_count": 111,
   "id": "5b04f57c",
   "metadata": {},
   "outputs": [],
   "source": [
    "y_pred_prob = rf.predict_proba(x_train)"
   ]
  },
  {
   "cell_type": "code",
   "execution_count": 112,
   "id": "0ee1bddd",
   "metadata": {},
   "outputs": [
    {
     "name": "stdout",
     "output_type": "stream",
     "text": [
      "Accuracy of random forest classifier on training set: 0.94\n"
     ]
    }
   ],
   "source": [
    "print('Accuracy of random forest classifier on training set: {:.2f}'\n",
    "      .format(rf.score(x_train, y_train)))"
   ]
  },
  {
   "cell_type": "code",
   "execution_count": 113,
   "id": "40923ca3",
   "metadata": {
    "scrolled": true
   },
   "outputs": [
    {
     "name": "stdout",
     "output_type": "stream",
     "text": [
      "[[344   7]\n",
      " [ 27 191]]\n"
     ]
    }
   ],
   "source": [
    "print(confusion_matrix(y_train, y_pred))"
   ]
  },
  {
   "cell_type": "code",
   "execution_count": 115,
   "id": "d18a37d9",
   "metadata": {},
   "outputs": [],
   "source": [
    "TN, FP, FN, TP = confusion_matrix(actual, predictions).ravel()"
   ]
  },
  {
   "cell_type": "markdown",
   "id": "e486d6c2",
   "metadata": {},
   "source": [
    "**Create a classificaiton report**\n",
    "\n",
    "\n",
    "**Precision:** $\\frac{TP}{(TP + FP)}$\n",
    "\n",
    "**Recall:** $\\frac{TP}{(TP + FN)}$\n",
    "\n",
    "**F1-Score:** A measure of accuracy. The harmonic mean of precision & recall. The harmonic mean is the reciprocal of the arithmetic mean of the reciprocals.  \n",
    "\n",
    "F1 $\\in [0, 1]$\n",
    "\n",
    "F1-score = harmonic mean = $\\frac{2}{\\frac{1}{precision} + \\frac{1}{recall}}$\n",
    "\n",
    "**Support:** number of occurrences of each class. "
   ]
  },
  {
   "cell_type": "code",
   "execution_count": 116,
   "id": "2e6f52d4",
   "metadata": {},
   "outputs": [
    {
     "name": "stdout",
     "output_type": "stream",
     "text": [
      "              precision    recall  f1-score   support\n",
      "\n",
      "           0       0.93      0.98      0.95       351\n",
      "           1       0.96      0.88      0.92       218\n",
      "\n",
      "    accuracy                           0.94       569\n",
      "   macro avg       0.95      0.93      0.94       569\n",
      "weighted avg       0.94      0.94      0.94       569\n",
      "\n"
     ]
    }
   ],
   "source": [
    "print(classification_report(y_train, y_pred))"
   ]
  },
  {
   "cell_type": "code",
   "execution_count": null,
   "id": "e930f9d6",
   "metadata": {},
   "outputs": [],
   "source": []
  },
  {
   "cell_type": "markdown",
   "id": "c2bed432",
   "metadata": {},
   "source": [
    "###  4\n",
    "Print and clearly label the following: Accuracy, true positive rate, false positive rate, true negative rate, false negative rate, precision, recall, f1-score, and support.   "
   ]
  },
  {
   "cell_type": "code",
   "execution_count": 117,
   "id": "efe400d0",
   "metadata": {},
   "outputs": [
    {
     "name": "stdout",
     "output_type": "stream",
     "text": [
      "Accuracy: 0.9420035149384886 \n",
      "\n",
      "True Positive Rate/Sensitivity/Recall/Power: 0.8623853211009175 \n",
      "\n",
      "False Positive Rate/False Alarm Ratio/Fall-out: 0.008547008547008548 \n",
      "\n",
      "True Negative Rate/Specificity/Selectivity: 0.9914529914529915 \n",
      "\n",
      "False Negative Rate/Miss Rate: 0.13761467889908258 \n",
      "\n",
      "Precision/PPV: 0.9842931937172775 \n",
      "\n",
      "F1 Score: 0.9193154034229829 \n",
      "\n",
      "Support (0): 351 \n",
      "\n",
      "Support (1): 218\n"
     ]
    }
   ],
   "source": [
    "ALL = TP + FP + FN + TN\n",
    "\n",
    "accuracy = (TP + TN)/ALL\n",
    "true_positive_rate = sensitivity = recall = power = TP/(TP+FN)\n",
    "false_positive_rate = false_alarm_ratio = fallout = FP/(FP+TN)\n",
    "true_negative_rate = specificity = selectivity = TN/(TN+FP)\n",
    "false_negative_rate = miss_rate = FN/(FN+TP)\n",
    "precision = PPV = TP/(TP+FP)\n",
    "f1_score = 2*(precision*recall)/(precision+recall)\n",
    "support_pos = TP + FN\n",
    "support_neg = FP + TN\n",
    "\n",
    "print(f\"Accuracy: {accuracy}\", '\\n')\n",
    "print(f\"True Positive Rate/Sensitivity/Recall/Power: {true_positive_rate}\", '\\n')\n",
    "print(f\"False Positive Rate/False Alarm Ratio/Fall-out: {false_positive_rate}\", '\\n')\n",
    "print(f\"True Negative Rate/Specificity/Selectivity: {true_negative_rate}\", '\\n')\n",
    "print(f\"False Negative Rate/Miss Rate: {false_negative_rate}\", '\\n')\n",
    "print(f\"Precision/PPV: {precision}\", '\\n')\n",
    "print(f\"F1 Score: {f1_score}\", '\\n')\n",
    "print(f\"Support (0): {support_neg}\", '\\n')\n",
    "print(f\"Support (1): {support_pos}\")"
   ]
  },
  {
   "cell_type": "code",
   "execution_count": null,
   "id": "4fa55911",
   "metadata": {},
   "outputs": [],
   "source": []
  },
  {
   "cell_type": "markdown",
   "id": "03bd9f9f",
   "metadata": {},
   "source": [
    "### 5 \n",
    "Run through steps increasing your min_samples_leaf and decreasing your max_depth.\n",
    "\n",
    "I updated #5 to match the class review"
   ]
  },
  {
   "cell_type": "code",
   "execution_count": 138,
   "id": "20cbbdb7",
   "metadata": {},
   "outputs": [
    {
     "name": "stdout",
     "output_type": "stream",
     "text": [
      "Tree with max depth of 2\n",
      "                    0           1  accuracy   macro avg  weighted avg\n",
      "precision    0.760626    0.909836  0.792619    0.835231      0.817793\n",
      "recall       0.968661    0.509174  0.792619    0.738918      0.792619\n",
      "f1-score     0.852130    0.652941  0.792619    0.752536      0.775815\n",
      "support    351.000000  218.000000  0.792619  569.000000    569.000000\n",
      "\n",
      "Tree with max depth of 3\n",
      "                    0           1  accuracy   macro avg  weighted avg\n",
      "precision    0.795724    0.891892  0.820738    0.843808      0.832569\n",
      "recall       0.954416    0.605505  0.820738    0.779960      0.820738\n",
      "f1-score     0.867876    0.721311  0.820738    0.794594      0.811723\n",
      "support    351.000000  218.000000  0.820738  569.000000    569.000000\n",
      "\n",
      "Tree with max depth of 4\n",
      "                    0           1  accuracy   macro avg  weighted avg\n",
      "precision    0.807786    0.879747  0.827768    0.843766      0.835356\n",
      "recall       0.945869    0.637615  0.827768    0.791742      0.827768\n",
      "f1-score     0.871391    0.739362  0.827768    0.805376      0.820807\n",
      "support    351.000000  218.000000  0.827768  569.000000    569.000000\n",
      "\n",
      "Tree with max depth of 5\n",
      "                    0           1  accuracy   macro avg  weighted avg\n",
      "precision    0.841310    0.901163  0.859402    0.871236      0.864241\n",
      "recall       0.951567    0.711009  0.859402    0.831288      0.859402\n",
      "f1-score     0.893048    0.794872  0.859402    0.843960      0.855434\n",
      "support    351.000000  218.000000  0.859402  569.000000    569.000000\n",
      "\n",
      "Tree with max depth of 6\n",
      "                    0           1  accuracy   macro avg  weighted avg\n",
      "precision    0.855696    0.925287  0.876977    0.890492      0.882359\n",
      "recall       0.962963    0.738532  0.876977    0.850748      0.876977\n",
      "f1-score     0.906166    0.821429  0.876977    0.863797      0.873701\n",
      "support    351.000000  218.000000  0.876977  569.000000    569.000000\n",
      "\n",
      "Tree with max depth of 7\n",
      "                    0           1  accuracy   macro avg  weighted avg\n",
      "precision    0.884319    0.961111  0.908612    0.922715      0.913740\n",
      "recall       0.980057    0.793578  0.908612    0.886817      0.908612\n",
      "f1-score     0.929730    0.869347  0.908612    0.899538      0.906595\n",
      "support    351.000000  218.000000  0.908612  569.000000    569.000000\n",
      "\n",
      "Tree with max depth of 8\n",
      "                    0           1  accuracy   macro avg  weighted avg\n",
      "precision    0.902887    0.962766  0.922671    0.932827      0.925828\n",
      "recall       0.980057    0.830275  0.922671    0.905166      0.922671\n",
      "f1-score     0.939891    0.891626  0.922671    0.915758      0.921399\n",
      "support    351.000000  218.000000  0.922671  569.000000    569.000000\n",
      "\n",
      "Tree with max depth of 9\n",
      "                    0           1  accuracy   macro avg  weighted avg\n",
      "precision    0.919571    0.959184  0.933216    0.939377      0.934748\n",
      "recall       0.977208    0.862385  0.933216    0.919797      0.933216\n",
      "f1-score     0.947514    0.908213  0.933216    0.927863      0.932456\n",
      "support    351.000000  218.000000  0.933216  569.000000    569.000000\n",
      "\n",
      "Tree with max depth of 10\n",
      "                    0           1  accuracy   macro avg  weighted avg\n",
      "precision    0.927224    0.964646  0.940246    0.945935      0.941561\n",
      "recall       0.980057    0.876147  0.940246    0.928102      0.940246\n",
      "f1-score     0.952909    0.918269  0.940246    0.935589      0.939637\n",
      "support    351.000000  218.000000  0.940246  569.000000    569.000000\n",
      "\n"
     ]
    }
   ],
   "source": [
    "\n",
    "for i in range(2, 11):\n",
    "    # Make the model\n",
    "    forest = RandomForestClassifier(max_depth=i, random_state=123)\n",
    "\n",
    "    # Fit the model (on train and only train)\n",
    "    forest = forest.fit(x_train, y_train)\n",
    "\n",
    "    # Use the model\n",
    "    # We'll evaluate the model's performance on train, first\n",
    "    y_predictions = forest.predict(x_train)\n",
    "\n",
    "    # Produce the classification report on the actual y values and this model's predicted y values\n",
    "    report = classification_report(y_train, y_predictions, output_dict=True)\n",
    "    print(f\"Tree with max depth of {i}\")\n",
    "    print(pd.DataFrame(report))\n",
    "    print()"
   ]
  },
  {
   "cell_type": "markdown",
   "id": "6e4d4e31",
   "metadata": {},
   "source": [
    "### 6 \n",
    "What are the differences in the evaluation metrics? Which performs better on your in-sample data? Why?\n",
    "\n",
    "After making a few models, which one has the best performance (or closest metrics) on both train and validate?\n",
    "- The more depth to the tree, the more the model fits to the training data, but it will reach a point where it overfits and then it does a terrible job on classifying anything other than the training set it was intended for. \n",
    "\n",
    "- based on everythign below, 30 min_sample_leaf and 6 max_depth"
   ]
  },
  {
   "cell_type": "code",
   "execution_count": 126,
   "id": "ace59820",
   "metadata": {},
   "outputs": [
    {
     "data": {
      "text/html": [
       "<div>\n",
       "<style scoped>\n",
       "    .dataframe tbody tr th:only-of-type {\n",
       "        vertical-align: middle;\n",
       "    }\n",
       "\n",
       "    .dataframe tbody tr th {\n",
       "        vertical-align: top;\n",
       "    }\n",
       "\n",
       "    .dataframe thead th {\n",
       "        text-align: right;\n",
       "    }\n",
       "</style>\n",
       "<table border=\"1\" class=\"dataframe\">\n",
       "  <thead>\n",
       "    <tr style=\"text-align: right;\">\n",
       "      <th></th>\n",
       "      <th>max_depth</th>\n",
       "      <th>train_accuracy</th>\n",
       "      <th>validate_accuracy</th>\n",
       "      <th>difference</th>\n",
       "    </tr>\n",
       "  </thead>\n",
       "  <tbody>\n",
       "    <tr>\n",
       "      <th>0</th>\n",
       "      <td>2</td>\n",
       "      <td>0.792619</td>\n",
       "      <td>0.783217</td>\n",
       "      <td>0.009402</td>\n",
       "    </tr>\n",
       "    <tr>\n",
       "      <th>1</th>\n",
       "      <td>3</td>\n",
       "      <td>0.820738</td>\n",
       "      <td>0.776224</td>\n",
       "      <td>0.044514</td>\n",
       "    </tr>\n",
       "    <tr>\n",
       "      <th>2</th>\n",
       "      <td>4</td>\n",
       "      <td>0.827768</td>\n",
       "      <td>0.769231</td>\n",
       "      <td>0.058537</td>\n",
       "    </tr>\n",
       "    <tr>\n",
       "      <th>3</th>\n",
       "      <td>5</td>\n",
       "      <td>0.859402</td>\n",
       "      <td>0.797203</td>\n",
       "      <td>0.062200</td>\n",
       "    </tr>\n",
       "    <tr>\n",
       "      <th>4</th>\n",
       "      <td>6</td>\n",
       "      <td>0.876977</td>\n",
       "      <td>0.790210</td>\n",
       "      <td>0.086767</td>\n",
       "    </tr>\n",
       "    <tr>\n",
       "      <th>5</th>\n",
       "      <td>7</td>\n",
       "      <td>0.908612</td>\n",
       "      <td>0.783217</td>\n",
       "      <td>0.125395</td>\n",
       "    </tr>\n",
       "    <tr>\n",
       "      <th>6</th>\n",
       "      <td>8</td>\n",
       "      <td>0.922671</td>\n",
       "      <td>0.748252</td>\n",
       "      <td>0.174420</td>\n",
       "    </tr>\n",
       "    <tr>\n",
       "      <th>7</th>\n",
       "      <td>9</td>\n",
       "      <td>0.933216</td>\n",
       "      <td>0.762238</td>\n",
       "      <td>0.170978</td>\n",
       "    </tr>\n",
       "    <tr>\n",
       "      <th>8</th>\n",
       "      <td>10</td>\n",
       "      <td>0.940246</td>\n",
       "      <td>0.762238</td>\n",
       "      <td>0.178008</td>\n",
       "    </tr>\n",
       "    <tr>\n",
       "      <th>9</th>\n",
       "      <td>11</td>\n",
       "      <td>0.942004</td>\n",
       "      <td>0.741259</td>\n",
       "      <td>0.200745</td>\n",
       "    </tr>\n",
       "    <tr>\n",
       "      <th>10</th>\n",
       "      <td>12</td>\n",
       "      <td>0.942004</td>\n",
       "      <td>0.776224</td>\n",
       "      <td>0.165780</td>\n",
       "    </tr>\n",
       "    <tr>\n",
       "      <th>11</th>\n",
       "      <td>13</td>\n",
       "      <td>0.942004</td>\n",
       "      <td>0.762238</td>\n",
       "      <td>0.179766</td>\n",
       "    </tr>\n",
       "    <tr>\n",
       "      <th>12</th>\n",
       "      <td>14</td>\n",
       "      <td>0.942004</td>\n",
       "      <td>0.769231</td>\n",
       "      <td>0.172773</td>\n",
       "    </tr>\n",
       "    <tr>\n",
       "      <th>13</th>\n",
       "      <td>15</td>\n",
       "      <td>0.942004</td>\n",
       "      <td>0.762238</td>\n",
       "      <td>0.179766</td>\n",
       "    </tr>\n",
       "    <tr>\n",
       "      <th>14</th>\n",
       "      <td>16</td>\n",
       "      <td>0.942004</td>\n",
       "      <td>0.769231</td>\n",
       "      <td>0.172773</td>\n",
       "    </tr>\n",
       "    <tr>\n",
       "      <th>15</th>\n",
       "      <td>17</td>\n",
       "      <td>0.942004</td>\n",
       "      <td>0.769231</td>\n",
       "      <td>0.172773</td>\n",
       "    </tr>\n",
       "    <tr>\n",
       "      <th>16</th>\n",
       "      <td>18</td>\n",
       "      <td>0.942004</td>\n",
       "      <td>0.769231</td>\n",
       "      <td>0.172773</td>\n",
       "    </tr>\n",
       "    <tr>\n",
       "      <th>17</th>\n",
       "      <td>19</td>\n",
       "      <td>0.942004</td>\n",
       "      <td>0.769231</td>\n",
       "      <td>0.172773</td>\n",
       "    </tr>\n",
       "    <tr>\n",
       "      <th>18</th>\n",
       "      <td>20</td>\n",
       "      <td>0.942004</td>\n",
       "      <td>0.769231</td>\n",
       "      <td>0.172773</td>\n",
       "    </tr>\n",
       "    <tr>\n",
       "      <th>19</th>\n",
       "      <td>21</td>\n",
       "      <td>0.942004</td>\n",
       "      <td>0.769231</td>\n",
       "      <td>0.172773</td>\n",
       "    </tr>\n",
       "    <tr>\n",
       "      <th>20</th>\n",
       "      <td>22</td>\n",
       "      <td>0.942004</td>\n",
       "      <td>0.769231</td>\n",
       "      <td>0.172773</td>\n",
       "    </tr>\n",
       "    <tr>\n",
       "      <th>21</th>\n",
       "      <td>23</td>\n",
       "      <td>0.942004</td>\n",
       "      <td>0.769231</td>\n",
       "      <td>0.172773</td>\n",
       "    </tr>\n",
       "    <tr>\n",
       "      <th>22</th>\n",
       "      <td>24</td>\n",
       "      <td>0.942004</td>\n",
       "      <td>0.769231</td>\n",
       "      <td>0.172773</td>\n",
       "    </tr>\n",
       "  </tbody>\n",
       "</table>\n",
       "</div>"
      ],
      "text/plain": [
       "    max_depth  train_accuracy  validate_accuracy  difference\n",
       "0           2        0.792619           0.783217    0.009402\n",
       "1           3        0.820738           0.776224    0.044514\n",
       "2           4        0.827768           0.769231    0.058537\n",
       "3           5        0.859402           0.797203    0.062200\n",
       "4           6        0.876977           0.790210    0.086767\n",
       "5           7        0.908612           0.783217    0.125395\n",
       "6           8        0.922671           0.748252    0.174420\n",
       "7           9        0.933216           0.762238    0.170978\n",
       "8          10        0.940246           0.762238    0.178008\n",
       "9          11        0.942004           0.741259    0.200745\n",
       "10         12        0.942004           0.776224    0.165780\n",
       "11         13        0.942004           0.762238    0.179766\n",
       "12         14        0.942004           0.769231    0.172773\n",
       "13         15        0.942004           0.762238    0.179766\n",
       "14         16        0.942004           0.769231    0.172773\n",
       "15         17        0.942004           0.769231    0.172773\n",
       "16         18        0.942004           0.769231    0.172773\n",
       "17         19        0.942004           0.769231    0.172773\n",
       "18         20        0.942004           0.769231    0.172773\n",
       "19         21        0.942004           0.769231    0.172773\n",
       "20         22        0.942004           0.769231    0.172773\n",
       "21         23        0.942004           0.769231    0.172773\n",
       "22         24        0.942004           0.769231    0.172773"
      ]
     },
     "execution_count": 126,
     "metadata": {},
     "output_type": "execute_result"
    }
   ],
   "source": [
    "metrics = []\n",
    "\n",
    "for i in range(2, 25):\n",
    "    # Make the model\n",
    "    forest = RandomForestClassifier(max_depth=i, random_state=123)\n",
    "\n",
    "    # Fit the model (on train and only train)\n",
    "    forest = forest.fit(x_train, y_train)\n",
    "\n",
    "    # Use the model\n",
    "    # We'll evaluate the model's performance on train, first\n",
    "    in_sample_accuracy = forest.score(x_train, y_train)\n",
    "    \n",
    "    out_of_sample_accuracy = forest.score(x_validate, y_validate)\n",
    "\n",
    "    output = {\n",
    "        \"max_depth\": i,\n",
    "        \"train_accuracy\": in_sample_accuracy,\n",
    "        \"validate_accuracy\": out_of_sample_accuracy\n",
    "    }\n",
    "    \n",
    "    metrics.append(output)\n",
    "    \n",
    "df = pd.DataFrame(metrics)\n",
    "df[\"difference\"] = df.train_accuracy - df.validate_accuracy\n",
    "df"
   ]
  },
  {
   "cell_type": "code",
   "execution_count": 127,
   "id": "8b2a114a",
   "metadata": {},
   "outputs": [
    {
     "data": {
      "image/png": "[encoded data removed]",
      "text/plain": [
       "<Figure size 1152x648 with 1 Axes>"
      ]
     },
     "metadata": {
      "needs_background": "light"
     },
     "output_type": "display_data"
    }
   ],
   "source": [
    "df.set_index('max_depth').plot(figsize = (16,9))\n",
    "plt.ylabel('Accuracy')\n",
    "plt.xticks(np.arange(0,21,1))\n",
    "plt.grid()"
   ]
  },
  {
   "cell_type": "markdown",
   "id": "ca797b3d",
   "metadata": {},
   "source": [
    "## Increasing `min_samples_per_leaf`, decreasing `max_depth`"
   ]
  },
  {
   "cell_type": "code",
   "execution_count": 129,
   "id": "78f5b790",
   "metadata": {
    "scrolled": false
   },
   "outputs": [
    {
     "data": {
      "text/html": [
       "<div>\n",
       "<style scoped>\n",
       "    .dataframe tbody tr th:only-of-type {\n",
       "        vertical-align: middle;\n",
       "    }\n",
       "\n",
       "    .dataframe tbody tr th {\n",
       "        vertical-align: top;\n",
       "    }\n",
       "\n",
       "    .dataframe thead th {\n",
       "        text-align: right;\n",
       "    }\n",
       "</style>\n",
       "<table border=\"1\" class=\"dataframe\">\n",
       "  <thead>\n",
       "    <tr style=\"text-align: right;\">\n",
       "      <th></th>\n",
       "      <th>min_samples_per_leaf</th>\n",
       "      <th>max_depth</th>\n",
       "      <th>train_accuracy</th>\n",
       "      <th>validate_accuracy</th>\n",
       "      <th>difference</th>\n",
       "    </tr>\n",
       "  </thead>\n",
       "  <tbody>\n",
       "    <tr>\n",
       "      <th>0</th>\n",
       "      <td>2</td>\n",
       "      <td>18</td>\n",
       "      <td>0.894552</td>\n",
       "      <td>0.762238</td>\n",
       "      <td>0.132314</td>\n",
       "    </tr>\n",
       "    <tr>\n",
       "      <th>1</th>\n",
       "      <td>3</td>\n",
       "      <td>17</td>\n",
       "      <td>0.869947</td>\n",
       "      <td>0.776224</td>\n",
       "      <td>0.093723</td>\n",
       "    </tr>\n",
       "    <tr>\n",
       "      <th>2</th>\n",
       "      <td>4</td>\n",
       "      <td>16</td>\n",
       "      <td>0.868190</td>\n",
       "      <td>0.804196</td>\n",
       "      <td>0.063994</td>\n",
       "    </tr>\n",
       "    <tr>\n",
       "      <th>3</th>\n",
       "      <td>5</td>\n",
       "      <td>15</td>\n",
       "      <td>0.859402</td>\n",
       "      <td>0.804196</td>\n",
       "      <td>0.055207</td>\n",
       "    </tr>\n",
       "    <tr>\n",
       "      <th>4</th>\n",
       "      <td>6</td>\n",
       "      <td>14</td>\n",
       "      <td>0.836555</td>\n",
       "      <td>0.783217</td>\n",
       "      <td>0.053339</td>\n",
       "    </tr>\n",
       "    <tr>\n",
       "      <th>5</th>\n",
       "      <td>7</td>\n",
       "      <td>13</td>\n",
       "      <td>0.838313</td>\n",
       "      <td>0.783217</td>\n",
       "      <td>0.055096</td>\n",
       "    </tr>\n",
       "    <tr>\n",
       "      <th>6</th>\n",
       "      <td>8</td>\n",
       "      <td>12</td>\n",
       "      <td>0.843585</td>\n",
       "      <td>0.790210</td>\n",
       "      <td>0.053375</td>\n",
       "    </tr>\n",
       "    <tr>\n",
       "      <th>7</th>\n",
       "      <td>9</td>\n",
       "      <td>11</td>\n",
       "      <td>0.836555</td>\n",
       "      <td>0.783217</td>\n",
       "      <td>0.053339</td>\n",
       "    </tr>\n",
       "    <tr>\n",
       "      <th>8</th>\n",
       "      <td>10</td>\n",
       "      <td>10</td>\n",
       "      <td>0.836555</td>\n",
       "      <td>0.790210</td>\n",
       "      <td>0.046346</td>\n",
       "    </tr>\n",
       "    <tr>\n",
       "      <th>9</th>\n",
       "      <td>11</td>\n",
       "      <td>9</td>\n",
       "      <td>0.827768</td>\n",
       "      <td>0.783217</td>\n",
       "      <td>0.044551</td>\n",
       "    </tr>\n",
       "    <tr>\n",
       "      <th>10</th>\n",
       "      <td>12</td>\n",
       "      <td>8</td>\n",
       "      <td>0.831283</td>\n",
       "      <td>0.783217</td>\n",
       "      <td>0.048066</td>\n",
       "    </tr>\n",
       "    <tr>\n",
       "      <th>11</th>\n",
       "      <td>13</td>\n",
       "      <td>7</td>\n",
       "      <td>0.827768</td>\n",
       "      <td>0.783217</td>\n",
       "      <td>0.044551</td>\n",
       "    </tr>\n",
       "    <tr>\n",
       "      <th>12</th>\n",
       "      <td>14</td>\n",
       "      <td>6</td>\n",
       "      <td>0.827768</td>\n",
       "      <td>0.783217</td>\n",
       "      <td>0.044551</td>\n",
       "    </tr>\n",
       "    <tr>\n",
       "      <th>13</th>\n",
       "      <td>15</td>\n",
       "      <td>5</td>\n",
       "      <td>0.827768</td>\n",
       "      <td>0.776224</td>\n",
       "      <td>0.051544</td>\n",
       "    </tr>\n",
       "    <tr>\n",
       "      <th>14</th>\n",
       "      <td>16</td>\n",
       "      <td>4</td>\n",
       "      <td>0.820738</td>\n",
       "      <td>0.783217</td>\n",
       "      <td>0.037521</td>\n",
       "    </tr>\n",
       "    <tr>\n",
       "      <th>15</th>\n",
       "      <td>17</td>\n",
       "      <td>3</td>\n",
       "      <td>0.815466</td>\n",
       "      <td>0.783217</td>\n",
       "      <td>0.032249</td>\n",
       "    </tr>\n",
       "    <tr>\n",
       "      <th>16</th>\n",
       "      <td>18</td>\n",
       "      <td>2</td>\n",
       "      <td>0.796134</td>\n",
       "      <td>0.783217</td>\n",
       "      <td>0.012917</td>\n",
       "    </tr>\n",
       "    <tr>\n",
       "      <th>17</th>\n",
       "      <td>19</td>\n",
       "      <td>1</td>\n",
       "      <td>0.782074</td>\n",
       "      <td>0.776224</td>\n",
       "      <td>0.005850</td>\n",
       "    </tr>\n",
       "  </tbody>\n",
       "</table>\n",
       "</div>"
      ],
      "text/plain": [
       "    min_samples_per_leaf  max_depth  train_accuracy  validate_accuracy  \\\n",
       "0                      2         18        0.894552           0.762238   \n",
       "1                      3         17        0.869947           0.776224   \n",
       "2                      4         16        0.868190           0.804196   \n",
       "3                      5         15        0.859402           0.804196   \n",
       "4                      6         14        0.836555           0.783217   \n",
       "5                      7         13        0.838313           0.783217   \n",
       "6                      8         12        0.843585           0.790210   \n",
       "7                      9         11        0.836555           0.783217   \n",
       "8                     10         10        0.836555           0.790210   \n",
       "9                     11          9        0.827768           0.783217   \n",
       "10                    12          8        0.831283           0.783217   \n",
       "11                    13          7        0.827768           0.783217   \n",
       "12                    14          6        0.827768           0.783217   \n",
       "13                    15          5        0.827768           0.776224   \n",
       "14                    16          4        0.820738           0.783217   \n",
       "15                    17          3        0.815466           0.783217   \n",
       "16                    18          2        0.796134           0.783217   \n",
       "17                    19          1        0.782074           0.776224   \n",
       "\n",
       "    difference  \n",
       "0     0.132314  \n",
       "1     0.093723  \n",
       "2     0.063994  \n",
       "3     0.055207  \n",
       "4     0.053339  \n",
       "5     0.055096  \n",
       "6     0.053375  \n",
       "7     0.053339  \n",
       "8     0.046346  \n",
       "9     0.044551  \n",
       "10    0.048066  \n",
       "11    0.044551  \n",
       "12    0.044551  \n",
       "13    0.051544  \n",
       "14    0.037521  \n",
       "15    0.032249  \n",
       "16    0.012917  \n",
       "17    0.005850  "
      ]
     },
     "execution_count": 129,
     "metadata": {},
     "output_type": "execute_result"
    }
   ],
   "source": [
    "metrics = []\n",
    "max_depth = 20\n",
    "\n",
    "for i in range(2, max_depth):\n",
    "    # Make the model\n",
    "    depth = max_depth - i\n",
    "    n_samples = i\n",
    "    forest = RandomForestClassifier(max_depth=depth, min_samples_leaf=n_samples, random_state=123)\n",
    "\n",
    "    # Fit the model (on train and only train)\n",
    "    forest = forest.fit(x_train, y_train)\n",
    "\n",
    "    # Use the model\n",
    "    # We'll evaluate the model's performance on train, first\n",
    "    in_sample_accuracy = forest.score(x_train, y_train)\n",
    "    \n",
    "    out_of_sample_accuracy = forest.score(x_validate, y_validate)\n",
    "\n",
    "    output = {\n",
    "        \"min_samples_per_leaf\": n_samples,\n",
    "        \"max_depth\": depth,\n",
    "        \"train_accuracy\": in_sample_accuracy,\n",
    "        \"validate_accuracy\": out_of_sample_accuracy\n",
    "    }\n",
    "    \n",
    "    metrics.append(output)\n",
    "    \n",
    "df = pd.DataFrame(metrics)\n",
    "df[\"difference\"] = df.train_accuracy - df.validate_accuracy\n",
    "df"
   ]
  },
  {
   "cell_type": "code",
   "execution_count": 130,
   "id": "88492bf0",
   "metadata": {},
   "outputs": [
    {
     "data": {
      "image/png": "[encoded data removed]",
      "text/plain": [
       "<Figure size 1152x648 with 1 Axes>"
      ]
     },
     "metadata": {
      "needs_background": "light"
     },
     "output_type": "display_data"
    }
   ],
   "source": [
    "df.set_index('max_depth')[['train_accuracy', 'validate_accuracy','difference']].plot(figsize = (16,9))\n",
    "plt.ylabel('Accuracy')\n",
    "plt.xticks(np.arange(0,21,1))\n",
    "plt.grid()"
   ]
  },
  {
   "cell_type": "markdown",
   "id": "cb7a7438",
   "metadata": {},
   "source": [
    "## What if we increase both `min_samples_per_leaf` and `max_depth`"
   ]
  },
  {
   "cell_type": "code",
   "execution_count": 132,
   "id": "9bb8f893",
   "metadata": {},
   "outputs": [
    {
     "data": {
      "text/html": [
       "<div>\n",
       "<style scoped>\n",
       "    .dataframe tbody tr th:only-of-type {\n",
       "        vertical-align: middle;\n",
       "    }\n",
       "\n",
       "    .dataframe tbody tr th {\n",
       "        vertical-align: top;\n",
       "    }\n",
       "\n",
       "    .dataframe thead th {\n",
       "        text-align: right;\n",
       "    }\n",
       "</style>\n",
       "<table border=\"1\" class=\"dataframe\">\n",
       "  <thead>\n",
       "    <tr style=\"text-align: right;\">\n",
       "      <th></th>\n",
       "      <th>min_samples_per_leaf</th>\n",
       "      <th>max_depth</th>\n",
       "      <th>train_accuracy</th>\n",
       "      <th>validate_accuracy</th>\n",
       "      <th>difference</th>\n",
       "    </tr>\n",
       "  </thead>\n",
       "  <tbody>\n",
       "    <tr>\n",
       "      <th>0</th>\n",
       "      <td>2</td>\n",
       "      <td>2</td>\n",
       "      <td>0.792619</td>\n",
       "      <td>0.783217</td>\n",
       "      <td>0.009402</td>\n",
       "    </tr>\n",
       "    <tr>\n",
       "      <th>1</th>\n",
       "      <td>3</td>\n",
       "      <td>3</td>\n",
       "      <td>0.822496</td>\n",
       "      <td>0.783217</td>\n",
       "      <td>0.039279</td>\n",
       "    </tr>\n",
       "    <tr>\n",
       "      <th>2</th>\n",
       "      <td>4</td>\n",
       "      <td>4</td>\n",
       "      <td>0.827768</td>\n",
       "      <td>0.776224</td>\n",
       "      <td>0.051544</td>\n",
       "    </tr>\n",
       "    <tr>\n",
       "      <th>3</th>\n",
       "      <td>5</td>\n",
       "      <td>5</td>\n",
       "      <td>0.840070</td>\n",
       "      <td>0.783217</td>\n",
       "      <td>0.056854</td>\n",
       "    </tr>\n",
       "    <tr>\n",
       "      <th>4</th>\n",
       "      <td>6</td>\n",
       "      <td>6</td>\n",
       "      <td>0.836555</td>\n",
       "      <td>0.783217</td>\n",
       "      <td>0.053339</td>\n",
       "    </tr>\n",
       "    <tr>\n",
       "      <th>5</th>\n",
       "      <td>7</td>\n",
       "      <td>7</td>\n",
       "      <td>0.841828</td>\n",
       "      <td>0.783217</td>\n",
       "      <td>0.058611</td>\n",
       "    </tr>\n",
       "    <tr>\n",
       "      <th>6</th>\n",
       "      <td>8</td>\n",
       "      <td>8</td>\n",
       "      <td>0.841828</td>\n",
       "      <td>0.797203</td>\n",
       "      <td>0.044625</td>\n",
       "    </tr>\n",
       "    <tr>\n",
       "      <th>7</th>\n",
       "      <td>9</td>\n",
       "      <td>9</td>\n",
       "      <td>0.834798</td>\n",
       "      <td>0.783217</td>\n",
       "      <td>0.051581</td>\n",
       "    </tr>\n",
       "    <tr>\n",
       "      <th>8</th>\n",
       "      <td>10</td>\n",
       "      <td>10</td>\n",
       "      <td>0.836555</td>\n",
       "      <td>0.790210</td>\n",
       "      <td>0.046346</td>\n",
       "    </tr>\n",
       "    <tr>\n",
       "      <th>9</th>\n",
       "      <td>11</td>\n",
       "      <td>11</td>\n",
       "      <td>0.827768</td>\n",
       "      <td>0.783217</td>\n",
       "      <td>0.044551</td>\n",
       "    </tr>\n",
       "    <tr>\n",
       "      <th>10</th>\n",
       "      <td>12</td>\n",
       "      <td>12</td>\n",
       "      <td>0.831283</td>\n",
       "      <td>0.783217</td>\n",
       "      <td>0.048066</td>\n",
       "    </tr>\n",
       "    <tr>\n",
       "      <th>11</th>\n",
       "      <td>13</td>\n",
       "      <td>13</td>\n",
       "      <td>0.827768</td>\n",
       "      <td>0.783217</td>\n",
       "      <td>0.044551</td>\n",
       "    </tr>\n",
       "    <tr>\n",
       "      <th>12</th>\n",
       "      <td>14</td>\n",
       "      <td>14</td>\n",
       "      <td>0.829525</td>\n",
       "      <td>0.776224</td>\n",
       "      <td>0.053302</td>\n",
       "    </tr>\n",
       "    <tr>\n",
       "      <th>13</th>\n",
       "      <td>15</td>\n",
       "      <td>15</td>\n",
       "      <td>0.827768</td>\n",
       "      <td>0.776224</td>\n",
       "      <td>0.051544</td>\n",
       "    </tr>\n",
       "    <tr>\n",
       "      <th>14</th>\n",
       "      <td>16</td>\n",
       "      <td>16</td>\n",
       "      <td>0.822496</td>\n",
       "      <td>0.783217</td>\n",
       "      <td>0.039279</td>\n",
       "    </tr>\n",
       "    <tr>\n",
       "      <th>15</th>\n",
       "      <td>17</td>\n",
       "      <td>17</td>\n",
       "      <td>0.820738</td>\n",
       "      <td>0.790210</td>\n",
       "      <td>0.030528</td>\n",
       "    </tr>\n",
       "    <tr>\n",
       "      <th>16</th>\n",
       "      <td>18</td>\n",
       "      <td>18</td>\n",
       "      <td>0.822496</td>\n",
       "      <td>0.790210</td>\n",
       "      <td>0.032286</td>\n",
       "    </tr>\n",
       "    <tr>\n",
       "      <th>17</th>\n",
       "      <td>19</td>\n",
       "      <td>19</td>\n",
       "      <td>0.817223</td>\n",
       "      <td>0.783217</td>\n",
       "      <td>0.034006</td>\n",
       "    </tr>\n",
       "  </tbody>\n",
       "</table>\n",
       "</div>"
      ],
      "text/plain": [
       "    min_samples_per_leaf  max_depth  train_accuracy  validate_accuracy  \\\n",
       "0                      2          2        0.792619           0.783217   \n",
       "1                      3          3        0.822496           0.783217   \n",
       "2                      4          4        0.827768           0.776224   \n",
       "3                      5          5        0.840070           0.783217   \n",
       "4                      6          6        0.836555           0.783217   \n",
       "5                      7          7        0.841828           0.783217   \n",
       "6                      8          8        0.841828           0.797203   \n",
       "7                      9          9        0.834798           0.783217   \n",
       "8                     10         10        0.836555           0.790210   \n",
       "9                     11         11        0.827768           0.783217   \n",
       "10                    12         12        0.831283           0.783217   \n",
       "11                    13         13        0.827768           0.783217   \n",
       "12                    14         14        0.829525           0.776224   \n",
       "13                    15         15        0.827768           0.776224   \n",
       "14                    16         16        0.822496           0.783217   \n",
       "15                    17         17        0.820738           0.790210   \n",
       "16                    18         18        0.822496           0.790210   \n",
       "17                    19         19        0.817223           0.783217   \n",
       "\n",
       "    difference  \n",
       "0     0.009402  \n",
       "1     0.039279  \n",
       "2     0.051544  \n",
       "3     0.056854  \n",
       "4     0.053339  \n",
       "5     0.058611  \n",
       "6     0.044625  \n",
       "7     0.051581  \n",
       "8     0.046346  \n",
       "9     0.044551  \n",
       "10    0.048066  \n",
       "11    0.044551  \n",
       "12    0.053302  \n",
       "13    0.051544  \n",
       "14    0.039279  \n",
       "15    0.030528  \n",
       "16    0.032286  \n",
       "17    0.034006  "
      ]
     },
     "execution_count": 132,
     "metadata": {},
     "output_type": "execute_result"
    }
   ],
   "source": [
    "metrics = []\n",
    "max_depth = 20\n",
    "\n",
    "for i in range(2, max_depth):\n",
    "    # Make the model\n",
    "    depth = i\n",
    "    n_samples = i\n",
    "    forest = RandomForestClassifier(max_depth=depth, min_samples_leaf=n_samples, random_state=123)\n",
    "\n",
    "    # Fit the model (on train and only train)\n",
    "    forest = forest.fit(x_train, y_train)\n",
    "\n",
    "    # Use the model\n",
    "    # We'll evaluate the model's performance on train, first\n",
    "    in_sample_accuracy = forest.score(x_train, y_train)\n",
    "    \n",
    "    out_of_sample_accuracy = forest.score(x_validate, y_validate)\n",
    "\n",
    "    output = {\n",
    "        \"min_samples_per_leaf\": n_samples,\n",
    "        \"max_depth\": depth,\n",
    "        \"train_accuracy\": in_sample_accuracy,\n",
    "        \"validate_accuracy\": out_of_sample_accuracy\n",
    "    }\n",
    "    \n",
    "    metrics.append(output)\n",
    "    \n",
    "df = pd.DataFrame(metrics)\n",
    "df[\"difference\"] = df.train_accuracy - df.validate_accuracy\n",
    "df"
   ]
  },
  {
   "cell_type": "code",
   "execution_count": 133,
   "id": "dbfe48b0",
   "metadata": {
    "scrolled": true
   },
   "outputs": [
    {
     "data": {
      "image/png": "[encoded data removed]",
      "text/plain": [
       "<Figure size 432x288 with 1 Axes>"
      ]
     },
     "metadata": {
      "needs_background": "light"
     },
     "output_type": "display_data"
    }
   ],
   "source": [
    "df[['train_accuracy', 'validate_accuracy','difference']].plot()\n",
    "plt.grid()"
   ]
  },
  {
   "cell_type": "markdown",
   "id": "5f7ecda2",
   "metadata": {},
   "source": [
    "## What about a fixed depth and increasing `min_samples_leaf`"
   ]
  },
  {
   "cell_type": "code",
   "execution_count": 134,
   "id": "9be3e519",
   "metadata": {
    "scrolled": false
   },
   "outputs": [
    {
     "data": {
      "text/html": [
       "<div>\n",
       "<style scoped>\n",
       "    .dataframe tbody tr th:only-of-type {\n",
       "        vertical-align: middle;\n",
       "    }\n",
       "\n",
       "    .dataframe tbody tr th {\n",
       "        vertical-align: top;\n",
       "    }\n",
       "\n",
       "    .dataframe thead th {\n",
       "        text-align: right;\n",
       "    }\n",
       "</style>\n",
       "<table border=\"1\" class=\"dataframe\">\n",
       "  <thead>\n",
       "    <tr style=\"text-align: right;\">\n",
       "      <th></th>\n",
       "      <th>min_samples_per_leaf</th>\n",
       "      <th>max_depth</th>\n",
       "      <th>train_accuracy</th>\n",
       "      <th>validate_accuracy</th>\n",
       "      <th>difference</th>\n",
       "    </tr>\n",
       "  </thead>\n",
       "  <tbody>\n",
       "    <tr>\n",
       "      <th>0</th>\n",
       "      <td>2</td>\n",
       "      <td>6</td>\n",
       "      <td>0.868190</td>\n",
       "      <td>0.783217</td>\n",
       "      <td>0.084973</td>\n",
       "    </tr>\n",
       "    <tr>\n",
       "      <th>1</th>\n",
       "      <td>3</td>\n",
       "      <td>6</td>\n",
       "      <td>0.861160</td>\n",
       "      <td>0.790210</td>\n",
       "      <td>0.070950</td>\n",
       "    </tr>\n",
       "    <tr>\n",
       "      <th>2</th>\n",
       "      <td>4</td>\n",
       "      <td>6</td>\n",
       "      <td>0.861160</td>\n",
       "      <td>0.790210</td>\n",
       "      <td>0.070950</td>\n",
       "    </tr>\n",
       "    <tr>\n",
       "      <th>3</th>\n",
       "      <td>5</td>\n",
       "      <td>6</td>\n",
       "      <td>0.847100</td>\n",
       "      <td>0.776224</td>\n",
       "      <td>0.070876</td>\n",
       "    </tr>\n",
       "    <tr>\n",
       "      <th>4</th>\n",
       "      <td>6</td>\n",
       "      <td>6</td>\n",
       "      <td>0.836555</td>\n",
       "      <td>0.783217</td>\n",
       "      <td>0.053339</td>\n",
       "    </tr>\n",
       "    <tr>\n",
       "      <th>5</th>\n",
       "      <td>7</td>\n",
       "      <td>6</td>\n",
       "      <td>0.841828</td>\n",
       "      <td>0.797203</td>\n",
       "      <td>0.044625</td>\n",
       "    </tr>\n",
       "    <tr>\n",
       "      <th>6</th>\n",
       "      <td>8</td>\n",
       "      <td>6</td>\n",
       "      <td>0.840070</td>\n",
       "      <td>0.783217</td>\n",
       "      <td>0.056854</td>\n",
       "    </tr>\n",
       "    <tr>\n",
       "      <th>7</th>\n",
       "      <td>9</td>\n",
       "      <td>6</td>\n",
       "      <td>0.833040</td>\n",
       "      <td>0.790210</td>\n",
       "      <td>0.042831</td>\n",
       "    </tr>\n",
       "    <tr>\n",
       "      <th>8</th>\n",
       "      <td>10</td>\n",
       "      <td>6</td>\n",
       "      <td>0.834798</td>\n",
       "      <td>0.790210</td>\n",
       "      <td>0.044588</td>\n",
       "    </tr>\n",
       "    <tr>\n",
       "      <th>9</th>\n",
       "      <td>11</td>\n",
       "      <td>6</td>\n",
       "      <td>0.831283</td>\n",
       "      <td>0.776224</td>\n",
       "      <td>0.055059</td>\n",
       "    </tr>\n",
       "    <tr>\n",
       "      <th>10</th>\n",
       "      <td>12</td>\n",
       "      <td>6</td>\n",
       "      <td>0.829525</td>\n",
       "      <td>0.776224</td>\n",
       "      <td>0.053302</td>\n",
       "    </tr>\n",
       "    <tr>\n",
       "      <th>11</th>\n",
       "      <td>13</td>\n",
       "      <td>6</td>\n",
       "      <td>0.827768</td>\n",
       "      <td>0.783217</td>\n",
       "      <td>0.044551</td>\n",
       "    </tr>\n",
       "    <tr>\n",
       "      <th>12</th>\n",
       "      <td>14</td>\n",
       "      <td>6</td>\n",
       "      <td>0.827768</td>\n",
       "      <td>0.783217</td>\n",
       "      <td>0.044551</td>\n",
       "    </tr>\n",
       "    <tr>\n",
       "      <th>13</th>\n",
       "      <td>15</td>\n",
       "      <td>6</td>\n",
       "      <td>0.826011</td>\n",
       "      <td>0.783217</td>\n",
       "      <td>0.042794</td>\n",
       "    </tr>\n",
       "    <tr>\n",
       "      <th>14</th>\n",
       "      <td>16</td>\n",
       "      <td>6</td>\n",
       "      <td>0.820738</td>\n",
       "      <td>0.790210</td>\n",
       "      <td>0.030528</td>\n",
       "    </tr>\n",
       "    <tr>\n",
       "      <th>15</th>\n",
       "      <td>17</td>\n",
       "      <td>6</td>\n",
       "      <td>0.820738</td>\n",
       "      <td>0.790210</td>\n",
       "      <td>0.030528</td>\n",
       "    </tr>\n",
       "    <tr>\n",
       "      <th>16</th>\n",
       "      <td>18</td>\n",
       "      <td>6</td>\n",
       "      <td>0.820738</td>\n",
       "      <td>0.790210</td>\n",
       "      <td>0.030528</td>\n",
       "    </tr>\n",
       "    <tr>\n",
       "      <th>17</th>\n",
       "      <td>19</td>\n",
       "      <td>6</td>\n",
       "      <td>0.817223</td>\n",
       "      <td>0.783217</td>\n",
       "      <td>0.034006</td>\n",
       "    </tr>\n",
       "    <tr>\n",
       "      <th>18</th>\n",
       "      <td>20</td>\n",
       "      <td>6</td>\n",
       "      <td>0.815466</td>\n",
       "      <td>0.783217</td>\n",
       "      <td>0.032249</td>\n",
       "    </tr>\n",
       "    <tr>\n",
       "      <th>19</th>\n",
       "      <td>21</td>\n",
       "      <td>6</td>\n",
       "      <td>0.815466</td>\n",
       "      <td>0.783217</td>\n",
       "      <td>0.032249</td>\n",
       "    </tr>\n",
       "    <tr>\n",
       "      <th>20</th>\n",
       "      <td>22</td>\n",
       "      <td>6</td>\n",
       "      <td>0.815466</td>\n",
       "      <td>0.783217</td>\n",
       "      <td>0.032249</td>\n",
       "    </tr>\n",
       "    <tr>\n",
       "      <th>21</th>\n",
       "      <td>23</td>\n",
       "      <td>6</td>\n",
       "      <td>0.813708</td>\n",
       "      <td>0.783217</td>\n",
       "      <td>0.030491</td>\n",
       "    </tr>\n",
       "    <tr>\n",
       "      <th>22</th>\n",
       "      <td>24</td>\n",
       "      <td>6</td>\n",
       "      <td>0.818981</td>\n",
       "      <td>0.783217</td>\n",
       "      <td>0.035764</td>\n",
       "    </tr>\n",
       "    <tr>\n",
       "      <th>23</th>\n",
       "      <td>25</td>\n",
       "      <td>6</td>\n",
       "      <td>0.817223</td>\n",
       "      <td>0.783217</td>\n",
       "      <td>0.034006</td>\n",
       "    </tr>\n",
       "    <tr>\n",
       "      <th>24</th>\n",
       "      <td>26</td>\n",
       "      <td>6</td>\n",
       "      <td>0.808436</td>\n",
       "      <td>0.783217</td>\n",
       "      <td>0.025219</td>\n",
       "    </tr>\n",
       "    <tr>\n",
       "      <th>25</th>\n",
       "      <td>27</td>\n",
       "      <td>6</td>\n",
       "      <td>0.789104</td>\n",
       "      <td>0.783217</td>\n",
       "      <td>0.005887</td>\n",
       "    </tr>\n",
       "    <tr>\n",
       "      <th>26</th>\n",
       "      <td>28</td>\n",
       "      <td>6</td>\n",
       "      <td>0.794376</td>\n",
       "      <td>0.783217</td>\n",
       "      <td>0.011159</td>\n",
       "    </tr>\n",
       "    <tr>\n",
       "      <th>27</th>\n",
       "      <td>29</td>\n",
       "      <td>6</td>\n",
       "      <td>0.790861</td>\n",
       "      <td>0.783217</td>\n",
       "      <td>0.007644</td>\n",
       "    </tr>\n",
       "    <tr>\n",
       "      <th>28</th>\n",
       "      <td>30</td>\n",
       "      <td>6</td>\n",
       "      <td>0.790861</td>\n",
       "      <td>0.783217</td>\n",
       "      <td>0.007644</td>\n",
       "    </tr>\n",
       "    <tr>\n",
       "      <th>29</th>\n",
       "      <td>31</td>\n",
       "      <td>6</td>\n",
       "      <td>0.790861</td>\n",
       "      <td>0.783217</td>\n",
       "      <td>0.007644</td>\n",
       "    </tr>\n",
       "    <tr>\n",
       "      <th>30</th>\n",
       "      <td>32</td>\n",
       "      <td>6</td>\n",
       "      <td>0.790861</td>\n",
       "      <td>0.783217</td>\n",
       "      <td>0.007644</td>\n",
       "    </tr>\n",
       "    <tr>\n",
       "      <th>31</th>\n",
       "      <td>33</td>\n",
       "      <td>6</td>\n",
       "      <td>0.794376</td>\n",
       "      <td>0.783217</td>\n",
       "      <td>0.011159</td>\n",
       "    </tr>\n",
       "    <tr>\n",
       "      <th>32</th>\n",
       "      <td>34</td>\n",
       "      <td>6</td>\n",
       "      <td>0.794376</td>\n",
       "      <td>0.783217</td>\n",
       "      <td>0.011159</td>\n",
       "    </tr>\n",
       "    <tr>\n",
       "      <th>33</th>\n",
       "      <td>35</td>\n",
       "      <td>6</td>\n",
       "      <td>0.794376</td>\n",
       "      <td>0.783217</td>\n",
       "      <td>0.011159</td>\n",
       "    </tr>\n",
       "    <tr>\n",
       "      <th>34</th>\n",
       "      <td>36</td>\n",
       "      <td>6</td>\n",
       "      <td>0.792619</td>\n",
       "      <td>0.783217</td>\n",
       "      <td>0.009402</td>\n",
       "    </tr>\n",
       "    <tr>\n",
       "      <th>35</th>\n",
       "      <td>37</td>\n",
       "      <td>6</td>\n",
       "      <td>0.787346</td>\n",
       "      <td>0.783217</td>\n",
       "      <td>0.004129</td>\n",
       "    </tr>\n",
       "    <tr>\n",
       "      <th>36</th>\n",
       "      <td>38</td>\n",
       "      <td>6</td>\n",
       "      <td>0.789104</td>\n",
       "      <td>0.783217</td>\n",
       "      <td>0.005887</td>\n",
       "    </tr>\n",
       "    <tr>\n",
       "      <th>37</th>\n",
       "      <td>39</td>\n",
       "      <td>6</td>\n",
       "      <td>0.789104</td>\n",
       "      <td>0.783217</td>\n",
       "      <td>0.005887</td>\n",
       "    </tr>\n",
       "    <tr>\n",
       "      <th>38</th>\n",
       "      <td>40</td>\n",
       "      <td>6</td>\n",
       "      <td>0.785589</td>\n",
       "      <td>0.776224</td>\n",
       "      <td>0.009365</td>\n",
       "    </tr>\n",
       "    <tr>\n",
       "      <th>39</th>\n",
       "      <td>41</td>\n",
       "      <td>6</td>\n",
       "      <td>0.780316</td>\n",
       "      <td>0.755245</td>\n",
       "      <td>0.025072</td>\n",
       "    </tr>\n",
       "    <tr>\n",
       "      <th>40</th>\n",
       "      <td>42</td>\n",
       "      <td>6</td>\n",
       "      <td>0.783831</td>\n",
       "      <td>0.769231</td>\n",
       "      <td>0.014601</td>\n",
       "    </tr>\n",
       "    <tr>\n",
       "      <th>41</th>\n",
       "      <td>43</td>\n",
       "      <td>6</td>\n",
       "      <td>0.782074</td>\n",
       "      <td>0.762238</td>\n",
       "      <td>0.019836</td>\n",
       "    </tr>\n",
       "    <tr>\n",
       "      <th>42</th>\n",
       "      <td>44</td>\n",
       "      <td>6</td>\n",
       "      <td>0.782074</td>\n",
       "      <td>0.748252</td>\n",
       "      <td>0.033822</td>\n",
       "    </tr>\n",
       "    <tr>\n",
       "      <th>43</th>\n",
       "      <td>45</td>\n",
       "      <td>6</td>\n",
       "      <td>0.778559</td>\n",
       "      <td>0.755245</td>\n",
       "      <td>0.023314</td>\n",
       "    </tr>\n",
       "    <tr>\n",
       "      <th>44</th>\n",
       "      <td>46</td>\n",
       "      <td>6</td>\n",
       "      <td>0.790861</td>\n",
       "      <td>0.783217</td>\n",
       "      <td>0.007644</td>\n",
       "    </tr>\n",
       "    <tr>\n",
       "      <th>45</th>\n",
       "      <td>47</td>\n",
       "      <td>6</td>\n",
       "      <td>0.790861</td>\n",
       "      <td>0.783217</td>\n",
       "      <td>0.007644</td>\n",
       "    </tr>\n",
       "    <tr>\n",
       "      <th>46</th>\n",
       "      <td>48</td>\n",
       "      <td>6</td>\n",
       "      <td>0.785589</td>\n",
       "      <td>0.776224</td>\n",
       "      <td>0.009365</td>\n",
       "    </tr>\n",
       "    <tr>\n",
       "      <th>47</th>\n",
       "      <td>49</td>\n",
       "      <td>6</td>\n",
       "      <td>0.778559</td>\n",
       "      <td>0.748252</td>\n",
       "      <td>0.030307</td>\n",
       "    </tr>\n",
       "  </tbody>\n",
       "</table>\n",
       "</div>"
      ],
      "text/plain": [
       "    min_samples_per_leaf  max_depth  train_accuracy  validate_accuracy  \\\n",
       "0                      2          6        0.868190           0.783217   \n",
       "1                      3          6        0.861160           0.790210   \n",
       "2                      4          6        0.861160           0.790210   \n",
       "3                      5          6        0.847100           0.776224   \n",
       "4                      6          6        0.836555           0.783217   \n",
       "5                      7          6        0.841828           0.797203   \n",
       "6                      8          6        0.840070           0.783217   \n",
       "7                      9          6        0.833040           0.790210   \n",
       "8                     10          6        0.834798           0.790210   \n",
       "9                     11          6        0.831283           0.776224   \n",
       "10                    12          6        0.829525           0.776224   \n",
       "11                    13          6        0.827768           0.783217   \n",
       "12                    14          6        0.827768           0.783217   \n",
       "13                    15          6        0.826011           0.783217   \n",
       "14                    16          6        0.820738           0.790210   \n",
       "15                    17          6        0.820738           0.790210   \n",
       "16                    18          6        0.820738           0.790210   \n",
       "17                    19          6        0.817223           0.783217   \n",
       "18                    20          6        0.815466           0.783217   \n",
       "19                    21          6        0.815466           0.783217   \n",
       "20                    22          6        0.815466           0.783217   \n",
       "21                    23          6        0.813708           0.783217   \n",
       "22                    24          6        0.818981           0.783217   \n",
       "23                    25          6        0.817223           0.783217   \n",
       "24                    26          6        0.808436           0.783217   \n",
       "25                    27          6        0.789104           0.783217   \n",
       "26                    28          6        0.794376           0.783217   \n",
       "27                    29          6        0.790861           0.783217   \n",
       "28                    30          6        0.790861           0.783217   \n",
       "29                    31          6        0.790861           0.783217   \n",
       "30                    32          6        0.790861           0.783217   \n",
       "31                    33          6        0.794376           0.783217   \n",
       "32                    34          6        0.794376           0.783217   \n",
       "33                    35          6        0.794376           0.783217   \n",
       "34                    36          6        0.792619           0.783217   \n",
       "35                    37          6        0.787346           0.783217   \n",
       "36                    38          6        0.789104           0.783217   \n",
       "37                    39          6        0.789104           0.783217   \n",
       "38                    40          6        0.785589           0.776224   \n",
       "39                    41          6        0.780316           0.755245   \n",
       "40                    42          6        0.783831           0.769231   \n",
       "41                    43          6        0.782074           0.762238   \n",
       "42                    44          6        0.782074           0.748252   \n",
       "43                    45          6        0.778559           0.755245   \n",
       "44                    46          6        0.790861           0.783217   \n",
       "45                    47          6        0.790861           0.783217   \n",
       "46                    48          6        0.785589           0.776224   \n",
       "47                    49          6        0.778559           0.748252   \n",
       "\n",
       "    difference  \n",
       "0     0.084973  \n",
       "1     0.070950  \n",
       "2     0.070950  \n",
       "3     0.070876  \n",
       "4     0.053339  \n",
       "5     0.044625  \n",
       "6     0.056854  \n",
       "7     0.042831  \n",
       "8     0.044588  \n",
       "9     0.055059  \n",
       "10    0.053302  \n",
       "11    0.044551  \n",
       "12    0.044551  \n",
       "13    0.042794  \n",
       "14    0.030528  \n",
       "15    0.030528  \n",
       "16    0.030528  \n",
       "17    0.034006  \n",
       "18    0.032249  \n",
       "19    0.032249  \n",
       "20    0.032249  \n",
       "21    0.030491  \n",
       "22    0.035764  \n",
       "23    0.034006  \n",
       "24    0.025219  \n",
       "25    0.005887  \n",
       "26    0.011159  \n",
       "27    0.007644  \n",
       "28    0.007644  \n",
       "29    0.007644  \n",
       "30    0.007644  \n",
       "31    0.011159  \n",
       "32    0.011159  \n",
       "33    0.011159  \n",
       "34    0.009402  \n",
       "35    0.004129  \n",
       "36    0.005887  \n",
       "37    0.005887  \n",
       "38    0.009365  \n",
       "39    0.025072  \n",
       "40    0.014601  \n",
       "41    0.019836  \n",
       "42    0.033822  \n",
       "43    0.023314  \n",
       "44    0.007644  \n",
       "45    0.007644  \n",
       "46    0.009365  \n",
       "47    0.030307  "
      ]
     },
     "execution_count": 134,
     "metadata": {},
     "output_type": "execute_result"
    }
   ],
   "source": [
    "metrics = []\n",
    "\n",
    "\n",
    "for i in range(2, 50):\n",
    "    # Make the model\n",
    "    depth = 6\n",
    "    n_samples = i\n",
    "    forest = RandomForestClassifier(max_depth=depth, min_samples_leaf=n_samples, random_state=123)\n",
    "\n",
    "    # Fit the model (on train and only train)\n",
    "    forest = forest.fit(x_train, y_train)\n",
    "\n",
    "    # Use the model\n",
    "    # We'll evaluate the model's performance on train, first\n",
    "    in_sample_accuracy = forest.score(x_train, y_train)\n",
    "    \n",
    "    out_of_sample_accuracy = forest.score(x_validate, y_validate)\n",
    "\n",
    "    output = {\n",
    "        \"min_samples_per_leaf\": n_samples,\n",
    "        \"max_depth\": depth,\n",
    "        \"train_accuracy\": in_sample_accuracy,\n",
    "        \"validate_accuracy\": out_of_sample_accuracy\n",
    "    }\n",
    "    \n",
    "    metrics.append(output)\n",
    "    \n",
    "df = pd.DataFrame(metrics)\n",
    "df[\"difference\"] = df.train_accuracy - df.validate_accuracy\n",
    "df"
   ]
  },
  {
   "cell_type": "code",
   "execution_count": 135,
   "id": "d0bc3b33",
   "metadata": {
    "scrolled": true
   },
   "outputs": [
    {
     "data": {
      "image/png": "[encoded data removed]",
      "text/plain": [
       "<Figure size 1152x648 with 1 Axes>"
      ]
     },
     "metadata": {
      "needs_background": "light"
     },
     "output_type": "display_data"
    }
   ],
   "source": [
    "df.set_index('min_samples_per_leaf')[['train_accuracy', 'validate_accuracy', 'difference']].plot(figsize = (16,9))\n",
    "plt.ylabel('Accuracy')\n",
    "plt.xticks(np.arange(0,50,5))\n",
    "plt.grid()"
   ]
  },
  {
   "cell_type": "code",
   "execution_count": null,
   "id": "9a18cf27",
   "metadata": {},
   "outputs": [],
   "source": []
  },
  {
   "cell_type": "code",
   "execution_count": null,
   "id": "d0de240b",
   "metadata": {},
   "outputs": [],
   "source": []
  },
  {
   "cell_type": "markdown",
   "id": "679a1be7",
   "metadata": {},
   "source": [
    "# KNN Exercises "
   ]
  },
  {
   "cell_type": "markdown",
   "id": "8f5ff222",
   "metadata": {},
   "source": [
    "Exercises\n",
    "\n",
    "Continue working in your model file with the titanic dataset.\n",
    "\n",
    "    Fit a K-Nearest Neighbors classifier to your training sample and transform (i.e. make predictions on the training sample)\n",
    "\n",
    "    Evaluate your results using the model score, confusion matrix, and classification report.\n",
    "\n",
    "    Print and clearly label the following: Accuracy, true positive rate, false positive rate, true negative rate, false negative rate, precision, recall, f1-score, and support.\n",
    "\n",
    "    Run through steps 2-4 setting k to 10\n",
    "\n",
    "    Run through setps 2-4 setting k to 20\n",
    "\n",
    "    What are the differences in the evaluation metrics? Which performs better on your in-sample data? Why?\n",
    "\n",
    "    Which model performs best on our out-of-sample data from validate?\n"
   ]
  },
  {
   "cell_type": "code",
   "execution_count": null,
   "id": "5198cc3e",
   "metadata": {},
   "outputs": [],
   "source": []
  },
  {
   "cell_type": "code",
   "execution_count": null,
   "id": "4285e3a0",
   "metadata": {},
   "outputs": [],
   "source": []
  },
  {
   "cell_type": "code",
   "execution_count": null,
   "id": "f8d69292",
   "metadata": {},
   "outputs": [],
   "source": []
  },
  {
   "cell_type": "markdown",
   "id": "9c3219c7",
   "metadata": {},
   "source": [
    "# Logistic Regression"
   ]
  },
  {
   "cell_type": "markdown",
   "id": "84976577",
   "metadata": {},
   "source": [
    "Exercises\n",
    "\n",
    "In these exercises, we'll continue working with the titanic dataset and building logistic regression models. Throughout this exercise, be sure you are training, evaluation, and comparing models on the train and validate datasets. The test dataset should only be used for your final model.\n",
    "\n",
    "For all of the models you create, choose a threshold that optimizes for accuracy.\n",
    "\n",
    "Do your work for these exercises in either a notebook or a python script named model within your classification-exercises repository. Add, commit, and push your work.\n",
    "\n",
    "    Create a model that includes age in addition to fare and pclass. Does this model perform better than your baseline?\n",
    "\n",
    "    Include sex in your model as well. Note that you'll need to encode or create a dummy variable of this feature before including it in a model.\n",
    "\n",
    "    Try out other combinations of features and models.\n",
    "\n",
    "    Use you best 3 models to predict and evaluate on your validate sample.\n",
    "\n",
    "    Choose you best model from the validation performation, and evaluate it on the test dataset. How do the performance metrics compare to validate? to train?\n"
   ]
  },
  {
   "cell_type": "markdown",
   "id": "ebf94803",
   "metadata": {},
   "source": [
    "Bonus1 How do different strategies for handling the missing values in the age column affect model performance?\n",
    "\n",
    "Bonus2: How do different strategies for encoding sex affect model performance?\n",
    "\n",
    "Bonus3: scikit-learn's LogisticRegression classifier is actually applying a regularization penalty to the coefficients by default. This penalty causes the magnitude of the coefficients in the resulting model to be smaller than they otherwise would be. This value can be modified with the C hyper parameter. Small values of C correspond to a larger penalty, and large values of C correspond to a smaller penalty.\n",
    "Try out the following values for C and note how the coefficients and the model's performance on both the dataset it was trained on and on the validate split are affected. C=.01,.1,1,10,100,1000\n",
    "\n",
    "Bonus Bonus: how does scaling the data interact with your choice of C?"
   ]
  },
  {
   "cell_type": "code",
   "execution_count": null,
   "id": "3ccf0668",
   "metadata": {},
   "outputs": [],
   "source": []
  },
  {
   "cell_type": "code",
   "execution_count": null,
   "id": "41ddde46",
   "metadata": {},
   "outputs": [],
   "source": []
  },
  {
   "cell_type": "code",
   "execution_count": null,
   "id": "c6be7c5c",
   "metadata": {},
   "outputs": [],
   "source": []
  },
  {
   "cell_type": "code",
   "execution_count": null,
   "id": "a1d75869",
   "metadata": {},
   "outputs": [],
   "source": []
  },
  {
   "cell_type": "code",
   "execution_count": null,
   "id": "8e9cf05a",
   "metadata": {},
   "outputs": [],
   "source": []
  },
  {
   "cell_type": "code",
   "execution_count": null,
   "id": "1a52fb67",
   "metadata": {},
   "outputs": [],
   "source": []
  },
  {
   "cell_type": "code",
   "execution_count": null,
   "id": "88840e54",
   "metadata": {},
   "outputs": [],
   "source": []
  },
  {
   "cell_type": "code",
   "execution_count": null,
   "id": "8500cb01",
   "metadata": {},
   "outputs": [],
   "source": []
  },
  {
   "cell_type": "code",
   "execution_count": null,
   "id": "f9e60127",
   "metadata": {},
   "outputs": [],
   "source": []
  },
  {
   "cell_type": "code",
   "execution_count": null,
   "id": "f4262622",
   "metadata": {},
   "outputs": [],
   "source": []
  }
 ],
 "metadata": {
  "kernelspec": {
   "display_name": "Python 3 (ipykernel)",
   "language": "python",
   "name": "python3"
  },
  "language_info": {
   "codemirror_mode": {
    "name": "ipython",
    "version": 3
   },
   "file_extension": ".py",
   "mimetype": "text/x-python",
   "name": "python",
   "nbconvert_exporter": "python",
   "pygments_lexer": "ipython3",
   "version": "3.9.12"
  }
 },
 "nbformat": 4,
 "nbformat_minor": 5
}
